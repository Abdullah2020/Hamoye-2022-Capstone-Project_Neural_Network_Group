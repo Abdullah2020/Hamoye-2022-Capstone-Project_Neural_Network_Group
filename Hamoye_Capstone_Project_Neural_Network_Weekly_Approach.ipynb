{
  "nbformat": 4,
  "nbformat_minor": 0,
  "metadata": {
    "colab": {
      "provenance": [],
      "collapsed_sections": [
        "vrF9VXDfXb5d",
        "wSiDj_TWXgzl",
        "HwLFXsYmX3lz",
        "yCrdmcf6cEFQ"
      ],
      "include_colab_link": true
    },
    "kernelspec": {
      "name": "python3",
      "display_name": "Python 3"
    },
    "language_info": {
      "name": "python"
    }
  },
  "cells": [
    {
      "cell_type": "markdown",
      "metadata": {
        "id": "view-in-github",
        "colab_type": "text"
      },
      "source": [
        "<a href=\"https://colab.research.google.com/github/Abdullah2020/Hamoye-2022-Capstone-Project_Neural_Network_Group/blob/master/Hamoye_Capstone_Project_Neural_Network_Weekly_Approach.ipynb\" target=\"_parent\"><img src=\"https://colab.research.google.com/assets/colab-badge.svg\" alt=\"Open In Colab\"/></a>"
      ]
    },
    {
      "cell_type": "markdown",
      "source": [
        "# **CAPSTONE PROJECT: INJURY PREDICTION (Weekly approach dataset)**\n",
        "\n",
        "By\n",
        "\n",
        "### **NEURAL-NETWORK TEAM**"
      ],
      "metadata": {
        "id": "fd_XouBTC_wW"
      }
    },
    {
      "cell_type": "markdown",
      "source": [
        "This is a notebook by Hamoye 2022 Summer Intership Capston Project [Neural-Network Group]\n",
        "\n",
        "In sports, injuries are common things that athletes sustain. Machine learning (ML) methods could be used to improve injury prediction and allow development of proper approaches to injury prevention. Thus, the aim of our study was therefore to develop a machine learning model that can predict injuries based on how the training regiment of an athlete. This can be used to make injury prevention approaches easier to develop.\n",
        "\n",
        "\n",
        "This Notebook makes use of several Python libraries like Pandas (for Data Cleaning/Manipulation), MatPlotlib (for Data Exploration), Plotly (for some Data Visualisation), Scikit-learn (for Building Machine Learning Model) etc.\n",
        "\n"
      ],
      "metadata": {
        "id": "l8_CyfDqC_i_"
      }
    },
    {
      "cell_type": "markdown",
      "source": [
        "## **Contents**\n",
        "\n",
        "Introduction\n",
        "\n",
        "1. Import Libraries\n",
        "\n",
        "2. Data Sourcing\n",
        "\n",
        "3. Data Wrangling\n",
        "\n",
        "4. Exploratory Data Analysis\n",
        "\n",
        "5. Model Training and Model Evaluation"
      ],
      "metadata": {
        "id": "RXNcaqixDOvd"
      }
    },
    {
      "cell_type": "markdown",
      "source": [
        "# **1.0 Import Libraries**"
      ],
      "metadata": {
        "id": "d-JOwWtUDMIG"
      }
    },
    {
      "cell_type": "markdown",
      "source": [
        "Import all the necessaries libraries to be used in this notebook. The group prefer to do this at the initial stage and added more libraries as the project progresses. "
      ],
      "metadata": {
        "id": "JZiXv9BvHWZi"
      }
    },
    {
      "cell_type": "code",
      "execution_count": null,
      "metadata": {
        "colab": {
          "base_uri": "https://localhost:8080/"
        },
        "id": "AI_RougvCtKp",
        "outputId": "3bb6fea1-8c85-46b5-8c88-df2557c94d1e"
      },
      "outputs": [
        {
          "output_type": "stream",
          "name": "stdout",
          "text": [
            "Setup Completed...!\n"
          ]
        }
      ],
      "source": [
        "import numpy as np\n",
        "import pandas as pd\n",
        "import matplotlib.pyplot as plt\n",
        "import seaborn as sns\n",
        "import warnings\n",
        "warnings.filterwarnings('ignore')\n",
        "\n",
        "import tensorflow as tf\n",
        "from tensorflow import keras\n",
        "import os\n",
        "import tempfile\n",
        "import matplotlib as mpl\n",
        "import sklearn\n",
        "from sklearn.metrics import confusion_matrix\n",
        "from sklearn.model_selection import train_test_split\n",
        "from sklearn.preprocessing import StandardScaler\n",
        "from sklearn.metrics import confusion_matrix , classification_report\n",
        "from sklearn.neighbors import KNeighborsClassifier\n",
        "from imblearn.over_sampling import SMOTE\n",
        "import logging\n",
        "logging.getLogger(\"tensorflow\").setLevel(logging.ERROR)\n",
        "\n",
        "from sklearn.datasets import make_classification\n",
        "from collections import Counter\n",
        "from matplotlib import pyplot\n",
        "from sklearn.metrics import roc_auc_score\n",
        "from numpy import mean\n",
        "import matplotlib.pyplot as plt\n",
        "from sklearn.datasets import make_classification\n",
        "from sklearn.model_selection import cross_val_score\n",
        "from sklearn.model_selection import RepeatedStratifiedKFold\n",
        "from xgboost import XGBClassifier\n",
        "from sklearn.model_selection import GridSearchCV\n",
        "\n",
        "print(\"Setup Completed...!\")"
      ]
    },
    {
      "cell_type": "markdown",
      "source": [
        "# **2.0 Data Sourcing**\n",
        "\n",
        "In this project, we were able to get the dataset from Kaggle and Pandas library was used to load the dataset as a comma separated values(csv) file format."
      ],
      "metadata": {
        "id": "yHMRgxnwEkPt"
      }
    },
    {
      "cell_type": "code",
      "source": [
        "df_week = pd.read_csv('/content/week_approach_maskedID_timeseries.csv')"
      ],
      "metadata": {
        "id": "1vQqC8ioC-_d"
      },
      "execution_count": 146,
      "outputs": []
    },
    {
      "cell_type": "markdown",
      "source": [
        "# **3.0 Data Wrangling**"
      ],
      "metadata": {
        "id": "07upzaHJFH4c"
      }
    },
    {
      "cell_type": "code",
      "source": [
        "df_week.head()"
      ],
      "metadata": {
        "colab": {
          "base_uri": "https://localhost:8080/",
          "height": 384
        },
        "id": "dGRtUwKWC-8-",
        "outputId": "c9cf4503-7ce8-4183-bb15-abd95a76f84d"
      },
      "execution_count": null,
      "outputs": [
        {
          "output_type": "execute_result",
          "data": {
            "text/plain": [
              "   nr. sessions  nr. rest days  total kms  max km one day  \\\n",
              "0           5.0            2.0       22.2            16.4   \n",
              "1           5.0            2.0       21.6            16.4   \n",
              "2           5.0            2.0       21.6            16.4   \n",
              "3           5.0            2.0       21.6            16.4   \n",
              "4           6.0            1.0       39.2            17.6   \n",
              "\n",
              "   total km Z3-Z4-Z5-T1-T2  nr. tough sessions (effort in Z5, T1 or T2)  \\\n",
              "0                     11.8                                          1.0   \n",
              "1                     11.7                                          1.0   \n",
              "2                     11.7                                          1.0   \n",
              "3                     11.7                                          1.0   \n",
              "4                     18.9                                          1.0   \n",
              "\n",
              "   nr. days with interval session  total km Z3-4  max km Z3-4 one day  \\\n",
              "0                             2.0           10.0                 10.0   \n",
              "1                             2.0           10.0                 10.0   \n",
              "2                             2.0           10.0                 10.0   \n",
              "3                             2.0           10.0                 10.0   \n",
              "4                             3.0           17.2                 10.0   \n",
              "\n",
              "   total km Z5-T1-T2  ...  max training success.2  avg recovery.2  \\\n",
              "0                0.6  ...                     0.0            0.18   \n",
              "1                0.5  ...                     0.0            0.18   \n",
              "2                0.5  ...                     0.0            0.17   \n",
              "3                0.5  ...                     0.0            0.18   \n",
              "4                0.5  ...                     0.0            0.17   \n",
              "\n",
              "   min recovery.2  max recovery.2  Athlete ID  injury  rel total kms week 0_1  \\\n",
              "0            0.16            0.20           0       0                0.718447   \n",
              "1            0.16            0.20           0       0                0.683544   \n",
              "2            0.16            0.18           0       0                0.683544   \n",
              "3            0.16            0.18           0       0                0.683544   \n",
              "4            0.16            0.18           0       0                2.202247   \n",
              "\n",
              "   rel total kms week 0_2  rel total kms week 1_2  Date  \n",
              "0                1.378882                1.919255     0  \n",
              "1                1.018868                1.490566     1  \n",
              "2                1.018868                1.490566     2  \n",
              "3                1.018868                1.490566     3  \n",
              "4                1.361111                0.618056     4  \n",
              "\n",
              "[5 rows x 72 columns]"
            ],
            "text/html": [
              "\n",
              "  <div id=\"df-c5dae015-a560-4ec6-a358-ca4112833a21\">\n",
              "    <div class=\"colab-df-container\">\n",
              "      <div>\n",
              "<style scoped>\n",
              "    .dataframe tbody tr th:only-of-type {\n",
              "        vertical-align: middle;\n",
              "    }\n",
              "\n",
              "    .dataframe tbody tr th {\n",
              "        vertical-align: top;\n",
              "    }\n",
              "\n",
              "    .dataframe thead th {\n",
              "        text-align: right;\n",
              "    }\n",
              "</style>\n",
              "<table border=\"1\" class=\"dataframe\">\n",
              "  <thead>\n",
              "    <tr style=\"text-align: right;\">\n",
              "      <th></th>\n",
              "      <th>nr. sessions</th>\n",
              "      <th>nr. rest days</th>\n",
              "      <th>total kms</th>\n",
              "      <th>max km one day</th>\n",
              "      <th>total km Z3-Z4-Z5-T1-T2</th>\n",
              "      <th>nr. tough sessions (effort in Z5, T1 or T2)</th>\n",
              "      <th>nr. days with interval session</th>\n",
              "      <th>total km Z3-4</th>\n",
              "      <th>max km Z3-4 one day</th>\n",
              "      <th>total km Z5-T1-T2</th>\n",
              "      <th>...</th>\n",
              "      <th>max training success.2</th>\n",
              "      <th>avg recovery.2</th>\n",
              "      <th>min recovery.2</th>\n",
              "      <th>max recovery.2</th>\n",
              "      <th>Athlete ID</th>\n",
              "      <th>injury</th>\n",
              "      <th>rel total kms week 0_1</th>\n",
              "      <th>rel total kms week 0_2</th>\n",
              "      <th>rel total kms week 1_2</th>\n",
              "      <th>Date</th>\n",
              "    </tr>\n",
              "  </thead>\n",
              "  <tbody>\n",
              "    <tr>\n",
              "      <th>0</th>\n",
              "      <td>5.0</td>\n",
              "      <td>2.0</td>\n",
              "      <td>22.2</td>\n",
              "      <td>16.4</td>\n",
              "      <td>11.8</td>\n",
              "      <td>1.0</td>\n",
              "      <td>2.0</td>\n",
              "      <td>10.0</td>\n",
              "      <td>10.0</td>\n",
              "      <td>0.6</td>\n",
              "      <td>...</td>\n",
              "      <td>0.0</td>\n",
              "      <td>0.18</td>\n",
              "      <td>0.16</td>\n",
              "      <td>0.20</td>\n",
              "      <td>0</td>\n",
              "      <td>0</td>\n",
              "      <td>0.718447</td>\n",
              "      <td>1.378882</td>\n",
              "      <td>1.919255</td>\n",
              "      <td>0</td>\n",
              "    </tr>\n",
              "    <tr>\n",
              "      <th>1</th>\n",
              "      <td>5.0</td>\n",
              "      <td>2.0</td>\n",
              "      <td>21.6</td>\n",
              "      <td>16.4</td>\n",
              "      <td>11.7</td>\n",
              "      <td>1.0</td>\n",
              "      <td>2.0</td>\n",
              "      <td>10.0</td>\n",
              "      <td>10.0</td>\n",
              "      <td>0.5</td>\n",
              "      <td>...</td>\n",
              "      <td>0.0</td>\n",
              "      <td>0.18</td>\n",
              "      <td>0.16</td>\n",
              "      <td>0.20</td>\n",
              "      <td>0</td>\n",
              "      <td>0</td>\n",
              "      <td>0.683544</td>\n",
              "      <td>1.018868</td>\n",
              "      <td>1.490566</td>\n",
              "      <td>1</td>\n",
              "    </tr>\n",
              "    <tr>\n",
              "      <th>2</th>\n",
              "      <td>5.0</td>\n",
              "      <td>2.0</td>\n",
              "      <td>21.6</td>\n",
              "      <td>16.4</td>\n",
              "      <td>11.7</td>\n",
              "      <td>1.0</td>\n",
              "      <td>2.0</td>\n",
              "      <td>10.0</td>\n",
              "      <td>10.0</td>\n",
              "      <td>0.5</td>\n",
              "      <td>...</td>\n",
              "      <td>0.0</td>\n",
              "      <td>0.17</td>\n",
              "      <td>0.16</td>\n",
              "      <td>0.18</td>\n",
              "      <td>0</td>\n",
              "      <td>0</td>\n",
              "      <td>0.683544</td>\n",
              "      <td>1.018868</td>\n",
              "      <td>1.490566</td>\n",
              "      <td>2</td>\n",
              "    </tr>\n",
              "    <tr>\n",
              "      <th>3</th>\n",
              "      <td>5.0</td>\n",
              "      <td>2.0</td>\n",
              "      <td>21.6</td>\n",
              "      <td>16.4</td>\n",
              "      <td>11.7</td>\n",
              "      <td>1.0</td>\n",
              "      <td>2.0</td>\n",
              "      <td>10.0</td>\n",
              "      <td>10.0</td>\n",
              "      <td>0.5</td>\n",
              "      <td>...</td>\n",
              "      <td>0.0</td>\n",
              "      <td>0.18</td>\n",
              "      <td>0.16</td>\n",
              "      <td>0.18</td>\n",
              "      <td>0</td>\n",
              "      <td>0</td>\n",
              "      <td>0.683544</td>\n",
              "      <td>1.018868</td>\n",
              "      <td>1.490566</td>\n",
              "      <td>3</td>\n",
              "    </tr>\n",
              "    <tr>\n",
              "      <th>4</th>\n",
              "      <td>6.0</td>\n",
              "      <td>1.0</td>\n",
              "      <td>39.2</td>\n",
              "      <td>17.6</td>\n",
              "      <td>18.9</td>\n",
              "      <td>1.0</td>\n",
              "      <td>3.0</td>\n",
              "      <td>17.2</td>\n",
              "      <td>10.0</td>\n",
              "      <td>0.5</td>\n",
              "      <td>...</td>\n",
              "      <td>0.0</td>\n",
              "      <td>0.17</td>\n",
              "      <td>0.16</td>\n",
              "      <td>0.18</td>\n",
              "      <td>0</td>\n",
              "      <td>0</td>\n",
              "      <td>2.202247</td>\n",
              "      <td>1.361111</td>\n",
              "      <td>0.618056</td>\n",
              "      <td>4</td>\n",
              "    </tr>\n",
              "  </tbody>\n",
              "</table>\n",
              "<p>5 rows × 72 columns</p>\n",
              "</div>\n",
              "      <button class=\"colab-df-convert\" onclick=\"convertToInteractive('df-c5dae015-a560-4ec6-a358-ca4112833a21')\"\n",
              "              title=\"Convert this dataframe to an interactive table.\"\n",
              "              style=\"display:none;\">\n",
              "        \n",
              "  <svg xmlns=\"http://www.w3.org/2000/svg\" height=\"24px\"viewBox=\"0 0 24 24\"\n",
              "       width=\"24px\">\n",
              "    <path d=\"M0 0h24v24H0V0z\" fill=\"none\"/>\n",
              "    <path d=\"M18.56 5.44l.94 2.06.94-2.06 2.06-.94-2.06-.94-.94-2.06-.94 2.06-2.06.94zm-11 1L8.5 8.5l.94-2.06 2.06-.94-2.06-.94L8.5 2.5l-.94 2.06-2.06.94zm10 10l.94 2.06.94-2.06 2.06-.94-2.06-.94-.94-2.06-.94 2.06-2.06.94z\"/><path d=\"M17.41 7.96l-1.37-1.37c-.4-.4-.92-.59-1.43-.59-.52 0-1.04.2-1.43.59L10.3 9.45l-7.72 7.72c-.78.78-.78 2.05 0 2.83L4 21.41c.39.39.9.59 1.41.59.51 0 1.02-.2 1.41-.59l7.78-7.78 2.81-2.81c.8-.78.8-2.07 0-2.86zM5.41 20L4 18.59l7.72-7.72 1.47 1.35L5.41 20z\"/>\n",
              "  </svg>\n",
              "      </button>\n",
              "      \n",
              "  <style>\n",
              "    .colab-df-container {\n",
              "      display:flex;\n",
              "      flex-wrap:wrap;\n",
              "      gap: 12px;\n",
              "    }\n",
              "\n",
              "    .colab-df-convert {\n",
              "      background-color: #E8F0FE;\n",
              "      border: none;\n",
              "      border-radius: 50%;\n",
              "      cursor: pointer;\n",
              "      display: none;\n",
              "      fill: #1967D2;\n",
              "      height: 32px;\n",
              "      padding: 0 0 0 0;\n",
              "      width: 32px;\n",
              "    }\n",
              "\n",
              "    .colab-df-convert:hover {\n",
              "      background-color: #E2EBFA;\n",
              "      box-shadow: 0px 1px 2px rgba(60, 64, 67, 0.3), 0px 1px 3px 1px rgba(60, 64, 67, 0.15);\n",
              "      fill: #174EA6;\n",
              "    }\n",
              "\n",
              "    [theme=dark] .colab-df-convert {\n",
              "      background-color: #3B4455;\n",
              "      fill: #D2E3FC;\n",
              "    }\n",
              "\n",
              "    [theme=dark] .colab-df-convert:hover {\n",
              "      background-color: #434B5C;\n",
              "      box-shadow: 0px 1px 3px 1px rgba(0, 0, 0, 0.15);\n",
              "      filter: drop-shadow(0px 1px 2px rgba(0, 0, 0, 0.3));\n",
              "      fill: #FFFFFF;\n",
              "    }\n",
              "  </style>\n",
              "\n",
              "      <script>\n",
              "        const buttonEl =\n",
              "          document.querySelector('#df-c5dae015-a560-4ec6-a358-ca4112833a21 button.colab-df-convert');\n",
              "        buttonEl.style.display =\n",
              "          google.colab.kernel.accessAllowed ? 'block' : 'none';\n",
              "\n",
              "        async function convertToInteractive(key) {\n",
              "          const element = document.querySelector('#df-c5dae015-a560-4ec6-a358-ca4112833a21');\n",
              "          const dataTable =\n",
              "            await google.colab.kernel.invokeFunction('convertToInteractive',\n",
              "                                                     [key], {});\n",
              "          if (!dataTable) return;\n",
              "\n",
              "          const docLinkHtml = 'Like what you see? Visit the ' +\n",
              "            '<a target=\"_blank\" href=https://colab.research.google.com/notebooks/data_table.ipynb>data table notebook</a>'\n",
              "            + ' to learn more about interactive tables.';\n",
              "          element.innerHTML = '';\n",
              "          dataTable['output_type'] = 'display_data';\n",
              "          await google.colab.output.renderOutput(dataTable, element);\n",
              "          const docLink = document.createElement('div');\n",
              "          docLink.innerHTML = docLinkHtml;\n",
              "          element.appendChild(docLink);\n",
              "        }\n",
              "      </script>\n",
              "    </div>\n",
              "  </div>\n",
              "  "
            ]
          },
          "metadata": {},
          "execution_count": 4
        }
      ]
    },
    {
      "cell_type": "code",
      "source": [
        "df_week.tail()"
      ],
      "metadata": {
        "colab": {
          "base_uri": "https://localhost:8080/",
          "height": 384
        },
        "id": "l5M4UX6NC-5t",
        "outputId": "f741051d-828f-4d49-85ac-437064cc8d7d"
      },
      "execution_count": null,
      "outputs": [
        {
          "output_type": "execute_result",
          "data": {
            "text/plain": [
              "       nr. sessions  nr. rest days  total kms  max km one day  \\\n",
              "42793           4.0            3.0       59.5            19.0   \n",
              "42794           1.0            6.0        5.8             5.8   \n",
              "42795           3.0            4.0       38.3            16.0   \n",
              "42796           5.0            2.0       67.0            15.1   \n",
              "42797           4.0            3.0       45.0            12.2   \n",
              "\n",
              "       total km Z3-Z4-Z5-T1-T2  nr. tough sessions (effort in Z5, T1 or T2)  \\\n",
              "42793                      0.0                                          0.0   \n",
              "42794                      0.0                                          0.0   \n",
              "42795                      0.0                                          0.0   \n",
              "42796                      0.0                                          0.0   \n",
              "42797                      0.0                                          0.0   \n",
              "\n",
              "       nr. days with interval session  total km Z3-4  max km Z3-4 one day  \\\n",
              "42793                             0.0            0.0                  0.0   \n",
              "42794                             0.0            0.0                  0.0   \n",
              "42795                             0.0            0.0                  0.0   \n",
              "42796                             0.0            0.0                  0.0   \n",
              "42797                             0.0            0.0                  0.0   \n",
              "\n",
              "       total km Z5-T1-T2  ...  max training success.2  avg recovery.2  \\\n",
              "42793                0.0  ...                    0.80            0.20   \n",
              "42794                0.0  ...                    0.85            0.12   \n",
              "42795                0.0  ...                    0.93            0.32   \n",
              "42796                0.0  ...                    0.91            0.28   \n",
              "42797                0.0  ...                    0.88            0.16   \n",
              "\n",
              "       min recovery.2  max recovery.2  Athlete ID  injury  \\\n",
              "42793            0.12            0.26          71       1   \n",
              "42794            0.12            0.12          71       1   \n",
              "42795            0.17            0.62          71       1   \n",
              "42796            0.22            0.41          71       1   \n",
              "42797            0.05            0.21          71       1   \n",
              "\n",
              "       rel total kms week 0_1  rel total kms week 0_2  rel total kms week 1_2  \\\n",
              "42793                2.479167                1.101852                0.444444   \n",
              "42794                1.054545                1.288889                1.222222   \n",
              "42795                0.750980                0.743689                0.990291   \n",
              "42796                2.005988                1.238447                0.617375   \n",
              "42797                1.011236                1.022727                1.011364   \n",
              "\n",
              "       Date  \n",
              "42793  2143  \n",
              "42794  2286  \n",
              "42795  2483  \n",
              "42796  2647  \n",
              "42797  2673  \n",
              "\n",
              "[5 rows x 72 columns]"
            ],
            "text/html": [
              "\n",
              "  <div id=\"df-1ed042f8-5f1d-44dc-8cfe-56aca5dcdd6d\">\n",
              "    <div class=\"colab-df-container\">\n",
              "      <div>\n",
              "<style scoped>\n",
              "    .dataframe tbody tr th:only-of-type {\n",
              "        vertical-align: middle;\n",
              "    }\n",
              "\n",
              "    .dataframe tbody tr th {\n",
              "        vertical-align: top;\n",
              "    }\n",
              "\n",
              "    .dataframe thead th {\n",
              "        text-align: right;\n",
              "    }\n",
              "</style>\n",
              "<table border=\"1\" class=\"dataframe\">\n",
              "  <thead>\n",
              "    <tr style=\"text-align: right;\">\n",
              "      <th></th>\n",
              "      <th>nr. sessions</th>\n",
              "      <th>nr. rest days</th>\n",
              "      <th>total kms</th>\n",
              "      <th>max km one day</th>\n",
              "      <th>total km Z3-Z4-Z5-T1-T2</th>\n",
              "      <th>nr. tough sessions (effort in Z5, T1 or T2)</th>\n",
              "      <th>nr. days with interval session</th>\n",
              "      <th>total km Z3-4</th>\n",
              "      <th>max km Z3-4 one day</th>\n",
              "      <th>total km Z5-T1-T2</th>\n",
              "      <th>...</th>\n",
              "      <th>max training success.2</th>\n",
              "      <th>avg recovery.2</th>\n",
              "      <th>min recovery.2</th>\n",
              "      <th>max recovery.2</th>\n",
              "      <th>Athlete ID</th>\n",
              "      <th>injury</th>\n",
              "      <th>rel total kms week 0_1</th>\n",
              "      <th>rel total kms week 0_2</th>\n",
              "      <th>rel total kms week 1_2</th>\n",
              "      <th>Date</th>\n",
              "    </tr>\n",
              "  </thead>\n",
              "  <tbody>\n",
              "    <tr>\n",
              "      <th>42793</th>\n",
              "      <td>4.0</td>\n",
              "      <td>3.0</td>\n",
              "      <td>59.5</td>\n",
              "      <td>19.0</td>\n",
              "      <td>0.0</td>\n",
              "      <td>0.0</td>\n",
              "      <td>0.0</td>\n",
              "      <td>0.0</td>\n",
              "      <td>0.0</td>\n",
              "      <td>0.0</td>\n",
              "      <td>...</td>\n",
              "      <td>0.80</td>\n",
              "      <td>0.20</td>\n",
              "      <td>0.12</td>\n",
              "      <td>0.26</td>\n",
              "      <td>71</td>\n",
              "      <td>1</td>\n",
              "      <td>2.479167</td>\n",
              "      <td>1.101852</td>\n",
              "      <td>0.444444</td>\n",
              "      <td>2143</td>\n",
              "    </tr>\n",
              "    <tr>\n",
              "      <th>42794</th>\n",
              "      <td>1.0</td>\n",
              "      <td>6.0</td>\n",
              "      <td>5.8</td>\n",
              "      <td>5.8</td>\n",
              "      <td>0.0</td>\n",
              "      <td>0.0</td>\n",
              "      <td>0.0</td>\n",
              "      <td>0.0</td>\n",
              "      <td>0.0</td>\n",
              "      <td>0.0</td>\n",
              "      <td>...</td>\n",
              "      <td>0.85</td>\n",
              "      <td>0.12</td>\n",
              "      <td>0.12</td>\n",
              "      <td>0.12</td>\n",
              "      <td>71</td>\n",
              "      <td>1</td>\n",
              "      <td>1.054545</td>\n",
              "      <td>1.288889</td>\n",
              "      <td>1.222222</td>\n",
              "      <td>2286</td>\n",
              "    </tr>\n",
              "    <tr>\n",
              "      <th>42795</th>\n",
              "      <td>3.0</td>\n",
              "      <td>4.0</td>\n",
              "      <td>38.3</td>\n",
              "      <td>16.0</td>\n",
              "      <td>0.0</td>\n",
              "      <td>0.0</td>\n",
              "      <td>0.0</td>\n",
              "      <td>0.0</td>\n",
              "      <td>0.0</td>\n",
              "      <td>0.0</td>\n",
              "      <td>...</td>\n",
              "      <td>0.93</td>\n",
              "      <td>0.32</td>\n",
              "      <td>0.17</td>\n",
              "      <td>0.62</td>\n",
              "      <td>71</td>\n",
              "      <td>1</td>\n",
              "      <td>0.750980</td>\n",
              "      <td>0.743689</td>\n",
              "      <td>0.990291</td>\n",
              "      <td>2483</td>\n",
              "    </tr>\n",
              "    <tr>\n",
              "      <th>42796</th>\n",
              "      <td>5.0</td>\n",
              "      <td>2.0</td>\n",
              "      <td>67.0</td>\n",
              "      <td>15.1</td>\n",
              "      <td>0.0</td>\n",
              "      <td>0.0</td>\n",
              "      <td>0.0</td>\n",
              "      <td>0.0</td>\n",
              "      <td>0.0</td>\n",
              "      <td>0.0</td>\n",
              "      <td>...</td>\n",
              "      <td>0.91</td>\n",
              "      <td>0.28</td>\n",
              "      <td>0.22</td>\n",
              "      <td>0.41</td>\n",
              "      <td>71</td>\n",
              "      <td>1</td>\n",
              "      <td>2.005988</td>\n",
              "      <td>1.238447</td>\n",
              "      <td>0.617375</td>\n",
              "      <td>2647</td>\n",
              "    </tr>\n",
              "    <tr>\n",
              "      <th>42797</th>\n",
              "      <td>4.0</td>\n",
              "      <td>3.0</td>\n",
              "      <td>45.0</td>\n",
              "      <td>12.2</td>\n",
              "      <td>0.0</td>\n",
              "      <td>0.0</td>\n",
              "      <td>0.0</td>\n",
              "      <td>0.0</td>\n",
              "      <td>0.0</td>\n",
              "      <td>0.0</td>\n",
              "      <td>...</td>\n",
              "      <td>0.88</td>\n",
              "      <td>0.16</td>\n",
              "      <td>0.05</td>\n",
              "      <td>0.21</td>\n",
              "      <td>71</td>\n",
              "      <td>1</td>\n",
              "      <td>1.011236</td>\n",
              "      <td>1.022727</td>\n",
              "      <td>1.011364</td>\n",
              "      <td>2673</td>\n",
              "    </tr>\n",
              "  </tbody>\n",
              "</table>\n",
              "<p>5 rows × 72 columns</p>\n",
              "</div>\n",
              "      <button class=\"colab-df-convert\" onclick=\"convertToInteractive('df-1ed042f8-5f1d-44dc-8cfe-56aca5dcdd6d')\"\n",
              "              title=\"Convert this dataframe to an interactive table.\"\n",
              "              style=\"display:none;\">\n",
              "        \n",
              "  <svg xmlns=\"http://www.w3.org/2000/svg\" height=\"24px\"viewBox=\"0 0 24 24\"\n",
              "       width=\"24px\">\n",
              "    <path d=\"M0 0h24v24H0V0z\" fill=\"none\"/>\n",
              "    <path d=\"M18.56 5.44l.94 2.06.94-2.06 2.06-.94-2.06-.94-.94-2.06-.94 2.06-2.06.94zm-11 1L8.5 8.5l.94-2.06 2.06-.94-2.06-.94L8.5 2.5l-.94 2.06-2.06.94zm10 10l.94 2.06.94-2.06 2.06-.94-2.06-.94-.94-2.06-.94 2.06-2.06.94z\"/><path d=\"M17.41 7.96l-1.37-1.37c-.4-.4-.92-.59-1.43-.59-.52 0-1.04.2-1.43.59L10.3 9.45l-7.72 7.72c-.78.78-.78 2.05 0 2.83L4 21.41c.39.39.9.59 1.41.59.51 0 1.02-.2 1.41-.59l7.78-7.78 2.81-2.81c.8-.78.8-2.07 0-2.86zM5.41 20L4 18.59l7.72-7.72 1.47 1.35L5.41 20z\"/>\n",
              "  </svg>\n",
              "      </button>\n",
              "      \n",
              "  <style>\n",
              "    .colab-df-container {\n",
              "      display:flex;\n",
              "      flex-wrap:wrap;\n",
              "      gap: 12px;\n",
              "    }\n",
              "\n",
              "    .colab-df-convert {\n",
              "      background-color: #E8F0FE;\n",
              "      border: none;\n",
              "      border-radius: 50%;\n",
              "      cursor: pointer;\n",
              "      display: none;\n",
              "      fill: #1967D2;\n",
              "      height: 32px;\n",
              "      padding: 0 0 0 0;\n",
              "      width: 32px;\n",
              "    }\n",
              "\n",
              "    .colab-df-convert:hover {\n",
              "      background-color: #E2EBFA;\n",
              "      box-shadow: 0px 1px 2px rgba(60, 64, 67, 0.3), 0px 1px 3px 1px rgba(60, 64, 67, 0.15);\n",
              "      fill: #174EA6;\n",
              "    }\n",
              "\n",
              "    [theme=dark] .colab-df-convert {\n",
              "      background-color: #3B4455;\n",
              "      fill: #D2E3FC;\n",
              "    }\n",
              "\n",
              "    [theme=dark] .colab-df-convert:hover {\n",
              "      background-color: #434B5C;\n",
              "      box-shadow: 0px 1px 3px 1px rgba(0, 0, 0, 0.15);\n",
              "      filter: drop-shadow(0px 1px 2px rgba(0, 0, 0, 0.3));\n",
              "      fill: #FFFFFF;\n",
              "    }\n",
              "  </style>\n",
              "\n",
              "      <script>\n",
              "        const buttonEl =\n",
              "          document.querySelector('#df-1ed042f8-5f1d-44dc-8cfe-56aca5dcdd6d button.colab-df-convert');\n",
              "        buttonEl.style.display =\n",
              "          google.colab.kernel.accessAllowed ? 'block' : 'none';\n",
              "\n",
              "        async function convertToInteractive(key) {\n",
              "          const element = document.querySelector('#df-1ed042f8-5f1d-44dc-8cfe-56aca5dcdd6d');\n",
              "          const dataTable =\n",
              "            await google.colab.kernel.invokeFunction('convertToInteractive',\n",
              "                                                     [key], {});\n",
              "          if (!dataTable) return;\n",
              "\n",
              "          const docLinkHtml = 'Like what you see? Visit the ' +\n",
              "            '<a target=\"_blank\" href=https://colab.research.google.com/notebooks/data_table.ipynb>data table notebook</a>'\n",
              "            + ' to learn more about interactive tables.';\n",
              "          element.innerHTML = '';\n",
              "          dataTable['output_type'] = 'display_data';\n",
              "          await google.colab.output.renderOutput(dataTable, element);\n",
              "          const docLink = document.createElement('div');\n",
              "          docLink.innerHTML = docLinkHtml;\n",
              "          element.appendChild(docLink);\n",
              "        }\n",
              "      </script>\n",
              "    </div>\n",
              "  </div>\n",
              "  "
            ]
          },
          "metadata": {},
          "execution_count": 5
        }
      ]
    },
    {
      "cell_type": "code",
      "source": [
        "print(\"There are {} rows and {} columns in the dataset.\".format(df_week.shape[0], df_week.shape[1]))"
      ],
      "metadata": {
        "colab": {
          "base_uri": "https://localhost:8080/"
        },
        "id": "PklzpjsBC-2t",
        "outputId": "88d7240d-9eb2-4457-c9ee-b3bbae4be48b"
      },
      "execution_count": null,
      "outputs": [
        {
          "output_type": "stream",
          "name": "stdout",
          "text": [
            "There are 42798 rows and 72 columns in the dataset.\n"
          ]
        }
      ]
    },
    {
      "cell_type": "code",
      "source": [
        "df_week.info()"
      ],
      "metadata": {
        "colab": {
          "base_uri": "https://localhost:8080/"
        },
        "id": "InGOTwjZC-z2",
        "outputId": "e187c148-877a-499a-9554-a0f44c1d1de4"
      },
      "execution_count": null,
      "outputs": [
        {
          "output_type": "stream",
          "name": "stdout",
          "text": [
            "<class 'pandas.core.frame.DataFrame'>\n",
            "RangeIndex: 42798 entries, 0 to 42797\n",
            "Data columns (total 72 columns):\n",
            " #   Column                                         Non-Null Count  Dtype  \n",
            "---  ------                                         --------------  -----  \n",
            " 0   nr. sessions                                   42798 non-null  float64\n",
            " 1   nr. rest days                                  42798 non-null  float64\n",
            " 2   total kms                                      42798 non-null  float64\n",
            " 3   max km one day                                 42798 non-null  float64\n",
            " 4   total km Z3-Z4-Z5-T1-T2                        42798 non-null  float64\n",
            " 5   nr. tough sessions (effort in Z5, T1 or T2)    42798 non-null  float64\n",
            " 6   nr. days with interval session                 42798 non-null  float64\n",
            " 7   total km Z3-4                                  42798 non-null  float64\n",
            " 8   max km Z3-4 one day                            42798 non-null  float64\n",
            " 9   total km Z5-T1-T2                              42798 non-null  float64\n",
            " 10  max km Z5-T1-T2 one day                        42798 non-null  float64\n",
            " 11  total hours alternative training               42798 non-null  float64\n",
            " 12  nr. strength trainings                         42798 non-null  float64\n",
            " 13  avg exertion                                   42798 non-null  float64\n",
            " 14  min exertion                                   42798 non-null  float64\n",
            " 15  max exertion                                   42798 non-null  float64\n",
            " 16  avg training success                           42798 non-null  float64\n",
            " 17  min training success                           42798 non-null  float64\n",
            " 18  max training success                           42798 non-null  float64\n",
            " 19  avg recovery                                   42798 non-null  float64\n",
            " 20  min recovery                                   42798 non-null  float64\n",
            " 21  max recovery                                   42798 non-null  float64\n",
            " 22  nr. sessions.1                                 42798 non-null  float64\n",
            " 23  nr. rest days.1                                42798 non-null  float64\n",
            " 24  total kms.1                                    42798 non-null  float64\n",
            " 25  max km one day.1                               42798 non-null  float64\n",
            " 26  total km Z3-Z4-Z5-T1-T2.1                      42798 non-null  float64\n",
            " 27  nr. tough sessions (effort in Z5, T1 or T2).1  42798 non-null  float64\n",
            " 28  nr. days with interval session.1               42798 non-null  float64\n",
            " 29  total km Z3-4.1                                42798 non-null  float64\n",
            " 30  max km Z3-4 one day.1                          42798 non-null  float64\n",
            " 31  total km Z5-T1-T2.1                            42798 non-null  float64\n",
            " 32  max km Z5-T1-T2 one day.1                      42798 non-null  float64\n",
            " 33  total hours alternative training.1             42798 non-null  float64\n",
            " 34  nr. strength trainings.1                       42798 non-null  float64\n",
            " 35  avg exertion.1                                 42798 non-null  float64\n",
            " 36  min exertion.1                                 42798 non-null  float64\n",
            " 37  max exertion.1                                 42798 non-null  float64\n",
            " 38  avg training success.1                         42798 non-null  float64\n",
            " 39  min training success.1                         42798 non-null  float64\n",
            " 40  max training success.1                         42798 non-null  float64\n",
            " 41  avg recovery.1                                 42798 non-null  float64\n",
            " 42  min recovery.1                                 42798 non-null  float64\n",
            " 43  max recovery.1                                 42798 non-null  float64\n",
            " 44  nr. sessions.2                                 42798 non-null  float64\n",
            " 45  nr. rest days.2                                42798 non-null  float64\n",
            " 46  total kms.2                                    42798 non-null  float64\n",
            " 47  max km one day.2                               42798 non-null  float64\n",
            " 48  total km Z3-Z4-Z5-T1-T2.2                      42798 non-null  float64\n",
            " 49  nr. tough sessions (effort in Z5, T1 or T2).2  42798 non-null  float64\n",
            " 50  nr. days with interval session.2               42798 non-null  float64\n",
            " 51  total km Z3-4.2                                42798 non-null  float64\n",
            " 52  max km Z3-4 one day.2                          42798 non-null  float64\n",
            " 53  total km Z5-T1-T2.2                            42798 non-null  float64\n",
            " 54  max km Z5-T1-T2 one day.2                      42798 non-null  float64\n",
            " 55  total hours alternative training.2             42798 non-null  float64\n",
            " 56  nr. strength trainings.2                       42798 non-null  float64\n",
            " 57  avg exertion.2                                 42798 non-null  float64\n",
            " 58  min exertion.2                                 42798 non-null  float64\n",
            " 59  max exertion.2                                 42798 non-null  float64\n",
            " 60  avg training success.2                         42798 non-null  float64\n",
            " 61  min training success.2                         42798 non-null  float64\n",
            " 62  max training success.2                         42798 non-null  float64\n",
            " 63  avg recovery.2                                 42798 non-null  float64\n",
            " 64  min recovery.2                                 42798 non-null  float64\n",
            " 65  max recovery.2                                 42798 non-null  float64\n",
            " 66  Athlete ID                                     42798 non-null  int64  \n",
            " 67  injury                                         42798 non-null  int64  \n",
            " 68  rel total kms week 0_1                         42798 non-null  float64\n",
            " 69  rel total kms week 0_2                         42798 non-null  float64\n",
            " 70  rel total kms week 1_2                         42798 non-null  float64\n",
            " 71  Date                                           42798 non-null  int64  \n",
            "dtypes: float64(69), int64(3)\n",
            "memory usage: 23.5 MB\n"
          ]
        }
      ]
    },
    {
      "cell_type": "code",
      "source": [
        "df_week.describe()"
      ],
      "metadata": {
        "colab": {
          "base_uri": "https://localhost:8080/",
          "height": 463
        },
        "id": "TmqT5n8fC-w1",
        "outputId": "fcc8ee81-15e1-4c8a-c3b9-e67065e443bc"
      },
      "execution_count": null,
      "outputs": [
        {
          "output_type": "execute_result",
          "data": {
            "text/plain": [
              "       nr. sessions  nr. rest days     total kms  max km one day  \\\n",
              "count  42798.000000   42798.000000  42798.000000    42798.000000   \n",
              "mean       5.809337       1.874667     49.543911       14.009255   \n",
              "std        2.484234       1.853287     36.715017        9.071678   \n",
              "min        0.000000       0.000000      0.000000        0.000000   \n",
              "25%        5.000000       1.000000     22.800000        9.000000   \n",
              "50%        6.000000       1.000000     44.800000       13.400000   \n",
              "75%        7.000000       3.000000     70.100000       18.300000   \n",
              "max       14.000000       7.000000    242.000000      131.000000   \n",
              "\n",
              "       total km Z3-Z4-Z5-T1-T2  nr. tough sessions (effort in Z5, T1 or T2)  \\\n",
              "count             42798.000000                                 42798.000000   \n",
              "mean                  9.433621                                     0.930184   \n",
              "std                   8.887120                                     1.040631   \n",
              "min                   0.000000                                     0.000000   \n",
              "25%                   1.000000                                     0.000000   \n",
              "50%                   8.000000                                     1.000000   \n",
              "75%                  14.600000                                     2.000000   \n",
              "max                 100.000000                                     6.000000   \n",
              "\n",
              "       nr. days with interval session  total km Z3-4  max km Z3-4 one day  \\\n",
              "count                    42798.000000   42798.000000         42798.000000   \n",
              "mean                         1.672531       4.859398             3.456888   \n",
              "std                          1.263528       6.984670             4.577423   \n",
              "min                          0.000000       0.000000             0.000000   \n",
              "25%                          0.000000       0.000000             0.000000   \n",
              "50%                          2.000000       0.000000             0.000000   \n",
              "75%                          3.000000       8.000000             6.300000   \n",
              "max                          7.000000      79.800000            75.000000   \n",
              "\n",
              "       total km Z5-T1-T2  ...  max training success.2  avg recovery.2  \\\n",
              "count       42798.000000  ...            42798.000000    42798.000000   \n",
              "mean            4.063970  ...                0.525709        0.255089   \n",
              "std             5.645305  ...                0.390604        0.153214   \n",
              "min             0.000000  ...                0.000000        0.000000   \n",
              "25%             0.000000  ...                0.000000        0.150000   \n",
              "50%             1.500000  ...                0.730000        0.220000   \n",
              "75%             6.300000  ...                0.840000        0.360000   \n",
              "max            80.000000  ...                1.000000        0.900000   \n",
              "\n",
              "       min recovery.2  max recovery.2    Athlete ID        injury  \\\n",
              "count    42798.000000    42798.000000  42798.000000  42798.000000   \n",
              "mean         0.184927        0.343522     34.538249      0.013435   \n",
              "std          0.127996        0.219536     19.020826      0.115130   \n",
              "min          0.000000        0.000000      0.000000      0.000000   \n",
              "25%          0.110000        0.170000     20.000000      0.000000   \n",
              "50%          0.160000        0.310000     34.000000      0.000000   \n",
              "75%          0.240000        0.520000     50.000000      0.000000   \n",
              "max          0.900000        1.000000     73.000000      1.000000   \n",
              "\n",
              "       rel total kms week 0_1  rel total kms week 0_2  rel total kms week 1_2  \\\n",
              "count            4.279800e+04            4.279800e+04            4.279800e+04   \n",
              "mean             4.408628e+05            9.014685e+05            4.803623e+05   \n",
              "std              4.328234e+06            6.945503e+06            4.656806e+06   \n",
              "min              0.000000e+00            0.000000e+00            0.000000e+00   \n",
              "25%              6.955245e-01            6.723968e-01            6.923077e-01   \n",
              "50%              9.891862e-01            1.001431e+00            9.897523e-01   \n",
              "75%              1.320515e+00            1.422171e+00            1.327586e+00   \n",
              "max              2.096000e+08            2.176000e+08            2.096000e+08   \n",
              "\n",
              "               Date  \n",
              "count  42798.000000  \n",
              "mean    1227.733422  \n",
              "std      806.495152  \n",
              "min        0.000000  \n",
              "25%      437.000000  \n",
              "50%     1254.000000  \n",
              "75%     1913.000000  \n",
              "max     2673.000000  \n",
              "\n",
              "[8 rows x 72 columns]"
            ],
            "text/html": [
              "\n",
              "  <div id=\"df-8ba6bf0e-5c06-4d7e-93fc-1dc8ef82ac71\">\n",
              "    <div class=\"colab-df-container\">\n",
              "      <div>\n",
              "<style scoped>\n",
              "    .dataframe tbody tr th:only-of-type {\n",
              "        vertical-align: middle;\n",
              "    }\n",
              "\n",
              "    .dataframe tbody tr th {\n",
              "        vertical-align: top;\n",
              "    }\n",
              "\n",
              "    .dataframe thead th {\n",
              "        text-align: right;\n",
              "    }\n",
              "</style>\n",
              "<table border=\"1\" class=\"dataframe\">\n",
              "  <thead>\n",
              "    <tr style=\"text-align: right;\">\n",
              "      <th></th>\n",
              "      <th>nr. sessions</th>\n",
              "      <th>nr. rest days</th>\n",
              "      <th>total kms</th>\n",
              "      <th>max km one day</th>\n",
              "      <th>total km Z3-Z4-Z5-T1-T2</th>\n",
              "      <th>nr. tough sessions (effort in Z5, T1 or T2)</th>\n",
              "      <th>nr. days with interval session</th>\n",
              "      <th>total km Z3-4</th>\n",
              "      <th>max km Z3-4 one day</th>\n",
              "      <th>total km Z5-T1-T2</th>\n",
              "      <th>...</th>\n",
              "      <th>max training success.2</th>\n",
              "      <th>avg recovery.2</th>\n",
              "      <th>min recovery.2</th>\n",
              "      <th>max recovery.2</th>\n",
              "      <th>Athlete ID</th>\n",
              "      <th>injury</th>\n",
              "      <th>rel total kms week 0_1</th>\n",
              "      <th>rel total kms week 0_2</th>\n",
              "      <th>rel total kms week 1_2</th>\n",
              "      <th>Date</th>\n",
              "    </tr>\n",
              "  </thead>\n",
              "  <tbody>\n",
              "    <tr>\n",
              "      <th>count</th>\n",
              "      <td>42798.000000</td>\n",
              "      <td>42798.000000</td>\n",
              "      <td>42798.000000</td>\n",
              "      <td>42798.000000</td>\n",
              "      <td>42798.000000</td>\n",
              "      <td>42798.000000</td>\n",
              "      <td>42798.000000</td>\n",
              "      <td>42798.000000</td>\n",
              "      <td>42798.000000</td>\n",
              "      <td>42798.000000</td>\n",
              "      <td>...</td>\n",
              "      <td>42798.000000</td>\n",
              "      <td>42798.000000</td>\n",
              "      <td>42798.000000</td>\n",
              "      <td>42798.000000</td>\n",
              "      <td>42798.000000</td>\n",
              "      <td>42798.000000</td>\n",
              "      <td>4.279800e+04</td>\n",
              "      <td>4.279800e+04</td>\n",
              "      <td>4.279800e+04</td>\n",
              "      <td>42798.000000</td>\n",
              "    </tr>\n",
              "    <tr>\n",
              "      <th>mean</th>\n",
              "      <td>5.809337</td>\n",
              "      <td>1.874667</td>\n",
              "      <td>49.543911</td>\n",
              "      <td>14.009255</td>\n",
              "      <td>9.433621</td>\n",
              "      <td>0.930184</td>\n",
              "      <td>1.672531</td>\n",
              "      <td>4.859398</td>\n",
              "      <td>3.456888</td>\n",
              "      <td>4.063970</td>\n",
              "      <td>...</td>\n",
              "      <td>0.525709</td>\n",
              "      <td>0.255089</td>\n",
              "      <td>0.184927</td>\n",
              "      <td>0.343522</td>\n",
              "      <td>34.538249</td>\n",
              "      <td>0.013435</td>\n",
              "      <td>4.408628e+05</td>\n",
              "      <td>9.014685e+05</td>\n",
              "      <td>4.803623e+05</td>\n",
              "      <td>1227.733422</td>\n",
              "    </tr>\n",
              "    <tr>\n",
              "      <th>std</th>\n",
              "      <td>2.484234</td>\n",
              "      <td>1.853287</td>\n",
              "      <td>36.715017</td>\n",
              "      <td>9.071678</td>\n",
              "      <td>8.887120</td>\n",
              "      <td>1.040631</td>\n",
              "      <td>1.263528</td>\n",
              "      <td>6.984670</td>\n",
              "      <td>4.577423</td>\n",
              "      <td>5.645305</td>\n",
              "      <td>...</td>\n",
              "      <td>0.390604</td>\n",
              "      <td>0.153214</td>\n",
              "      <td>0.127996</td>\n",
              "      <td>0.219536</td>\n",
              "      <td>19.020826</td>\n",
              "      <td>0.115130</td>\n",
              "      <td>4.328234e+06</td>\n",
              "      <td>6.945503e+06</td>\n",
              "      <td>4.656806e+06</td>\n",
              "      <td>806.495152</td>\n",
              "    </tr>\n",
              "    <tr>\n",
              "      <th>min</th>\n",
              "      <td>0.000000</td>\n",
              "      <td>0.000000</td>\n",
              "      <td>0.000000</td>\n",
              "      <td>0.000000</td>\n",
              "      <td>0.000000</td>\n",
              "      <td>0.000000</td>\n",
              "      <td>0.000000</td>\n",
              "      <td>0.000000</td>\n",
              "      <td>0.000000</td>\n",
              "      <td>0.000000</td>\n",
              "      <td>...</td>\n",
              "      <td>0.000000</td>\n",
              "      <td>0.000000</td>\n",
              "      <td>0.000000</td>\n",
              "      <td>0.000000</td>\n",
              "      <td>0.000000</td>\n",
              "      <td>0.000000</td>\n",
              "      <td>0.000000e+00</td>\n",
              "      <td>0.000000e+00</td>\n",
              "      <td>0.000000e+00</td>\n",
              "      <td>0.000000</td>\n",
              "    </tr>\n",
              "    <tr>\n",
              "      <th>25%</th>\n",
              "      <td>5.000000</td>\n",
              "      <td>1.000000</td>\n",
              "      <td>22.800000</td>\n",
              "      <td>9.000000</td>\n",
              "      <td>1.000000</td>\n",
              "      <td>0.000000</td>\n",
              "      <td>0.000000</td>\n",
              "      <td>0.000000</td>\n",
              "      <td>0.000000</td>\n",
              "      <td>0.000000</td>\n",
              "      <td>...</td>\n",
              "      <td>0.000000</td>\n",
              "      <td>0.150000</td>\n",
              "      <td>0.110000</td>\n",
              "      <td>0.170000</td>\n",
              "      <td>20.000000</td>\n",
              "      <td>0.000000</td>\n",
              "      <td>6.955245e-01</td>\n",
              "      <td>6.723968e-01</td>\n",
              "      <td>6.923077e-01</td>\n",
              "      <td>437.000000</td>\n",
              "    </tr>\n",
              "    <tr>\n",
              "      <th>50%</th>\n",
              "      <td>6.000000</td>\n",
              "      <td>1.000000</td>\n",
              "      <td>44.800000</td>\n",
              "      <td>13.400000</td>\n",
              "      <td>8.000000</td>\n",
              "      <td>1.000000</td>\n",
              "      <td>2.000000</td>\n",
              "      <td>0.000000</td>\n",
              "      <td>0.000000</td>\n",
              "      <td>1.500000</td>\n",
              "      <td>...</td>\n",
              "      <td>0.730000</td>\n",
              "      <td>0.220000</td>\n",
              "      <td>0.160000</td>\n",
              "      <td>0.310000</td>\n",
              "      <td>34.000000</td>\n",
              "      <td>0.000000</td>\n",
              "      <td>9.891862e-01</td>\n",
              "      <td>1.001431e+00</td>\n",
              "      <td>9.897523e-01</td>\n",
              "      <td>1254.000000</td>\n",
              "    </tr>\n",
              "    <tr>\n",
              "      <th>75%</th>\n",
              "      <td>7.000000</td>\n",
              "      <td>3.000000</td>\n",
              "      <td>70.100000</td>\n",
              "      <td>18.300000</td>\n",
              "      <td>14.600000</td>\n",
              "      <td>2.000000</td>\n",
              "      <td>3.000000</td>\n",
              "      <td>8.000000</td>\n",
              "      <td>6.300000</td>\n",
              "      <td>6.300000</td>\n",
              "      <td>...</td>\n",
              "      <td>0.840000</td>\n",
              "      <td>0.360000</td>\n",
              "      <td>0.240000</td>\n",
              "      <td>0.520000</td>\n",
              "      <td>50.000000</td>\n",
              "      <td>0.000000</td>\n",
              "      <td>1.320515e+00</td>\n",
              "      <td>1.422171e+00</td>\n",
              "      <td>1.327586e+00</td>\n",
              "      <td>1913.000000</td>\n",
              "    </tr>\n",
              "    <tr>\n",
              "      <th>max</th>\n",
              "      <td>14.000000</td>\n",
              "      <td>7.000000</td>\n",
              "      <td>242.000000</td>\n",
              "      <td>131.000000</td>\n",
              "      <td>100.000000</td>\n",
              "      <td>6.000000</td>\n",
              "      <td>7.000000</td>\n",
              "      <td>79.800000</td>\n",
              "      <td>75.000000</td>\n",
              "      <td>80.000000</td>\n",
              "      <td>...</td>\n",
              "      <td>1.000000</td>\n",
              "      <td>0.900000</td>\n",
              "      <td>0.900000</td>\n",
              "      <td>1.000000</td>\n",
              "      <td>73.000000</td>\n",
              "      <td>1.000000</td>\n",
              "      <td>2.096000e+08</td>\n",
              "      <td>2.176000e+08</td>\n",
              "      <td>2.096000e+08</td>\n",
              "      <td>2673.000000</td>\n",
              "    </tr>\n",
              "  </tbody>\n",
              "</table>\n",
              "<p>8 rows × 72 columns</p>\n",
              "</div>\n",
              "      <button class=\"colab-df-convert\" onclick=\"convertToInteractive('df-8ba6bf0e-5c06-4d7e-93fc-1dc8ef82ac71')\"\n",
              "              title=\"Convert this dataframe to an interactive table.\"\n",
              "              style=\"display:none;\">\n",
              "        \n",
              "  <svg xmlns=\"http://www.w3.org/2000/svg\" height=\"24px\"viewBox=\"0 0 24 24\"\n",
              "       width=\"24px\">\n",
              "    <path d=\"M0 0h24v24H0V0z\" fill=\"none\"/>\n",
              "    <path d=\"M18.56 5.44l.94 2.06.94-2.06 2.06-.94-2.06-.94-.94-2.06-.94 2.06-2.06.94zm-11 1L8.5 8.5l.94-2.06 2.06-.94-2.06-.94L8.5 2.5l-.94 2.06-2.06.94zm10 10l.94 2.06.94-2.06 2.06-.94-2.06-.94-.94-2.06-.94 2.06-2.06.94z\"/><path d=\"M17.41 7.96l-1.37-1.37c-.4-.4-.92-.59-1.43-.59-.52 0-1.04.2-1.43.59L10.3 9.45l-7.72 7.72c-.78.78-.78 2.05 0 2.83L4 21.41c.39.39.9.59 1.41.59.51 0 1.02-.2 1.41-.59l7.78-7.78 2.81-2.81c.8-.78.8-2.07 0-2.86zM5.41 20L4 18.59l7.72-7.72 1.47 1.35L5.41 20z\"/>\n",
              "  </svg>\n",
              "      </button>\n",
              "      \n",
              "  <style>\n",
              "    .colab-df-container {\n",
              "      display:flex;\n",
              "      flex-wrap:wrap;\n",
              "      gap: 12px;\n",
              "    }\n",
              "\n",
              "    .colab-df-convert {\n",
              "      background-color: #E8F0FE;\n",
              "      border: none;\n",
              "      border-radius: 50%;\n",
              "      cursor: pointer;\n",
              "      display: none;\n",
              "      fill: #1967D2;\n",
              "      height: 32px;\n",
              "      padding: 0 0 0 0;\n",
              "      width: 32px;\n",
              "    }\n",
              "\n",
              "    .colab-df-convert:hover {\n",
              "      background-color: #E2EBFA;\n",
              "      box-shadow: 0px 1px 2px rgba(60, 64, 67, 0.3), 0px 1px 3px 1px rgba(60, 64, 67, 0.15);\n",
              "      fill: #174EA6;\n",
              "    }\n",
              "\n",
              "    [theme=dark] .colab-df-convert {\n",
              "      background-color: #3B4455;\n",
              "      fill: #D2E3FC;\n",
              "    }\n",
              "\n",
              "    [theme=dark] .colab-df-convert:hover {\n",
              "      background-color: #434B5C;\n",
              "      box-shadow: 0px 1px 3px 1px rgba(0, 0, 0, 0.15);\n",
              "      filter: drop-shadow(0px 1px 2px rgba(0, 0, 0, 0.3));\n",
              "      fill: #FFFFFF;\n",
              "    }\n",
              "  </style>\n",
              "\n",
              "      <script>\n",
              "        const buttonEl =\n",
              "          document.querySelector('#df-8ba6bf0e-5c06-4d7e-93fc-1dc8ef82ac71 button.colab-df-convert');\n",
              "        buttonEl.style.display =\n",
              "          google.colab.kernel.accessAllowed ? 'block' : 'none';\n",
              "\n",
              "        async function convertToInteractive(key) {\n",
              "          const element = document.querySelector('#df-8ba6bf0e-5c06-4d7e-93fc-1dc8ef82ac71');\n",
              "          const dataTable =\n",
              "            await google.colab.kernel.invokeFunction('convertToInteractive',\n",
              "                                                     [key], {});\n",
              "          if (!dataTable) return;\n",
              "\n",
              "          const docLinkHtml = 'Like what you see? Visit the ' +\n",
              "            '<a target=\"_blank\" href=https://colab.research.google.com/notebooks/data_table.ipynb>data table notebook</a>'\n",
              "            + ' to learn more about interactive tables.';\n",
              "          element.innerHTML = '';\n",
              "          dataTable['output_type'] = 'display_data';\n",
              "          await google.colab.output.renderOutput(dataTable, element);\n",
              "          const docLink = document.createElement('div');\n",
              "          docLink.innerHTML = docLinkHtml;\n",
              "          element.appendChild(docLink);\n",
              "        }\n",
              "      </script>\n",
              "    </div>\n",
              "  </div>\n",
              "  "
            ]
          },
          "metadata": {},
          "execution_count": 8
        }
      ]
    },
    {
      "cell_type": "code",
      "source": [
        "df_week.dtypes"
      ],
      "metadata": {
        "colab": {
          "base_uri": "https://localhost:8080/"
        },
        "id": "xNX-_Tg6C-t-",
        "outputId": "61553e8d-4673-4f03-f7a0-a78b8c3ec187"
      },
      "execution_count": null,
      "outputs": [
        {
          "output_type": "execute_result",
          "data": {
            "text/plain": [
              "nr. sessions               float64\n",
              "nr. rest days              float64\n",
              "total kms                  float64\n",
              "max km one day             float64\n",
              "total km Z3-Z4-Z5-T1-T2    float64\n",
              "                            ...   \n",
              "injury                       int64\n",
              "rel total kms week 0_1     float64\n",
              "rel total kms week 0_2     float64\n",
              "rel total kms week 1_2     float64\n",
              "Date                         int64\n",
              "Length: 72, dtype: object"
            ]
          },
          "metadata": {},
          "execution_count": 9
        }
      ]
    },
    {
      "cell_type": "code",
      "source": [
        "df_week.nunique()"
      ],
      "metadata": {
        "colab": {
          "base_uri": "https://localhost:8080/"
        },
        "id": "clNXiHJFC-rQ",
        "outputId": "795f4de3-4b3b-4ae9-a2e4-1bf90b8f6847"
      },
      "execution_count": null,
      "outputs": [
        {
          "output_type": "execute_result",
          "data": {
            "text/plain": [
              "nr. sessions                  15\n",
              "nr. rest days                  8\n",
              "total kms                   1772\n",
              "max km one day               395\n",
              "total km Z3-Z4-Z5-T1-T2      493\n",
              "                           ...  \n",
              "injury                         2\n",
              "rel total kms week 0_1     31692\n",
              "rel total kms week 0_2     32434\n",
              "rel total kms week 1_2     31473\n",
              "Date                        2614\n",
              "Length: 72, dtype: int64"
            ]
          },
          "metadata": {},
          "execution_count": 10
        }
      ]
    },
    {
      "cell_type": "code",
      "source": [
        "df_week.columns"
      ],
      "metadata": {
        "colab": {
          "base_uri": "https://localhost:8080/"
        },
        "id": "nl9EA2H3C-oZ",
        "outputId": "7c9f1e9d-d4d0-4fc7-b4dc-29aa36accdc9"
      },
      "execution_count": null,
      "outputs": [
        {
          "output_type": "execute_result",
          "data": {
            "text/plain": [
              "Index(['nr. sessions', 'nr. rest days', 'total kms', 'max km one day',\n",
              "       'total km Z3-Z4-Z5-T1-T2',\n",
              "       'nr. tough sessions (effort in Z5, T1 or T2)',\n",
              "       'nr. days with interval session', 'total km Z3-4',\n",
              "       'max km Z3-4 one day', 'total km Z5-T1-T2', 'max km Z5-T1-T2 one day',\n",
              "       'total hours alternative training', 'nr. strength trainings',\n",
              "       'avg exertion', 'min exertion', 'max exertion', 'avg training success',\n",
              "       'min training success', 'max training success', 'avg recovery',\n",
              "       'min recovery', 'max recovery', 'nr. sessions.1', 'nr. rest days.1',\n",
              "       'total kms.1', 'max km one day.1', 'total km Z3-Z4-Z5-T1-T2.1',\n",
              "       'nr. tough sessions (effort in Z5, T1 or T2).1',\n",
              "       'nr. days with interval session.1', 'total km Z3-4.1',\n",
              "       'max km Z3-4 one day.1', 'total km Z5-T1-T2.1',\n",
              "       'max km Z5-T1-T2 one day.1', 'total hours alternative training.1',\n",
              "       'nr. strength trainings.1', 'avg exertion.1', 'min exertion.1',\n",
              "       'max exertion.1', 'avg training success.1', 'min training success.1',\n",
              "       'max training success.1', 'avg recovery.1', 'min recovery.1',\n",
              "       'max recovery.1', 'nr. sessions.2', 'nr. rest days.2', 'total kms.2',\n",
              "       'max km one day.2', 'total km Z3-Z4-Z5-T1-T2.2',\n",
              "       'nr. tough sessions (effort in Z5, T1 or T2).2',\n",
              "       'nr. days with interval session.2', 'total km Z3-4.2',\n",
              "       'max km Z3-4 one day.2', 'total km Z5-T1-T2.2',\n",
              "       'max km Z5-T1-T2 one day.2', 'total hours alternative training.2',\n",
              "       'nr. strength trainings.2', 'avg exertion.2', 'min exertion.2',\n",
              "       'max exertion.2', 'avg training success.2', 'min training success.2',\n",
              "       'max training success.2', 'avg recovery.2', 'min recovery.2',\n",
              "       'max recovery.2', 'Athlete ID', 'injury', 'rel total kms week 0_1',\n",
              "       'rel total kms week 0_2', 'rel total kms week 1_2', 'Date'],\n",
              "      dtype='object')"
            ]
          },
          "metadata": {},
          "execution_count": 11
        }
      ]
    },
    {
      "cell_type": "markdown",
      "source": [
        "# **4.0 Exploratory data analysis (EDA)**"
      ],
      "metadata": {
        "id": "26BG6Do6Hi0K"
      }
    },
    {
      "cell_type": "markdown",
      "source": [
        "**4.1 Missing values**"
      ],
      "metadata": {
        "id": "qeVrpbd-IKxB"
      }
    },
    {
      "cell_type": "code",
      "source": [
        "missing_values = pd.DataFrame({'Count':df_week.isna().sum(),'Percentage':df_week.isna().sum()/len(df_week)*100})\n",
        "missing_values"
      ],
      "metadata": {
        "colab": {
          "base_uri": "https://localhost:8080/",
          "height": 424
        },
        "id": "TNy8U6xjC-lm",
        "outputId": "d67d94ff-c47b-4339-ba62-d803518702a3"
      },
      "execution_count": null,
      "outputs": [
        {
          "output_type": "execute_result",
          "data": {
            "text/plain": [
              "                         Count  Percentage\n",
              "nr. sessions                 0         0.0\n",
              "nr. rest days                0         0.0\n",
              "total kms                    0         0.0\n",
              "max km one day               0         0.0\n",
              "total km Z3-Z4-Z5-T1-T2      0         0.0\n",
              "...                        ...         ...\n",
              "injury                       0         0.0\n",
              "rel total kms week 0_1       0         0.0\n",
              "rel total kms week 0_2       0         0.0\n",
              "rel total kms week 1_2       0         0.0\n",
              "Date                         0         0.0\n",
              "\n",
              "[72 rows x 2 columns]"
            ],
            "text/html": [
              "\n",
              "  <div id=\"df-77c5f30a-cc44-43b0-8260-8bcf4d6a7dbf\">\n",
              "    <div class=\"colab-df-container\">\n",
              "      <div>\n",
              "<style scoped>\n",
              "    .dataframe tbody tr th:only-of-type {\n",
              "        vertical-align: middle;\n",
              "    }\n",
              "\n",
              "    .dataframe tbody tr th {\n",
              "        vertical-align: top;\n",
              "    }\n",
              "\n",
              "    .dataframe thead th {\n",
              "        text-align: right;\n",
              "    }\n",
              "</style>\n",
              "<table border=\"1\" class=\"dataframe\">\n",
              "  <thead>\n",
              "    <tr style=\"text-align: right;\">\n",
              "      <th></th>\n",
              "      <th>Count</th>\n",
              "      <th>Percentage</th>\n",
              "    </tr>\n",
              "  </thead>\n",
              "  <tbody>\n",
              "    <tr>\n",
              "      <th>nr. sessions</th>\n",
              "      <td>0</td>\n",
              "      <td>0.0</td>\n",
              "    </tr>\n",
              "    <tr>\n",
              "      <th>nr. rest days</th>\n",
              "      <td>0</td>\n",
              "      <td>0.0</td>\n",
              "    </tr>\n",
              "    <tr>\n",
              "      <th>total kms</th>\n",
              "      <td>0</td>\n",
              "      <td>0.0</td>\n",
              "    </tr>\n",
              "    <tr>\n",
              "      <th>max km one day</th>\n",
              "      <td>0</td>\n",
              "      <td>0.0</td>\n",
              "    </tr>\n",
              "    <tr>\n",
              "      <th>total km Z3-Z4-Z5-T1-T2</th>\n",
              "      <td>0</td>\n",
              "      <td>0.0</td>\n",
              "    </tr>\n",
              "    <tr>\n",
              "      <th>...</th>\n",
              "      <td>...</td>\n",
              "      <td>...</td>\n",
              "    </tr>\n",
              "    <tr>\n",
              "      <th>injury</th>\n",
              "      <td>0</td>\n",
              "      <td>0.0</td>\n",
              "    </tr>\n",
              "    <tr>\n",
              "      <th>rel total kms week 0_1</th>\n",
              "      <td>0</td>\n",
              "      <td>0.0</td>\n",
              "    </tr>\n",
              "    <tr>\n",
              "      <th>rel total kms week 0_2</th>\n",
              "      <td>0</td>\n",
              "      <td>0.0</td>\n",
              "    </tr>\n",
              "    <tr>\n",
              "      <th>rel total kms week 1_2</th>\n",
              "      <td>0</td>\n",
              "      <td>0.0</td>\n",
              "    </tr>\n",
              "    <tr>\n",
              "      <th>Date</th>\n",
              "      <td>0</td>\n",
              "      <td>0.0</td>\n",
              "    </tr>\n",
              "  </tbody>\n",
              "</table>\n",
              "<p>72 rows × 2 columns</p>\n",
              "</div>\n",
              "      <button class=\"colab-df-convert\" onclick=\"convertToInteractive('df-77c5f30a-cc44-43b0-8260-8bcf4d6a7dbf')\"\n",
              "              title=\"Convert this dataframe to an interactive table.\"\n",
              "              style=\"display:none;\">\n",
              "        \n",
              "  <svg xmlns=\"http://www.w3.org/2000/svg\" height=\"24px\"viewBox=\"0 0 24 24\"\n",
              "       width=\"24px\">\n",
              "    <path d=\"M0 0h24v24H0V0z\" fill=\"none\"/>\n",
              "    <path d=\"M18.56 5.44l.94 2.06.94-2.06 2.06-.94-2.06-.94-.94-2.06-.94 2.06-2.06.94zm-11 1L8.5 8.5l.94-2.06 2.06-.94-2.06-.94L8.5 2.5l-.94 2.06-2.06.94zm10 10l.94 2.06.94-2.06 2.06-.94-2.06-.94-.94-2.06-.94 2.06-2.06.94z\"/><path d=\"M17.41 7.96l-1.37-1.37c-.4-.4-.92-.59-1.43-.59-.52 0-1.04.2-1.43.59L10.3 9.45l-7.72 7.72c-.78.78-.78 2.05 0 2.83L4 21.41c.39.39.9.59 1.41.59.51 0 1.02-.2 1.41-.59l7.78-7.78 2.81-2.81c.8-.78.8-2.07 0-2.86zM5.41 20L4 18.59l7.72-7.72 1.47 1.35L5.41 20z\"/>\n",
              "  </svg>\n",
              "      </button>\n",
              "      \n",
              "  <style>\n",
              "    .colab-df-container {\n",
              "      display:flex;\n",
              "      flex-wrap:wrap;\n",
              "      gap: 12px;\n",
              "    }\n",
              "\n",
              "    .colab-df-convert {\n",
              "      background-color: #E8F0FE;\n",
              "      border: none;\n",
              "      border-radius: 50%;\n",
              "      cursor: pointer;\n",
              "      display: none;\n",
              "      fill: #1967D2;\n",
              "      height: 32px;\n",
              "      padding: 0 0 0 0;\n",
              "      width: 32px;\n",
              "    }\n",
              "\n",
              "    .colab-df-convert:hover {\n",
              "      background-color: #E2EBFA;\n",
              "      box-shadow: 0px 1px 2px rgba(60, 64, 67, 0.3), 0px 1px 3px 1px rgba(60, 64, 67, 0.15);\n",
              "      fill: #174EA6;\n",
              "    }\n",
              "\n",
              "    [theme=dark] .colab-df-convert {\n",
              "      background-color: #3B4455;\n",
              "      fill: #D2E3FC;\n",
              "    }\n",
              "\n",
              "    [theme=dark] .colab-df-convert:hover {\n",
              "      background-color: #434B5C;\n",
              "      box-shadow: 0px 1px 3px 1px rgba(0, 0, 0, 0.15);\n",
              "      filter: drop-shadow(0px 1px 2px rgba(0, 0, 0, 0.3));\n",
              "      fill: #FFFFFF;\n",
              "    }\n",
              "  </style>\n",
              "\n",
              "      <script>\n",
              "        const buttonEl =\n",
              "          document.querySelector('#df-77c5f30a-cc44-43b0-8260-8bcf4d6a7dbf button.colab-df-convert');\n",
              "        buttonEl.style.display =\n",
              "          google.colab.kernel.accessAllowed ? 'block' : 'none';\n",
              "\n",
              "        async function convertToInteractive(key) {\n",
              "          const element = document.querySelector('#df-77c5f30a-cc44-43b0-8260-8bcf4d6a7dbf');\n",
              "          const dataTable =\n",
              "            await google.colab.kernel.invokeFunction('convertToInteractive',\n",
              "                                                     [key], {});\n",
              "          if (!dataTable) return;\n",
              "\n",
              "          const docLinkHtml = 'Like what you see? Visit the ' +\n",
              "            '<a target=\"_blank\" href=https://colab.research.google.com/notebooks/data_table.ipynb>data table notebook</a>'\n",
              "            + ' to learn more about interactive tables.';\n",
              "          element.innerHTML = '';\n",
              "          dataTable['output_type'] = 'display_data';\n",
              "          await google.colab.output.renderOutput(dataTable, element);\n",
              "          const docLink = document.createElement('div');\n",
              "          docLink.innerHTML = docLinkHtml;\n",
              "          element.appendChild(docLink);\n",
              "        }\n",
              "      </script>\n",
              "    </div>\n",
              "  </div>\n",
              "  "
            ]
          },
          "metadata": {},
          "execution_count": 12
        }
      ]
    },
    {
      "cell_type": "code",
      "source": [
        "print(f'There are {df_week.isnull().any().sum()} columns in week dataset with missing values.')"
      ],
      "metadata": {
        "colab": {
          "base_uri": "https://localhost:8080/"
        },
        "id": "5-p--1EMC-i9",
        "outputId": "de3e60ea-a31a-43f7-a06f-d7bea73c76ab"
      },
      "execution_count": null,
      "outputs": [
        {
          "output_type": "stream",
          "name": "stdout",
          "text": [
            "There are 0 columns in week dataset with missing values.\n"
          ]
        }
      ]
    },
    {
      "cell_type": "markdown",
      "source": [
        "**4.2 Analysis on Target variable**"
      ],
      "metadata": {
        "id": "yqkkiYBVJMKw"
      }
    },
    {
      "cell_type": "code",
      "source": [
        "print(df_week['injury'].value_counts())\n",
        "sns.countplot(df_week['injury'])"
      ],
      "metadata": {
        "colab": {
          "base_uri": "https://localhost:8080/",
          "height": 348
        },
        "id": "pSeaF8k9C-dt",
        "outputId": "bb4912a9-8099-4aef-ef4d-052e19f94d27"
      },
      "execution_count": null,
      "outputs": [
        {
          "output_type": "stream",
          "name": "stdout",
          "text": [
            "0    42223\n",
            "1      575\n",
            "Name: injury, dtype: int64\n"
          ]
        },
        {
          "output_type": "execute_result",
          "data": {
            "text/plain": [
              "<matplotlib.axes._subplots.AxesSubplot at 0x7ff20abfe710>"
            ]
          },
          "metadata": {},
          "execution_count": 17
        },
        {
          "output_type": "display_data",
          "data": {
            "text/plain": [
              "<Figure size 432x288 with 1 Axes>"
            ],
            "image/png": "[encoded data removed]"
          },
          "metadata": {
            "needs_background": "light"
          }
        }
      ]
    },
    {
      "cell_type": "markdown",
      "source": [
        "**Interpretation:** \n",
        "\n",
        "In our entire dataset, there are total records of 42223 (98.6%) times an athlete didn't got injured, and 575 (1.4%) times an athlete got injured."
      ],
      "metadata": {
        "id": "GBOV_-FBJXfo"
      }
    },
    {
      "cell_type": "markdown",
      "source": [
        "**4.3 Analysis on injury per athlete**"
      ],
      "metadata": {
        "id": "OY-wKSLgNnr1"
      }
    },
    {
      "cell_type": "code",
      "source": [
        "df_ath_injury = pd.DataFrame()\n",
        "df_ath_injury['Number of injury per Athlete'] = df_week.groupby('Athlete ID')['injury'].sum()"
      ],
      "metadata": {
        "id": "kfA4N_F2Nhw8"
      },
      "execution_count": null,
      "outputs": []
    },
    {
      "cell_type": "code",
      "source": [
        "df_ath_injury.head()"
      ],
      "metadata": {
        "colab": {
          "base_uri": "https://localhost:8080/",
          "height": 237
        },
        "id": "I9tvzqkjNhuU",
        "outputId": "5be6e39d-3e58-4b25-88d4-630a13e8a0ce"
      },
      "execution_count": null,
      "outputs": [
        {
          "output_type": "execute_result",
          "data": {
            "text/plain": [
              "            Number of injury per Athlete\n",
              "Athlete ID                              \n",
              "0                                      7\n",
              "1                                      2\n",
              "2                                      4\n",
              "3                                      3\n",
              "4                                      7"
            ],
            "text/html": [
              "\n",
              "  <div id=\"df-acbd0b49-6e07-4fad-a1ee-36c28c65aa36\">\n",
              "    <div class=\"colab-df-container\">\n",
              "      <div>\n",
              "<style scoped>\n",
              "    .dataframe tbody tr th:only-of-type {\n",
              "        vertical-align: middle;\n",
              "    }\n",
              "\n",
              "    .dataframe tbody tr th {\n",
              "        vertical-align: top;\n",
              "    }\n",
              "\n",
              "    .dataframe thead th {\n",
              "        text-align: right;\n",
              "    }\n",
              "</style>\n",
              "<table border=\"1\" class=\"dataframe\">\n",
              "  <thead>\n",
              "    <tr style=\"text-align: right;\">\n",
              "      <th></th>\n",
              "      <th>Number of injury per Athlete</th>\n",
              "    </tr>\n",
              "    <tr>\n",
              "      <th>Athlete ID</th>\n",
              "      <th></th>\n",
              "    </tr>\n",
              "  </thead>\n",
              "  <tbody>\n",
              "    <tr>\n",
              "      <th>0</th>\n",
              "      <td>7</td>\n",
              "    </tr>\n",
              "    <tr>\n",
              "      <th>1</th>\n",
              "      <td>2</td>\n",
              "    </tr>\n",
              "    <tr>\n",
              "      <th>2</th>\n",
              "      <td>4</td>\n",
              "    </tr>\n",
              "    <tr>\n",
              "      <th>3</th>\n",
              "      <td>3</td>\n",
              "    </tr>\n",
              "    <tr>\n",
              "      <th>4</th>\n",
              "      <td>7</td>\n",
              "    </tr>\n",
              "  </tbody>\n",
              "</table>\n",
              "</div>\n",
              "      <button class=\"colab-df-convert\" onclick=\"convertToInteractive('df-acbd0b49-6e07-4fad-a1ee-36c28c65aa36')\"\n",
              "              title=\"Convert this dataframe to an interactive table.\"\n",
              "              style=\"display:none;\">\n",
              "        \n",
              "  <svg xmlns=\"http://www.w3.org/2000/svg\" height=\"24px\"viewBox=\"0 0 24 24\"\n",
              "       width=\"24px\">\n",
              "    <path d=\"M0 0h24v24H0V0z\" fill=\"none\"/>\n",
              "    <path d=\"M18.56 5.44l.94 2.06.94-2.06 2.06-.94-2.06-.94-.94-2.06-.94 2.06-2.06.94zm-11 1L8.5 8.5l.94-2.06 2.06-.94-2.06-.94L8.5 2.5l-.94 2.06-2.06.94zm10 10l.94 2.06.94-2.06 2.06-.94-2.06-.94-.94-2.06-.94 2.06-2.06.94z\"/><path d=\"M17.41 7.96l-1.37-1.37c-.4-.4-.92-.59-1.43-.59-.52 0-1.04.2-1.43.59L10.3 9.45l-7.72 7.72c-.78.78-.78 2.05 0 2.83L4 21.41c.39.39.9.59 1.41.59.51 0 1.02-.2 1.41-.59l7.78-7.78 2.81-2.81c.8-.78.8-2.07 0-2.86zM5.41 20L4 18.59l7.72-7.72 1.47 1.35L5.41 20z\"/>\n",
              "  </svg>\n",
              "      </button>\n",
              "      \n",
              "  <style>\n",
              "    .colab-df-container {\n",
              "      display:flex;\n",
              "      flex-wrap:wrap;\n",
              "      gap: 12px;\n",
              "    }\n",
              "\n",
              "    .colab-df-convert {\n",
              "      background-color: #E8F0FE;\n",
              "      border: none;\n",
              "      border-radius: 50%;\n",
              "      cursor: pointer;\n",
              "      display: none;\n",
              "      fill: #1967D2;\n",
              "      height: 32px;\n",
              "      padding: 0 0 0 0;\n",
              "      width: 32px;\n",
              "    }\n",
              "\n",
              "    .colab-df-convert:hover {\n",
              "      background-color: #E2EBFA;\n",
              "      box-shadow: 0px 1px 2px rgba(60, 64, 67, 0.3), 0px 1px 3px 1px rgba(60, 64, 67, 0.15);\n",
              "      fill: #174EA6;\n",
              "    }\n",
              "\n",
              "    [theme=dark] .colab-df-convert {\n",
              "      background-color: #3B4455;\n",
              "      fill: #D2E3FC;\n",
              "    }\n",
              "\n",
              "    [theme=dark] .colab-df-convert:hover {\n",
              "      background-color: #434B5C;\n",
              "      box-shadow: 0px 1px 3px 1px rgba(0, 0, 0, 0.15);\n",
              "      filter: drop-shadow(0px 1px 2px rgba(0, 0, 0, 0.3));\n",
              "      fill: #FFFFFF;\n",
              "    }\n",
              "  </style>\n",
              "\n",
              "      <script>\n",
              "        const buttonEl =\n",
              "          document.querySelector('#df-acbd0b49-6e07-4fad-a1ee-36c28c65aa36 button.colab-df-convert');\n",
              "        buttonEl.style.display =\n",
              "          google.colab.kernel.accessAllowed ? 'block' : 'none';\n",
              "\n",
              "        async function convertToInteractive(key) {\n",
              "          const element = document.querySelector('#df-acbd0b49-6e07-4fad-a1ee-36c28c65aa36');\n",
              "          const dataTable =\n",
              "            await google.colab.kernel.invokeFunction('convertToInteractive',\n",
              "                                                     [key], {});\n",
              "          if (!dataTable) return;\n",
              "\n",
              "          const docLinkHtml = 'Like what you see? Visit the ' +\n",
              "            '<a target=\"_blank\" href=https://colab.research.google.com/notebooks/data_table.ipynb>data table notebook</a>'\n",
              "            + ' to learn more about interactive tables.';\n",
              "          element.innerHTML = '';\n",
              "          dataTable['output_type'] = 'display_data';\n",
              "          await google.colab.output.renderOutput(dataTable, element);\n",
              "          const docLink = document.createElement('div');\n",
              "          docLink.innerHTML = docLinkHtml;\n",
              "          element.appendChild(docLink);\n",
              "        }\n",
              "      </script>\n",
              "    </div>\n",
              "  </div>\n",
              "  "
            ]
          },
          "metadata": {},
          "execution_count": 47
        }
      ]
    },
    {
      "cell_type": "code",
      "source": [
        "df_ath_injury.shape"
      ],
      "metadata": {
        "colab": {
          "base_uri": "https://localhost:8080/"
        },
        "id": "v8ziEMkQNk1k",
        "outputId": "e775c4c0-6694-4c10-b011-52158f876b25"
      },
      "execution_count": null,
      "outputs": [
        {
          "output_type": "execute_result",
          "data": {
            "text/plain": [
              "(74, 1)"
            ]
          },
          "metadata": {},
          "execution_count": 48
        }
      ]
    },
    {
      "cell_type": "code",
      "source": [
        "df_ath_injury.describe()"
      ],
      "metadata": {
        "colab": {
          "base_uri": "https://localhost:8080/",
          "height": 300
        },
        "id": "n8WKS_RKNh05",
        "outputId": "6ed67447-7d45-448d-efaf-4cadb3b24271"
      },
      "execution_count": null,
      "outputs": [
        {
          "output_type": "execute_result",
          "data": {
            "text/plain": [
              "       Number of injury per Athlete\n",
              "count                     74.000000\n",
              "mean                       7.770270\n",
              "std                        8.281928\n",
              "min                        0.000000\n",
              "25%                        2.000000\n",
              "50%                        5.000000\n",
              "75%                       11.500000\n",
              "max                       35.000000"
            ],
            "text/html": [
              "\n",
              "  <div id=\"df-aa68a9bc-893d-4c3c-b243-cde1b8703479\">\n",
              "    <div class=\"colab-df-container\">\n",
              "      <div>\n",
              "<style scoped>\n",
              "    .dataframe tbody tr th:only-of-type {\n",
              "        vertical-align: middle;\n",
              "    }\n",
              "\n",
              "    .dataframe tbody tr th {\n",
              "        vertical-align: top;\n",
              "    }\n",
              "\n",
              "    .dataframe thead th {\n",
              "        text-align: right;\n",
              "    }\n",
              "</style>\n",
              "<table border=\"1\" class=\"dataframe\">\n",
              "  <thead>\n",
              "    <tr style=\"text-align: right;\">\n",
              "      <th></th>\n",
              "      <th>Number of injury per Athlete</th>\n",
              "    </tr>\n",
              "  </thead>\n",
              "  <tbody>\n",
              "    <tr>\n",
              "      <th>count</th>\n",
              "      <td>74.000000</td>\n",
              "    </tr>\n",
              "    <tr>\n",
              "      <th>mean</th>\n",
              "      <td>7.770270</td>\n",
              "    </tr>\n",
              "    <tr>\n",
              "      <th>std</th>\n",
              "      <td>8.281928</td>\n",
              "    </tr>\n",
              "    <tr>\n",
              "      <th>min</th>\n",
              "      <td>0.000000</td>\n",
              "    </tr>\n",
              "    <tr>\n",
              "      <th>25%</th>\n",
              "      <td>2.000000</td>\n",
              "    </tr>\n",
              "    <tr>\n",
              "      <th>50%</th>\n",
              "      <td>5.000000</td>\n",
              "    </tr>\n",
              "    <tr>\n",
              "      <th>75%</th>\n",
              "      <td>11.500000</td>\n",
              "    </tr>\n",
              "    <tr>\n",
              "      <th>max</th>\n",
              "      <td>35.000000</td>\n",
              "    </tr>\n",
              "  </tbody>\n",
              "</table>\n",
              "</div>\n",
              "      <button class=\"colab-df-convert\" onclick=\"convertToInteractive('df-aa68a9bc-893d-4c3c-b243-cde1b8703479')\"\n",
              "              title=\"Convert this dataframe to an interactive table.\"\n",
              "              style=\"display:none;\">\n",
              "        \n",
              "  <svg xmlns=\"http://www.w3.org/2000/svg\" height=\"24px\"viewBox=\"0 0 24 24\"\n",
              "       width=\"24px\">\n",
              "    <path d=\"M0 0h24v24H0V0z\" fill=\"none\"/>\n",
              "    <path d=\"M18.56 5.44l.94 2.06.94-2.06 2.06-.94-2.06-.94-.94-2.06-.94 2.06-2.06.94zm-11 1L8.5 8.5l.94-2.06 2.06-.94-2.06-.94L8.5 2.5l-.94 2.06-2.06.94zm10 10l.94 2.06.94-2.06 2.06-.94-2.06-.94-.94-2.06-.94 2.06-2.06.94z\"/><path d=\"M17.41 7.96l-1.37-1.37c-.4-.4-.92-.59-1.43-.59-.52 0-1.04.2-1.43.59L10.3 9.45l-7.72 7.72c-.78.78-.78 2.05 0 2.83L4 21.41c.39.39.9.59 1.41.59.51 0 1.02-.2 1.41-.59l7.78-7.78 2.81-2.81c.8-.78.8-2.07 0-2.86zM5.41 20L4 18.59l7.72-7.72 1.47 1.35L5.41 20z\"/>\n",
              "  </svg>\n",
              "      </button>\n",
              "      \n",
              "  <style>\n",
              "    .colab-df-container {\n",
              "      display:flex;\n",
              "      flex-wrap:wrap;\n",
              "      gap: 12px;\n",
              "    }\n",
              "\n",
              "    .colab-df-convert {\n",
              "      background-color: #E8F0FE;\n",
              "      border: none;\n",
              "      border-radius: 50%;\n",
              "      cursor: pointer;\n",
              "      display: none;\n",
              "      fill: #1967D2;\n",
              "      height: 32px;\n",
              "      padding: 0 0 0 0;\n",
              "      width: 32px;\n",
              "    }\n",
              "\n",
              "    .colab-df-convert:hover {\n",
              "      background-color: #E2EBFA;\n",
              "      box-shadow: 0px 1px 2px rgba(60, 64, 67, 0.3), 0px 1px 3px 1px rgba(60, 64, 67, 0.15);\n",
              "      fill: #174EA6;\n",
              "    }\n",
              "\n",
              "    [theme=dark] .colab-df-convert {\n",
              "      background-color: #3B4455;\n",
              "      fill: #D2E3FC;\n",
              "    }\n",
              "\n",
              "    [theme=dark] .colab-df-convert:hover {\n",
              "      background-color: #434B5C;\n",
              "      box-shadow: 0px 1px 3px 1px rgba(0, 0, 0, 0.15);\n",
              "      filter: drop-shadow(0px 1px 2px rgba(0, 0, 0, 0.3));\n",
              "      fill: #FFFFFF;\n",
              "    }\n",
              "  </style>\n",
              "\n",
              "      <script>\n",
              "        const buttonEl =\n",
              "          document.querySelector('#df-aa68a9bc-893d-4c3c-b243-cde1b8703479 button.colab-df-convert');\n",
              "        buttonEl.style.display =\n",
              "          google.colab.kernel.accessAllowed ? 'block' : 'none';\n",
              "\n",
              "        async function convertToInteractive(key) {\n",
              "          const element = document.querySelector('#df-aa68a9bc-893d-4c3c-b243-cde1b8703479');\n",
              "          const dataTable =\n",
              "            await google.colab.kernel.invokeFunction('convertToInteractive',\n",
              "                                                     [key], {});\n",
              "          if (!dataTable) return;\n",
              "\n",
              "          const docLinkHtml = 'Like what you see? Visit the ' +\n",
              "            '<a target=\"_blank\" href=https://colab.research.google.com/notebooks/data_table.ipynb>data table notebook</a>'\n",
              "            + ' to learn more about interactive tables.';\n",
              "          element.innerHTML = '';\n",
              "          dataTable['output_type'] = 'display_data';\n",
              "          await google.colab.output.renderOutput(dataTable, element);\n",
              "          const docLink = document.createElement('div');\n",
              "          docLink.innerHTML = docLinkHtml;\n",
              "          element.appendChild(docLink);\n",
              "        }\n",
              "      </script>\n",
              "    </div>\n",
              "  </div>\n",
              "  "
            ]
          },
          "metadata": {},
          "execution_count": 49
        }
      ]
    },
    {
      "cell_type": "code",
      "source": [
        "plt.figure(figsize=(12,4))\n",
        "ax = plt.subplot()\n",
        "ax.bar(df_ath_injury.index, height = df_ath_injury['Number of injury per Athlete'], color = 'red', width = 0.4)\n",
        "plt.title('Number of injury per Athlete')\n",
        "plt.ylabel('Number of injury per Athlete')\n",
        "plt.xlabel('Athlete ID')\n",
        "plt.tight_layout()\n",
        "plt.show()"
      ],
      "metadata": {
        "colab": {
          "base_uri": "https://localhost:8080/",
          "height": 297
        },
        "id": "fI2K2h2ONkwM",
        "outputId": "e10f6664-df73-49ae-ee4d-d1adce9e5c14"
      },
      "execution_count": null,
      "outputs": [
        {
          "output_type": "display_data",
          "data": {
            "text/plain": [
              "<Figure size 864x288 with 1 Axes>"
            ],
            "image/png": "[encoded data removed]"
          },
          "metadata": {
            "needs_background": "light"
          }
        }
      ]
    },
    {
      "cell_type": "markdown",
      "source": [
        "Interpretation:\n",
        "\n",
        "As shown from the above graph, the Athlete with ID number 26 has the most highest number of injuries with about 35."
      ],
      "metadata": {
        "id": "64uESn6hOFl-"
      }
    },
    {
      "cell_type": "markdown",
      "source": [
        "**4.4 Analysis on nr.session**"
      ],
      "metadata": {
        "id": "yx-QVQ1UJ3t_"
      }
    },
    {
      "cell_type": "code",
      "source": [
        "print(df_week['nr. sessions'].sum())\n",
        "print(df_week['nr. sessions.1'].sum())\n",
        "print(df_week['nr. sessions.2'].sum())"
      ],
      "metadata": {
        "colab": {
          "base_uri": "https://localhost:8080/"
        },
        "id": "xsh-05nQC-bm",
        "outputId": "be90d9ab-4a4d-4341-ab8f-d55d6da52f22"
      },
      "execution_count": null,
      "outputs": [
        {
          "output_type": "stream",
          "name": "stdout",
          "text": [
            "248628.0\n",
            "248580.0\n",
            "248690.0\n"
          ]
        }
      ]
    },
    {
      "cell_type": "code",
      "source": [
        "df_ath_ses = pd.DataFrame()\n",
        "df_ath_ses['Day0'] = df_week.groupby('Athlete ID')['nr. sessions'].sum()\n",
        "df_ath_ses['Day1'] = df_week.groupby('Athlete ID')['nr. sessions.1'].sum()\n",
        "df_ath_ses['Day2'] = df_week.groupby('Athlete ID')['nr. sessions.2'].sum()"
      ],
      "metadata": {
        "id": "36VtUOXcJ9pv"
      },
      "execution_count": null,
      "outputs": []
    },
    {
      "cell_type": "code",
      "source": [
        "df_ath_ses.head()"
      ],
      "metadata": {
        "colab": {
          "base_uri": "https://localhost:8080/",
          "height": 237
        },
        "id": "AjDCKacPJ9m_",
        "outputId": "adbd0d6e-6116-4381-976d-cb4dff0ef65a"
      },
      "execution_count": null,
      "outputs": [
        {
          "output_type": "execute_result",
          "data": {
            "text/plain": [
              "              Day0    Day1    Day2\n",
              "Athlete ID                        \n",
              "0           1264.0  1278.0  1257.0\n",
              "1           2774.0  2771.0  2704.0\n",
              "2           7175.0  7175.0  7133.0\n",
              "3           1956.0  1987.0  2015.0\n",
              "4           4372.0  4318.0  4281.0"
            ],
            "text/html": [
              "\n",
              "  <div id=\"df-2ce0f719-b456-489d-8c3b-9ae0e92b162b\">\n",
              "    <div class=\"colab-df-container\">\n",
              "      <div>\n",
              "<style scoped>\n",
              "    .dataframe tbody tr th:only-of-type {\n",
              "        vertical-align: middle;\n",
              "    }\n",
              "\n",
              "    .dataframe tbody tr th {\n",
              "        vertical-align: top;\n",
              "    }\n",
              "\n",
              "    .dataframe thead th {\n",
              "        text-align: right;\n",
              "    }\n",
              "</style>\n",
              "<table border=\"1\" class=\"dataframe\">\n",
              "  <thead>\n",
              "    <tr style=\"text-align: right;\">\n",
              "      <th></th>\n",
              "      <th>Day0</th>\n",
              "      <th>Day1</th>\n",
              "      <th>Day2</th>\n",
              "    </tr>\n",
              "    <tr>\n",
              "      <th>Athlete ID</th>\n",
              "      <th></th>\n",
              "      <th></th>\n",
              "      <th></th>\n",
              "    </tr>\n",
              "  </thead>\n",
              "  <tbody>\n",
              "    <tr>\n",
              "      <th>0</th>\n",
              "      <td>1264.0</td>\n",
              "      <td>1278.0</td>\n",
              "      <td>1257.0</td>\n",
              "    </tr>\n",
              "    <tr>\n",
              "      <th>1</th>\n",
              "      <td>2774.0</td>\n",
              "      <td>2771.0</td>\n",
              "      <td>2704.0</td>\n",
              "    </tr>\n",
              "    <tr>\n",
              "      <th>2</th>\n",
              "      <td>7175.0</td>\n",
              "      <td>7175.0</td>\n",
              "      <td>7133.0</td>\n",
              "    </tr>\n",
              "    <tr>\n",
              "      <th>3</th>\n",
              "      <td>1956.0</td>\n",
              "      <td>1987.0</td>\n",
              "      <td>2015.0</td>\n",
              "    </tr>\n",
              "    <tr>\n",
              "      <th>4</th>\n",
              "      <td>4372.0</td>\n",
              "      <td>4318.0</td>\n",
              "      <td>4281.0</td>\n",
              "    </tr>\n",
              "  </tbody>\n",
              "</table>\n",
              "</div>\n",
              "      <button class=\"colab-df-convert\" onclick=\"convertToInteractive('df-2ce0f719-b456-489d-8c3b-9ae0e92b162b')\"\n",
              "              title=\"Convert this dataframe to an interactive table.\"\n",
              "              style=\"display:none;\">\n",
              "        \n",
              "  <svg xmlns=\"http://www.w3.org/2000/svg\" height=\"24px\"viewBox=\"0 0 24 24\"\n",
              "       width=\"24px\">\n",
              "    <path d=\"M0 0h24v24H0V0z\" fill=\"none\"/>\n",
              "    <path d=\"M18.56 5.44l.94 2.06.94-2.06 2.06-.94-2.06-.94-.94-2.06-.94 2.06-2.06.94zm-11 1L8.5 8.5l.94-2.06 2.06-.94-2.06-.94L8.5 2.5l-.94 2.06-2.06.94zm10 10l.94 2.06.94-2.06 2.06-.94-2.06-.94-.94-2.06-.94 2.06-2.06.94z\"/><path d=\"M17.41 7.96l-1.37-1.37c-.4-.4-.92-.59-1.43-.59-.52 0-1.04.2-1.43.59L10.3 9.45l-7.72 7.72c-.78.78-.78 2.05 0 2.83L4 21.41c.39.39.9.59 1.41.59.51 0 1.02-.2 1.41-.59l7.78-7.78 2.81-2.81c.8-.78.8-2.07 0-2.86zM5.41 20L4 18.59l7.72-7.72 1.47 1.35L5.41 20z\"/>\n",
              "  </svg>\n",
              "      </button>\n",
              "      \n",
              "  <style>\n",
              "    .colab-df-container {\n",
              "      display:flex;\n",
              "      flex-wrap:wrap;\n",
              "      gap: 12px;\n",
              "    }\n",
              "\n",
              "    .colab-df-convert {\n",
              "      background-color: #E8F0FE;\n",
              "      border: none;\n",
              "      border-radius: 50%;\n",
              "      cursor: pointer;\n",
              "      display: none;\n",
              "      fill: #1967D2;\n",
              "      height: 32px;\n",
              "      padding: 0 0 0 0;\n",
              "      width: 32px;\n",
              "    }\n",
              "\n",
              "    .colab-df-convert:hover {\n",
              "      background-color: #E2EBFA;\n",
              "      box-shadow: 0px 1px 2px rgba(60, 64, 67, 0.3), 0px 1px 3px 1px rgba(60, 64, 67, 0.15);\n",
              "      fill: #174EA6;\n",
              "    }\n",
              "\n",
              "    [theme=dark] .colab-df-convert {\n",
              "      background-color: #3B4455;\n",
              "      fill: #D2E3FC;\n",
              "    }\n",
              "\n",
              "    [theme=dark] .colab-df-convert:hover {\n",
              "      background-color: #434B5C;\n",
              "      box-shadow: 0px 1px 3px 1px rgba(0, 0, 0, 0.15);\n",
              "      filter: drop-shadow(0px 1px 2px rgba(0, 0, 0, 0.3));\n",
              "      fill: #FFFFFF;\n",
              "    }\n",
              "  </style>\n",
              "\n",
              "      <script>\n",
              "        const buttonEl =\n",
              "          document.querySelector('#df-2ce0f719-b456-489d-8c3b-9ae0e92b162b button.colab-df-convert');\n",
              "        buttonEl.style.display =\n",
              "          google.colab.kernel.accessAllowed ? 'block' : 'none';\n",
              "\n",
              "        async function convertToInteractive(key) {\n",
              "          const element = document.querySelector('#df-2ce0f719-b456-489d-8c3b-9ae0e92b162b');\n",
              "          const dataTable =\n",
              "            await google.colab.kernel.invokeFunction('convertToInteractive',\n",
              "                                                     [key], {});\n",
              "          if (!dataTable) return;\n",
              "\n",
              "          const docLinkHtml = 'Like what you see? Visit the ' +\n",
              "            '<a target=\"_blank\" href=https://colab.research.google.com/notebooks/data_table.ipynb>data table notebook</a>'\n",
              "            + ' to learn more about interactive tables.';\n",
              "          element.innerHTML = '';\n",
              "          dataTable['output_type'] = 'display_data';\n",
              "          await google.colab.output.renderOutput(dataTable, element);\n",
              "          const docLink = document.createElement('div');\n",
              "          docLink.innerHTML = docLinkHtml;\n",
              "          element.appendChild(docLink);\n",
              "        }\n",
              "      </script>\n",
              "    </div>\n",
              "  </div>\n",
              "  "
            ]
          },
          "metadata": {},
          "execution_count": 20
        }
      ]
    },
    {
      "cell_type": "code",
      "source": [
        "df_ath_ses.reset_index(inplace=True)"
      ],
      "metadata": {
        "id": "iQyB0M9IJ9kP"
      },
      "execution_count": null,
      "outputs": []
    },
    {
      "cell_type": "code",
      "source": [
        "df_ath_ses.head()"
      ],
      "metadata": {
        "colab": {
          "base_uri": "https://localhost:8080/",
          "height": 206
        },
        "id": "ZHK2VvFbJ9hy",
        "outputId": "82e06628-ea85-4d92-fd68-8a8275d95198"
      },
      "execution_count": null,
      "outputs": [
        {
          "output_type": "execute_result",
          "data": {
            "text/plain": [
              "   Athlete ID    Day0    Day1    Day2\n",
              "0           0  1264.0  1278.0  1257.0\n",
              "1           1  2774.0  2771.0  2704.0\n",
              "2           2  7175.0  7175.0  7133.0\n",
              "3           3  1956.0  1987.0  2015.0\n",
              "4           4  4372.0  4318.0  4281.0"
            ],
            "text/html": [
              "\n",
              "  <div id=\"df-5ec9b7cd-6d4b-4a87-a34c-146f814dd53a\">\n",
              "    <div class=\"colab-df-container\">\n",
              "      <div>\n",
              "<style scoped>\n",
              "    .dataframe tbody tr th:only-of-type {\n",
              "        vertical-align: middle;\n",
              "    }\n",
              "\n",
              "    .dataframe tbody tr th {\n",
              "        vertical-align: top;\n",
              "    }\n",
              "\n",
              "    .dataframe thead th {\n",
              "        text-align: right;\n",
              "    }\n",
              "</style>\n",
              "<table border=\"1\" class=\"dataframe\">\n",
              "  <thead>\n",
              "    <tr style=\"text-align: right;\">\n",
              "      <th></th>\n",
              "      <th>Athlete ID</th>\n",
              "      <th>Day0</th>\n",
              "      <th>Day1</th>\n",
              "      <th>Day2</th>\n",
              "    </tr>\n",
              "  </thead>\n",
              "  <tbody>\n",
              "    <tr>\n",
              "      <th>0</th>\n",
              "      <td>0</td>\n",
              "      <td>1264.0</td>\n",
              "      <td>1278.0</td>\n",
              "      <td>1257.0</td>\n",
              "    </tr>\n",
              "    <tr>\n",
              "      <th>1</th>\n",
              "      <td>1</td>\n",
              "      <td>2774.0</td>\n",
              "      <td>2771.0</td>\n",
              "      <td>2704.0</td>\n",
              "    </tr>\n",
              "    <tr>\n",
              "      <th>2</th>\n",
              "      <td>2</td>\n",
              "      <td>7175.0</td>\n",
              "      <td>7175.0</td>\n",
              "      <td>7133.0</td>\n",
              "    </tr>\n",
              "    <tr>\n",
              "      <th>3</th>\n",
              "      <td>3</td>\n",
              "      <td>1956.0</td>\n",
              "      <td>1987.0</td>\n",
              "      <td>2015.0</td>\n",
              "    </tr>\n",
              "    <tr>\n",
              "      <th>4</th>\n",
              "      <td>4</td>\n",
              "      <td>4372.0</td>\n",
              "      <td>4318.0</td>\n",
              "      <td>4281.0</td>\n",
              "    </tr>\n",
              "  </tbody>\n",
              "</table>\n",
              "</div>\n",
              "      <button class=\"colab-df-convert\" onclick=\"convertToInteractive('df-5ec9b7cd-6d4b-4a87-a34c-146f814dd53a')\"\n",
              "              title=\"Convert this dataframe to an interactive table.\"\n",
              "              style=\"display:none;\">\n",
              "        \n",
              "  <svg xmlns=\"http://www.w3.org/2000/svg\" height=\"24px\"viewBox=\"0 0 24 24\"\n",
              "       width=\"24px\">\n",
              "    <path d=\"M0 0h24v24H0V0z\" fill=\"none\"/>\n",
              "    <path d=\"M18.56 5.44l.94 2.06.94-2.06 2.06-.94-2.06-.94-.94-2.06-.94 2.06-2.06.94zm-11 1L8.5 8.5l.94-2.06 2.06-.94-2.06-.94L8.5 2.5l-.94 2.06-2.06.94zm10 10l.94 2.06.94-2.06 2.06-.94-2.06-.94-.94-2.06-.94 2.06-2.06.94z\"/><path d=\"M17.41 7.96l-1.37-1.37c-.4-.4-.92-.59-1.43-.59-.52 0-1.04.2-1.43.59L10.3 9.45l-7.72 7.72c-.78.78-.78 2.05 0 2.83L4 21.41c.39.39.9.59 1.41.59.51 0 1.02-.2 1.41-.59l7.78-7.78 2.81-2.81c.8-.78.8-2.07 0-2.86zM5.41 20L4 18.59l7.72-7.72 1.47 1.35L5.41 20z\"/>\n",
              "  </svg>\n",
              "      </button>\n",
              "      \n",
              "  <style>\n",
              "    .colab-df-container {\n",
              "      display:flex;\n",
              "      flex-wrap:wrap;\n",
              "      gap: 12px;\n",
              "    }\n",
              "\n",
              "    .colab-df-convert {\n",
              "      background-color: #E8F0FE;\n",
              "      border: none;\n",
              "      border-radius: 50%;\n",
              "      cursor: pointer;\n",
              "      display: none;\n",
              "      fill: #1967D2;\n",
              "      height: 32px;\n",
              "      padding: 0 0 0 0;\n",
              "      width: 32px;\n",
              "    }\n",
              "\n",
              "    .colab-df-convert:hover {\n",
              "      background-color: #E2EBFA;\n",
              "      box-shadow: 0px 1px 2px rgba(60, 64, 67, 0.3), 0px 1px 3px 1px rgba(60, 64, 67, 0.15);\n",
              "      fill: #174EA6;\n",
              "    }\n",
              "\n",
              "    [theme=dark] .colab-df-convert {\n",
              "      background-color: #3B4455;\n",
              "      fill: #D2E3FC;\n",
              "    }\n",
              "\n",
              "    [theme=dark] .colab-df-convert:hover {\n",
              "      background-color: #434B5C;\n",
              "      box-shadow: 0px 1px 3px 1px rgba(0, 0, 0, 0.15);\n",
              "      filter: drop-shadow(0px 1px 2px rgba(0, 0, 0, 0.3));\n",
              "      fill: #FFFFFF;\n",
              "    }\n",
              "  </style>\n",
              "\n",
              "      <script>\n",
              "        const buttonEl =\n",
              "          document.querySelector('#df-5ec9b7cd-6d4b-4a87-a34c-146f814dd53a button.colab-df-convert');\n",
              "        buttonEl.style.display =\n",
              "          google.colab.kernel.accessAllowed ? 'block' : 'none';\n",
              "\n",
              "        async function convertToInteractive(key) {\n",
              "          const element = document.querySelector('#df-5ec9b7cd-6d4b-4a87-a34c-146f814dd53a');\n",
              "          const dataTable =\n",
              "            await google.colab.kernel.invokeFunction('convertToInteractive',\n",
              "                                                     [key], {});\n",
              "          if (!dataTable) return;\n",
              "\n",
              "          const docLinkHtml = 'Like what you see? Visit the ' +\n",
              "            '<a target=\"_blank\" href=https://colab.research.google.com/notebooks/data_table.ipynb>data table notebook</a>'\n",
              "            + ' to learn more about interactive tables.';\n",
              "          element.innerHTML = '';\n",
              "          dataTable['output_type'] = 'display_data';\n",
              "          await google.colab.output.renderOutput(dataTable, element);\n",
              "          const docLink = document.createElement('div');\n",
              "          docLink.innerHTML = docLinkHtml;\n",
              "          element.appendChild(docLink);\n",
              "        }\n",
              "      </script>\n",
              "    </div>\n",
              "  </div>\n",
              "  "
            ]
          },
          "metadata": {},
          "execution_count": 22
        }
      ]
    },
    {
      "cell_type": "code",
      "source": [
        "df_ath_ses['Total'] = df_ath_ses.loc[0:,['Day0','Day1','Day2']].sum(axis=1)"
      ],
      "metadata": {
        "id": "aguTHyUBJ9e6"
      },
      "execution_count": null,
      "outputs": []
    },
    {
      "cell_type": "code",
      "source": [
        "df_ath_ses.head()"
      ],
      "metadata": {
        "colab": {
          "base_uri": "https://localhost:8080/",
          "height": 206
        },
        "id": "NVSHdgk7J9b3",
        "outputId": "7e3cbdf4-1989-4584-e9f7-189276f597a3"
      },
      "execution_count": null,
      "outputs": [
        {
          "output_type": "execute_result",
          "data": {
            "text/plain": [
              "   Athlete ID    Day0    Day1    Day2    Total\n",
              "0           0  1264.0  1278.0  1257.0   3799.0\n",
              "1           1  2774.0  2771.0  2704.0   8249.0\n",
              "2           2  7175.0  7175.0  7133.0  21483.0\n",
              "3           3  1956.0  1987.0  2015.0   5958.0\n",
              "4           4  4372.0  4318.0  4281.0  12971.0"
            ],
            "text/html": [
              "\n",
              "  <div id=\"df-19b904c0-2af4-47bc-9f2f-dc1ad43f3c8a\">\n",
              "    <div class=\"colab-df-container\">\n",
              "      <div>\n",
              "<style scoped>\n",
              "    .dataframe tbody tr th:only-of-type {\n",
              "        vertical-align: middle;\n",
              "    }\n",
              "\n",
              "    .dataframe tbody tr th {\n",
              "        vertical-align: top;\n",
              "    }\n",
              "\n",
              "    .dataframe thead th {\n",
              "        text-align: right;\n",
              "    }\n",
              "</style>\n",
              "<table border=\"1\" class=\"dataframe\">\n",
              "  <thead>\n",
              "    <tr style=\"text-align: right;\">\n",
              "      <th></th>\n",
              "      <th>Athlete ID</th>\n",
              "      <th>Day0</th>\n",
              "      <th>Day1</th>\n",
              "      <th>Day2</th>\n",
              "      <th>Total</th>\n",
              "    </tr>\n",
              "  </thead>\n",
              "  <tbody>\n",
              "    <tr>\n",
              "      <th>0</th>\n",
              "      <td>0</td>\n",
              "      <td>1264.0</td>\n",
              "      <td>1278.0</td>\n",
              "      <td>1257.0</td>\n",
              "      <td>3799.0</td>\n",
              "    </tr>\n",
              "    <tr>\n",
              "      <th>1</th>\n",
              "      <td>1</td>\n",
              "      <td>2774.0</td>\n",
              "      <td>2771.0</td>\n",
              "      <td>2704.0</td>\n",
              "      <td>8249.0</td>\n",
              "    </tr>\n",
              "    <tr>\n",
              "      <th>2</th>\n",
              "      <td>2</td>\n",
              "      <td>7175.0</td>\n",
              "      <td>7175.0</td>\n",
              "      <td>7133.0</td>\n",
              "      <td>21483.0</td>\n",
              "    </tr>\n",
              "    <tr>\n",
              "      <th>3</th>\n",
              "      <td>3</td>\n",
              "      <td>1956.0</td>\n",
              "      <td>1987.0</td>\n",
              "      <td>2015.0</td>\n",
              "      <td>5958.0</td>\n",
              "    </tr>\n",
              "    <tr>\n",
              "      <th>4</th>\n",
              "      <td>4</td>\n",
              "      <td>4372.0</td>\n",
              "      <td>4318.0</td>\n",
              "      <td>4281.0</td>\n",
              "      <td>12971.0</td>\n",
              "    </tr>\n",
              "  </tbody>\n",
              "</table>\n",
              "</div>\n",
              "      <button class=\"colab-df-convert\" onclick=\"convertToInteractive('df-19b904c0-2af4-47bc-9f2f-dc1ad43f3c8a')\"\n",
              "              title=\"Convert this dataframe to an interactive table.\"\n",
              "              style=\"display:none;\">\n",
              "        \n",
              "  <svg xmlns=\"http://www.w3.org/2000/svg\" height=\"24px\"viewBox=\"0 0 24 24\"\n",
              "       width=\"24px\">\n",
              "    <path d=\"M0 0h24v24H0V0z\" fill=\"none\"/>\n",
              "    <path d=\"M18.56 5.44l.94 2.06.94-2.06 2.06-.94-2.06-.94-.94-2.06-.94 2.06-2.06.94zm-11 1L8.5 8.5l.94-2.06 2.06-.94-2.06-.94L8.5 2.5l-.94 2.06-2.06.94zm10 10l.94 2.06.94-2.06 2.06-.94-2.06-.94-.94-2.06-.94 2.06-2.06.94z\"/><path d=\"M17.41 7.96l-1.37-1.37c-.4-.4-.92-.59-1.43-.59-.52 0-1.04.2-1.43.59L10.3 9.45l-7.72 7.72c-.78.78-.78 2.05 0 2.83L4 21.41c.39.39.9.59 1.41.59.51 0 1.02-.2 1.41-.59l7.78-7.78 2.81-2.81c.8-.78.8-2.07 0-2.86zM5.41 20L4 18.59l7.72-7.72 1.47 1.35L5.41 20z\"/>\n",
              "  </svg>\n",
              "      </button>\n",
              "      \n",
              "  <style>\n",
              "    .colab-df-container {\n",
              "      display:flex;\n",
              "      flex-wrap:wrap;\n",
              "      gap: 12px;\n",
              "    }\n",
              "\n",
              "    .colab-df-convert {\n",
              "      background-color: #E8F0FE;\n",
              "      border: none;\n",
              "      border-radius: 50%;\n",
              "      cursor: pointer;\n",
              "      display: none;\n",
              "      fill: #1967D2;\n",
              "      height: 32px;\n",
              "      padding: 0 0 0 0;\n",
              "      width: 32px;\n",
              "    }\n",
              "\n",
              "    .colab-df-convert:hover {\n",
              "      background-color: #E2EBFA;\n",
              "      box-shadow: 0px 1px 2px rgba(60, 64, 67, 0.3), 0px 1px 3px 1px rgba(60, 64, 67, 0.15);\n",
              "      fill: #174EA6;\n",
              "    }\n",
              "\n",
              "    [theme=dark] .colab-df-convert {\n",
              "      background-color: #3B4455;\n",
              "      fill: #D2E3FC;\n",
              "    }\n",
              "\n",
              "    [theme=dark] .colab-df-convert:hover {\n",
              "      background-color: #434B5C;\n",
              "      box-shadow: 0px 1px 3px 1px rgba(0, 0, 0, 0.15);\n",
              "      filter: drop-shadow(0px 1px 2px rgba(0, 0, 0, 0.3));\n",
              "      fill: #FFFFFF;\n",
              "    }\n",
              "  </style>\n",
              "\n",
              "      <script>\n",
              "        const buttonEl =\n",
              "          document.querySelector('#df-19b904c0-2af4-47bc-9f2f-dc1ad43f3c8a button.colab-df-convert');\n",
              "        buttonEl.style.display =\n",
              "          google.colab.kernel.accessAllowed ? 'block' : 'none';\n",
              "\n",
              "        async function convertToInteractive(key) {\n",
              "          const element = document.querySelector('#df-19b904c0-2af4-47bc-9f2f-dc1ad43f3c8a');\n",
              "          const dataTable =\n",
              "            await google.colab.kernel.invokeFunction('convertToInteractive',\n",
              "                                                     [key], {});\n",
              "          if (!dataTable) return;\n",
              "\n",
              "          const docLinkHtml = 'Like what you see? Visit the ' +\n",
              "            '<a target=\"_blank\" href=https://colab.research.google.com/notebooks/data_table.ipynb>data table notebook</a>'\n",
              "            + ' to learn more about interactive tables.';\n",
              "          element.innerHTML = '';\n",
              "          dataTable['output_type'] = 'display_data';\n",
              "          await google.colab.output.renderOutput(dataTable, element);\n",
              "          const docLink = document.createElement('div');\n",
              "          docLink.innerHTML = docLinkHtml;\n",
              "          element.appendChild(docLink);\n",
              "        }\n",
              "      </script>\n",
              "    </div>\n",
              "  </div>\n",
              "  "
            ]
          },
          "metadata": {},
          "execution_count": 24
        }
      ]
    },
    {
      "cell_type": "markdown",
      "source": [
        "The dataframe above shows total number of sessions each Athlete had for their training."
      ],
      "metadata": {
        "id": "HSL1PYxgKY9P"
      }
    },
    {
      "cell_type": "code",
      "source": [
        "df_ath_ses[['Athlete ID','Total']].sort_values('Total').plot(kind='bar', figsize=(18,4))\n",
        "plt.title('Number of sessions by each Athletes (ID)', weight='bold', family='Arial', fontsize=15)\n",
        "plt.xlabel('Athletes ID', fontsize=12)\n",
        "plt.ylabel('Number of Sessions', fontsize=12)"
      ],
      "metadata": {
        "colab": {
          "base_uri": "https://localhost:8080/",
          "height": 320
        },
        "id": "DQdKPUdqJ9ZJ",
        "outputId": "1ec6a087-b81d-4db7-83d9-1cdda2e1ce70"
      },
      "execution_count": null,
      "outputs": [
        {
          "output_type": "execute_result",
          "data": {
            "text/plain": [
              "Text(0, 0.5, 'Number of Sessions')"
            ]
          },
          "metadata": {},
          "execution_count": 30
        },
        {
          "output_type": "stream",
          "name": "stderr",
          "text": [
            "WARNING:matplotlib.font_manager:findfont: Font family ['Arial'] not found. Falling back to DejaVu Sans.\n"
          ]
        },
        {
          "output_type": "display_data",
          "data": {
            "text/plain": [
              "<Figure size 1296x288 with 1 Axes>"
            ],
            "image/png": "[encoded data removed]"
          },
          "metadata": {
            "needs_background": "light"
          }
        }
      ]
    },
    {
      "cell_type": "markdown",
      "source": [
        "**Interpretation:**\n",
        "\n",
        "From the plot above, we can clearly see that Athleted ID 60 did least number of sessions whereas Athlete ID 20 did maximum number of sessions."
      ],
      "metadata": {
        "id": "UTO63SDvKjae"
      }
    },
    {
      "cell_type": "markdown",
      "source": [
        "**4.5 Analysis on nr. rest days**"
      ],
      "metadata": {
        "id": "aKfQeldgLwFe"
      }
    },
    {
      "cell_type": "code",
      "source": [
        "df_ath_rest = pd.DataFrame()\n",
        "df_ath_rest['Day0'] = df_week.groupby('Athlete ID')['nr. rest days'].sum()\n",
        "df_ath_rest['Day1'] = df_week.groupby('Athlete ID')['nr. rest days.1'].sum()\n",
        "df_ath_rest['Day2'] = df_week.groupby('Athlete ID')['nr. rest days.2'].sum()"
      ],
      "metadata": {
        "id": "iJ3KZoDfJ9Wj"
      },
      "execution_count": null,
      "outputs": []
    },
    {
      "cell_type": "code",
      "source": [
        "df_ath_rest.head()"
      ],
      "metadata": {
        "colab": {
          "base_uri": "https://localhost:8080/",
          "height": 237
        },
        "id": "0g02VMmSJ9UD",
        "outputId": "452a706a-338d-4cde-8e10-ece7cee87095"
      },
      "execution_count": null,
      "outputs": [
        {
          "output_type": "execute_result",
          "data": {
            "text/plain": [
              "              Day0    Day1    Day2\n",
              "Athlete ID                        \n",
              "0            958.0   938.0   955.0\n",
              "1           1072.0  1093.0  1145.0\n",
              "2           2280.0  2281.0  2324.0\n",
              "3            600.0   580.0   561.0\n",
              "4           1055.0  1091.0  1125.0"
            ],
            "text/html": [
              "\n",
              "  <div id=\"df-1a824a85-51a2-4edd-9fc6-a6686497cbdf\">\n",
              "    <div class=\"colab-df-container\">\n",
              "      <div>\n",
              "<style scoped>\n",
              "    .dataframe tbody tr th:only-of-type {\n",
              "        vertical-align: middle;\n",
              "    }\n",
              "\n",
              "    .dataframe tbody tr th {\n",
              "        vertical-align: top;\n",
              "    }\n",
              "\n",
              "    .dataframe thead th {\n",
              "        text-align: right;\n",
              "    }\n",
              "</style>\n",
              "<table border=\"1\" class=\"dataframe\">\n",
              "  <thead>\n",
              "    <tr style=\"text-align: right;\">\n",
              "      <th></th>\n",
              "      <th>Day0</th>\n",
              "      <th>Day1</th>\n",
              "      <th>Day2</th>\n",
              "    </tr>\n",
              "    <tr>\n",
              "      <th>Athlete ID</th>\n",
              "      <th></th>\n",
              "      <th></th>\n",
              "      <th></th>\n",
              "    </tr>\n",
              "  </thead>\n",
              "  <tbody>\n",
              "    <tr>\n",
              "      <th>0</th>\n",
              "      <td>958.0</td>\n",
              "      <td>938.0</td>\n",
              "      <td>955.0</td>\n",
              "    </tr>\n",
              "    <tr>\n",
              "      <th>1</th>\n",
              "      <td>1072.0</td>\n",
              "      <td>1093.0</td>\n",
              "      <td>1145.0</td>\n",
              "    </tr>\n",
              "    <tr>\n",
              "      <th>2</th>\n",
              "      <td>2280.0</td>\n",
              "      <td>2281.0</td>\n",
              "      <td>2324.0</td>\n",
              "    </tr>\n",
              "    <tr>\n",
              "      <th>3</th>\n",
              "      <td>600.0</td>\n",
              "      <td>580.0</td>\n",
              "      <td>561.0</td>\n",
              "    </tr>\n",
              "    <tr>\n",
              "      <th>4</th>\n",
              "      <td>1055.0</td>\n",
              "      <td>1091.0</td>\n",
              "      <td>1125.0</td>\n",
              "    </tr>\n",
              "  </tbody>\n",
              "</table>\n",
              "</div>\n",
              "      <button class=\"colab-df-convert\" onclick=\"convertToInteractive('df-1a824a85-51a2-4edd-9fc6-a6686497cbdf')\"\n",
              "              title=\"Convert this dataframe to an interactive table.\"\n",
              "              style=\"display:none;\">\n",
              "        \n",
              "  <svg xmlns=\"http://www.w3.org/2000/svg\" height=\"24px\"viewBox=\"0 0 24 24\"\n",
              "       width=\"24px\">\n",
              "    <path d=\"M0 0h24v24H0V0z\" fill=\"none\"/>\n",
              "    <path d=\"M18.56 5.44l.94 2.06.94-2.06 2.06-.94-2.06-.94-.94-2.06-.94 2.06-2.06.94zm-11 1L8.5 8.5l.94-2.06 2.06-.94-2.06-.94L8.5 2.5l-.94 2.06-2.06.94zm10 10l.94 2.06.94-2.06 2.06-.94-2.06-.94-.94-2.06-.94 2.06-2.06.94z\"/><path d=\"M17.41 7.96l-1.37-1.37c-.4-.4-.92-.59-1.43-.59-.52 0-1.04.2-1.43.59L10.3 9.45l-7.72 7.72c-.78.78-.78 2.05 0 2.83L4 21.41c.39.39.9.59 1.41.59.51 0 1.02-.2 1.41-.59l7.78-7.78 2.81-2.81c.8-.78.8-2.07 0-2.86zM5.41 20L4 18.59l7.72-7.72 1.47 1.35L5.41 20z\"/>\n",
              "  </svg>\n",
              "      </button>\n",
              "      \n",
              "  <style>\n",
              "    .colab-df-container {\n",
              "      display:flex;\n",
              "      flex-wrap:wrap;\n",
              "      gap: 12px;\n",
              "    }\n",
              "\n",
              "    .colab-df-convert {\n",
              "      background-color: #E8F0FE;\n",
              "      border: none;\n",
              "      border-radius: 50%;\n",
              "      cursor: pointer;\n",
              "      display: none;\n",
              "      fill: #1967D2;\n",
              "      height: 32px;\n",
              "      padding: 0 0 0 0;\n",
              "      width: 32px;\n",
              "    }\n",
              "\n",
              "    .colab-df-convert:hover {\n",
              "      background-color: #E2EBFA;\n",
              "      box-shadow: 0px 1px 2px rgba(60, 64, 67, 0.3), 0px 1px 3px 1px rgba(60, 64, 67, 0.15);\n",
              "      fill: #174EA6;\n",
              "    }\n",
              "\n",
              "    [theme=dark] .colab-df-convert {\n",
              "      background-color: #3B4455;\n",
              "      fill: #D2E3FC;\n",
              "    }\n",
              "\n",
              "    [theme=dark] .colab-df-convert:hover {\n",
              "      background-color: #434B5C;\n",
              "      box-shadow: 0px 1px 3px 1px rgba(0, 0, 0, 0.15);\n",
              "      filter: drop-shadow(0px 1px 2px rgba(0, 0, 0, 0.3));\n",
              "      fill: #FFFFFF;\n",
              "    }\n",
              "  </style>\n",
              "\n",
              "      <script>\n",
              "        const buttonEl =\n",
              "          document.querySelector('#df-1a824a85-51a2-4edd-9fc6-a6686497cbdf button.colab-df-convert');\n",
              "        buttonEl.style.display =\n",
              "          google.colab.kernel.accessAllowed ? 'block' : 'none';\n",
              "\n",
              "        async function convertToInteractive(key) {\n",
              "          const element = document.querySelector('#df-1a824a85-51a2-4edd-9fc6-a6686497cbdf');\n",
              "          const dataTable =\n",
              "            await google.colab.kernel.invokeFunction('convertToInteractive',\n",
              "                                                     [key], {});\n",
              "          if (!dataTable) return;\n",
              "\n",
              "          const docLinkHtml = 'Like what you see? Visit the ' +\n",
              "            '<a target=\"_blank\" href=https://colab.research.google.com/notebooks/data_table.ipynb>data table notebook</a>'\n",
              "            + ' to learn more about interactive tables.';\n",
              "          element.innerHTML = '';\n",
              "          dataTable['output_type'] = 'display_data';\n",
              "          await google.colab.output.renderOutput(dataTable, element);\n",
              "          const docLink = document.createElement('div');\n",
              "          docLink.innerHTML = docLinkHtml;\n",
              "          element.appendChild(docLink);\n",
              "        }\n",
              "      </script>\n",
              "    </div>\n",
              "  </div>\n",
              "  "
            ]
          },
          "metadata": {},
          "execution_count": 32
        }
      ]
    },
    {
      "cell_type": "code",
      "source": [
        "df_ath_rest.reset_index(inplace=True)"
      ],
      "metadata": {
        "id": "ZSeQfduNJ9RE"
      },
      "execution_count": null,
      "outputs": []
    },
    {
      "cell_type": "code",
      "source": [
        "df_ath_rest.head()"
      ],
      "metadata": {
        "colab": {
          "base_uri": "https://localhost:8080/",
          "height": 206
        },
        "id": "4ibDFHvhJ9OY",
        "outputId": "8ac09447-c910-4d73-d870-09c8e6019819"
      },
      "execution_count": null,
      "outputs": [
        {
          "output_type": "execute_result",
          "data": {
            "text/plain": [
              "   Athlete ID    Day0    Day1    Day2\n",
              "0           0   958.0   938.0   955.0\n",
              "1           1  1072.0  1093.0  1145.0\n",
              "2           2  2280.0  2281.0  2324.0\n",
              "3           3   600.0   580.0   561.0\n",
              "4           4  1055.0  1091.0  1125.0"
            ],
            "text/html": [
              "\n",
              "  <div id=\"df-33a462f9-784e-4c02-a340-405783434666\">\n",
              "    <div class=\"colab-df-container\">\n",
              "      <div>\n",
              "<style scoped>\n",
              "    .dataframe tbody tr th:only-of-type {\n",
              "        vertical-align: middle;\n",
              "    }\n",
              "\n",
              "    .dataframe tbody tr th {\n",
              "        vertical-align: top;\n",
              "    }\n",
              "\n",
              "    .dataframe thead th {\n",
              "        text-align: right;\n",
              "    }\n",
              "</style>\n",
              "<table border=\"1\" class=\"dataframe\">\n",
              "  <thead>\n",
              "    <tr style=\"text-align: right;\">\n",
              "      <th></th>\n",
              "      <th>Athlete ID</th>\n",
              "      <th>Day0</th>\n",
              "      <th>Day1</th>\n",
              "      <th>Day2</th>\n",
              "    </tr>\n",
              "  </thead>\n",
              "  <tbody>\n",
              "    <tr>\n",
              "      <th>0</th>\n",
              "      <td>0</td>\n",
              "      <td>958.0</td>\n",
              "      <td>938.0</td>\n",
              "      <td>955.0</td>\n",
              "    </tr>\n",
              "    <tr>\n",
              "      <th>1</th>\n",
              "      <td>1</td>\n",
              "      <td>1072.0</td>\n",
              "      <td>1093.0</td>\n",
              "      <td>1145.0</td>\n",
              "    </tr>\n",
              "    <tr>\n",
              "      <th>2</th>\n",
              "      <td>2</td>\n",
              "      <td>2280.0</td>\n",
              "      <td>2281.0</td>\n",
              "      <td>2324.0</td>\n",
              "    </tr>\n",
              "    <tr>\n",
              "      <th>3</th>\n",
              "      <td>3</td>\n",
              "      <td>600.0</td>\n",
              "      <td>580.0</td>\n",
              "      <td>561.0</td>\n",
              "    </tr>\n",
              "    <tr>\n",
              "      <th>4</th>\n",
              "      <td>4</td>\n",
              "      <td>1055.0</td>\n",
              "      <td>1091.0</td>\n",
              "      <td>1125.0</td>\n",
              "    </tr>\n",
              "  </tbody>\n",
              "</table>\n",
              "</div>\n",
              "      <button class=\"colab-df-convert\" onclick=\"convertToInteractive('df-33a462f9-784e-4c02-a340-405783434666')\"\n",
              "              title=\"Convert this dataframe to an interactive table.\"\n",
              "              style=\"display:none;\">\n",
              "        \n",
              "  <svg xmlns=\"http://www.w3.org/2000/svg\" height=\"24px\"viewBox=\"0 0 24 24\"\n",
              "       width=\"24px\">\n",
              "    <path d=\"M0 0h24v24H0V0z\" fill=\"none\"/>\n",
              "    <path d=\"M18.56 5.44l.94 2.06.94-2.06 2.06-.94-2.06-.94-.94-2.06-.94 2.06-2.06.94zm-11 1L8.5 8.5l.94-2.06 2.06-.94-2.06-.94L8.5 2.5l-.94 2.06-2.06.94zm10 10l.94 2.06.94-2.06 2.06-.94-2.06-.94-.94-2.06-.94 2.06-2.06.94z\"/><path d=\"M17.41 7.96l-1.37-1.37c-.4-.4-.92-.59-1.43-.59-.52 0-1.04.2-1.43.59L10.3 9.45l-7.72 7.72c-.78.78-.78 2.05 0 2.83L4 21.41c.39.39.9.59 1.41.59.51 0 1.02-.2 1.41-.59l7.78-7.78 2.81-2.81c.8-.78.8-2.07 0-2.86zM5.41 20L4 18.59l7.72-7.72 1.47 1.35L5.41 20z\"/>\n",
              "  </svg>\n",
              "      </button>\n",
              "      \n",
              "  <style>\n",
              "    .colab-df-container {\n",
              "      display:flex;\n",
              "      flex-wrap:wrap;\n",
              "      gap: 12px;\n",
              "    }\n",
              "\n",
              "    .colab-df-convert {\n",
              "      background-color: #E8F0FE;\n",
              "      border: none;\n",
              "      border-radius: 50%;\n",
              "      cursor: pointer;\n",
              "      display: none;\n",
              "      fill: #1967D2;\n",
              "      height: 32px;\n",
              "      padding: 0 0 0 0;\n",
              "      width: 32px;\n",
              "    }\n",
              "\n",
              "    .colab-df-convert:hover {\n",
              "      background-color: #E2EBFA;\n",
              "      box-shadow: 0px 1px 2px rgba(60, 64, 67, 0.3), 0px 1px 3px 1px rgba(60, 64, 67, 0.15);\n",
              "      fill: #174EA6;\n",
              "    }\n",
              "\n",
              "    [theme=dark] .colab-df-convert {\n",
              "      background-color: #3B4455;\n",
              "      fill: #D2E3FC;\n",
              "    }\n",
              "\n",
              "    [theme=dark] .colab-df-convert:hover {\n",
              "      background-color: #434B5C;\n",
              "      box-shadow: 0px 1px 3px 1px rgba(0, 0, 0, 0.15);\n",
              "      filter: drop-shadow(0px 1px 2px rgba(0, 0, 0, 0.3));\n",
              "      fill: #FFFFFF;\n",
              "    }\n",
              "  </style>\n",
              "\n",
              "      <script>\n",
              "        const buttonEl =\n",
              "          document.querySelector('#df-33a462f9-784e-4c02-a340-405783434666 button.colab-df-convert');\n",
              "        buttonEl.style.display =\n",
              "          google.colab.kernel.accessAllowed ? 'block' : 'none';\n",
              "\n",
              "        async function convertToInteractive(key) {\n",
              "          const element = document.querySelector('#df-33a462f9-784e-4c02-a340-405783434666');\n",
              "          const dataTable =\n",
              "            await google.colab.kernel.invokeFunction('convertToInteractive',\n",
              "                                                     [key], {});\n",
              "          if (!dataTable) return;\n",
              "\n",
              "          const docLinkHtml = 'Like what you see? Visit the ' +\n",
              "            '<a target=\"_blank\" href=https://colab.research.google.com/notebooks/data_table.ipynb>data table notebook</a>'\n",
              "            + ' to learn more about interactive tables.';\n",
              "          element.innerHTML = '';\n",
              "          dataTable['output_type'] = 'display_data';\n",
              "          await google.colab.output.renderOutput(dataTable, element);\n",
              "          const docLink = document.createElement('div');\n",
              "          docLink.innerHTML = docLinkHtml;\n",
              "          element.appendChild(docLink);\n",
              "        }\n",
              "      </script>\n",
              "    </div>\n",
              "  </div>\n",
              "  "
            ]
          },
          "metadata": {},
          "execution_count": 34
        }
      ]
    },
    {
      "cell_type": "code",
      "source": [
        "df_ath_rest['Total'] = df_ath_rest.loc[0:,['Day0','Day1','Day2']].sum(axis=1)"
      ],
      "metadata": {
        "id": "moNgabCLJ9Lm"
      },
      "execution_count": null,
      "outputs": []
    },
    {
      "cell_type": "code",
      "source": [
        "df_ath_rest.head()"
      ],
      "metadata": {
        "colab": {
          "base_uri": "https://localhost:8080/",
          "height": 206
        },
        "id": "Gu5sngQ4J9I3",
        "outputId": "87a24dd7-06d9-48be-d28a-a388b8579148"
      },
      "execution_count": null,
      "outputs": [
        {
          "output_type": "execute_result",
          "data": {
            "text/plain": [
              "   Athlete ID    Day0    Day1    Day2   Total\n",
              "0           0   958.0   938.0   955.0  2851.0\n",
              "1           1  1072.0  1093.0  1145.0  3310.0\n",
              "2           2  2280.0  2281.0  2324.0  6885.0\n",
              "3           3   600.0   580.0   561.0  1741.0\n",
              "4           4  1055.0  1091.0  1125.0  3271.0"
            ],
            "text/html": [
              "\n",
              "  <div id=\"df-29fe722f-cf8e-454a-bdc9-a047fd8238a4\">\n",
              "    <div class=\"colab-df-container\">\n",
              "      <div>\n",
              "<style scoped>\n",
              "    .dataframe tbody tr th:only-of-type {\n",
              "        vertical-align: middle;\n",
              "    }\n",
              "\n",
              "    .dataframe tbody tr th {\n",
              "        vertical-align: top;\n",
              "    }\n",
              "\n",
              "    .dataframe thead th {\n",
              "        text-align: right;\n",
              "    }\n",
              "</style>\n",
              "<table border=\"1\" class=\"dataframe\">\n",
              "  <thead>\n",
              "    <tr style=\"text-align: right;\">\n",
              "      <th></th>\n",
              "      <th>Athlete ID</th>\n",
              "      <th>Day0</th>\n",
              "      <th>Day1</th>\n",
              "      <th>Day2</th>\n",
              "      <th>Total</th>\n",
              "    </tr>\n",
              "  </thead>\n",
              "  <tbody>\n",
              "    <tr>\n",
              "      <th>0</th>\n",
              "      <td>0</td>\n",
              "      <td>958.0</td>\n",
              "      <td>938.0</td>\n",
              "      <td>955.0</td>\n",
              "      <td>2851.0</td>\n",
              "    </tr>\n",
              "    <tr>\n",
              "      <th>1</th>\n",
              "      <td>1</td>\n",
              "      <td>1072.0</td>\n",
              "      <td>1093.0</td>\n",
              "      <td>1145.0</td>\n",
              "      <td>3310.0</td>\n",
              "    </tr>\n",
              "    <tr>\n",
              "      <th>2</th>\n",
              "      <td>2</td>\n",
              "      <td>2280.0</td>\n",
              "      <td>2281.0</td>\n",
              "      <td>2324.0</td>\n",
              "      <td>6885.0</td>\n",
              "    </tr>\n",
              "    <tr>\n",
              "      <th>3</th>\n",
              "      <td>3</td>\n",
              "      <td>600.0</td>\n",
              "      <td>580.0</td>\n",
              "      <td>561.0</td>\n",
              "      <td>1741.0</td>\n",
              "    </tr>\n",
              "    <tr>\n",
              "      <th>4</th>\n",
              "      <td>4</td>\n",
              "      <td>1055.0</td>\n",
              "      <td>1091.0</td>\n",
              "      <td>1125.0</td>\n",
              "      <td>3271.0</td>\n",
              "    </tr>\n",
              "  </tbody>\n",
              "</table>\n",
              "</div>\n",
              "      <button class=\"colab-df-convert\" onclick=\"convertToInteractive('df-29fe722f-cf8e-454a-bdc9-a047fd8238a4')\"\n",
              "              title=\"Convert this dataframe to an interactive table.\"\n",
              "              style=\"display:none;\">\n",
              "        \n",
              "  <svg xmlns=\"http://www.w3.org/2000/svg\" height=\"24px\"viewBox=\"0 0 24 24\"\n",
              "       width=\"24px\">\n",
              "    <path d=\"M0 0h24v24H0V0z\" fill=\"none\"/>\n",
              "    <path d=\"M18.56 5.44l.94 2.06.94-2.06 2.06-.94-2.06-.94-.94-2.06-.94 2.06-2.06.94zm-11 1L8.5 8.5l.94-2.06 2.06-.94-2.06-.94L8.5 2.5l-.94 2.06-2.06.94zm10 10l.94 2.06.94-2.06 2.06-.94-2.06-.94-.94-2.06-.94 2.06-2.06.94z\"/><path d=\"M17.41 7.96l-1.37-1.37c-.4-.4-.92-.59-1.43-.59-.52 0-1.04.2-1.43.59L10.3 9.45l-7.72 7.72c-.78.78-.78 2.05 0 2.83L4 21.41c.39.39.9.59 1.41.59.51 0 1.02-.2 1.41-.59l7.78-7.78 2.81-2.81c.8-.78.8-2.07 0-2.86zM5.41 20L4 18.59l7.72-7.72 1.47 1.35L5.41 20z\"/>\n",
              "  </svg>\n",
              "      </button>\n",
              "      \n",
              "  <style>\n",
              "    .colab-df-container {\n",
              "      display:flex;\n",
              "      flex-wrap:wrap;\n",
              "      gap: 12px;\n",
              "    }\n",
              "\n",
              "    .colab-df-convert {\n",
              "      background-color: #E8F0FE;\n",
              "      border: none;\n",
              "      border-radius: 50%;\n",
              "      cursor: pointer;\n",
              "      display: none;\n",
              "      fill: #1967D2;\n",
              "      height: 32px;\n",
              "      padding: 0 0 0 0;\n",
              "      width: 32px;\n",
              "    }\n",
              "\n",
              "    .colab-df-convert:hover {\n",
              "      background-color: #E2EBFA;\n",
              "      box-shadow: 0px 1px 2px rgba(60, 64, 67, 0.3), 0px 1px 3px 1px rgba(60, 64, 67, 0.15);\n",
              "      fill: #174EA6;\n",
              "    }\n",
              "\n",
              "    [theme=dark] .colab-df-convert {\n",
              "      background-color: #3B4455;\n",
              "      fill: #D2E3FC;\n",
              "    }\n",
              "\n",
              "    [theme=dark] .colab-df-convert:hover {\n",
              "      background-color: #434B5C;\n",
              "      box-shadow: 0px 1px 3px 1px rgba(0, 0, 0, 0.15);\n",
              "      filter: drop-shadow(0px 1px 2px rgba(0, 0, 0, 0.3));\n",
              "      fill: #FFFFFF;\n",
              "    }\n",
              "  </style>\n",
              "\n",
              "      <script>\n",
              "        const buttonEl =\n",
              "          document.querySelector('#df-29fe722f-cf8e-454a-bdc9-a047fd8238a4 button.colab-df-convert');\n",
              "        buttonEl.style.display =\n",
              "          google.colab.kernel.accessAllowed ? 'block' : 'none';\n",
              "\n",
              "        async function convertToInteractive(key) {\n",
              "          const element = document.querySelector('#df-29fe722f-cf8e-454a-bdc9-a047fd8238a4');\n",
              "          const dataTable =\n",
              "            await google.colab.kernel.invokeFunction('convertToInteractive',\n",
              "                                                     [key], {});\n",
              "          if (!dataTable) return;\n",
              "\n",
              "          const docLinkHtml = 'Like what you see? Visit the ' +\n",
              "            '<a target=\"_blank\" href=https://colab.research.google.com/notebooks/data_table.ipynb>data table notebook</a>'\n",
              "            + ' to learn more about interactive tables.';\n",
              "          element.innerHTML = '';\n",
              "          dataTable['output_type'] = 'display_data';\n",
              "          await google.colab.output.renderOutput(dataTable, element);\n",
              "          const docLink = document.createElement('div');\n",
              "          docLink.innerHTML = docLinkHtml;\n",
              "          element.appendChild(docLink);\n",
              "        }\n",
              "      </script>\n",
              "    </div>\n",
              "  </div>\n",
              "  "
            ]
          },
          "metadata": {},
          "execution_count": 36
        }
      ]
    },
    {
      "cell_type": "markdown",
      "source": [
        "The dataframe above shows the total number of rest days each Athlete had for their training."
      ],
      "metadata": {
        "id": "etWmtO2DMGbU"
      }
    },
    {
      "cell_type": "code",
      "source": [
        "df_ath_rest[['Athlete ID','Total']].sort_values('Total').plot(kind='bar', figsize=(18,4))\n",
        "plt.title('Number of Rest days by each Athletes (ID)', weight='bold', family='Arial', fontsize=15)\n",
        "plt.xlabel('Athletes ID', fontsize=12)\n",
        "plt.ylabel('Number of Rest Days', fontsize=12)"
      ],
      "metadata": {
        "colab": {
          "base_uri": "https://localhost:8080/",
          "height": 320
        },
        "id": "d_LnTWyQJ9Gf",
        "outputId": "ac215deb-c13e-4560-9a84-4187143aed29"
      },
      "execution_count": null,
      "outputs": [
        {
          "output_type": "execute_result",
          "data": {
            "text/plain": [
              "Text(0, 0.5, 'Number of Rest Days')"
            ]
          },
          "metadata": {},
          "execution_count": 38
        },
        {
          "output_type": "display_data",
          "data": {
            "text/plain": [
              "<Figure size 1296x288 with 1 Axes>"
            ],
            "image/png": "[encoded data removed]"
          },
          "metadata": {
            "needs_background": "light"
          }
        }
      ]
    },
    {
      "cell_type": "markdown",
      "source": [
        "**Interpretation:**\n",
        "\n",
        "As shown from the above plot, Athlete 44 had the most number of Rest Days whereas Athlete 48 had the least."
      ],
      "metadata": {
        "id": "F0F8CDOuMTg9"
      }
    },
    {
      "cell_type": "markdown",
      "source": [
        "**4.6 Analysis on nr. tough sessions (effort in Z5, T1 or T2)**"
      ],
      "metadata": {
        "id": "U-OzlIPQMq-o"
      }
    },
    {
      "cell_type": "code",
      "source": [
        "df_ath_tses = pd.DataFrame()\n",
        "df_ath_tses['Day0'] = df_week.groupby('Athlete ID')['nr. tough sessions (effort in Z5, T1 or T2)'].sum()\n",
        "df_ath_tses['Day1'] = df_week.groupby('Athlete ID')['nr. tough sessions (effort in Z5, T1 or T2).1'].sum()\n",
        "df_ath_tses['Day2'] = df_week.groupby('Athlete ID')['nr. tough sessions (effort in Z5, T1 or T2).2'].sum()"
      ],
      "metadata": {
        "id": "4BzCIzcNJ9Dm"
      },
      "execution_count": null,
      "outputs": []
    },
    {
      "cell_type": "code",
      "source": [
        "df_ath_tses.head()"
      ],
      "metadata": {
        "colab": {
          "base_uri": "https://localhost:8080/",
          "height": 237
        },
        "id": "kyCGutb9J9Bi",
        "outputId": "848b8c69-9ac5-4d1f-dd9d-a1572cc547e2"
      },
      "execution_count": null,
      "outputs": [
        {
          "output_type": "execute_result",
          "data": {
            "text/plain": [
              "             Day0   Day1   Day2\n",
              "Athlete ID                     \n",
              "0           154.0  161.0  157.0\n",
              "1           299.0  297.0  285.0\n",
              "2           815.0  825.0  841.0\n",
              "3           720.0  716.0  727.0\n",
              "4           725.0  704.0  694.0"
            ],
            "text/html": [
              "\n",
              "  <div id=\"df-b35bede0-d683-4b9e-a290-05f52445487b\">\n",
              "    <div class=\"colab-df-container\">\n",
              "      <div>\n",
              "<style scoped>\n",
              "    .dataframe tbody tr th:only-of-type {\n",
              "        vertical-align: middle;\n",
              "    }\n",
              "\n",
              "    .dataframe tbody tr th {\n",
              "        vertical-align: top;\n",
              "    }\n",
              "\n",
              "    .dataframe thead th {\n",
              "        text-align: right;\n",
              "    }\n",
              "</style>\n",
              "<table border=\"1\" class=\"dataframe\">\n",
              "  <thead>\n",
              "    <tr style=\"text-align: right;\">\n",
              "      <th></th>\n",
              "      <th>Day0</th>\n",
              "      <th>Day1</th>\n",
              "      <th>Day2</th>\n",
              "    </tr>\n",
              "    <tr>\n",
              "      <th>Athlete ID</th>\n",
              "      <th></th>\n",
              "      <th></th>\n",
              "      <th></th>\n",
              "    </tr>\n",
              "  </thead>\n",
              "  <tbody>\n",
              "    <tr>\n",
              "      <th>0</th>\n",
              "      <td>154.0</td>\n",
              "      <td>161.0</td>\n",
              "      <td>157.0</td>\n",
              "    </tr>\n",
              "    <tr>\n",
              "      <th>1</th>\n",
              "      <td>299.0</td>\n",
              "      <td>297.0</td>\n",
              "      <td>285.0</td>\n",
              "    </tr>\n",
              "    <tr>\n",
              "      <th>2</th>\n",
              "      <td>815.0</td>\n",
              "      <td>825.0</td>\n",
              "      <td>841.0</td>\n",
              "    </tr>\n",
              "    <tr>\n",
              "      <th>3</th>\n",
              "      <td>720.0</td>\n",
              "      <td>716.0</td>\n",
              "      <td>727.0</td>\n",
              "    </tr>\n",
              "    <tr>\n",
              "      <th>4</th>\n",
              "      <td>725.0</td>\n",
              "      <td>704.0</td>\n",
              "      <td>694.0</td>\n",
              "    </tr>\n",
              "  </tbody>\n",
              "</table>\n",
              "</div>\n",
              "      <button class=\"colab-df-convert\" onclick=\"convertToInteractive('df-b35bede0-d683-4b9e-a290-05f52445487b')\"\n",
              "              title=\"Convert this dataframe to an interactive table.\"\n",
              "              style=\"display:none;\">\n",
              "        \n",
              "  <svg xmlns=\"http://www.w3.org/2000/svg\" height=\"24px\"viewBox=\"0 0 24 24\"\n",
              "       width=\"24px\">\n",
              "    <path d=\"M0 0h24v24H0V0z\" fill=\"none\"/>\n",
              "    <path d=\"M18.56 5.44l.94 2.06.94-2.06 2.06-.94-2.06-.94-.94-2.06-.94 2.06-2.06.94zm-11 1L8.5 8.5l.94-2.06 2.06-.94-2.06-.94L8.5 2.5l-.94 2.06-2.06.94zm10 10l.94 2.06.94-2.06 2.06-.94-2.06-.94-.94-2.06-.94 2.06-2.06.94z\"/><path d=\"M17.41 7.96l-1.37-1.37c-.4-.4-.92-.59-1.43-.59-.52 0-1.04.2-1.43.59L10.3 9.45l-7.72 7.72c-.78.78-.78 2.05 0 2.83L4 21.41c.39.39.9.59 1.41.59.51 0 1.02-.2 1.41-.59l7.78-7.78 2.81-2.81c.8-.78.8-2.07 0-2.86zM5.41 20L4 18.59l7.72-7.72 1.47 1.35L5.41 20z\"/>\n",
              "  </svg>\n",
              "      </button>\n",
              "      \n",
              "  <style>\n",
              "    .colab-df-container {\n",
              "      display:flex;\n",
              "      flex-wrap:wrap;\n",
              "      gap: 12px;\n",
              "    }\n",
              "\n",
              "    .colab-df-convert {\n",
              "      background-color: #E8F0FE;\n",
              "      border: none;\n",
              "      border-radius: 50%;\n",
              "      cursor: pointer;\n",
              "      display: none;\n",
              "      fill: #1967D2;\n",
              "      height: 32px;\n",
              "      padding: 0 0 0 0;\n",
              "      width: 32px;\n",
              "    }\n",
              "\n",
              "    .colab-df-convert:hover {\n",
              "      background-color: #E2EBFA;\n",
              "      box-shadow: 0px 1px 2px rgba(60, 64, 67, 0.3), 0px 1px 3px 1px rgba(60, 64, 67, 0.15);\n",
              "      fill: #174EA6;\n",
              "    }\n",
              "\n",
              "    [theme=dark] .colab-df-convert {\n",
              "      background-color: #3B4455;\n",
              "      fill: #D2E3FC;\n",
              "    }\n",
              "\n",
              "    [theme=dark] .colab-df-convert:hover {\n",
              "      background-color: #434B5C;\n",
              "      box-shadow: 0px 1px 3px 1px rgba(0, 0, 0, 0.15);\n",
              "      filter: drop-shadow(0px 1px 2px rgba(0, 0, 0, 0.3));\n",
              "      fill: #FFFFFF;\n",
              "    }\n",
              "  </style>\n",
              "\n",
              "      <script>\n",
              "        const buttonEl =\n",
              "          document.querySelector('#df-b35bede0-d683-4b9e-a290-05f52445487b button.colab-df-convert');\n",
              "        buttonEl.style.display =\n",
              "          google.colab.kernel.accessAllowed ? 'block' : 'none';\n",
              "\n",
              "        async function convertToInteractive(key) {\n",
              "          const element = document.querySelector('#df-b35bede0-d683-4b9e-a290-05f52445487b');\n",
              "          const dataTable =\n",
              "            await google.colab.kernel.invokeFunction('convertToInteractive',\n",
              "                                                     [key], {});\n",
              "          if (!dataTable) return;\n",
              "\n",
              "          const docLinkHtml = 'Like what you see? Visit the ' +\n",
              "            '<a target=\"_blank\" href=https://colab.research.google.com/notebooks/data_table.ipynb>data table notebook</a>'\n",
              "            + ' to learn more about interactive tables.';\n",
              "          element.innerHTML = '';\n",
              "          dataTable['output_type'] = 'display_data';\n",
              "          await google.colab.output.renderOutput(dataTable, element);\n",
              "          const docLink = document.createElement('div');\n",
              "          docLink.innerHTML = docLinkHtml;\n",
              "          element.appendChild(docLink);\n",
              "        }\n",
              "      </script>\n",
              "    </div>\n",
              "  </div>\n",
              "  "
            ]
          },
          "metadata": {},
          "execution_count": 40
        }
      ]
    },
    {
      "cell_type": "code",
      "source": [
        "df_ath_tses.reset_index(inplace=True)"
      ],
      "metadata": {
        "id": "mA25QXZCJ8-X"
      },
      "execution_count": null,
      "outputs": []
    },
    {
      "cell_type": "code",
      "source": [
        "df_ath_tses['Total'] = df_ath_tses.loc[0:,['Day0','Day1','Day2']].sum(axis=1)"
      ],
      "metadata": {
        "id": "_E-rhTCMJ87n"
      },
      "execution_count": null,
      "outputs": []
    },
    {
      "cell_type": "code",
      "source": [
        "df_ath_tses.head()"
      ],
      "metadata": {
        "colab": {
          "base_uri": "https://localhost:8080/",
          "height": 206
        },
        "id": "unUap5aVC-YV",
        "outputId": "b8ab3401-fdff-49ee-c426-54e24fed5e96"
      },
      "execution_count": null,
      "outputs": [
        {
          "output_type": "execute_result",
          "data": {
            "text/plain": [
              "   Athlete ID   Day0   Day1   Day2   Total\n",
              "0           0  154.0  161.0  157.0   472.0\n",
              "1           1  299.0  297.0  285.0   881.0\n",
              "2           2  815.0  825.0  841.0  2481.0\n",
              "3           3  720.0  716.0  727.0  2163.0\n",
              "4           4  725.0  704.0  694.0  2123.0"
            ],
            "text/html": [
              "\n",
              "  <div id=\"df-64bdcf8a-ce46-4a2c-9aaa-264e9f15fcb3\">\n",
              "    <div class=\"colab-df-container\">\n",
              "      <div>\n",
              "<style scoped>\n",
              "    .dataframe tbody tr th:only-of-type {\n",
              "        vertical-align: middle;\n",
              "    }\n",
              "\n",
              "    .dataframe tbody tr th {\n",
              "        vertical-align: top;\n",
              "    }\n",
              "\n",
              "    .dataframe thead th {\n",
              "        text-align: right;\n",
              "    }\n",
              "</style>\n",
              "<table border=\"1\" class=\"dataframe\">\n",
              "  <thead>\n",
              "    <tr style=\"text-align: right;\">\n",
              "      <th></th>\n",
              "      <th>Athlete ID</th>\n",
              "      <th>Day0</th>\n",
              "      <th>Day1</th>\n",
              "      <th>Day2</th>\n",
              "      <th>Total</th>\n",
              "    </tr>\n",
              "  </thead>\n",
              "  <tbody>\n",
              "    <tr>\n",
              "      <th>0</th>\n",
              "      <td>0</td>\n",
              "      <td>154.0</td>\n",
              "      <td>161.0</td>\n",
              "      <td>157.0</td>\n",
              "      <td>472.0</td>\n",
              "    </tr>\n",
              "    <tr>\n",
              "      <th>1</th>\n",
              "      <td>1</td>\n",
              "      <td>299.0</td>\n",
              "      <td>297.0</td>\n",
              "      <td>285.0</td>\n",
              "      <td>881.0</td>\n",
              "    </tr>\n",
              "    <tr>\n",
              "      <th>2</th>\n",
              "      <td>2</td>\n",
              "      <td>815.0</td>\n",
              "      <td>825.0</td>\n",
              "      <td>841.0</td>\n",
              "      <td>2481.0</td>\n",
              "    </tr>\n",
              "    <tr>\n",
              "      <th>3</th>\n",
              "      <td>3</td>\n",
              "      <td>720.0</td>\n",
              "      <td>716.0</td>\n",
              "      <td>727.0</td>\n",
              "      <td>2163.0</td>\n",
              "    </tr>\n",
              "    <tr>\n",
              "      <th>4</th>\n",
              "      <td>4</td>\n",
              "      <td>725.0</td>\n",
              "      <td>704.0</td>\n",
              "      <td>694.0</td>\n",
              "      <td>2123.0</td>\n",
              "    </tr>\n",
              "  </tbody>\n",
              "</table>\n",
              "</div>\n",
              "      <button class=\"colab-df-convert\" onclick=\"convertToInteractive('df-64bdcf8a-ce46-4a2c-9aaa-264e9f15fcb3')\"\n",
              "              title=\"Convert this dataframe to an interactive table.\"\n",
              "              style=\"display:none;\">\n",
              "        \n",
              "  <svg xmlns=\"http://www.w3.org/2000/svg\" height=\"24px\"viewBox=\"0 0 24 24\"\n",
              "       width=\"24px\">\n",
              "    <path d=\"M0 0h24v24H0V0z\" fill=\"none\"/>\n",
              "    <path d=\"M18.56 5.44l.94 2.06.94-2.06 2.06-.94-2.06-.94-.94-2.06-.94 2.06-2.06.94zm-11 1L8.5 8.5l.94-2.06 2.06-.94-2.06-.94L8.5 2.5l-.94 2.06-2.06.94zm10 10l.94 2.06.94-2.06 2.06-.94-2.06-.94-.94-2.06-.94 2.06-2.06.94z\"/><path d=\"M17.41 7.96l-1.37-1.37c-.4-.4-.92-.59-1.43-.59-.52 0-1.04.2-1.43.59L10.3 9.45l-7.72 7.72c-.78.78-.78 2.05 0 2.83L4 21.41c.39.39.9.59 1.41.59.51 0 1.02-.2 1.41-.59l7.78-7.78 2.81-2.81c.8-.78.8-2.07 0-2.86zM5.41 20L4 18.59l7.72-7.72 1.47 1.35L5.41 20z\"/>\n",
              "  </svg>\n",
              "      </button>\n",
              "      \n",
              "  <style>\n",
              "    .colab-df-container {\n",
              "      display:flex;\n",
              "      flex-wrap:wrap;\n",
              "      gap: 12px;\n",
              "    }\n",
              "\n",
              "    .colab-df-convert {\n",
              "      background-color: #E8F0FE;\n",
              "      border: none;\n",
              "      border-radius: 50%;\n",
              "      cursor: pointer;\n",
              "      display: none;\n",
              "      fill: #1967D2;\n",
              "      height: 32px;\n",
              "      padding: 0 0 0 0;\n",
              "      width: 32px;\n",
              "    }\n",
              "\n",
              "    .colab-df-convert:hover {\n",
              "      background-color: #E2EBFA;\n",
              "      box-shadow: 0px 1px 2px rgba(60, 64, 67, 0.3), 0px 1px 3px 1px rgba(60, 64, 67, 0.15);\n",
              "      fill: #174EA6;\n",
              "    }\n",
              "\n",
              "    [theme=dark] .colab-df-convert {\n",
              "      background-color: #3B4455;\n",
              "      fill: #D2E3FC;\n",
              "    }\n",
              "\n",
              "    [theme=dark] .colab-df-convert:hover {\n",
              "      background-color: #434B5C;\n",
              "      box-shadow: 0px 1px 3px 1px rgba(0, 0, 0, 0.15);\n",
              "      filter: drop-shadow(0px 1px 2px rgba(0, 0, 0, 0.3));\n",
              "      fill: #FFFFFF;\n",
              "    }\n",
              "  </style>\n",
              "\n",
              "      <script>\n",
              "        const buttonEl =\n",
              "          document.querySelector('#df-64bdcf8a-ce46-4a2c-9aaa-264e9f15fcb3 button.colab-df-convert');\n",
              "        buttonEl.style.display =\n",
              "          google.colab.kernel.accessAllowed ? 'block' : 'none';\n",
              "\n",
              "        async function convertToInteractive(key) {\n",
              "          const element = document.querySelector('#df-64bdcf8a-ce46-4a2c-9aaa-264e9f15fcb3');\n",
              "          const dataTable =\n",
              "            await google.colab.kernel.invokeFunction('convertToInteractive',\n",
              "                                                     [key], {});\n",
              "          if (!dataTable) return;\n",
              "\n",
              "          const docLinkHtml = 'Like what you see? Visit the ' +\n",
              "            '<a target=\"_blank\" href=https://colab.research.google.com/notebooks/data_table.ipynb>data table notebook</a>'\n",
              "            + ' to learn more about interactive tables.';\n",
              "          element.innerHTML = '';\n",
              "          dataTable['output_type'] = 'display_data';\n",
              "          await google.colab.output.renderOutput(dataTable, element);\n",
              "          const docLink = document.createElement('div');\n",
              "          docLink.innerHTML = docLinkHtml;\n",
              "          element.appendChild(docLink);\n",
              "        }\n",
              "      </script>\n",
              "    </div>\n",
              "  </div>\n",
              "  "
            ]
          },
          "metadata": {},
          "execution_count": 43
        }
      ]
    },
    {
      "cell_type": "markdown",
      "source": [
        "Interpretation:\n",
        "\n",
        "The dataframe above shows the total number of tough sessions each Athlete had for their training."
      ],
      "metadata": {
        "id": "MhvWHX_XM4X1"
      }
    },
    {
      "cell_type": "code",
      "source": [
        "df_ath_tses[['Athlete ID','Total']].sort_values('Total').plot(kind='bar', figsize=(18,4))\n",
        "plt.title('Number of tough sessions by each Athletes (ID)', weight='bold', family='Arial', fontsize=15)\n",
        "plt.xlabel('Athletes ID', fontsize=12)\n",
        "plt.ylabel('Number of tough sessions', fontsize=12)"
      ],
      "metadata": {
        "colab": {
          "base_uri": "https://localhost:8080/",
          "height": 320
        },
        "id": "wIkF_mklM36F",
        "outputId": "ae197093-a634-4afd-c5f1-da80ad62ac9b"
      },
      "execution_count": null,
      "outputs": [
        {
          "output_type": "execute_result",
          "data": {
            "text/plain": [
              "Text(0, 0.5, 'Number of tough sessions')"
            ]
          },
          "metadata": {},
          "execution_count": 45
        },
        {
          "output_type": "display_data",
          "data": {
            "text/plain": [
              "<Figure size 1296x288 with 1 Axes>"
            ],
            "image/png": "[encoded data removed]"
          },
          "metadata": {
            "needs_background": "light"
          }
        }
      ]
    },
    {
      "cell_type": "markdown",
      "source": [
        "**Interpretation:**\n",
        "\n",
        "Athlete 41 had the most number of tough sessions whereas Athlete 12 had the least."
      ],
      "metadata": {
        "id": "HThWp0UmNKa8"
      }
    },
    {
      "cell_type": "markdown",
      "source": [
        "# **5.0 Model Training**"
      ],
      "metadata": {
        "id": "NTAUbO-fPGdr"
      }
    },
    {
      "cell_type": "markdown",
      "source": [
        "In this section, we will build 3 models, namely Deep Neural Network Model (DNN), k-Nearest Neighbors (k-NN) and Xgboost Model."
      ],
      "metadata": {
        "id": "RXfm9TyMPSfL"
      }
    },
    {
      "cell_type": "markdown",
      "source": [
        "## **Deep Neural Network Model (DNN)**"
      ],
      "metadata": {
        "id": "vrF9VXDfXb5d"
      }
    },
    {
      "cell_type": "code",
      "source": [
        "mpl.rcParams['figure.figsize'] = (15, 18)\n",
        "colors = plt.rcParams['axes.prop_cycle'].by_key()['color']"
      ],
      "metadata": {
        "id": "LP_p6MuaM327"
      },
      "execution_count": null,
      "outputs": []
    },
    {
      "cell_type": "code",
      "source": [
        "file = tf.keras.utils\n",
        "raw_df = pd.read_csv('week_approach_maskedID_timeseries.csv')\n",
        "convert_dict = {'nr. sessions': int } #convert nr.sessions to int \n",
        "raw_df = raw_df.astype(convert_dict)\n",
        "raw_df.head()"
      ],
      "metadata": {
        "colab": {
          "base_uri": "https://localhost:8080/",
          "height": 384
        },
        "id": "9ubHNNIzM30P",
        "outputId": "29c9e8a3-d9ed-4bc5-c525-f4836fd58f7d"
      },
      "execution_count": null,
      "outputs": [
        {
          "output_type": "execute_result",
          "data": {
            "text/plain": [
              "   nr. sessions  nr. rest days  total kms  max km one day  \\\n",
              "0             5            2.0       22.2            16.4   \n",
              "1             5            2.0       21.6            16.4   \n",
              "2             5            2.0       21.6            16.4   \n",
              "3             5            2.0       21.6            16.4   \n",
              "4             6            1.0       39.2            17.6   \n",
              "\n",
              "   total km Z3-Z4-Z5-T1-T2  nr. tough sessions (effort in Z5, T1 or T2)  \\\n",
              "0                     11.8                                          1.0   \n",
              "1                     11.7                                          1.0   \n",
              "2                     11.7                                          1.0   \n",
              "3                     11.7                                          1.0   \n",
              "4                     18.9                                          1.0   \n",
              "\n",
              "   nr. days with interval session  total km Z3-4  max km Z3-4 one day  \\\n",
              "0                             2.0           10.0                 10.0   \n",
              "1                             2.0           10.0                 10.0   \n",
              "2                             2.0           10.0                 10.0   \n",
              "3                             2.0           10.0                 10.0   \n",
              "4                             3.0           17.2                 10.0   \n",
              "\n",
              "   total km Z5-T1-T2  ...  max training success.2  avg recovery.2  \\\n",
              "0                0.6  ...                     0.0            0.18   \n",
              "1                0.5  ...                     0.0            0.18   \n",
              "2                0.5  ...                     0.0            0.17   \n",
              "3                0.5  ...                     0.0            0.18   \n",
              "4                0.5  ...                     0.0            0.17   \n",
              "\n",
              "   min recovery.2  max recovery.2  Athlete ID  injury  rel total kms week 0_1  \\\n",
              "0            0.16            0.20           0       0                0.718447   \n",
              "1            0.16            0.20           0       0                0.683544   \n",
              "2            0.16            0.18           0       0                0.683544   \n",
              "3            0.16            0.18           0       0                0.683544   \n",
              "4            0.16            0.18           0       0                2.202247   \n",
              "\n",
              "   rel total kms week 0_2  rel total kms week 1_2  Date  \n",
              "0                1.378882                1.919255     0  \n",
              "1                1.018868                1.490566     1  \n",
              "2                1.018868                1.490566     2  \n",
              "3                1.018868                1.490566     3  \n",
              "4                1.361111                0.618056     4  \n",
              "\n",
              "[5 rows x 72 columns]"
            ],
            "text/html": [
              "\n",
              "  <div id=\"df-175c6333-1fd8-4847-8527-39b7729b408a\">\n",
              "    <div class=\"colab-df-container\">\n",
              "      <div>\n",
              "<style scoped>\n",
              "    .dataframe tbody tr th:only-of-type {\n",
              "        vertical-align: middle;\n",
              "    }\n",
              "\n",
              "    .dataframe tbody tr th {\n",
              "        vertical-align: top;\n",
              "    }\n",
              "\n",
              "    .dataframe thead th {\n",
              "        text-align: right;\n",
              "    }\n",
              "</style>\n",
              "<table border=\"1\" class=\"dataframe\">\n",
              "  <thead>\n",
              "    <tr style=\"text-align: right;\">\n",
              "      <th></th>\n",
              "      <th>nr. sessions</th>\n",
              "      <th>nr. rest days</th>\n",
              "      <th>total kms</th>\n",
              "      <th>max km one day</th>\n",
              "      <th>total km Z3-Z4-Z5-T1-T2</th>\n",
              "      <th>nr. tough sessions (effort in Z5, T1 or T2)</th>\n",
              "      <th>nr. days with interval session</th>\n",
              "      <th>total km Z3-4</th>\n",
              "      <th>max km Z3-4 one day</th>\n",
              "      <th>total km Z5-T1-T2</th>\n",
              "      <th>...</th>\n",
              "      <th>max training success.2</th>\n",
              "      <th>avg recovery.2</th>\n",
              "      <th>min recovery.2</th>\n",
              "      <th>max recovery.2</th>\n",
              "      <th>Athlete ID</th>\n",
              "      <th>injury</th>\n",
              "      <th>rel total kms week 0_1</th>\n",
              "      <th>rel total kms week 0_2</th>\n",
              "      <th>rel total kms week 1_2</th>\n",
              "      <th>Date</th>\n",
              "    </tr>\n",
              "  </thead>\n",
              "  <tbody>\n",
              "    <tr>\n",
              "      <th>0</th>\n",
              "      <td>5</td>\n",
              "      <td>2.0</td>\n",
              "      <td>22.2</td>\n",
              "      <td>16.4</td>\n",
              "      <td>11.8</td>\n",
              "      <td>1.0</td>\n",
              "      <td>2.0</td>\n",
              "      <td>10.0</td>\n",
              "      <td>10.0</td>\n",
              "      <td>0.6</td>\n",
              "      <td>...</td>\n",
              "      <td>0.0</td>\n",
              "      <td>0.18</td>\n",
              "      <td>0.16</td>\n",
              "      <td>0.20</td>\n",
              "      <td>0</td>\n",
              "      <td>0</td>\n",
              "      <td>0.718447</td>\n",
              "      <td>1.378882</td>\n",
              "      <td>1.919255</td>\n",
              "      <td>0</td>\n",
              "    </tr>\n",
              "    <tr>\n",
              "      <th>1</th>\n",
              "      <td>5</td>\n",
              "      <td>2.0</td>\n",
              "      <td>21.6</td>\n",
              "      <td>16.4</td>\n",
              "      <td>11.7</td>\n",
              "      <td>1.0</td>\n",
              "      <td>2.0</td>\n",
              "      <td>10.0</td>\n",
              "      <td>10.0</td>\n",
              "      <td>0.5</td>\n",
              "      <td>...</td>\n",
              "      <td>0.0</td>\n",
              "      <td>0.18</td>\n",
              "      <td>0.16</td>\n",
              "      <td>0.20</td>\n",
              "      <td>0</td>\n",
              "      <td>0</td>\n",
              "      <td>0.683544</td>\n",
              "      <td>1.018868</td>\n",
              "      <td>1.490566</td>\n",
              "      <td>1</td>\n",
              "    </tr>\n",
              "    <tr>\n",
              "      <th>2</th>\n",
              "      <td>5</td>\n",
              "      <td>2.0</td>\n",
              "      <td>21.6</td>\n",
              "      <td>16.4</td>\n",
              "      <td>11.7</td>\n",
              "      <td>1.0</td>\n",
              "      <td>2.0</td>\n",
              "      <td>10.0</td>\n",
              "      <td>10.0</td>\n",
              "      <td>0.5</td>\n",
              "      <td>...</td>\n",
              "      <td>0.0</td>\n",
              "      <td>0.17</td>\n",
              "      <td>0.16</td>\n",
              "      <td>0.18</td>\n",
              "      <td>0</td>\n",
              "      <td>0</td>\n",
              "      <td>0.683544</td>\n",
              "      <td>1.018868</td>\n",
              "      <td>1.490566</td>\n",
              "      <td>2</td>\n",
              "    </tr>\n",
              "    <tr>\n",
              "      <th>3</th>\n",
              "      <td>5</td>\n",
              "      <td>2.0</td>\n",
              "      <td>21.6</td>\n",
              "      <td>16.4</td>\n",
              "      <td>11.7</td>\n",
              "      <td>1.0</td>\n",
              "      <td>2.0</td>\n",
              "      <td>10.0</td>\n",
              "      <td>10.0</td>\n",
              "      <td>0.5</td>\n",
              "      <td>...</td>\n",
              "      <td>0.0</td>\n",
              "      <td>0.18</td>\n",
              "      <td>0.16</td>\n",
              "      <td>0.18</td>\n",
              "      <td>0</td>\n",
              "      <td>0</td>\n",
              "      <td>0.683544</td>\n",
              "      <td>1.018868</td>\n",
              "      <td>1.490566</td>\n",
              "      <td>3</td>\n",
              "    </tr>\n",
              "    <tr>\n",
              "      <th>4</th>\n",
              "      <td>6</td>\n",
              "      <td>1.0</td>\n",
              "      <td>39.2</td>\n",
              "      <td>17.6</td>\n",
              "      <td>18.9</td>\n",
              "      <td>1.0</td>\n",
              "      <td>3.0</td>\n",
              "      <td>17.2</td>\n",
              "      <td>10.0</td>\n",
              "      <td>0.5</td>\n",
              "      <td>...</td>\n",
              "      <td>0.0</td>\n",
              "      <td>0.17</td>\n",
              "      <td>0.16</td>\n",
              "      <td>0.18</td>\n",
              "      <td>0</td>\n",
              "      <td>0</td>\n",
              "      <td>2.202247</td>\n",
              "      <td>1.361111</td>\n",
              "      <td>0.618056</td>\n",
              "      <td>4</td>\n",
              "    </tr>\n",
              "  </tbody>\n",
              "</table>\n",
              "<p>5 rows × 72 columns</p>\n",
              "</div>\n",
              "      <button class=\"colab-df-convert\" onclick=\"convertToInteractive('df-175c6333-1fd8-4847-8527-39b7729b408a')\"\n",
              "              title=\"Convert this dataframe to an interactive table.\"\n",
              "              style=\"display:none;\">\n",
              "        \n",
              "  <svg xmlns=\"http://www.w3.org/2000/svg\" height=\"24px\"viewBox=\"0 0 24 24\"\n",
              "       width=\"24px\">\n",
              "    <path d=\"M0 0h24v24H0V0z\" fill=\"none\"/>\n",
              "    <path d=\"M18.56 5.44l.94 2.06.94-2.06 2.06-.94-2.06-.94-.94-2.06-.94 2.06-2.06.94zm-11 1L8.5 8.5l.94-2.06 2.06-.94-2.06-.94L8.5 2.5l-.94 2.06-2.06.94zm10 10l.94 2.06.94-2.06 2.06-.94-2.06-.94-.94-2.06-.94 2.06-2.06.94z\"/><path d=\"M17.41 7.96l-1.37-1.37c-.4-.4-.92-.59-1.43-.59-.52 0-1.04.2-1.43.59L10.3 9.45l-7.72 7.72c-.78.78-.78 2.05 0 2.83L4 21.41c.39.39.9.59 1.41.59.51 0 1.02-.2 1.41-.59l7.78-7.78 2.81-2.81c.8-.78.8-2.07 0-2.86zM5.41 20L4 18.59l7.72-7.72 1.47 1.35L5.41 20z\"/>\n",
              "  </svg>\n",
              "      </button>\n",
              "      \n",
              "  <style>\n",
              "    .colab-df-container {\n",
              "      display:flex;\n",
              "      flex-wrap:wrap;\n",
              "      gap: 12px;\n",
              "    }\n",
              "\n",
              "    .colab-df-convert {\n",
              "      background-color: #E8F0FE;\n",
              "      border: none;\n",
              "      border-radius: 50%;\n",
              "      cursor: pointer;\n",
              "      display: none;\n",
              "      fill: #1967D2;\n",
              "      height: 32px;\n",
              "      padding: 0 0 0 0;\n",
              "      width: 32px;\n",
              "    }\n",
              "\n",
              "    .colab-df-convert:hover {\n",
              "      background-color: #E2EBFA;\n",
              "      box-shadow: 0px 1px 2px rgba(60, 64, 67, 0.3), 0px 1px 3px 1px rgba(60, 64, 67, 0.15);\n",
              "      fill: #174EA6;\n",
              "    }\n",
              "\n",
              "    [theme=dark] .colab-df-convert {\n",
              "      background-color: #3B4455;\n",
              "      fill: #D2E3FC;\n",
              "    }\n",
              "\n",
              "    [theme=dark] .colab-df-convert:hover {\n",
              "      background-color: #434B5C;\n",
              "      box-shadow: 0px 1px 3px 1px rgba(0, 0, 0, 0.15);\n",
              "      filter: drop-shadow(0px 1px 2px rgba(0, 0, 0, 0.3));\n",
              "      fill: #FFFFFF;\n",
              "    }\n",
              "  </style>\n",
              "\n",
              "      <script>\n",
              "        const buttonEl =\n",
              "          document.querySelector('#df-175c6333-1fd8-4847-8527-39b7729b408a button.colab-df-convert');\n",
              "        buttonEl.style.display =\n",
              "          google.colab.kernel.accessAllowed ? 'block' : 'none';\n",
              "\n",
              "        async function convertToInteractive(key) {\n",
              "          const element = document.querySelector('#df-175c6333-1fd8-4847-8527-39b7729b408a');\n",
              "          const dataTable =\n",
              "            await google.colab.kernel.invokeFunction('convertToInteractive',\n",
              "                                                     [key], {});\n",
              "          if (!dataTable) return;\n",
              "\n",
              "          const docLinkHtml = 'Like what you see? Visit the ' +\n",
              "            '<a target=\"_blank\" href=https://colab.research.google.com/notebooks/data_table.ipynb>data table notebook</a>'\n",
              "            + ' to learn more about interactive tables.';\n",
              "          element.innerHTML = '';\n",
              "          dataTable['output_type'] = 'display_data';\n",
              "          await google.colab.output.renderOutput(dataTable, element);\n",
              "          const docLink = document.createElement('div');\n",
              "          docLink.innerHTML = docLinkHtml;\n",
              "          element.appendChild(docLink);\n",
              "        }\n",
              "      </script>\n",
              "    </div>\n",
              "  </div>\n",
              "  "
            ]
          },
          "metadata": {},
          "execution_count": 56
        }
      ]
    },
    {
      "cell_type": "code",
      "source": [
        "# This section displays the percentage of the majority class\n",
        "neg, pos = np.bincount(raw_df['injury'])\n",
        "total = neg + pos\n",
        "\n",
        "print('Examples:\\n    Total: {}\\n    Positive: {} ({:.2f}% of total)\\n'.format(total, pos, 100 * pos / total))"
      ],
      "metadata": {
        "colab": {
          "base_uri": "https://localhost:8080/"
        },
        "id": "24PbHjz2M3xx",
        "outputId": "287765b1-365f-4e56-d529-eb5dd921ce43"
      },
      "execution_count": null,
      "outputs": [
        {
          "output_type": "stream",
          "name": "stdout",
          "text": [
            "Examples:\n",
            "    Total: 42798\n",
            "    Positive: 575 (1.34% of total)\n",
            "\n"
          ]
        }
      ]
    },
    {
      "cell_type": "code",
      "source": [
        "#Dropping the unnecessary columns/features\n",
        "cleaned_df = raw_df.copy()\n",
        "cleaned_df.pop('Date')\n",
        "cleaned_df.pop('Athlete ID')"
      ],
      "metadata": {
        "colab": {
          "base_uri": "https://localhost:8080/"
        },
        "id": "allsk5GJM3u1",
        "outputId": "f0870605-4ca5-4d5d-ff87-c63e21a18f47"
      },
      "execution_count": null,
      "outputs": [
        {
          "output_type": "execute_result",
          "data": {
            "text/plain": [
              "0         0\n",
              "1         0\n",
              "2         0\n",
              "3         0\n",
              "4         0\n",
              "         ..\n",
              "42793    71\n",
              "42794    71\n",
              "42795    71\n",
              "42796    71\n",
              "42797    71\n",
              "Name: Athlete ID, Length: 42798, dtype: int64"
            ]
          },
          "metadata": {},
          "execution_count": 58
        }
      ]
    },
    {
      "cell_type": "code",
      "source": [
        "#split features into X and y label\n",
        "\n",
        "X = cleaned_df.drop('injury', axis = 1)\n",
        "y = cleaned_df['injury']"
      ],
      "metadata": {
        "id": "irgZ3Gm0M3pZ"
      },
      "execution_count": null,
      "outputs": []
    },
    {
      "cell_type": "code",
      "source": [
        "X.shape[1]"
      ],
      "metadata": {
        "colab": {
          "base_uri": "https://localhost:8080/"
        },
        "id": "0hAYrWM4M3my",
        "outputId": "b94d72e3-f791-4151-b2d7-cf8a87ea65b8"
      },
      "execution_count": null,
      "outputs": [
        {
          "output_type": "execute_result",
          "data": {
            "text/plain": [
              "69"
            ]
          },
          "metadata": {},
          "execution_count": 60
        }
      ]
    },
    {
      "cell_type": "markdown",
      "source": [
        "**Applying Synthetic Minority Oversampling Technique (SMOTE)**"
      ],
      "metadata": {
        "id": "URkc9xhsXEtc"
      }
    },
    {
      "cell_type": "markdown",
      "source": [
        "This is because the data is so imbalanced. The minority class is oversampled with new similar data is generated to compensate its minimal numbers\n"
      ],
      "metadata": {
        "id": "-wLYo7sWXJxk"
      }
    },
    {
      "cell_type": "code",
      "source": [
        "smote_technique = SMOTE(sampling_strategy='minority')\n",
        "X_smt, y_smt = smote_technique.fit_resample(X, y)"
      ],
      "metadata": {
        "id": "CweAeG1YM3kK"
      },
      "execution_count": null,
      "outputs": []
    },
    {
      "cell_type": "code",
      "source": [
        "y_smt.value_counts() #class counts now match"
      ],
      "metadata": {
        "colab": {
          "base_uri": "https://localhost:8080/"
        },
        "id": "ciBCuIDDM3ho",
        "outputId": "26bac35a-e0c1-4289-ef2b-1fcdeab13d5e"
      },
      "execution_count": null,
      "outputs": [
        {
          "output_type": "execute_result",
          "data": {
            "text/plain": [
              "0    42223\n",
              "1    42223\n",
              "Name: injury, dtype: int64"
            ]
          },
          "metadata": {},
          "execution_count": 62
        }
      ]
    },
    {
      "cell_type": "code",
      "source": [
        "#Data is split to Train and test \n",
        "X_train_smt, X_test_smt, y_train_smt, y_test_smt = train_test_split(X_smt, y_smt, test_size=0.3, random_state=15, stratify=y_smt)"
      ],
      "metadata": {
        "id": "5dQiEolTM3ft"
      },
      "execution_count": null,
      "outputs": []
    },
    {
      "cell_type": "markdown",
      "source": [
        "## **Defining the Deep Nearal Network Model**"
      ],
      "metadata": {
        "id": "wSiDj_TWXgzl"
      }
    },
    {
      "cell_type": "code",
      "source": [
        "dnn_model = keras.Sequential([\n",
        "    keras.layers.Dense(16, input_shape=(X.shape[1],), activation='relu'),\n",
        "    keras.layers.Dropout(0.5),\n",
        "    keras.layers.Dense(8, activation='relu'),\n",
        "    keras.layers.Dense(1, activation='sigmoid')\n",
        "])\n",
        "\n",
        "early_stopping = tf.keras.callbacks.EarlyStopping(\n",
        "    monitor='loss', \n",
        "    verbose=1,\n",
        "    patience=20,\n",
        "    mode='min',\n",
        "    restore_best_weights=True)"
      ],
      "metadata": {
        "id": "ztCiNNrxM3cX"
      },
      "execution_count": null,
      "outputs": []
    },
    {
      "cell_type": "code",
      "source": [
        "METRICS = [\n",
        "      keras.metrics.TruePositives(name='tp'),\n",
        "      keras.metrics.FalsePositives(name='fp'),\n",
        "      keras.metrics.TrueNegatives(name='tn'),\n",
        "      keras.metrics.FalseNegatives(name='fn'), \n",
        "      keras.metrics.BinaryAccuracy(name='accuracy'),\n",
        "      keras.metrics.Precision(name='precision'),\n",
        "      keras.metrics.Recall(name='recall'),\n",
        "      keras.metrics.AUC(name='auc'),\n",
        "      keras.metrics.AUC(name='prc', curve='PR'), # precision-recall curve\n",
        "]"
      ],
      "metadata": {
        "id": "QOoxTWZTM3aF"
      },
      "execution_count": null,
      "outputs": []
    },
    {
      "cell_type": "code",
      "source": [
        "#Model compliation\n",
        "dnn_model.compile(optimizer=keras.optimizers.Adam(learning_rate=1e-3),\n",
        "              loss='binary_crossentropy',\n",
        "              metrics=METRICS)"
      ],
      "metadata": {
        "id": "m_csjRq4M3Ye"
      },
      "execution_count": null,
      "outputs": []
    },
    {
      "cell_type": "code",
      "source": [
        "#fit the model with epochs 300 and using early stopping callbacks method.\n",
        "\n",
        "dnn_model.fit(X_train_smt, y_train_smt, callbacks = [early_stopping], epochs=300)"
      ],
      "metadata": {
        "colab": {
          "base_uri": "https://localhost:8080/"
        },
        "id": "rDhDpeC4M3VF",
        "outputId": "cde808b9-aaec-4070-a4ff-e16b88c77143"
      },
      "execution_count": null,
      "outputs": [
        {
          "output_type": "stream",
          "name": "stdout",
          "text": [
            "Epoch 1/300\n",
            "1848/1848 [==============================] - 8s 3ms/step - loss: 4936.8198 - tp: 23246.0000 - fp: 21029.0000 - tn: 8527.0000 - fn: 6310.0000 - accuracy: 0.5375 - precision: 0.5250 - recall: 0.7865 - auc: 0.5314 - prc: 0.5089\n",
            "Epoch 2/300\n",
            "1848/1848 [==============================] - 6s 3ms/step - loss: 205.6235 - tp: 27452.0000 - fp: 24306.0000 - tn: 5250.0000 - fn: 2104.0000 - accuracy: 0.5532 - precision: 0.5304 - recall: 0.9288 - auc: 0.5798 - prc: 0.5409\n",
            "Epoch 3/300\n",
            "1848/1848 [==============================] - 6s 3ms/step - loss: 44.3430 - tp: 26740.0000 - fp: 22226.0000 - tn: 7330.0000 - fn: 2816.0000 - accuracy: 0.5764 - precision: 0.5461 - recall: 0.9047 - auc: 0.5943 - prc: 0.5494\n",
            "Epoch 4/300\n",
            "1848/1848 [==============================] - 6s 3ms/step - loss: 21.2073 - tp: 26516.0000 - fp: 21183.0000 - tn: 8373.0000 - fn: 3040.0000 - accuracy: 0.5902 - precision: 0.5559 - recall: 0.8971 - auc: 0.6017 - prc: 0.5544\n",
            "Epoch 5/300\n",
            "1848/1848 [==============================] - 6s 3ms/step - loss: 11.5870 - tp: 26327.0000 - fp: 20436.0000 - tn: 9120.0000 - fn: 3229.0000 - accuracy: 0.5997 - precision: 0.5630 - recall: 0.8907 - auc: 0.6092 - prc: 0.5607\n",
            "Epoch 6/300\n",
            "1848/1848 [==============================] - 5s 3ms/step - loss: 1.8059 - tp: 27045.0000 - fp: 21686.0000 - tn: 7870.0000 - fn: 2511.0000 - accuracy: 0.5907 - precision: 0.5550 - recall: 0.9150 - auc: 0.6151 - prc: 0.5681\n",
            "Epoch 7/300\n",
            "1848/1848 [==============================] - 4s 2ms/step - loss: 1.2588 - tp: 26446.0000 - fp: 19892.0000 - tn: 9664.0000 - fn: 3110.0000 - accuracy: 0.6109 - precision: 0.5707 - recall: 0.8948 - auc: 0.6220 - prc: 0.5722\n",
            "Epoch 8/300\n",
            "1848/1848 [==============================] - 4s 2ms/step - loss: 4.5147 - tp: 26027.0000 - fp: 19310.0000 - tn: 10246.0000 - fn: 3529.0000 - accuracy: 0.6136 - precision: 0.5741 - recall: 0.8806 - auc: 0.6236 - prc: 0.5727\n",
            "Epoch 9/300\n",
            "1848/1848 [==============================] - 4s 2ms/step - loss: 2.4688 - tp: 25732.0000 - fp: 18950.0000 - tn: 10606.0000 - fn: 3824.0000 - accuracy: 0.6147 - precision: 0.5759 - recall: 0.8706 - auc: 0.6256 - prc: 0.5737\n",
            "Epoch 10/300\n",
            "1848/1848 [==============================] - 4s 2ms/step - loss: 0.8941 - tp: 25417.0000 - fp: 18340.0000 - tn: 11216.0000 - fn: 4139.0000 - accuracy: 0.6197 - precision: 0.5809 - recall: 0.8600 - auc: 0.6303 - prc: 0.5771\n",
            "Epoch 11/300\n",
            "1848/1848 [==============================] - 4s 2ms/step - loss: 0.7417 - tp: 24898.0000 - fp: 17638.0000 - tn: 11918.0000 - fn: 4658.0000 - accuracy: 0.6228 - precision: 0.5853 - recall: 0.8424 - auc: 0.6399 - prc: 0.5841\n",
            "Epoch 12/300\n",
            "1848/1848 [==============================] - 4s 2ms/step - loss: 0.6498 - tp: 25176.0000 - fp: 17526.0000 - tn: 12030.0000 - fn: 4380.0000 - accuracy: 0.6294 - precision: 0.5896 - recall: 0.8518 - auc: 0.6446 - prc: 0.5883\n",
            "Epoch 13/300\n",
            "1848/1848 [==============================] - 4s 2ms/step - loss: 0.6327 - tp: 25023.0000 - fp: 17134.0000 - tn: 12422.0000 - fn: 4533.0000 - accuracy: 0.6335 - precision: 0.5936 - recall: 0.8466 - auc: 0.6512 - prc: 0.5929\n",
            "Epoch 14/300\n",
            "1848/1848 [==============================] - 4s 2ms/step - loss: 0.6560 - tp: 25017.0000 - fp: 16776.0000 - tn: 12780.0000 - fn: 4539.0000 - accuracy: 0.6394 - precision: 0.5986 - recall: 0.8464 - auc: 0.6602 - prc: 0.6015\n",
            "Epoch 15/300\n",
            "1848/1848 [==============================] - 4s 2ms/step - loss: 0.7887 - tp: 25118.0000 - fp: 16871.0000 - tn: 12685.0000 - fn: 4438.0000 - accuracy: 0.6395 - precision: 0.5982 - recall: 0.8498 - auc: 0.6589 - prc: 0.6001\n",
            "Epoch 16/300\n",
            "1848/1848 [==============================] - 4s 2ms/step - loss: 0.6239 - tp: 25155.0000 - fp: 16843.0000 - tn: 12713.0000 - fn: 4401.0000 - accuracy: 0.6406 - precision: 0.5990 - recall: 0.8511 - auc: 0.6594 - prc: 0.5992\n",
            "Epoch 17/300\n",
            "1848/1848 [==============================] - 4s 2ms/step - loss: 0.6221 - tp: 25344.0000 - fp: 16883.0000 - tn: 12673.0000 - fn: 4212.0000 - accuracy: 0.6431 - precision: 0.6002 - recall: 0.8575 - auc: 0.6603 - prc: 0.5990\n",
            "Epoch 18/300\n",
            "1848/1848 [==============================] - 4s 2ms/step - loss: 0.6221 - tp: 25478.0000 - fp: 17096.0000 - tn: 12460.0000 - fn: 4078.0000 - accuracy: 0.6418 - precision: 0.5984 - recall: 0.8620 - auc: 0.6593 - prc: 0.5974\n",
            "Epoch 19/300\n",
            "1848/1848 [==============================] - 4s 2ms/step - loss: 0.6166 - tp: 25681.0000 - fp: 16919.0000 - tn: 12637.0000 - fn: 3875.0000 - accuracy: 0.6482 - precision: 0.6028 - recall: 0.8689 - auc: 0.6634 - prc: 0.5997\n",
            "Epoch 20/300\n",
            "1848/1848 [==============================] - 4s 2ms/step - loss: 0.6150 - tp: 25865.0000 - fp: 17085.0000 - tn: 12471.0000 - fn: 3691.0000 - accuracy: 0.6485 - precision: 0.6022 - recall: 0.8751 - auc: 0.6643 - prc: 0.6023\n",
            "Epoch 21/300\n",
            "1848/1848 [==============================] - 4s 2ms/step - loss: 1.9805 - tp: 25816.0000 - fp: 17046.0000 - tn: 12510.0000 - fn: 3740.0000 - accuracy: 0.6484 - precision: 0.6023 - recall: 0.8735 - auc: 0.6649 - prc: 0.6026\n",
            "Epoch 22/300\n",
            "1848/1848 [==============================] - 4s 2ms/step - loss: 0.6140 - tp: 25667.0000 - fp: 16915.0000 - tn: 12641.0000 - fn: 3889.0000 - accuracy: 0.6481 - precision: 0.6028 - recall: 0.8684 - auc: 0.6652 - prc: 0.6031\n",
            "Epoch 23/300\n",
            "1848/1848 [==============================] - 4s 2ms/step - loss: 0.8720 - tp: 25803.0000 - fp: 16977.0000 - tn: 12579.0000 - fn: 3753.0000 - accuracy: 0.6493 - precision: 0.6032 - recall: 0.8730 - auc: 0.6644 - prc: 0.6009\n",
            "Epoch 24/300\n",
            "1848/1848 [==============================] - 4s 2ms/step - loss: 0.6194 - tp: 25720.0000 - fp: 16736.0000 - tn: 12820.0000 - fn: 3836.0000 - accuracy: 0.6520 - precision: 0.6058 - recall: 0.8702 - auc: 0.6688 - prc: 0.6050\n",
            "Epoch 25/300\n",
            "1848/1848 [==============================] - 4s 2ms/step - loss: 0.6141 - tp: 25720.0000 - fp: 16738.0000 - tn: 12818.0000 - fn: 3836.0000 - accuracy: 0.6519 - precision: 0.6058 - recall: 0.8702 - auc: 0.6699 - prc: 0.6063\n",
            "Epoch 26/300\n",
            "1848/1848 [==============================] - 5s 2ms/step - loss: 0.6127 - tp: 25741.0000 - fp: 16733.0000 - tn: 12823.0000 - fn: 3815.0000 - accuracy: 0.6524 - precision: 0.6060 - recall: 0.8709 - auc: 0.6697 - prc: 0.6063\n",
            "Epoch 27/300\n",
            "1848/1848 [==============================] - 5s 3ms/step - loss: 0.6091 - tp: 25844.0000 - fp: 16689.0000 - tn: 12867.0000 - fn: 3712.0000 - accuracy: 0.6549 - precision: 0.6076 - recall: 0.8744 - auc: 0.6707 - prc: 0.6049\n",
            "Epoch 28/300\n",
            "1848/1848 [==============================] - 4s 2ms/step - loss: 0.6497 - tp: 25861.0000 - fp: 16730.0000 - tn: 12826.0000 - fn: 3695.0000 - accuracy: 0.6545 - precision: 0.6072 - recall: 0.8750 - auc: 0.6715 - prc: 0.6069\n",
            "Epoch 29/300\n",
            "1848/1848 [==============================] - 6s 3ms/step - loss: 0.6218 - tp: 26006.0000 - fp: 16869.0000 - tn: 12687.0000 - fn: 3550.0000 - accuracy: 0.6546 - precision: 0.6066 - recall: 0.8799 - auc: 0.6682 - prc: 0.6031\n",
            "Epoch 30/300\n",
            "1848/1848 [==============================] - 4s 2ms/step - loss: 0.6261 - tp: 25970.0000 - fp: 16638.0000 - tn: 12918.0000 - fn: 3586.0000 - accuracy: 0.6579 - precision: 0.6095 - recall: 0.8787 - auc: 0.6748 - prc: 0.6077\n",
            "Epoch 31/300\n",
            "1848/1848 [==============================] - 4s 2ms/step - loss: 0.6066 - tp: 26093.0000 - fp: 16770.0000 - tn: 12786.0000 - fn: 3463.0000 - accuracy: 0.6577 - precision: 0.6088 - recall: 0.8828 - auc: 0.6746 - prc: 0.6092\n",
            "Epoch 32/300\n",
            "1848/1848 [==============================] - 4s 2ms/step - loss: 0.6062 - tp: 26223.0000 - fp: 16933.0000 - tn: 12623.0000 - fn: 3333.0000 - accuracy: 0.6572 - precision: 0.6076 - recall: 0.8872 - auc: 0.6747 - prc: 0.6092\n",
            "Epoch 33/300\n",
            "1848/1848 [==============================] - 4s 2ms/step - loss: 0.6043 - tp: 26294.0000 - fp: 16850.0000 - tn: 12706.0000 - fn: 3262.0000 - accuracy: 0.6598 - precision: 0.6094 - recall: 0.8896 - auc: 0.6754 - prc: 0.6096\n",
            "Epoch 34/300\n",
            "1848/1848 [==============================] - 4s 2ms/step - loss: 0.7030 - tp: 26279.0000 - fp: 16825.0000 - tn: 12731.0000 - fn: 3277.0000 - accuracy: 0.6599 - precision: 0.6097 - recall: 0.8891 - auc: 0.6767 - prc: 0.6111\n",
            "Epoch 35/300\n",
            "1848/1848 [==============================] - 4s 2ms/step - loss: 0.6016 - tp: 26345.0000 - fp: 16816.0000 - tn: 12740.0000 - fn: 3211.0000 - accuracy: 0.6612 - precision: 0.6104 - recall: 0.8914 - auc: 0.6777 - prc: 0.6119\n",
            "Epoch 36/300\n",
            "1848/1848 [==============================] - 4s 2ms/step - loss: 1.4709 - tp: 26270.0000 - fp: 16857.0000 - tn: 12699.0000 - fn: 3286.0000 - accuracy: 0.6592 - precision: 0.6091 - recall: 0.8888 - auc: 0.6773 - prc: 0.6116\n",
            "Epoch 37/300\n",
            "1848/1848 [==============================] - 4s 2ms/step - loss: 1.0076 - tp: 26068.0000 - fp: 16388.0000 - tn: 13168.0000 - fn: 3488.0000 - accuracy: 0.6638 - precision: 0.6140 - recall: 0.8820 - auc: 0.6791 - prc: 0.6111\n",
            "Epoch 38/300\n",
            "1848/1848 [==============================] - 4s 2ms/step - loss: 0.6026 - tp: 26202.0000 - fp: 16646.0000 - tn: 12910.0000 - fn: 3354.0000 - accuracy: 0.6617 - precision: 0.6115 - recall: 0.8865 - auc: 0.6784 - prc: 0.6120\n",
            "Epoch 39/300\n",
            "1848/1848 [==============================] - 4s 2ms/step - loss: 0.6024 - tp: 26153.0000 - fp: 16618.0000 - tn: 12938.0000 - fn: 3403.0000 - accuracy: 0.6613 - precision: 0.6115 - recall: 0.8849 - auc: 0.6787 - prc: 0.6124\n",
            "Epoch 40/300\n",
            "1848/1848 [==============================] - 4s 2ms/step - loss: 0.6230 - tp: 26295.0000 - fp: 16831.0000 - tn: 12725.0000 - fn: 3261.0000 - accuracy: 0.6601 - precision: 0.6097 - recall: 0.8897 - auc: 0.6772 - prc: 0.6116\n",
            "Epoch 41/300\n",
            "1848/1848 [==============================] - 4s 2ms/step - loss: 0.6420 - tp: 26355.0000 - fp: 16632.0000 - tn: 12924.0000 - fn: 3201.0000 - accuracy: 0.6645 - precision: 0.6131 - recall: 0.8917 - auc: 0.6812 - prc: 0.6139\n",
            "Epoch 42/300\n",
            "1848/1848 [==============================] - 4s 2ms/step - loss: 0.6225 - tp: 26243.0000 - fp: 16629.0000 - tn: 12927.0000 - fn: 3313.0000 - accuracy: 0.6626 - precision: 0.6121 - recall: 0.8879 - auc: 0.6789 - prc: 0.6129\n",
            "Epoch 43/300\n",
            "1848/1848 [==============================] - 4s 2ms/step - loss: 0.5998 - tp: 26239.0000 - fp: 16512.0000 - tn: 13044.0000 - fn: 3317.0000 - accuracy: 0.6646 - precision: 0.6138 - recall: 0.8878 - auc: 0.6817 - prc: 0.6144\n",
            "Epoch 44/300\n",
            "1848/1848 [==============================] - 4s 2ms/step - loss: 0.5976 - tp: 26348.0000 - fp: 16660.0000 - tn: 12896.0000 - fn: 3208.0000 - accuracy: 0.6639 - precision: 0.6126 - recall: 0.8915 - auc: 0.6819 - prc: 0.6134\n",
            "Epoch 45/300\n",
            "1848/1848 [==============================] - 4s 2ms/step - loss: 1.8261 - tp: 26512.0000 - fp: 16953.0000 - tn: 12603.0000 - fn: 3044.0000 - accuracy: 0.6617 - precision: 0.6100 - recall: 0.8970 - auc: 0.6774 - prc: 0.6105\n",
            "Epoch 46/300\n",
            "1848/1848 [==============================] - 4s 2ms/step - loss: 0.5979 - tp: 26546.0000 - fp: 16749.0000 - tn: 12807.0000 - fn: 3010.0000 - accuracy: 0.6657 - precision: 0.6131 - recall: 0.8982 - auc: 0.6802 - prc: 0.6111\n",
            "Epoch 47/300\n",
            "1848/1848 [==============================] - 4s 2ms/step - loss: 0.5961 - tp: 26517.0000 - fp: 16667.0000 - tn: 12889.0000 - fn: 3039.0000 - accuracy: 0.6666 - precision: 0.6140 - recall: 0.8972 - auc: 0.6843 - prc: 0.6163\n",
            "Epoch 48/300\n",
            "1848/1848 [==============================] - 4s 2ms/step - loss: 0.5956 - tp: 26561.0000 - fp: 16808.0000 - tn: 12748.0000 - fn: 2995.0000 - accuracy: 0.6650 - precision: 0.6124 - recall: 0.8987 - auc: 0.6816 - prc: 0.6137\n",
            "Epoch 49/300\n",
            "1848/1848 [==============================] - 4s 2ms/step - loss: 0.5954 - tp: 26703.0000 - fp: 16836.0000 - tn: 12720.0000 - fn: 2853.0000 - accuracy: 0.6669 - precision: 0.6133 - recall: 0.9035 - auc: 0.6819 - prc: 0.6140\n",
            "Epoch 50/300\n",
            "1848/1848 [==============================] - 4s 2ms/step - loss: 2.6846 - tp: 26552.0000 - fp: 16774.0000 - tn: 12782.0000 - fn: 3004.0000 - accuracy: 0.6654 - precision: 0.6128 - recall: 0.8984 - auc: 0.6820 - prc: 0.6136\n",
            "Epoch 51/300\n",
            "1848/1848 [==============================] - 4s 2ms/step - loss: 0.6057 - tp: 26420.0000 - fp: 16644.0000 - tn: 12912.0000 - fn: 3136.0000 - accuracy: 0.6654 - precision: 0.6135 - recall: 0.8939 - auc: 0.6814 - prc: 0.6134\n",
            "Epoch 52/300\n",
            "1848/1848 [==============================] - 4s 2ms/step - loss: 0.5956 - tp: 26472.0000 - fp: 16445.0000 - tn: 13111.0000 - fn: 3084.0000 - accuracy: 0.6696 - precision: 0.6168 - recall: 0.8957 - auc: 0.6845 - prc: 0.6158\n",
            "Epoch 53/300\n",
            "1848/1848 [==============================] - 4s 2ms/step - loss: 0.6164 - tp: 26407.0000 - fp: 16570.0000 - tn: 12986.0000 - fn: 3149.0000 - accuracy: 0.6664 - precision: 0.6144 - recall: 0.8935 - auc: 0.6819 - prc: 0.6126\n",
            "Epoch 54/300\n",
            "1848/1848 [==============================] - 4s 2ms/step - loss: 0.5942 - tp: 26429.0000 - fp: 16481.0000 - tn: 13075.0000 - fn: 3127.0000 - accuracy: 0.6683 - precision: 0.6159 - recall: 0.8942 - auc: 0.6864 - prc: 0.6177\n",
            "Epoch 55/300\n",
            "1848/1848 [==============================] - 4s 2ms/step - loss: 0.5938 - tp: 26559.0000 - fp: 16697.0000 - tn: 12859.0000 - fn: 2997.0000 - accuracy: 0.6668 - precision: 0.6140 - recall: 0.8986 - auc: 0.6842 - prc: 0.6163\n",
            "Epoch 56/300\n",
            "1848/1848 [==============================] - 4s 2ms/step - loss: 0.5936 - tp: 26679.0000 - fp: 16759.0000 - tn: 12797.0000 - fn: 2877.0000 - accuracy: 0.6678 - precision: 0.6142 - recall: 0.9027 - auc: 0.6831 - prc: 0.6146\n",
            "Epoch 57/300\n",
            "1848/1848 [==============================] - 4s 2ms/step - loss: 0.5928 - tp: 26711.0000 - fp: 16635.0000 - tn: 12921.0000 - fn: 2845.0000 - accuracy: 0.6705 - precision: 0.6162 - recall: 0.9037 - auc: 0.6839 - prc: 0.6145\n",
            "Epoch 58/300\n",
            "1848/1848 [==============================] - 4s 2ms/step - loss: 0.5940 - tp: 26774.0000 - fp: 16928.0000 - tn: 12628.0000 - fn: 2782.0000 - accuracy: 0.6666 - precision: 0.6126 - recall: 0.9059 - auc: 0.6815 - prc: 0.6124\n",
            "Epoch 59/300\n",
            "1848/1848 [==============================] - 4s 2ms/step - loss: 0.9670 - tp: 26670.0000 - fp: 16717.0000 - tn: 12839.0000 - fn: 2886.0000 - accuracy: 0.6684 - precision: 0.6147 - recall: 0.9024 - auc: 0.6856 - prc: 0.6169\n",
            "Epoch 60/300\n",
            "1848/1848 [==============================] - 4s 2ms/step - loss: 0.5938 - tp: 26694.0000 - fp: 16805.0000 - tn: 12751.0000 - fn: 2862.0000 - accuracy: 0.6673 - precision: 0.6137 - recall: 0.9032 - auc: 0.6830 - prc: 0.6151\n",
            "Epoch 61/300\n",
            "1848/1848 [==============================] - 4s 2ms/step - loss: 0.6173 - tp: 26717.0000 - fp: 16767.0000 - tn: 12789.0000 - fn: 2839.0000 - accuracy: 0.6683 - precision: 0.6144 - recall: 0.9039 - auc: 0.6820 - prc: 0.6118\n",
            "Epoch 62/300\n",
            "1848/1848 [==============================] - 4s 2ms/step - loss: 0.6006 - tp: 26693.0000 - fp: 16710.0000 - tn: 12846.0000 - fn: 2863.0000 - accuracy: 0.6689 - precision: 0.6150 - recall: 0.9031 - auc: 0.6843 - prc: 0.6175\n",
            "Epoch 63/300\n",
            "1848/1848 [==============================] - 4s 2ms/step - loss: 0.5926 - tp: 26783.0000 - fp: 16831.0000 - tn: 12725.0000 - fn: 2773.0000 - accuracy: 0.6684 - precision: 0.6141 - recall: 0.9062 - auc: 0.6829 - prc: 0.6137\n",
            "Epoch 64/300\n",
            "1848/1848 [==============================] - 4s 2ms/step - loss: 0.5899 - tp: 26888.0000 - fp: 16827.0000 - tn: 12729.0000 - fn: 2668.0000 - accuracy: 0.6702 - precision: 0.6151 - recall: 0.9097 - auc: 0.6858 - prc: 0.6168\n",
            "Epoch 65/300\n",
            "1848/1848 [==============================] - 4s 2ms/step - loss: 0.9456 - tp: 26719.0000 - fp: 16700.0000 - tn: 12856.0000 - fn: 2837.0000 - accuracy: 0.6695 - precision: 0.6154 - recall: 0.9040 - auc: 0.6850 - prc: 0.6157\n",
            "Epoch 66/300\n",
            "1848/1848 [==============================] - 4s 2ms/step - loss: 0.5888 - tp: 26722.0000 - fp: 16574.0000 - tn: 12982.0000 - fn: 2834.0000 - accuracy: 0.6717 - precision: 0.6172 - recall: 0.9041 - auc: 0.6876 - prc: 0.6180\n",
            "Epoch 67/300\n",
            "1848/1848 [==============================] - 4s 2ms/step - loss: 0.5900 - tp: 26692.0000 - fp: 16654.0000 - tn: 12902.0000 - fn: 2864.0000 - accuracy: 0.6698 - precision: 0.6158 - recall: 0.9031 - auc: 0.6851 - prc: 0.6151\n",
            "Epoch 68/300\n",
            "1848/1848 [==============================] - 4s 2ms/step - loss: 0.6022 - tp: 26617.0000 - fp: 16536.0000 - tn: 13020.0000 - fn: 2939.0000 - accuracy: 0.6705 - precision: 0.6168 - recall: 0.9006 - auc: 0.6865 - prc: 0.6166\n",
            "Epoch 69/300\n",
            "1848/1848 [==============================] - 4s 2ms/step - loss: 0.5898 - tp: 26631.0000 - fp: 16490.0000 - tn: 13066.0000 - fn: 2925.0000 - accuracy: 0.6716 - precision: 0.6176 - recall: 0.9010 - auc: 0.6861 - prc: 0.6152\n",
            "Epoch 70/300\n",
            "1848/1848 [==============================] - 4s 2ms/step - loss: 1.3050 - tp: 26773.0000 - fp: 16702.0000 - tn: 12854.0000 - fn: 2783.0000 - accuracy: 0.6704 - precision: 0.6158 - recall: 0.9058 - auc: 0.6848 - prc: 0.6148\n",
            "Epoch 71/300\n",
            "1848/1848 [==============================] - 4s 2ms/step - loss: 1.2022 - tp: 26617.0000 - fp: 16578.0000 - tn: 12978.0000 - fn: 2939.0000 - accuracy: 0.6698 - precision: 0.6162 - recall: 0.9006 - auc: 0.6865 - prc: 0.6170\n",
            "Epoch 72/300\n",
            "1848/1848 [==============================] - 4s 2ms/step - loss: 0.5911 - tp: 26649.0000 - fp: 16508.0000 - tn: 13048.0000 - fn: 2907.0000 - accuracy: 0.6716 - precision: 0.6175 - recall: 0.9016 - auc: 0.6862 - prc: 0.6164\n",
            "Epoch 73/300\n",
            "1848/1848 [==============================] - 6s 3ms/step - loss: 0.5883 - tp: 26730.0000 - fp: 16437.0000 - tn: 13119.0000 - fn: 2826.0000 - accuracy: 0.6741 - precision: 0.6192 - recall: 0.9044 - auc: 0.6885 - prc: 0.6178\n",
            "Epoch 74/300\n",
            "1848/1848 [==============================] - 9s 5ms/step - loss: 0.5886 - tp: 26773.0000 - fp: 16534.0000 - tn: 13022.0000 - fn: 2783.0000 - accuracy: 0.6732 - precision: 0.6182 - recall: 0.9058 - auc: 0.6874 - prc: 0.6177\n",
            "Epoch 75/300\n",
            "1848/1848 [==============================] - 4s 2ms/step - loss: 0.5901 - tp: 26738.0000 - fp: 16615.0000 - tn: 12941.0000 - fn: 2818.0000 - accuracy: 0.6713 - precision: 0.6168 - recall: 0.9047 - auc: 0.6871 - prc: 0.6178\n",
            "Epoch 76/300\n",
            "1848/1848 [==============================] - 4s 2ms/step - loss: 0.5868 - tp: 26854.0000 - fp: 16574.0000 - tn: 12982.0000 - fn: 2702.0000 - accuracy: 0.6739 - precision: 0.6184 - recall: 0.9086 - auc: 0.6895 - prc: 0.6194\n",
            "Epoch 77/300\n",
            "1848/1848 [==============================] - 4s 2ms/step - loss: 0.6039 - tp: 26807.0000 - fp: 16669.0000 - tn: 12887.0000 - fn: 2749.0000 - accuracy: 0.6715 - precision: 0.6166 - recall: 0.9070 - auc: 0.6868 - prc: 0.6180\n",
            "Epoch 78/300\n",
            "1848/1848 [==============================] - 6s 3ms/step - loss: 0.9933 - tp: 26942.0000 - fp: 16813.0000 - tn: 12743.0000 - fn: 2614.0000 - accuracy: 0.6714 - precision: 0.6157 - recall: 0.9116 - auc: 0.6849 - prc: 0.6135\n",
            "Epoch 79/300\n",
            "1848/1848 [==============================] - 6s 3ms/step - loss: 0.9297 - tp: 26770.0000 - fp: 16660.0000 - tn: 12896.0000 - fn: 2786.0000 - accuracy: 0.6710 - precision: 0.6164 - recall: 0.9057 - auc: 0.6857 - prc: 0.6157\n",
            "Epoch 80/300\n",
            "1848/1848 [==============================] - 7s 4ms/step - loss: 0.5893 - tp: 26761.0000 - fp: 16635.0000 - tn: 12921.0000 - fn: 2795.0000 - accuracy: 0.6713 - precision: 0.6167 - recall: 0.9054 - auc: 0.6870 - prc: 0.6173\n",
            "Epoch 81/300\n",
            "1848/1848 [==============================] - 6s 3ms/step - loss: 0.5871 - tp: 26813.0000 - fp: 16630.0000 - tn: 12926.0000 - fn: 2743.0000 - accuracy: 0.6723 - precision: 0.6172 - recall: 0.9072 - auc: 0.6865 - prc: 0.6155\n",
            "Epoch 82/300\n",
            "1848/1848 [==============================] - 5s 3ms/step - loss: 0.5973 - tp: 26816.0000 - fp: 16776.0000 - tn: 12780.0000 - fn: 2740.0000 - accuracy: 0.6698 - precision: 0.6152 - recall: 0.9073 - auc: 0.6827 - prc: 0.6121\n",
            "Epoch 83/300\n",
            "1848/1848 [==============================] - 4s 2ms/step - loss: 0.9911 - tp: 26618.0000 - fp: 16457.0000 - tn: 13099.0000 - fn: 2938.0000 - accuracy: 0.6719 - precision: 0.6179 - recall: 0.9006 - auc: 0.6867 - prc: 0.6175\n",
            "Epoch 84/300\n",
            "1848/1848 [==============================] - 4s 2ms/step - loss: 0.6615 - tp: 26764.0000 - fp: 16684.0000 - tn: 12872.0000 - fn: 2792.0000 - accuracy: 0.6705 - precision: 0.6160 - recall: 0.9055 - auc: 0.6856 - prc: 0.6155\n",
            "Epoch 85/300\n",
            "1848/1848 [==============================] - 4s 2ms/step - loss: 0.5864 - tp: 26888.0000 - fp: 16684.0000 - tn: 12872.0000 - fn: 2668.0000 - accuracy: 0.6726 - precision: 0.6171 - recall: 0.9097 - auc: 0.6880 - prc: 0.6180\n",
            "Epoch 86/300\n",
            "1848/1848 [==============================] - 5s 2ms/step - loss: 0.7802 - tp: 26731.0000 - fp: 16574.0000 - tn: 12982.0000 - fn: 2825.0000 - accuracy: 0.6718 - precision: 0.6173 - recall: 0.9044 - auc: 0.6863 - prc: 0.6163\n",
            "Epoch 87/300\n",
            "1848/1848 [==============================] - 5s 2ms/step - loss: 0.5878 - tp: 26777.0000 - fp: 16538.0000 - tn: 13018.0000 - fn: 2779.0000 - accuracy: 0.6732 - precision: 0.6182 - recall: 0.9060 - auc: 0.6896 - prc: 0.6195\n",
            "Epoch 88/300\n",
            "1848/1848 [==============================] - 5s 2ms/step - loss: 0.5874 - tp: 26782.0000 - fp: 16620.0000 - tn: 12936.0000 - fn: 2774.0000 - accuracy: 0.6719 - precision: 0.6171 - recall: 0.9061 - auc: 0.6857 - prc: 0.6156\n",
            "Epoch 89/300\n",
            "1848/1848 [==============================] - 5s 2ms/step - loss: 0.6648 - tp: 26921.0000 - fp: 16707.0000 - tn: 12849.0000 - fn: 2635.0000 - accuracy: 0.6728 - precision: 0.6171 - recall: 0.9108 - auc: 0.6874 - prc: 0.6169\n",
            "Epoch 90/300\n",
            "1848/1848 [==============================] - 5s 2ms/step - loss: 1.7185 - tp: 27088.0000 - fp: 16869.0000 - tn: 12687.0000 - fn: 2468.0000 - accuracy: 0.6729 - precision: 0.6162 - recall: 0.9165 - auc: 0.6864 - prc: 0.6159\n",
            "Epoch 91/300\n",
            "1848/1848 [==============================] - 4s 2ms/step - loss: 0.6699 - tp: 27031.0000 - fp: 16721.0000 - tn: 12835.0000 - fn: 2525.0000 - accuracy: 0.6744 - precision: 0.6178 - recall: 0.9146 - auc: 0.6881 - prc: 0.6169\n",
            "Epoch 92/300\n",
            "1848/1848 [==============================] - 5s 2ms/step - loss: 0.8133 - tp: 26904.0000 - fp: 16698.0000 - tn: 12858.0000 - fn: 2652.0000 - accuracy: 0.6727 - precision: 0.6170 - recall: 0.9103 - auc: 0.6860 - prc: 0.6160\n",
            "Epoch 93/300\n",
            "1848/1848 [==============================] - 5s 2ms/step - loss: 0.6010 - tp: 26661.0000 - fp: 16428.0000 - tn: 13128.0000 - fn: 2895.0000 - accuracy: 0.6731 - precision: 0.6187 - recall: 0.9021 - auc: 0.6860 - prc: 0.6139\n",
            "Epoch 94/300\n",
            "1848/1848 [==============================] - 5s 2ms/step - loss: 0.8239 - tp: 26581.0000 - fp: 16258.0000 - tn: 13298.0000 - fn: 2975.0000 - accuracy: 0.6746 - precision: 0.6205 - recall: 0.8993 - auc: 0.6909 - prc: 0.6191\n",
            "Epoch 95/300\n",
            "1848/1848 [==============================] - 5s 3ms/step - loss: 0.5898 - tp: 26528.0000 - fp: 16286.0000 - tn: 13270.0000 - fn: 3028.0000 - accuracy: 0.6733 - precision: 0.6196 - recall: 0.8976 - auc: 0.6874 - prc: 0.6166\n",
            "Epoch 96/300\n",
            "1848/1848 [==============================] - 7s 4ms/step - loss: 0.5874 - tp: 26602.0000 - fp: 16388.0000 - tn: 13168.0000 - fn: 2954.0000 - accuracy: 0.6728 - precision: 0.6188 - recall: 0.9001 - auc: 0.6885 - prc: 0.6177\n",
            "Epoch 97/300\n",
            "1848/1848 [==============================] - 5s 2ms/step - loss: 0.5867 - tp: 26756.0000 - fp: 16537.0000 - tn: 13019.0000 - fn: 2800.0000 - accuracy: 0.6729 - precision: 0.6180 - recall: 0.9053 - auc: 0.6882 - prc: 0.6175\n",
            "Epoch 98/300\n",
            "1848/1848 [==============================] - 6s 3ms/step - loss: 0.5894 - tp: 26945.0000 - fp: 16664.0000 - tn: 12892.0000 - fn: 2611.0000 - accuracy: 0.6739 - precision: 0.6179 - recall: 0.9117 - auc: 0.6878 - prc: 0.6180\n",
            "Epoch 99/300\n",
            "1848/1848 [==============================] - 6s 3ms/step - loss: 0.6266 - tp: 27053.0000 - fp: 16773.0000 - tn: 12783.0000 - fn: 2503.0000 - accuracy: 0.6739 - precision: 0.6173 - recall: 0.9153 - auc: 0.6884 - prc: 0.6170\n",
            "Epoch 100/300\n",
            "1848/1848 [==============================] - 5s 2ms/step - loss: 0.6624 - tp: 26930.0000 - fp: 16568.0000 - tn: 12988.0000 - fn: 2626.0000 - accuracy: 0.6753 - precision: 0.6191 - recall: 0.9112 - auc: 0.6904 - prc: 0.6181\n",
            "Epoch 101/300\n",
            "1848/1848 [==============================] - 4s 2ms/step - loss: 0.5845 - tp: 27038.0000 - fp: 16738.0000 - tn: 12818.0000 - fn: 2518.0000 - accuracy: 0.6742 - precision: 0.6176 - recall: 0.9148 - auc: 0.6883 - prc: 0.6184\n",
            "Epoch 102/300\n",
            "1848/1848 [==============================] - 4s 2ms/step - loss: 1.1644 - tp: 26916.0000 - fp: 16697.0000 - tn: 12859.0000 - fn: 2640.0000 - accuracy: 0.6729 - precision: 0.6172 - recall: 0.9107 - auc: 0.6888 - prc: 0.6190\n",
            "Epoch 103/300\n",
            "1848/1848 [==============================] - 5s 2ms/step - loss: 0.5858 - tp: 26670.0000 - fp: 16428.0000 - tn: 13128.0000 - fn: 2886.0000 - accuracy: 0.6733 - precision: 0.6188 - recall: 0.9024 - auc: 0.6891 - prc: 0.6185\n",
            "Epoch 104/300\n",
            "1848/1848 [==============================] - 6s 3ms/step - loss: 0.5834 - tp: 26840.0000 - fp: 16418.0000 - tn: 13138.0000 - fn: 2716.0000 - accuracy: 0.6763 - precision: 0.6205 - recall: 0.9081 - auc: 0.6926 - prc: 0.6224\n",
            "Epoch 105/300\n",
            "1848/1848 [==============================] - 5s 3ms/step - loss: 0.6038 - tp: 26861.0000 - fp: 16420.0000 - tn: 13136.0000 - fn: 2695.0000 - accuracy: 0.6766 - precision: 0.6206 - recall: 0.9088 - auc: 0.6889 - prc: 0.6171\n",
            "Epoch 106/300\n",
            "1848/1848 [==============================] - 6s 3ms/step - loss: 0.8438 - tp: 27000.0000 - fp: 16678.0000 - tn: 12878.0000 - fn: 2556.0000 - accuracy: 0.6746 - precision: 0.6182 - recall: 0.9135 - auc: 0.6876 - prc: 0.6158\n",
            "Epoch 107/300\n",
            "1848/1848 [==============================] - 4s 2ms/step - loss: 0.7118 - tp: 27149.0000 - fp: 16726.0000 - tn: 12830.0000 - fn: 2407.0000 - accuracy: 0.6763 - precision: 0.6188 - recall: 0.9186 - auc: 0.6889 - prc: 0.6193\n",
            "Epoch 108/300\n",
            "1848/1848 [==============================] - 5s 2ms/step - loss: 1.6259 - tp: 26882.0000 - fp: 16579.0000 - tn: 12977.0000 - fn: 2674.0000 - accuracy: 0.6743 - precision: 0.6185 - recall: 0.9095 - auc: 0.6882 - prc: 0.6172\n",
            "Epoch 109/300\n",
            "1848/1848 [==============================] - 5s 2ms/step - loss: 0.5834 - tp: 26705.0000 - fp: 16283.0000 - tn: 13273.0000 - fn: 2851.0000 - accuracy: 0.6763 - precision: 0.6212 - recall: 0.9035 - auc: 0.6926 - prc: 0.6219\n",
            "Epoch 110/300\n",
            "1848/1848 [==============================] - 4s 2ms/step - loss: 0.5926 - tp: 26827.0000 - fp: 16420.0000 - tn: 13136.0000 - fn: 2729.0000 - accuracy: 0.6761 - precision: 0.6203 - recall: 0.9077 - auc: 0.6910 - prc: 0.6198\n",
            "Epoch 111/300\n",
            "1848/1848 [==============================] - 4s 2ms/step - loss: 0.6422 - tp: 26981.0000 - fp: 16569.0000 - tn: 12987.0000 - fn: 2575.0000 - accuracy: 0.6761 - precision: 0.6195 - recall: 0.9129 - auc: 0.6900 - prc: 0.6175\n",
            "Epoch 112/300\n",
            "1848/1848 [==============================] - 4s 2ms/step - loss: 0.6579 - tp: 27136.0000 - fp: 16650.0000 - tn: 12906.0000 - fn: 2420.0000 - accuracy: 0.6774 - precision: 0.6197 - recall: 0.9181 - auc: 0.6923 - prc: 0.6222\n",
            "Epoch 113/300\n",
            "1848/1848 [==============================] - 4s 2ms/step - loss: 0.5813 - tp: 27153.0000 - fp: 16676.0000 - tn: 12880.0000 - fn: 2403.0000 - accuracy: 0.6772 - precision: 0.6195 - recall: 0.9187 - auc: 0.6901 - prc: 0.6183\n",
            "Epoch 114/300\n",
            "1848/1848 [==============================] - 4s 2ms/step - loss: 0.6485 - tp: 27028.0000 - fp: 16512.0000 - tn: 13044.0000 - fn: 2528.0000 - accuracy: 0.6779 - precision: 0.6208 - recall: 0.9145 - auc: 0.6930 - prc: 0.6223\n",
            "Epoch 115/300\n",
            "1848/1848 [==============================] - 4s 2ms/step - loss: 0.5819 - tp: 27099.0000 - fp: 16606.0000 - tn: 12950.0000 - fn: 2457.0000 - accuracy: 0.6775 - precision: 0.6200 - recall: 0.9169 - auc: 0.6926 - prc: 0.6216\n",
            "Epoch 116/300\n",
            "1848/1848 [==============================] - 4s 2ms/step - loss: 1.1550 - tp: 26977.0000 - fp: 16638.0000 - tn: 12918.0000 - fn: 2579.0000 - accuracy: 0.6749 - precision: 0.6185 - recall: 0.9127 - auc: 0.6915 - prc: 0.6214\n",
            "Epoch 117/300\n",
            "1848/1848 [==============================] - 4s 2ms/step - loss: 0.6582 - tp: 26767.0000 - fp: 16353.0000 - tn: 13203.0000 - fn: 2789.0000 - accuracy: 0.6762 - precision: 0.6208 - recall: 0.9056 - auc: 0.6903 - prc: 0.6191\n",
            "Epoch 118/300\n",
            "1848/1848 [==============================] - 5s 3ms/step - loss: 0.5837 - tp: 26753.0000 - fp: 16330.0000 - tn: 13226.0000 - fn: 2803.0000 - accuracy: 0.6763 - precision: 0.6210 - recall: 0.9052 - auc: 0.6925 - prc: 0.6215\n",
            "Epoch 119/300\n",
            "1848/1848 [==============================] - 6s 3ms/step - loss: 0.6027 - tp: 26875.0000 - fp: 16392.0000 - tn: 13164.0000 - fn: 2681.0000 - accuracy: 0.6773 - precision: 0.6211 - recall: 0.9093 - auc: 0.6922 - prc: 0.6209\n",
            "Epoch 120/300\n",
            "1848/1848 [==============================] - 4s 2ms/step - loss: 0.6310 - tp: 26587.0000 - fp: 16193.0000 - tn: 13363.0000 - fn: 2969.0000 - accuracy: 0.6758 - precision: 0.6215 - recall: 0.8995 - auc: 0.6913 - prc: 0.6204\n",
            "Epoch 121/300\n",
            "1848/1848 [==============================] - 4s 2ms/step - loss: 0.5993 - tp: 26666.0000 - fp: 16260.0000 - tn: 13296.0000 - fn: 2890.0000 - accuracy: 0.6760 - precision: 0.6212 - recall: 0.9022 - auc: 0.6937 - prc: 0.6230\n",
            "Epoch 122/300\n",
            "1848/1848 [==============================] - 4s 2ms/step - loss: 0.6563 - tp: 27166.0000 - fp: 16701.0000 - tn: 12855.0000 - fn: 2390.0000 - accuracy: 0.6770 - precision: 0.6193 - recall: 0.9191 - auc: 0.6907 - prc: 0.6194\n",
            "Epoch 123/300\n",
            "1848/1848 [==============================] - 5s 2ms/step - loss: 0.5838 - tp: 27390.0000 - fp: 17004.0000 - tn: 12552.0000 - fn: 2166.0000 - accuracy: 0.6757 - precision: 0.6170 - recall: 0.9267 - auc: 0.6867 - prc: 0.6150\n",
            "Epoch 124/300\n",
            "1848/1848 [==============================] - 5s 2ms/step - loss: 0.5818 - tp: 27345.0000 - fp: 16889.0000 - tn: 12667.0000 - fn: 2211.0000 - accuracy: 0.6769 - precision: 0.6182 - recall: 0.9252 - auc: 0.6895 - prc: 0.6176\n",
            "Epoch 125/300\n",
            "1848/1848 [==============================] - 5s 2ms/step - loss: 0.5813 - tp: 27296.0000 - fp: 16910.0000 - tn: 12646.0000 - fn: 2260.0000 - accuracy: 0.6757 - precision: 0.6175 - recall: 0.9235 - auc: 0.6903 - prc: 0.6197\n",
            "Epoch 126/300\n",
            "1848/1848 [==============================] - 7s 4ms/step - loss: 0.5792 - tp: 27302.0000 - fp: 16812.0000 - tn: 12744.0000 - fn: 2254.0000 - accuracy: 0.6775 - precision: 0.6189 - recall: 0.9237 - auc: 0.6906 - prc: 0.6191\n",
            "Epoch 127/300\n",
            "1848/1848 [==============================] - 4s 2ms/step - loss: 0.5816 - tp: 27309.0000 - fp: 16874.0000 - tn: 12682.0000 - fn: 2247.0000 - accuracy: 0.6765 - precision: 0.6181 - recall: 0.9240 - auc: 0.6881 - prc: 0.6166\n",
            "Epoch 128/300\n",
            "1848/1848 [==============================] - 4s 2ms/step - loss: 0.5803 - tp: 27268.0000 - fp: 16833.0000 - tn: 12723.0000 - fn: 2288.0000 - accuracy: 0.6765 - precision: 0.6183 - recall: 0.9226 - auc: 0.6931 - prc: 0.6230\n",
            "Epoch 129/300\n",
            "1848/1848 [==============================] - 5s 2ms/step - loss: 1.5049 - tp: 27120.0000 - fp: 16718.0000 - tn: 12838.0000 - fn: 2436.0000 - accuracy: 0.6760 - precision: 0.6186 - recall: 0.9176 - auc: 0.6900 - prc: 0.6184\n",
            "Epoch 130/300\n",
            "1848/1848 [==============================] - 5s 3ms/step - loss: 0.5846 - tp: 26885.0000 - fp: 16427.0000 - tn: 13129.0000 - fn: 2671.0000 - accuracy: 0.6769 - precision: 0.6207 - recall: 0.9096 - auc: 0.6883 - prc: 0.6171\n",
            "Epoch 131/300\n",
            "1848/1848 [==============================] - 5s 2ms/step - loss: 0.5909 - tp: 26836.0000 - fp: 16456.0000 - tn: 13100.0000 - fn: 2720.0000 - accuracy: 0.6756 - precision: 0.6199 - recall: 0.9080 - auc: 0.6902 - prc: 0.6180\n",
            "Epoch 132/300\n",
            "1848/1848 [==============================] - 5s 3ms/step - loss: 0.5866 - tp: 26931.0000 - fp: 16590.0000 - tn: 12966.0000 - fn: 2625.0000 - accuracy: 0.6749 - precision: 0.6188 - recall: 0.9112 - auc: 0.6891 - prc: 0.6183\n",
            "Epoch 133/300\n",
            "1848/1848 [==============================] - 5s 3ms/step - loss: 0.5815 - tp: 26959.0000 - fp: 16482.0000 - tn: 13074.0000 - fn: 2597.0000 - accuracy: 0.6772 - precision: 0.6206 - recall: 0.9121 - auc: 0.6932 - prc: 0.6223\n",
            "Epoch 134/300\n",
            "1848/1848 [==============================] - 4s 2ms/step - loss: 0.6937 - tp: 26869.0000 - fp: 16355.0000 - tn: 13201.0000 - fn: 2687.0000 - accuracy: 0.6779 - precision: 0.6216 - recall: 0.9091 - auc: 0.6945 - prc: 0.6258\n",
            "Epoch 135/300\n",
            "1848/1848 [==============================] - 4s 2ms/step - loss: 0.5877 - tp: 26939.0000 - fp: 16418.0000 - tn: 13138.0000 - fn: 2617.0000 - accuracy: 0.6780 - precision: 0.6213 - recall: 0.9115 - auc: 0.6923 - prc: 0.6211\n",
            "Epoch 136/300\n",
            "1848/1848 [==============================] - 5s 2ms/step - loss: 0.5822 - tp: 26910.0000 - fp: 16469.0000 - tn: 13087.0000 - fn: 2646.0000 - accuracy: 0.6766 - precision: 0.6203 - recall: 0.9105 - auc: 0.6916 - prc: 0.6203\n",
            "Epoch 137/300\n",
            "1848/1848 [==============================] - 6s 3ms/step - loss: 0.5813 - tp: 27061.0000 - fp: 16584.0000 - tn: 12972.0000 - fn: 2495.0000 - accuracy: 0.6772 - precision: 0.6200 - recall: 0.9156 - auc: 0.6932 - prc: 0.6227\n",
            "Epoch 138/300\n",
            "1848/1848 [==============================] - 7s 4ms/step - loss: 0.5807 - tp: 27132.0000 - fp: 16704.0000 - tn: 12852.0000 - fn: 2424.0000 - accuracy: 0.6764 - precision: 0.6189 - recall: 0.9180 - auc: 0.6921 - prc: 0.6213\n",
            "Epoch 139/300\n",
            "1848/1848 [==============================] - 6s 3ms/step - loss: 0.5817 - tp: 27162.0000 - fp: 16734.0000 - tn: 12822.0000 - fn: 2394.0000 - accuracy: 0.6764 - precision: 0.6188 - recall: 0.9190 - auc: 0.6916 - prc: 0.6209\n",
            "Epoch 140/300\n",
            "1848/1848 [==============================] - 7s 4ms/step - loss: 0.5806 - tp: 27175.0000 - fp: 16716.0000 - tn: 12840.0000 - fn: 2381.0000 - accuracy: 0.6769 - precision: 0.6191 - recall: 0.9194 - auc: 0.6910 - prc: 0.6190\n",
            "Epoch 141/300\n",
            "1848/1848 [==============================] - 6s 3ms/step - loss: 0.5834 - tp: 27277.0000 - fp: 16880.0000 - tn: 12676.0000 - fn: 2279.0000 - accuracy: 0.6759 - precision: 0.6177 - recall: 0.9229 - auc: 0.6884 - prc: 0.6171\n",
            "Epoch 142/300\n",
            "1848/1848 [==============================] - 5s 3ms/step - loss: 0.5847 - tp: 27299.0000 - fp: 16765.0000 - tn: 12791.0000 - fn: 2257.0000 - accuracy: 0.6782 - precision: 0.6195 - recall: 0.9236 - auc: 0.6908 - prc: 0.6195\n",
            "Epoch 143/300\n",
            "1848/1848 [==============================] - 6s 3ms/step - loss: 0.9406 - tp: 27083.0000 - fp: 16631.0000 - tn: 12925.0000 - fn: 2473.0000 - accuracy: 0.6768 - precision: 0.6195 - recall: 0.9163 - auc: 0.6903 - prc: 0.6184\n",
            "Epoch 144/300\n",
            "1848/1848 [==============================] - 5s 3ms/step - loss: 0.5825 - tp: 26940.0000 - fp: 16568.0000 - tn: 12988.0000 - fn: 2616.0000 - accuracy: 0.6755 - precision: 0.6192 - recall: 0.9115 - auc: 0.6914 - prc: 0.6207\n",
            "Epoch 145/300\n",
            "1848/1848 [==============================] - 5s 2ms/step - loss: 0.6457 - tp: 26979.0000 - fp: 16529.0000 - tn: 13027.0000 - fn: 2577.0000 - accuracy: 0.6768 - precision: 0.6201 - recall: 0.9128 - auc: 0.6912 - prc: 0.6190\n",
            "Epoch 146/300\n",
            "1840/1848 [============================>.] - ETA: 0s - loss: 0.6353 - tp: 26671.0000 - fp: 16133.0000 - tn: 13316.0000 - fn: 2760.0000 - accuracy: 0.6791 - precision: 0.6231 - recall: 0.9062 - auc: 0.6917 - prc: 0.6186Restoring model weights from the end of the best epoch: 126.\n",
            "1848/1848 [==============================] - 7s 4ms/step - loss: 0.6350 - tp: 26780.0000 - fp: 16188.0000 - tn: 13368.0000 - fn: 2776.0000 - accuracy: 0.6792 - precision: 0.6233 - recall: 0.9061 - auc: 0.6917 - prc: 0.6187\n",
            "Epoch 146: early stopping\n"
          ]
        },
        {
          "output_type": "execute_result",
          "data": {
            "text/plain": [
              "<keras.callbacks.History at 0x7ff1a34f7190>"
            ]
          },
          "metadata": {},
          "execution_count": 67
        }
      ]
    },
    {
      "cell_type": "code",
      "source": [
        "#Using the trained model, the prediction is done on the test set\n",
        "dnn_preds_smt = dnn_model.predict(X_test_smt)\n",
        "dnn_preds_smt = np.round(dnn_preds_smt)"
      ],
      "metadata": {
        "colab": {
          "base_uri": "https://localhost:8080/"
        },
        "id": "h5SOd5ZQM3SV",
        "outputId": "d01dc98b-4e7e-4dc4-8e56-d4f37ffbeed3"
      },
      "execution_count": null,
      "outputs": [
        {
          "output_type": "stream",
          "name": "stdout",
          "text": [
            "792/792 [==============================] - 1s 1ms/step\n"
          ]
        }
      ]
    },
    {
      "cell_type": "markdown",
      "source": [
        "### **DNN Model Evaluation**"
      ],
      "metadata": {
        "id": "HwLFXsYmX3lz"
      }
    },
    {
      "cell_type": "code",
      "source": [
        "#Display the classification report of the model out of prediction using the test data.\n",
        "\n",
        "print(classification_report(y_test_smt,dnn_preds_smt))"
      ],
      "metadata": {
        "colab": {
          "base_uri": "https://localhost:8080/"
        },
        "id": "n5f20hS0X6kN",
        "outputId": "acf62e08-22d5-4d1b-d564-acbae616a7e1"
      },
      "execution_count": null,
      "outputs": [
        {
          "output_type": "stream",
          "name": "stdout",
          "text": [
            "              precision    recall  f1-score   support\n",
            "\n",
            "           0       0.87      0.58      0.70     12667\n",
            "           1       0.68      0.91      0.78     12667\n",
            "\n",
            "    accuracy                           0.75     25334\n",
            "   macro avg       0.78      0.75      0.74     25334\n",
            "weighted avg       0.78      0.75      0.74     25334\n",
            "\n"
          ]
        }
      ]
    },
    {
      "cell_type": "code",
      "source": [
        "#function to display the confusion matrix\n",
        "def plot_cm(labels, predictions, p=0.5):\n",
        "    cm = confusion_matrix(labels, predictions > p)\n",
        "    plt.figure(figsize=(5,5))\n",
        "    sns.heatmap(cm, annot=True, fmt=\"d\")\n",
        "    plt.title('Confusion matrix @{:.2f}'.format(p))\n",
        "    plt.ylabel('Actual label')\n",
        "    plt.xlabel('Predicted label')\n",
        "\n",
        "    print('Legitimate Transactions Detected (True Negatives): ', cm[0][0])\n",
        "    print('Legitimate Transactions Incorrectly Detected (False Positives): ', cm[0][1])\n",
        "    print('Fraudulent Transactions Missed (False Negatives): ', cm[1][0])\n",
        "    print('Fraudulent Transactions Detected (True Positives): ', cm[1][1])\n",
        "    print('Total Fraudulent Transactions: ', np.sum(cm[1]))"
      ],
      "metadata": {
        "id": "GOu4RYdyX6hr"
      },
      "execution_count": null,
      "outputs": []
    },
    {
      "cell_type": "code",
      "source": [
        "plot_cm(y_test_smt, dnn_preds_smt)"
      ],
      "metadata": {
        "colab": {
          "base_uri": "https://localhost:8080/",
          "height": 437
        },
        "id": "m-qGSSNyX6gG",
        "outputId": "f2997233-a545-4777-fc6c-bf92228f3f71"
      },
      "execution_count": null,
      "outputs": [
        {
          "output_type": "stream",
          "name": "stdout",
          "text": [
            "Legitimate Transactions Detected (True Negatives):  7328\n",
            "Legitimate Transactions Incorrectly Detected (False Positives):  5339\n",
            "Fraudulent Transactions Missed (False Negatives):  1084\n",
            "Fraudulent Transactions Detected (True Positives):  11583\n",
            "Total Fraudulent Transactions:  12667\n"
          ]
        },
        {
          "output_type": "display_data",
          "data": {
            "text/plain": [
              "<Figure size 360x360 with 2 Axes>"
            ],
            "image/png": "[encoded data removed]"
          },
          "metadata": {
            "needs_background": "light"
          }
        }
      ]
    },
    {
      "cell_type": "markdown",
      "source": [
        "**Saving the trained Model**"
      ],
      "metadata": {
        "id": "tFnQ4mHAZiv6"
      }
    },
    {
      "cell_type": "code",
      "source": [
        "# Calling `save('my_model')` creates a SavedModel folder `dnn_model`.\n",
        "dnn_model.save(\"weekly_dnn_model\")"
      ],
      "metadata": {
        "id": "aTz63cIrX6cM"
      },
      "execution_count": null,
      "outputs": []
    },
    {
      "cell_type": "markdown",
      "source": [
        "**Sample prediction**"
      ],
      "metadata": {
        "id": "-xDSuwVdZooZ"
      }
    },
    {
      "cell_type": "code",
      "source": [
        "def predict(model, record):\n",
        "    k = np.array(record).reshape(1,69)\n",
        "    prediction = int(np.round(dnn_model.predict(k))[0][0])\n",
        "    return prediction"
      ],
      "metadata": {
        "id": "mgvhyhMhX6Zl"
      },
      "execution_count": null,
      "outputs": []
    },
    {
      "cell_type": "code",
      "source": [
        "#Sample record to predict\n",
        "k = np.array(X_test_smt.iloc[1]).reshape(1,69)"
      ],
      "metadata": {
        "id": "CYoCImorX6Xn"
      },
      "execution_count": null,
      "outputs": []
    },
    {
      "cell_type": "code",
      "source": [
        "k"
      ],
      "metadata": {
        "colab": {
          "base_uri": "https://localhost:8080/"
        },
        "id": "IoTjbQ-AX6UL",
        "outputId": "2c34e368-d4c2-402b-a33c-4fec1cd2bf44"
      },
      "execution_count": null,
      "outputs": [
        {
          "output_type": "execute_result",
          "data": {
            "text/plain": [
              "array([[1.00000000e+01, 7.04810237e-02, 8.31445265e+01, 1.74647595e+01,\n",
              "        1.56986734e+01, 9.29518976e-01, 2.07048102e+00, 4.91625331e+00,\n",
              "        4.14096205e+00, 8.36567079e-01, 8.36567079e-01, 0.00000000e+00,\n",
              "        1.00000000e+00, 1.20837467e-01, 7.43615181e-02, 1.67313416e-01,\n",
              "        0.00000000e+00, 0.00000000e+00, 0.00000000e+00, 1.30132657e-01,\n",
              "        1.11542277e-01, 1.39427846e-01, 4.92951898e+00, 3.07048102e+00,\n",
              "        4.17647595e+01, 1.53211443e+01, 2.73830891e+00, 9.29518976e-01,\n",
              "        1.00000000e+00, 5.07463371e-01, 5.07463371e-01, 1.58018226e+00,\n",
              "        1.58018226e+00, 0.00000000e+00, 1.00000000e+00, 9.29518976e-02,\n",
              "        7.43615181e-02, 1.30132657e-01, 0.00000000e+00, 0.00000000e+00,\n",
              "        0.00000000e+00, 1.20837467e-01, 8.36567079e-02, 1.30132657e-01,\n",
              "        7.14096205e+00, 0.00000000e+00, 8.02043950e+01, 1.52819241e+01,\n",
              "        1.39017418e+01, 9.29518976e-01, 2.07048102e+00, 6.93034951e+00,\n",
              "        6.08457723e+00, 3.71807591e+00, 3.71807591e+00, 0.00000000e+00,\n",
              "        9.29518976e-01, 9.21144307e-02, 6.50663283e-02, 1.71451147e-01,\n",
              "        7.04810237e-04, 0.00000000e+00, 5.63848190e-03, 1.42951898e-01,\n",
              "        1.20837467e-01, 1.80572154e-01, 1.99062426e+00, 1.03701051e+00,\n",
              "        5.20786641e-01]])"
            ]
          },
          "metadata": {},
          "execution_count": 75
        }
      ]
    },
    {
      "cell_type": "code",
      "source": [
        "#Predict using the loaded saved model\n",
        "reconstructed_model = keras.models.load_model(\"weekly_dnn_model\")"
      ],
      "metadata": {
        "id": "tsrgPx8cX6RT"
      },
      "execution_count": null,
      "outputs": []
    },
    {
      "cell_type": "code",
      "source": [
        "predict(reconstructed_model,k)"
      ],
      "metadata": {
        "colab": {
          "base_uri": "https://localhost:8080/"
        },
        "id": "YbGCMNNDZ1cE",
        "outputId": "1be23028-8f78-459b-f3bc-42b118a3362e"
      },
      "execution_count": null,
      "outputs": [
        {
          "output_type": "stream",
          "name": "stdout",
          "text": [
            "1/1 [==============================] - 0s 48ms/step\n"
          ]
        },
        {
          "output_type": "execute_result",
          "data": {
            "text/plain": [
              "1"
            ]
          },
          "metadata": {},
          "execution_count": 77
        }
      ]
    },
    {
      "cell_type": "markdown",
      "source": [
        "## **k-Nearest Neighbors Model (KNN)**"
      ],
      "metadata": {
        "id": "yCrdmcf6cEFQ"
      }
    },
    {
      "cell_type": "markdown",
      "source": [
        "**Let Check the shape of training and test data**"
      ],
      "metadata": {
        "id": "CSAiY-fhdSsH"
      }
    },
    {
      "cell_type": "code",
      "source": [
        "print(\"Training data size: \", X_train_smt.shape)\n",
        "print(\"Test data size: \", X_test_smt.shape)"
      ],
      "metadata": {
        "colab": {
          "base_uri": "https://localhost:8080/"
        },
        "id": "wK1iwHNPZ1XD",
        "outputId": "37cd2fba-bc26-4b39-b99d-b36a16e27466"
      },
      "execution_count": null,
      "outputs": [
        {
          "output_type": "stream",
          "name": "stdout",
          "text": [
            "Training data size:  (59112, 69)\n",
            "Test data size:  (25334, 69)\n"
          ]
        }
      ]
    },
    {
      "cell_type": "code",
      "source": [
        "#define model\n",
        "knn_model = KNeighborsClassifier()\n",
        "\n",
        "#fit model\n",
        "knn_model.fit(X_train_smt, y_train_smt)"
      ],
      "metadata": {
        "colab": {
          "base_uri": "https://localhost:8080/"
        },
        "id": "GqnmsnqwZ1UB",
        "outputId": "b17aeaf5-3185-4eed-dbc4-e4394702da26"
      },
      "execution_count": null,
      "outputs": [
        {
          "output_type": "execute_result",
          "data": {
            "text/plain": [
              "KNeighborsClassifier()"
            ]
          },
          "metadata": {},
          "execution_count": 81
        }
      ]
    },
    {
      "cell_type": "code",
      "source": [
        "#Using the trained model, the prediction is done on the test set\n",
        "knn_preds_smt = knn_model.predict(X_test_smt)\n",
        "knn_preds_smt = np.round(knn_preds_smt)"
      ],
      "metadata": {
        "id": "CnIx6mJTZ1Rc"
      },
      "execution_count": null,
      "outputs": []
    },
    {
      "cell_type": "markdown",
      "source": [
        "# **k-NN Model Evaluation**"
      ],
      "metadata": {
        "id": "VnhiBegfeCC3"
      }
    },
    {
      "cell_type": "code",
      "source": [
        "#Display the classification report of the model out of prediction using the test data\n",
        "print(classification_report(y_test_smt, knn_preds_smt))"
      ],
      "metadata": {
        "colab": {
          "base_uri": "https://localhost:8080/"
        },
        "id": "jWl7XWZ6Z1Oi",
        "outputId": "ae0e1d25-c1a5-44b5-9159-9f9f0ea36da2"
      },
      "execution_count": null,
      "outputs": [
        {
          "output_type": "stream",
          "name": "stdout",
          "text": [
            "              precision    recall  f1-score   support\n",
            "\n",
            "           0       0.98      0.87      0.93     12667\n",
            "           1       0.89      0.99      0.93     12667\n",
            "\n",
            "    accuracy                           0.93     25334\n",
            "   macro avg       0.93      0.93      0.93     25334\n",
            "weighted avg       0.93      0.93      0.93     25334\n",
            "\n"
          ]
        }
      ]
    },
    {
      "cell_type": "code",
      "source": [
        "#function to display the confusion matrix\n",
        "def plot_cm(labels, predictions, p=0.5):\n",
        "    cm = confusion_matrix(labels, predictions > p)\n",
        "    plt.figure(figsize=(5,5))\n",
        "    sns.heatmap(cm, annot=True, fmt=\"d\")\n",
        "    plt.title('Confusion matrix @{:.2f}'.format(p))\n",
        "    plt.ylabel('Actual label')\n",
        "    plt.xlabel('Predicted label')\n",
        "\n",
        "    print('Correct Non-injury predictions (True Negatives): ', cm[0][0])\n",
        "    print('Incorrect Non-injury predictions (False Positives): ', cm[0][1])\n",
        "    print('Correct injury predictions (False Negatives): ', cm[1][0])\n",
        "    print('Incorrect injury predictions (True Positives): ', cm[1][1])\n",
        "    print('Total injury predictions: ', np.sum(cm[1]))"
      ],
      "metadata": {
        "id": "UvK5i5GXZ1L3"
      },
      "execution_count": null,
      "outputs": []
    },
    {
      "cell_type": "code",
      "source": [
        "plot_cm(y_test_smt, knn_preds_smt)\n"
      ],
      "metadata": {
        "colab": {
          "base_uri": "https://localhost:8080/",
          "height": 437
        },
        "id": "fzR_RwI1Z1KJ",
        "outputId": "780219ea-6618-4987-b103-d6b490f94217"
      },
      "execution_count": null,
      "outputs": [
        {
          "output_type": "stream",
          "name": "stdout",
          "text": [
            "Correct Non-injury predictions (True Negatives):  11059\n",
            "Incorrect Non-injury predictions (False Positives):  1608\n",
            "Correct injury predictions (False Negatives):  183\n",
            "Incorrect injury predictions (True Positives):  12484\n",
            "Total injury predictions:  12667\n"
          ]
        },
        {
          "output_type": "display_data",
          "data": {
            "text/plain": [
              "<Figure size 360x360 with 2 Axes>"
            ],
            "image/png": "[encoded data removed]"
          },
          "metadata": {
            "needs_background": "light"
          }
        }
      ]
    },
    {
      "cell_type": "markdown",
      "source": [
        "# **Optimize KNN Model**"
      ],
      "metadata": {
        "id": "2S0WNLykekfd"
      }
    },
    {
      "cell_type": "code",
      "source": [
        "# set range of n values\n",
        "neighbor = range(1, 21)\n",
        "train_acc = []\n",
        "test_acc = []\n",
        "\n",
        "# Loop through different values of n\n",
        "for i, n in enumerate(neighbor):\n",
        "    # n from 1 to 20\n",
        "    knn_model = KNeighborsClassifier(n_neighbors=n)\n",
        "    \n",
        "    # Fit with knn\n",
        "    knn_model.fit(X_train_smt,y_train_smt)\n",
        "    \n",
        "    # train accuracy\n",
        "    train_acc.append(knn_model.score(X_train_smt, y_train_smt))\n",
        "    \n",
        "    # test accuracy\n",
        "    test_acc.append(knn_model.score(X_test_smt, y_test_smt))\n",
        "\n",
        "# line plot\n",
        "plt.figure(figsize=[12, 8])\n",
        "plt.plot(neighbor, test_acc, label = 'Test Accuracy')\n",
        "plt.plot(neighbor, train_acc, label = 'Training Accuracy')\n",
        "plt.legend()\n",
        "plt.title('Value VS Accuracy')\n",
        "plt.xlabel('Number of Neighbors')\n",
        "plt.ylabel('Accuracy')\n",
        "#plt.xticks(neig)\n",
        "#plt.savefig('graph.png')\n",
        "plt.show()\n",
        "\n",
        "# print best score\n",
        "print(\"Best accuracy is {} with n = {}\".format(np.max(test_acc), 1+test_acc.index(np.max(test_acc))))"
      ],
      "metadata": {
        "colab": {
          "base_uri": "https://localhost:8080/",
          "height": 530
        },
        "id": "R67D8EgPZ1Gi",
        "outputId": "82737a34-2132-4a25-bbc2-6b0cce77c35d"
      },
      "execution_count": null,
      "outputs": [
        {
          "output_type": "display_data",
          "data": {
            "text/plain": [
              "<Figure size 864x576 with 1 Axes>"
            ],
            "image/png": "[encoded data removed]"
          },
          "metadata": {
            "needs_background": "light"
          }
        },
        {
          "output_type": "stream",
          "name": "stdout",
          "text": [
            "Best accuracy is 0.9733559643167286 with n = 1\n"
          ]
        }
      ]
    },
    {
      "cell_type": "code",
      "source": [
        "knn_model_imp = KNeighborsClassifier(n_neighbors=1)\n",
        "knn_model_imp.fit(X_train_smt, y_train_smt)\n",
        "\n",
        "knn_preds_smt_imp = knn_model_imp.predict(X_test_smt)\n",
        "knn_preds_smt_imp = np.round(knn_preds_smt_imp)\n",
        "\n",
        "#Display the classification report of the model out of prediction using the test data\n",
        "print(classification_report(y_test_smt, knn_preds_smt_imp))"
      ],
      "metadata": {
        "colab": {
          "base_uri": "https://localhost:8080/"
        },
        "id": "8nu_2RkXZ1Dx",
        "outputId": "d2f2694a-f7d9-45f6-fa08-ecb886bdb019"
      },
      "execution_count": null,
      "outputs": [
        {
          "output_type": "stream",
          "name": "stdout",
          "text": [
            "              precision    recall  f1-score   support\n",
            "\n",
            "           0       0.99      0.96      0.97     12667\n",
            "           1       0.96      0.99      0.97     12667\n",
            "\n",
            "    accuracy                           0.97     25334\n",
            "   macro avg       0.97      0.97      0.97     25334\n",
            "weighted avg       0.97      0.97      0.97     25334\n",
            "\n"
          ]
        }
      ]
    },
    {
      "cell_type": "code",
      "source": [
        "plot_cm(y_test_smt, knn_preds_smt_imp)"
      ],
      "metadata": {
        "colab": {
          "base_uri": "https://localhost:8080/",
          "height": 437
        },
        "id": "jr2OOqDSZ0zK",
        "outputId": "77fc76b1-d1b8-4d48-92f6-6f2075514072"
      },
      "execution_count": null,
      "outputs": [
        {
          "output_type": "stream",
          "name": "stdout",
          "text": [
            "Correct Non-injury predictions (True Negatives):  12157\n",
            "Incorrect Non-injury predictions (False Positives):  510\n",
            "Correct injury predictions (False Negatives):  165\n",
            "Incorrect injury predictions (True Positives):  12502\n",
            "Total injury predictions:  12667\n"
          ]
        },
        {
          "output_type": "display_data",
          "data": {
            "text/plain": [
              "<Figure size 360x360 with 2 Axes>"
            ],
            "image/png": "[encoded data removed]"
          },
          "metadata": {
            "needs_background": "light"
          }
        }
      ]
    },
    {
      "cell_type": "markdown",
      "source": [
        "**Saving Model**"
      ],
      "metadata": {
        "id": "DpNrIHLve4s9"
      }
    },
    {
      "cell_type": "code",
      "source": [
        "import pickle\n",
        "file_name = \"knn_model_week.pkl\"\n",
        "\n",
        "# save\n",
        "pickle.dump(knn_model_imp, open(file_name, \"wb\"))"
      ],
      "metadata": {
        "id": "5H75qpmZe19d"
      },
      "execution_count": null,
      "outputs": []
    },
    {
      "cell_type": "markdown",
      "source": [
        "# **Xgboost Model**"
      ],
      "metadata": {
        "id": "qYnrKFuOhHjj"
      }
    },
    {
      "cell_type": "code",
      "source": [
        "raw_df = pd.read_csv('week_approach_maskedID_timeseries.csv')\n",
        "\n",
        "convert_dict = {'nr. sessions': int } #convert nr.sessions to int \n",
        "raw_df = raw_df.astype(convert_dict)\n",
        "raw_df.head()"
      ],
      "metadata": {
        "colab": {
          "base_uri": "https://localhost:8080/",
          "height": 384
        },
        "id": "PtXT-i4ne17K",
        "outputId": "7539247a-ce4e-4eed-e715-00700fc157da"
      },
      "execution_count": 122,
      "outputs": [
        {
          "output_type": "execute_result",
          "data": {
            "text/plain": [
              "   nr. sessions  nr. rest days  total kms  max km one day  \\\n",
              "0             5            2.0       22.2            16.4   \n",
              "1             5            2.0       21.6            16.4   \n",
              "2             5            2.0       21.6            16.4   \n",
              "3             5            2.0       21.6            16.4   \n",
              "4             6            1.0       39.2            17.6   \n",
              "\n",
              "   total km Z3-Z4-Z5-T1-T2  nr. tough sessions (effort in Z5, T1 or T2)  \\\n",
              "0                     11.8                                          1.0   \n",
              "1                     11.7                                          1.0   \n",
              "2                     11.7                                          1.0   \n",
              "3                     11.7                                          1.0   \n",
              "4                     18.9                                          1.0   \n",
              "\n",
              "   nr. days with interval session  total km Z3-4  max km Z3-4 one day  \\\n",
              "0                             2.0           10.0                 10.0   \n",
              "1                             2.0           10.0                 10.0   \n",
              "2                             2.0           10.0                 10.0   \n",
              "3                             2.0           10.0                 10.0   \n",
              "4                             3.0           17.2                 10.0   \n",
              "\n",
              "   total km Z5-T1-T2  ...  max training success.2  avg recovery.2  \\\n",
              "0                0.6  ...                     0.0            0.18   \n",
              "1                0.5  ...                     0.0            0.18   \n",
              "2                0.5  ...                     0.0            0.17   \n",
              "3                0.5  ...                     0.0            0.18   \n",
              "4                0.5  ...                     0.0            0.17   \n",
              "\n",
              "   min recovery.2  max recovery.2  Athlete ID  injury  rel total kms week 0_1  \\\n",
              "0            0.16            0.20           0       0                0.718447   \n",
              "1            0.16            0.20           0       0                0.683544   \n",
              "2            0.16            0.18           0       0                0.683544   \n",
              "3            0.16            0.18           0       0                0.683544   \n",
              "4            0.16            0.18           0       0                2.202247   \n",
              "\n",
              "   rel total kms week 0_2  rel total kms week 1_2  Date  \n",
              "0                1.378882                1.919255     0  \n",
              "1                1.018868                1.490566     1  \n",
              "2                1.018868                1.490566     2  \n",
              "3                1.018868                1.490566     3  \n",
              "4                1.361111                0.618056     4  \n",
              "\n",
              "[5 rows x 72 columns]"
            ],
            "text/html": [
              "\n",
              "  <div id=\"df-1d70d643-338a-4898-8e24-17826052c7ac\">\n",
              "    <div class=\"colab-df-container\">\n",
              "      <div>\n",
              "<style scoped>\n",
              "    .dataframe tbody tr th:only-of-type {\n",
              "        vertical-align: middle;\n",
              "    }\n",
              "\n",
              "    .dataframe tbody tr th {\n",
              "        vertical-align: top;\n",
              "    }\n",
              "\n",
              "    .dataframe thead th {\n",
              "        text-align: right;\n",
              "    }\n",
              "</style>\n",
              "<table border=\"1\" class=\"dataframe\">\n",
              "  <thead>\n",
              "    <tr style=\"text-align: right;\">\n",
              "      <th></th>\n",
              "      <th>nr. sessions</th>\n",
              "      <th>nr. rest days</th>\n",
              "      <th>total kms</th>\n",
              "      <th>max km one day</th>\n",
              "      <th>total km Z3-Z4-Z5-T1-T2</th>\n",
              "      <th>nr. tough sessions (effort in Z5, T1 or T2)</th>\n",
              "      <th>nr. days with interval session</th>\n",
              "      <th>total km Z3-4</th>\n",
              "      <th>max km Z3-4 one day</th>\n",
              "      <th>total km Z5-T1-T2</th>\n",
              "      <th>...</th>\n",
              "      <th>max training success.2</th>\n",
              "      <th>avg recovery.2</th>\n",
              "      <th>min recovery.2</th>\n",
              "      <th>max recovery.2</th>\n",
              "      <th>Athlete ID</th>\n",
              "      <th>injury</th>\n",
              "      <th>rel total kms week 0_1</th>\n",
              "      <th>rel total kms week 0_2</th>\n",
              "      <th>rel total kms week 1_2</th>\n",
              "      <th>Date</th>\n",
              "    </tr>\n",
              "  </thead>\n",
              "  <tbody>\n",
              "    <tr>\n",
              "      <th>0</th>\n",
              "      <td>5</td>\n",
              "      <td>2.0</td>\n",
              "      <td>22.2</td>\n",
              "      <td>16.4</td>\n",
              "      <td>11.8</td>\n",
              "      <td>1.0</td>\n",
              "      <td>2.0</td>\n",
              "      <td>10.0</td>\n",
              "      <td>10.0</td>\n",
              "      <td>0.6</td>\n",
              "      <td>...</td>\n",
              "      <td>0.0</td>\n",
              "      <td>0.18</td>\n",
              "      <td>0.16</td>\n",
              "      <td>0.20</td>\n",
              "      <td>0</td>\n",
              "      <td>0</td>\n",
              "      <td>0.718447</td>\n",
              "      <td>1.378882</td>\n",
              "      <td>1.919255</td>\n",
              "      <td>0</td>\n",
              "    </tr>\n",
              "    <tr>\n",
              "      <th>1</th>\n",
              "      <td>5</td>\n",
              "      <td>2.0</td>\n",
              "      <td>21.6</td>\n",
              "      <td>16.4</td>\n",
              "      <td>11.7</td>\n",
              "      <td>1.0</td>\n",
              "      <td>2.0</td>\n",
              "      <td>10.0</td>\n",
              "      <td>10.0</td>\n",
              "      <td>0.5</td>\n",
              "      <td>...</td>\n",
              "      <td>0.0</td>\n",
              "      <td>0.18</td>\n",
              "      <td>0.16</td>\n",
              "      <td>0.20</td>\n",
              "      <td>0</td>\n",
              "      <td>0</td>\n",
              "      <td>0.683544</td>\n",
              "      <td>1.018868</td>\n",
              "      <td>1.490566</td>\n",
              "      <td>1</td>\n",
              "    </tr>\n",
              "    <tr>\n",
              "      <th>2</th>\n",
              "      <td>5</td>\n",
              "      <td>2.0</td>\n",
              "      <td>21.6</td>\n",
              "      <td>16.4</td>\n",
              "      <td>11.7</td>\n",
              "      <td>1.0</td>\n",
              "      <td>2.0</td>\n",
              "      <td>10.0</td>\n",
              "      <td>10.0</td>\n",
              "      <td>0.5</td>\n",
              "      <td>...</td>\n",
              "      <td>0.0</td>\n",
              "      <td>0.17</td>\n",
              "      <td>0.16</td>\n",
              "      <td>0.18</td>\n",
              "      <td>0</td>\n",
              "      <td>0</td>\n",
              "      <td>0.683544</td>\n",
              "      <td>1.018868</td>\n",
              "      <td>1.490566</td>\n",
              "      <td>2</td>\n",
              "    </tr>\n",
              "    <tr>\n",
              "      <th>3</th>\n",
              "      <td>5</td>\n",
              "      <td>2.0</td>\n",
              "      <td>21.6</td>\n",
              "      <td>16.4</td>\n",
              "      <td>11.7</td>\n",
              "      <td>1.0</td>\n",
              "      <td>2.0</td>\n",
              "      <td>10.0</td>\n",
              "      <td>10.0</td>\n",
              "      <td>0.5</td>\n",
              "      <td>...</td>\n",
              "      <td>0.0</td>\n",
              "      <td>0.18</td>\n",
              "      <td>0.16</td>\n",
              "      <td>0.18</td>\n",
              "      <td>0</td>\n",
              "      <td>0</td>\n",
              "      <td>0.683544</td>\n",
              "      <td>1.018868</td>\n",
              "      <td>1.490566</td>\n",
              "      <td>3</td>\n",
              "    </tr>\n",
              "    <tr>\n",
              "      <th>4</th>\n",
              "      <td>6</td>\n",
              "      <td>1.0</td>\n",
              "      <td>39.2</td>\n",
              "      <td>17.6</td>\n",
              "      <td>18.9</td>\n",
              "      <td>1.0</td>\n",
              "      <td>3.0</td>\n",
              "      <td>17.2</td>\n",
              "      <td>10.0</td>\n",
              "      <td>0.5</td>\n",
              "      <td>...</td>\n",
              "      <td>0.0</td>\n",
              "      <td>0.17</td>\n",
              "      <td>0.16</td>\n",
              "      <td>0.18</td>\n",
              "      <td>0</td>\n",
              "      <td>0</td>\n",
              "      <td>2.202247</td>\n",
              "      <td>1.361111</td>\n",
              "      <td>0.618056</td>\n",
              "      <td>4</td>\n",
              "    </tr>\n",
              "  </tbody>\n",
              "</table>\n",
              "<p>5 rows × 72 columns</p>\n",
              "</div>\n",
              "      <button class=\"colab-df-convert\" onclick=\"convertToInteractive('df-1d70d643-338a-4898-8e24-17826052c7ac')\"\n",
              "              title=\"Convert this dataframe to an interactive table.\"\n",
              "              style=\"display:none;\">\n",
              "        \n",
              "  <svg xmlns=\"http://www.w3.org/2000/svg\" height=\"24px\"viewBox=\"0 0 24 24\"\n",
              "       width=\"24px\">\n",
              "    <path d=\"M0 0h24v24H0V0z\" fill=\"none\"/>\n",
              "    <path d=\"M18.56 5.44l.94 2.06.94-2.06 2.06-.94-2.06-.94-.94-2.06-.94 2.06-2.06.94zm-11 1L8.5 8.5l.94-2.06 2.06-.94-2.06-.94L8.5 2.5l-.94 2.06-2.06.94zm10 10l.94 2.06.94-2.06 2.06-.94-2.06-.94-.94-2.06-.94 2.06-2.06.94z\"/><path d=\"M17.41 7.96l-1.37-1.37c-.4-.4-.92-.59-1.43-.59-.52 0-1.04.2-1.43.59L10.3 9.45l-7.72 7.72c-.78.78-.78 2.05 0 2.83L4 21.41c.39.39.9.59 1.41.59.51 0 1.02-.2 1.41-.59l7.78-7.78 2.81-2.81c.8-.78.8-2.07 0-2.86zM5.41 20L4 18.59l7.72-7.72 1.47 1.35L5.41 20z\"/>\n",
              "  </svg>\n",
              "      </button>\n",
              "      \n",
              "  <style>\n",
              "    .colab-df-container {\n",
              "      display:flex;\n",
              "      flex-wrap:wrap;\n",
              "      gap: 12px;\n",
              "    }\n",
              "\n",
              "    .colab-df-convert {\n",
              "      background-color: #E8F0FE;\n",
              "      border: none;\n",
              "      border-radius: 50%;\n",
              "      cursor: pointer;\n",
              "      display: none;\n",
              "      fill: #1967D2;\n",
              "      height: 32px;\n",
              "      padding: 0 0 0 0;\n",
              "      width: 32px;\n",
              "    }\n",
              "\n",
              "    .colab-df-convert:hover {\n",
              "      background-color: #E2EBFA;\n",
              "      box-shadow: 0px 1px 2px rgba(60, 64, 67, 0.3), 0px 1px 3px 1px rgba(60, 64, 67, 0.15);\n",
              "      fill: #174EA6;\n",
              "    }\n",
              "\n",
              "    [theme=dark] .colab-df-convert {\n",
              "      background-color: #3B4455;\n",
              "      fill: #D2E3FC;\n",
              "    }\n",
              "\n",
              "    [theme=dark] .colab-df-convert:hover {\n",
              "      background-color: #434B5C;\n",
              "      box-shadow: 0px 1px 3px 1px rgba(0, 0, 0, 0.15);\n",
              "      filter: drop-shadow(0px 1px 2px rgba(0, 0, 0, 0.3));\n",
              "      fill: #FFFFFF;\n",
              "    }\n",
              "  </style>\n",
              "\n",
              "      <script>\n",
              "        const buttonEl =\n",
              "          document.querySelector('#df-1d70d643-338a-4898-8e24-17826052c7ac button.colab-df-convert');\n",
              "        buttonEl.style.display =\n",
              "          google.colab.kernel.accessAllowed ? 'block' : 'none';\n",
              "\n",
              "        async function convertToInteractive(key) {\n",
              "          const element = document.querySelector('#df-1d70d643-338a-4898-8e24-17826052c7ac');\n",
              "          const dataTable =\n",
              "            await google.colab.kernel.invokeFunction('convertToInteractive',\n",
              "                                                     [key], {});\n",
              "          if (!dataTable) return;\n",
              "\n",
              "          const docLinkHtml = 'Like what you see? Visit the ' +\n",
              "            '<a target=\"_blank\" href=https://colab.research.google.com/notebooks/data_table.ipynb>data table notebook</a>'\n",
              "            + ' to learn more about interactive tables.';\n",
              "          element.innerHTML = '';\n",
              "          dataTable['output_type'] = 'display_data';\n",
              "          await google.colab.output.renderOutput(dataTable, element);\n",
              "          const docLink = document.createElement('div');\n",
              "          docLink.innerHTML = docLinkHtml;\n",
              "          element.appendChild(docLink);\n",
              "        }\n",
              "      </script>\n",
              "    </div>\n",
              "  </div>\n",
              "  "
            ]
          },
          "metadata": {},
          "execution_count": 122
        }
      ]
    },
    {
      "cell_type": "code",
      "source": [
        "neg, pos = np.bincount(raw_df['injury'])\n",
        "total = neg + pos\n",
        "print('Examples:\\n    Total: {}\\n    Positive: {} ({:.2f}% of total)\\n'.format(\n",
        "    total, pos, 100 * pos / total))"
      ],
      "metadata": {
        "colab": {
          "base_uri": "https://localhost:8080/"
        },
        "id": "793csqMEe14O",
        "outputId": "fb7b43a6-d935-4e98-ba88-f6053676d984"
      },
      "execution_count": 123,
      "outputs": [
        {
          "output_type": "stream",
          "name": "stdout",
          "text": [
            "Examples:\n",
            "    Total: 42798\n",
            "    Positive: 575 (1.34% of total)\n",
            "\n"
          ]
        }
      ]
    },
    {
      "cell_type": "code",
      "source": [
        "cleaned_df = raw_df.copy()\n",
        "\n",
        "# You don't want the `Time` column.\n",
        "cleaned_df.pop('Date')\n",
        "cleaned_df.pop('Athlete ID')"
      ],
      "metadata": {
        "colab": {
          "base_uri": "https://localhost:8080/"
        },
        "id": "LVrIdC6be12A",
        "outputId": "9c7cd3ea-e9d6-45c3-c5ce-fb0c40a9f999"
      },
      "execution_count": 124,
      "outputs": [
        {
          "output_type": "execute_result",
          "data": {
            "text/plain": [
              "0         0\n",
              "1         0\n",
              "2         0\n",
              "3         0\n",
              "4         0\n",
              "         ..\n",
              "42793    71\n",
              "42794    71\n",
              "42795    71\n",
              "42796    71\n",
              "42797    71\n",
              "Name: Athlete ID, Length: 42798, dtype: int64"
            ]
          },
          "metadata": {},
          "execution_count": 124
        }
      ]
    },
    {
      "cell_type": "code",
      "source": [
        "cleaned_df.head()"
      ],
      "metadata": {
        "colab": {
          "base_uri": "https://localhost:8080/",
          "height": 404
        },
        "id": "EWerVEu5e1y1",
        "outputId": "e5238209-2836-4dce-affd-664d1b2ef470"
      },
      "execution_count": 125,
      "outputs": [
        {
          "output_type": "execute_result",
          "data": {
            "text/plain": [
              "   nr. sessions  nr. rest days  total kms  max km one day  \\\n",
              "0             5            2.0       22.2            16.4   \n",
              "1             5            2.0       21.6            16.4   \n",
              "2             5            2.0       21.6            16.4   \n",
              "3             5            2.0       21.6            16.4   \n",
              "4             6            1.0       39.2            17.6   \n",
              "\n",
              "   total km Z3-Z4-Z5-T1-T2  nr. tough sessions (effort in Z5, T1 or T2)  \\\n",
              "0                     11.8                                          1.0   \n",
              "1                     11.7                                          1.0   \n",
              "2                     11.7                                          1.0   \n",
              "3                     11.7                                          1.0   \n",
              "4                     18.9                                          1.0   \n",
              "\n",
              "   nr. days with interval session  total km Z3-4  max km Z3-4 one day  \\\n",
              "0                             2.0           10.0                 10.0   \n",
              "1                             2.0           10.0                 10.0   \n",
              "2                             2.0           10.0                 10.0   \n",
              "3                             2.0           10.0                 10.0   \n",
              "4                             3.0           17.2                 10.0   \n",
              "\n",
              "   total km Z5-T1-T2  ...  avg training success.2  min training success.2  \\\n",
              "0                0.6  ...                     0.0                     0.0   \n",
              "1                0.5  ...                     0.0                     0.0   \n",
              "2                0.5  ...                     0.0                     0.0   \n",
              "3                0.5  ...                     0.0                     0.0   \n",
              "4                0.5  ...                     0.0                     0.0   \n",
              "\n",
              "   max training success.2  avg recovery.2  min recovery.2  max recovery.2  \\\n",
              "0                     0.0            0.18            0.16            0.20   \n",
              "1                     0.0            0.18            0.16            0.20   \n",
              "2                     0.0            0.17            0.16            0.18   \n",
              "3                     0.0            0.18            0.16            0.18   \n",
              "4                     0.0            0.17            0.16            0.18   \n",
              "\n",
              "   injury  rel total kms week 0_1  rel total kms week 0_2  \\\n",
              "0       0                0.718447                1.378882   \n",
              "1       0                0.683544                1.018868   \n",
              "2       0                0.683544                1.018868   \n",
              "3       0                0.683544                1.018868   \n",
              "4       0                2.202247                1.361111   \n",
              "\n",
              "   rel total kms week 1_2  \n",
              "0                1.919255  \n",
              "1                1.490566  \n",
              "2                1.490566  \n",
              "3                1.490566  \n",
              "4                0.618056  \n",
              "\n",
              "[5 rows x 70 columns]"
            ],
            "text/html": [
              "\n",
              "  <div id=\"df-57422033-04ba-4fe9-b32d-71d159215df0\">\n",
              "    <div class=\"colab-df-container\">\n",
              "      <div>\n",
              "<style scoped>\n",
              "    .dataframe tbody tr th:only-of-type {\n",
              "        vertical-align: middle;\n",
              "    }\n",
              "\n",
              "    .dataframe tbody tr th {\n",
              "        vertical-align: top;\n",
              "    }\n",
              "\n",
              "    .dataframe thead th {\n",
              "        text-align: right;\n",
              "    }\n",
              "</style>\n",
              "<table border=\"1\" class=\"dataframe\">\n",
              "  <thead>\n",
              "    <tr style=\"text-align: right;\">\n",
              "      <th></th>\n",
              "      <th>nr. sessions</th>\n",
              "      <th>nr. rest days</th>\n",
              "      <th>total kms</th>\n",
              "      <th>max km one day</th>\n",
              "      <th>total km Z3-Z4-Z5-T1-T2</th>\n",
              "      <th>nr. tough sessions (effort in Z5, T1 or T2)</th>\n",
              "      <th>nr. days with interval session</th>\n",
              "      <th>total km Z3-4</th>\n",
              "      <th>max km Z3-4 one day</th>\n",
              "      <th>total km Z5-T1-T2</th>\n",
              "      <th>...</th>\n",
              "      <th>avg training success.2</th>\n",
              "      <th>min training success.2</th>\n",
              "      <th>max training success.2</th>\n",
              "      <th>avg recovery.2</th>\n",
              "      <th>min recovery.2</th>\n",
              "      <th>max recovery.2</th>\n",
              "      <th>injury</th>\n",
              "      <th>rel total kms week 0_1</th>\n",
              "      <th>rel total kms week 0_2</th>\n",
              "      <th>rel total kms week 1_2</th>\n",
              "    </tr>\n",
              "  </thead>\n",
              "  <tbody>\n",
              "    <tr>\n",
              "      <th>0</th>\n",
              "      <td>5</td>\n",
              "      <td>2.0</td>\n",
              "      <td>22.2</td>\n",
              "      <td>16.4</td>\n",
              "      <td>11.8</td>\n",
              "      <td>1.0</td>\n",
              "      <td>2.0</td>\n",
              "      <td>10.0</td>\n",
              "      <td>10.0</td>\n",
              "      <td>0.6</td>\n",
              "      <td>...</td>\n",
              "      <td>0.0</td>\n",
              "      <td>0.0</td>\n",
              "      <td>0.0</td>\n",
              "      <td>0.18</td>\n",
              "      <td>0.16</td>\n",
              "      <td>0.20</td>\n",
              "      <td>0</td>\n",
              "      <td>0.718447</td>\n",
              "      <td>1.378882</td>\n",
              "      <td>1.919255</td>\n",
              "    </tr>\n",
              "    <tr>\n",
              "      <th>1</th>\n",
              "      <td>5</td>\n",
              "      <td>2.0</td>\n",
              "      <td>21.6</td>\n",
              "      <td>16.4</td>\n",
              "      <td>11.7</td>\n",
              "      <td>1.0</td>\n",
              "      <td>2.0</td>\n",
              "      <td>10.0</td>\n",
              "      <td>10.0</td>\n",
              "      <td>0.5</td>\n",
              "      <td>...</td>\n",
              "      <td>0.0</td>\n",
              "      <td>0.0</td>\n",
              "      <td>0.0</td>\n",
              "      <td>0.18</td>\n",
              "      <td>0.16</td>\n",
              "      <td>0.20</td>\n",
              "      <td>0</td>\n",
              "      <td>0.683544</td>\n",
              "      <td>1.018868</td>\n",
              "      <td>1.490566</td>\n",
              "    </tr>\n",
              "    <tr>\n",
              "      <th>2</th>\n",
              "      <td>5</td>\n",
              "      <td>2.0</td>\n",
              "      <td>21.6</td>\n",
              "      <td>16.4</td>\n",
              "      <td>11.7</td>\n",
              "      <td>1.0</td>\n",
              "      <td>2.0</td>\n",
              "      <td>10.0</td>\n",
              "      <td>10.0</td>\n",
              "      <td>0.5</td>\n",
              "      <td>...</td>\n",
              "      <td>0.0</td>\n",
              "      <td>0.0</td>\n",
              "      <td>0.0</td>\n",
              "      <td>0.17</td>\n",
              "      <td>0.16</td>\n",
              "      <td>0.18</td>\n",
              "      <td>0</td>\n",
              "      <td>0.683544</td>\n",
              "      <td>1.018868</td>\n",
              "      <td>1.490566</td>\n",
              "    </tr>\n",
              "    <tr>\n",
              "      <th>3</th>\n",
              "      <td>5</td>\n",
              "      <td>2.0</td>\n",
              "      <td>21.6</td>\n",
              "      <td>16.4</td>\n",
              "      <td>11.7</td>\n",
              "      <td>1.0</td>\n",
              "      <td>2.0</td>\n",
              "      <td>10.0</td>\n",
              "      <td>10.0</td>\n",
              "      <td>0.5</td>\n",
              "      <td>...</td>\n",
              "      <td>0.0</td>\n",
              "      <td>0.0</td>\n",
              "      <td>0.0</td>\n",
              "      <td>0.18</td>\n",
              "      <td>0.16</td>\n",
              "      <td>0.18</td>\n",
              "      <td>0</td>\n",
              "      <td>0.683544</td>\n",
              "      <td>1.018868</td>\n",
              "      <td>1.490566</td>\n",
              "    </tr>\n",
              "    <tr>\n",
              "      <th>4</th>\n",
              "      <td>6</td>\n",
              "      <td>1.0</td>\n",
              "      <td>39.2</td>\n",
              "      <td>17.6</td>\n",
              "      <td>18.9</td>\n",
              "      <td>1.0</td>\n",
              "      <td>3.0</td>\n",
              "      <td>17.2</td>\n",
              "      <td>10.0</td>\n",
              "      <td>0.5</td>\n",
              "      <td>...</td>\n",
              "      <td>0.0</td>\n",
              "      <td>0.0</td>\n",
              "      <td>0.0</td>\n",
              "      <td>0.17</td>\n",
              "      <td>0.16</td>\n",
              "      <td>0.18</td>\n",
              "      <td>0</td>\n",
              "      <td>2.202247</td>\n",
              "      <td>1.361111</td>\n",
              "      <td>0.618056</td>\n",
              "    </tr>\n",
              "  </tbody>\n",
              "</table>\n",
              "<p>5 rows × 70 columns</p>\n",
              "</div>\n",
              "      <button class=\"colab-df-convert\" onclick=\"convertToInteractive('df-57422033-04ba-4fe9-b32d-71d159215df0')\"\n",
              "              title=\"Convert this dataframe to an interactive table.\"\n",
              "              style=\"display:none;\">\n",
              "        \n",
              "  <svg xmlns=\"http://www.w3.org/2000/svg\" height=\"24px\"viewBox=\"0 0 24 24\"\n",
              "       width=\"24px\">\n",
              "    <path d=\"M0 0h24v24H0V0z\" fill=\"none\"/>\n",
              "    <path d=\"M18.56 5.44l.94 2.06.94-2.06 2.06-.94-2.06-.94-.94-2.06-.94 2.06-2.06.94zm-11 1L8.5 8.5l.94-2.06 2.06-.94-2.06-.94L8.5 2.5l-.94 2.06-2.06.94zm10 10l.94 2.06.94-2.06 2.06-.94-2.06-.94-.94-2.06-.94 2.06-2.06.94z\"/><path d=\"M17.41 7.96l-1.37-1.37c-.4-.4-.92-.59-1.43-.59-.52 0-1.04.2-1.43.59L10.3 9.45l-7.72 7.72c-.78.78-.78 2.05 0 2.83L4 21.41c.39.39.9.59 1.41.59.51 0 1.02-.2 1.41-.59l7.78-7.78 2.81-2.81c.8-.78.8-2.07 0-2.86zM5.41 20L4 18.59l7.72-7.72 1.47 1.35L5.41 20z\"/>\n",
              "  </svg>\n",
              "      </button>\n",
              "      \n",
              "  <style>\n",
              "    .colab-df-container {\n",
              "      display:flex;\n",
              "      flex-wrap:wrap;\n",
              "      gap: 12px;\n",
              "    }\n",
              "\n",
              "    .colab-df-convert {\n",
              "      background-color: #E8F0FE;\n",
              "      border: none;\n",
              "      border-radius: 50%;\n",
              "      cursor: pointer;\n",
              "      display: none;\n",
              "      fill: #1967D2;\n",
              "      height: 32px;\n",
              "      padding: 0 0 0 0;\n",
              "      width: 32px;\n",
              "    }\n",
              "\n",
              "    .colab-df-convert:hover {\n",
              "      background-color: #E2EBFA;\n",
              "      box-shadow: 0px 1px 2px rgba(60, 64, 67, 0.3), 0px 1px 3px 1px rgba(60, 64, 67, 0.15);\n",
              "      fill: #174EA6;\n",
              "    }\n",
              "\n",
              "    [theme=dark] .colab-df-convert {\n",
              "      background-color: #3B4455;\n",
              "      fill: #D2E3FC;\n",
              "    }\n",
              "\n",
              "    [theme=dark] .colab-df-convert:hover {\n",
              "      background-color: #434B5C;\n",
              "      box-shadow: 0px 1px 3px 1px rgba(0, 0, 0, 0.15);\n",
              "      filter: drop-shadow(0px 1px 2px rgba(0, 0, 0, 0.3));\n",
              "      fill: #FFFFFF;\n",
              "    }\n",
              "  </style>\n",
              "\n",
              "      <script>\n",
              "        const buttonEl =\n",
              "          document.querySelector('#df-57422033-04ba-4fe9-b32d-71d159215df0 button.colab-df-convert');\n",
              "        buttonEl.style.display =\n",
              "          google.colab.kernel.accessAllowed ? 'block' : 'none';\n",
              "\n",
              "        async function convertToInteractive(key) {\n",
              "          const element = document.querySelector('#df-57422033-04ba-4fe9-b32d-71d159215df0');\n",
              "          const dataTable =\n",
              "            await google.colab.kernel.invokeFunction('convertToInteractive',\n",
              "                                                     [key], {});\n",
              "          if (!dataTable) return;\n",
              "\n",
              "          const docLinkHtml = 'Like what you see? Visit the ' +\n",
              "            '<a target=\"_blank\" href=https://colab.research.google.com/notebooks/data_table.ipynb>data table notebook</a>'\n",
              "            + ' to learn more about interactive tables.';\n",
              "          element.innerHTML = '';\n",
              "          dataTable['output_type'] = 'display_data';\n",
              "          await google.colab.output.renderOutput(dataTable, element);\n",
              "          const docLink = document.createElement('div');\n",
              "          docLink.innerHTML = docLinkHtml;\n",
              "          element.appendChild(docLink);\n",
              "        }\n",
              "      </script>\n",
              "    </div>\n",
              "  </div>\n",
              "  "
            ]
          },
          "metadata": {},
          "execution_count": 125
        }
      ]
    },
    {
      "cell_type": "code",
      "source": [
        "y = cleaned_df['injury']\n",
        "X = cleaned_df.drop('injury', axis=1)"
      ],
      "metadata": {
        "id": "7Pwv6Iphe1wN"
      },
      "execution_count": 126,
      "outputs": []
    },
    {
      "cell_type": "code",
      "source": [
        "# summarize class distribution\n",
        "counter = Counter(y)\n",
        "print(counter)"
      ],
      "metadata": {
        "colab": {
          "base_uri": "https://localhost:8080/"
        },
        "id": "lHqyurwUe1uT",
        "outputId": "cacd7ac3-d656-46d5-959b-49bdb125eda7"
      },
      "execution_count": 127,
      "outputs": [
        {
          "output_type": "stream",
          "name": "stdout",
          "text": [
            "Counter({0: 42223, 1: 575})\n"
          ]
        }
      ]
    },
    {
      "cell_type": "code",
      "source": [
        "#split train and test\n",
        "X_train_smt, X_test_smt, y_train_smt, y_test_smt = train_test_split(X, y, test_size=0.3, random_state=15, stratify=y)"
      ],
      "metadata": {
        "id": "9yTwtaure1qd"
      },
      "execution_count": 128,
      "outputs": []
    },
    {
      "cell_type": "code",
      "source": [
        "#model definition\n",
        "xgb_classifier = XGBClassifier(\n",
        "    learning_rate =0.003, \n",
        "    n_estimators=1000,\n",
        "\n",
        ")"
      ],
      "metadata": {
        "id": "jFvsxZ_xiT2Q"
      },
      "execution_count": 129,
      "outputs": []
    },
    {
      "cell_type": "code",
      "source": [
        "X_train_smt.shape"
      ],
      "metadata": {
        "colab": {
          "base_uri": "https://localhost:8080/"
        },
        "id": "P264sTOoiTyC",
        "outputId": "f406b570-7f49-40dd-beed-7385d5680775"
      },
      "execution_count": 130,
      "outputs": [
        {
          "output_type": "execute_result",
          "data": {
            "text/plain": [
              "(29958, 69)"
            ]
          },
          "metadata": {},
          "execution_count": 130
        }
      ]
    },
    {
      "cell_type": "markdown",
      "source": [
        "Generate weights to use on the XGBOOT, this is because the data is so imbalanced"
      ],
      "metadata": {
        "id": "A_iVdL8aifjr"
      }
    },
    {
      "cell_type": "code",
      "source": [
        "from sklearn.utils.class_weight import compute_sample_weight"
      ],
      "metadata": {
        "id": "50PR_reaik0K"
      },
      "execution_count": 131,
      "outputs": []
    },
    {
      "cell_type": "code",
      "source": [
        "sample_weights = compute_sample_weight(\n",
        "    class_weight='balanced',\n",
        "    y=y_train_smt #provide your own target name\n",
        ")\n",
        "\n",
        "xgb_classifier.fit(X_train_smt, y_train_smt, sample_weight=sample_weights)"
      ],
      "metadata": {
        "colab": {
          "base_uri": "https://localhost:8080/"
        },
        "id": "IyGro5vYiTwd",
        "outputId": "66daeb4b-c832-41e3-8db3-773c320f667c"
      },
      "execution_count": 132,
      "outputs": [
        {
          "output_type": "execute_result",
          "data": {
            "text/plain": [
              "XGBClassifier(learning_rate=0.003, n_estimators=1000)"
            ]
          },
          "metadata": {},
          "execution_count": 132
        }
      ]
    },
    {
      "cell_type": "code",
      "source": [
        "# Performance on the train\n",
        "auc = roc_auc_score(y_train_smt, xgb_classifier.predict(X_train_smt))\n",
        "print(\"Performance sur le train : \", auc)\n",
        "\n",
        "# Performance on the test\n",
        "auc = roc_auc_score(y_test_smt, xgb_classifier.predict(X_test_smt))\n",
        "print(\"Performance sur le test : \", auc)"
      ],
      "metadata": {
        "colab": {
          "base_uri": "https://localhost:8080/"
        },
        "id": "xveC-wYniTs-",
        "outputId": "4d547775-ef2b-4916-cb12-edf2a6373741"
      },
      "execution_count": 133,
      "outputs": [
        {
          "output_type": "stream",
          "name": "stdout",
          "text": [
            "Performance sur le train :  0.7468981220571926\n",
            "Performance sur le test :  0.6137289055216527\n"
          ]
        }
      ]
    },
    {
      "cell_type": "code",
      "source": [
        "from sklearn.metrics import confusion_matrix\n",
        "tn, fp, fn, tp = confusion_matrix(y_test_smt, xgb_classifier.predict(X_test_smt)).ravel()\n",
        "# Error rate : \n",
        "err_rate = (fp + fn) / (tp + tn + fn + fp)\n",
        "print(\"Error rate  : \", err_rate)\n",
        "# Accuracy : \n",
        "acc_ = (tp + tn) / (tp + tn + fn + fp)\n",
        "print(\"Accuracy  : \", acc_)\n",
        "# Sensitivity : \n",
        "sens_ = tp / (tp + fn)\n",
        "print(\"Sensitivity  : \", sens_)\n",
        "# Specificity \n",
        "sp_ = tn / (tn + fp)\n",
        "print(\"Specificity  : \", sens_)\n",
        "# False positive rate (FPR)\n",
        "FPR = fp / (tn + fp)\n",
        "print(\"False positive rate  : \", FPR)"
      ],
      "metadata": {
        "colab": {
          "base_uri": "https://localhost:8080/"
        },
        "id": "qqRbE0kCiTpY",
        "outputId": "60a1d831-64d7-461f-cddc-cd9b0e89672b"
      },
      "execution_count": 134,
      "outputs": [
        {
          "output_type": "stream",
          "name": "stdout",
          "text": [
            "Error rate  :  0.30654205607476637\n",
            "Accuracy  :  0.6934579439252336\n",
            "Sensitivity  :  0.5317919075144508\n",
            "Specificity  :  0.5317919075144508\n",
            "False positive rate  :  0.3043340964711455\n"
          ]
        }
      ]
    },
    {
      "cell_type": "code",
      "source": [
        "tn, fp, fn, tp = confusion_matrix(y_train_smt, xgb_classifier.predict(X_train_smt)).ravel()\n",
        "# Error rate : \n",
        "err_rate = (fp + fn) / (tp + tn + fn + fp)\n",
        "print(\"Error rate  on train set : \", err_rate)\n",
        "# Accuracy : \n",
        "acc_ = (tp + tn) / (tp + tn + fn + fp)\n",
        "print(\"Accuracy  on train set  : \", acc_)\n",
        "\n",
        "tn, fp, fn, tp = confusion_matrix(y_test_smt, xgb_classifier.predict(X_test_smt)).ravel()\n",
        "# Error rate : \n",
        "err_rate = (fp + fn) / (tp + tn + fn + fp)\n",
        "print(\"Error rate  on test set : \", err_rate)\n",
        "# Accuracy : \n",
        "acc_ = (tp + tn) / (tp + tn + fn + fp)\n",
        "print(\"Accuracy  on test set  : \", acc_)"
      ],
      "metadata": {
        "colab": {
          "base_uri": "https://localhost:8080/"
        },
        "id": "cg7Sey-6iTnL",
        "outputId": "9e235d6e-620a-4ff3-d388-be2769d21324"
      },
      "execution_count": 135,
      "outputs": [
        {
          "output_type": "stream",
          "name": "stdout",
          "text": [
            "Error rate  on train set :  0.2984845450297083\n",
            "Accuracy  on train set  :  0.7015154549702918\n",
            "Error rate  on test set :  0.30654205607476637\n",
            "Accuracy  on test set  :  0.6934579439252336\n"
          ]
        }
      ]
    },
    {
      "cell_type": "code",
      "source": [
        "X_train_smt.iloc[0]"
      ],
      "metadata": {
        "colab": {
          "base_uri": "https://localhost:8080/"
        },
        "id": "PrvlphzRiTj5",
        "outputId": "a8e1b0ad-8e21-4b6b-827f-f3b53fcd9c36"
      },
      "execution_count": 136,
      "outputs": [
        {
          "output_type": "execute_result",
          "data": {
            "text/plain": [
              "nr. sessions                7.000000\n",
              "nr. rest days               0.000000\n",
              "total kms                  18.700000\n",
              "max km one day              8.500000\n",
              "total km Z3-Z4-Z5-T1-T2     0.800000\n",
              "                             ...    \n",
              "min recovery.2              0.180000\n",
              "max recovery.2              0.210000\n",
              "rel total kms week 0_1      0.519444\n",
              "rel total kms week 0_2      0.444181\n",
              "rel total kms week 1_2      0.855107\n",
              "Name: 32895, Length: 69, dtype: float64"
            ]
          },
          "metadata": {},
          "execution_count": 136
        }
      ]
    },
    {
      "cell_type": "code",
      "source": [
        "sample_record= np.array(X_test_smt.iloc[700]).reshape(1,69)\n",
        "sample_record\n",
        "\n",
        "'''\n",
        "sample_record = np.array(X_test_smt.iloc[700]).reshape(1,69)\n",
        "\n",
        "xgb_classifier.predict(sample_record)[0]'''"
      ],
      "metadata": {
        "colab": {
          "base_uri": "https://localhost:8080/",
          "height": 36
        },
        "id": "PQg0i62_iThK",
        "outputId": "a2879ea4-45f8-44f3-f42a-43198e2ab00d"
      },
      "execution_count": 141,
      "outputs": [
        {
          "output_type": "execute_result",
          "data": {
            "text/plain": [
              "'\\nsample_record = np.array(X_test_smt.iloc[700]).reshape(1,69)\\n\\nxgb_classifier.predict(sample_record)[0]'"
            ],
            "application/vnd.google.colaboratory.intrinsic+json": {
              "type": "string"
            }
          },
          "metadata": {},
          "execution_count": 141
        }
      ]
    },
    {
      "cell_type": "code",
      "source": [
        "#xgb_model_loaded.predict(sample_record)[0]"
      ],
      "metadata": {
        "id": "bd2gMTkdiTfa"
      },
      "execution_count": 144,
      "outputs": []
    },
    {
      "cell_type": "code",
      "source": [
        "print(classification_report(y_test_smt,xgb_classifier.predict(X_test_smt)))"
      ],
      "metadata": {
        "colab": {
          "base_uri": "https://localhost:8080/"
        },
        "id": "f614KK_FiTbs",
        "outputId": "5031be5f-6180-4cc0-90bc-7291dd688be4"
      },
      "execution_count": null,
      "outputs": [
        {
          "output_type": "stream",
          "name": "stdout",
          "text": [
            "              precision    recall  f1-score   support\n",
            "\n",
            "           0       0.99      0.70      0.82     12667\n",
            "           1       0.02      0.53      0.04       173\n",
            "\n",
            "    accuracy                           0.69     12840\n",
            "   macro avg       0.51      0.61      0.43     12840\n",
            "weighted avg       0.98      0.69      0.81     12840\n",
            "\n"
          ]
        }
      ]
    },
    {
      "cell_type": "code",
      "source": [
        "def plot_cm(labels, predictions, p=0.5):\n",
        "    cm = confusion_matrix(labels, predictions > p)\n",
        "    plt.figure(figsize=(5,5))\n",
        "    sns.heatmap(cm, annot=True, fmt=\"d\")\n",
        "    plt.title('Confusion matrix @{:.2f}'.format(p))\n",
        "    plt.ylabel('Actual label')\n",
        "    plt.xlabel('Predicted label')\n",
        "\n",
        "    print('True Negatives: ', cm[0][0])\n",
        "    print('False Positives: ', cm[0][1])\n",
        "    print('False Negatives: ', cm[1][0])\n",
        "    print('True Positives: ', cm[1][1])\n",
        "    print('Total Injuries: ', np.sum(cm[1]))"
      ],
      "metadata": {
        "id": "9pNkZwFwiTaB"
      },
      "execution_count": null,
      "outputs": []
    },
    {
      "cell_type": "code",
      "source": [
        "plot_cm(y_test_smt, xgb_classifier.predict(X_test_smt))"
      ],
      "metadata": {
        "colab": {
          "base_uri": "https://localhost:8080/",
          "height": 437
        },
        "id": "vMmFr41riTVz",
        "outputId": "e7f0d746-3a5e-4971-c30f-702813a8cd46"
      },
      "execution_count": null,
      "outputs": [
        {
          "output_type": "stream",
          "name": "stdout",
          "text": [
            "True Negatives:  8812\n",
            "False Positives:  3855\n",
            "False Negatives:  81\n",
            "True Positives:  92\n",
            "Total Injuries:  173\n"
          ]
        },
        {
          "output_type": "display_data",
          "data": {
            "text/plain": [
              "<Figure size 360x360 with 2 Axes>"
            ],
            "image/png": "[encoded data removed]"
          },
          "metadata": {
            "needs_background": "light"
          }
        }
      ]
    },
    {
      "cell_type": "markdown",
      "source": [
        "Save the model"
      ],
      "metadata": {
        "id": "Wg1riX9djDBl"
      }
    },
    {
      "cell_type": "code",
      "source": [
        "'''import pickle\n",
        "file_name = \"xgb_model_weekly.pkl\"\n",
        "\n",
        "# save\n",
        "pickle.dump(xgb_classifier, open(file_name, \"wb\"))\n",
        "\n",
        "# load\n",
        "xgb_model_loaded = pickle.load(open(file_name, \"rb\"))\n",
        "\n",
        "# test\n",
        "k = np.array(X_test_smt.iloc[700]).reshape(1,69)\n",
        "xgb_model_loaded.predict(k)[0]'''"
      ],
      "metadata": {
        "colab": {
          "base_uri": "https://localhost:8080/",
          "height": 53
        },
        "id": "I65JjPy1iTTP",
        "outputId": "991caffe-1836-4947-da50-62157b540db4"
      },
      "execution_count": 145,
      "outputs": [
        {
          "output_type": "execute_result",
          "data": {
            "text/plain": [
              "'import pickle\\nfile_name = \"xgb_model_weekly.pkl\"\\n\\n# save\\npickle.dump(xgb_classifier, open(file_name, \"wb\"))\\n\\n# load\\nxgb_model_loaded = pickle.load(open(file_name, \"rb\"))\\n\\n# test\\nk = np.array(X_test_smt.iloc[700]).reshape(1,69)\\nxgb_model_loaded.predict(k)[0]'"
            ],
            "application/vnd.google.colaboratory.intrinsic+json": {
              "type": "string"
            }
          },
          "metadata": {},
          "execution_count": 145
        }
      ]
    },
    {
      "cell_type": "markdown",
      "source": [
        "![Screenshot 2022-10-23 144353.png](data:image/png;base64,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)"
      ],
      "metadata": {
        "id": "GkPDsKMG4YXR"
      }
    },
    {
      "cell_type": "markdown",
      "source": [
        "# **THANK YOU FOR TAKING TIME TO STUDY OUR NOTEBOOK. WE HOPE YOU GOT SOME INSIGHTS.**"
      ],
      "metadata": {
        "id": "Y_1D2r35lGVJ"
      }
    }
  ]
}