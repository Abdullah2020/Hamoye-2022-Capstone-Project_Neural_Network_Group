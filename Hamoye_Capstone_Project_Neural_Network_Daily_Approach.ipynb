{
  "nbformat": 4,
  "nbformat_minor": 0,
  "metadata": {
    "colab": {
      "provenance": [],
      "collapsed_sections": [
        "fd_XouBTC_wW",
        "d-JOwWtUDMIG",
        "yHMRgxnwEkPt",
        "07upzaHJFH4c",
        "26BG6Do6Hi0K",
        "BefXISXu3HTy",
        "W6VAjUEE4qAh",
        "EctQbBYB543Q"
      ],
      "include_colab_link": true
    },
    "kernelspec": {
      "name": "python3",
      "display_name": "Python 3"
    },
    "language_info": {
      "name": "python"
    }
  },
  "cells": [
    {
      "cell_type": "markdown",
      "metadata": {
        "id": "view-in-github",
        "colab_type": "text"
      },
      "source": [
        "<a href=\"https://colab.research.google.com/github/Abdullah2020/Hamoye-2022-Capstone-Project_Neural_Network_Group/blob/master/Hamoye_Capstone_Project_Neural_Network_Daily_Approach.ipynb\" target=\"_parent\"><img src=\"https://colab.research.google.com/assets/colab-badge.svg\" alt=\"Open In Colab\"/></a>"
      ]
    },
    {
      "cell_type": "markdown",
      "source": [
        "# **CAPSTONE PROJECT: INJURY PREDICTION (Daily approach dataset)**\n",
        "\n",
        "By\n",
        "\n",
        "### **NEURAL-NETWORK TEAM**"
      ],
      "metadata": {
        "id": "fd_XouBTC_wW"
      }
    },
    {
      "cell_type": "markdown",
      "source": [
        "This is a notebook by Hamoye 2022 Summer Intership Capston Project [Neural-Network Group]\n",
        "\n",
        "In sports, injuries are common things that athletes sustain. Machine learning (ML) methods could be used to improve injury prediction and allow development of proper approaches to injury prevention. Thus, the aim of our study was therefore to develop a machine learning model that can predict injuries based on how the training regiment of an athlete. This can be used to make injury prevention approaches easier to develop.\n",
        "\n",
        "\n",
        "This Notebook makes use of several Python libraries like Pandas (for Data Cleaning/Manipulation), MatPlotlib (for Data Exploration), Plotly (for some Data Visualisation), Scikit-learn (for Building Machine Learning Model) etc.\n",
        "\n"
      ],
      "metadata": {
        "id": "l8_CyfDqC_i_"
      }
    },
    {
      "cell_type": "markdown",
      "source": [
        "## **Contents**\n",
        "\n",
        "Introduction\n",
        "\n",
        "1. Import Libraries\n",
        "\n",
        "2. Data Sourcing\n",
        "\n",
        "3. Data Wrangling\n",
        "\n",
        "4. Exploratory Data Analysis\n",
        "\n",
        "5. Model Training and Model Evaluation"
      ],
      "metadata": {
        "id": "RXNcaqixDOvd"
      }
    },
    {
      "cell_type": "markdown",
      "source": [
        "# **1.0 Import Libraries**"
      ],
      "metadata": {
        "id": "d-JOwWtUDMIG"
      }
    },
    {
      "cell_type": "markdown",
      "source": [
        "Import all the necessaries libraries to be used in this notebook. The group prefer to do this at the initial stage and added more libraries as the project progresses. "
      ],
      "metadata": {
        "id": "JZiXv9BvHWZi"
      }
    },
    {
      "cell_type": "code",
      "execution_count": 1,
      "metadata": {
        "colab": {
          "base_uri": "https://localhost:8080/"
        },
        "id": "AI_RougvCtKp",
        "outputId": "8fa47d83-71a8-4452-9583-192bd5309e05"
      },
      "outputs": [
        {
          "output_type": "stream",
          "name": "stdout",
          "text": [
            "Setup Completed...!\n"
          ]
        }
      ],
      "source": [
        "#Importing necessary packages\n",
        "import numpy as np\n",
        "import pandas as pd\n",
        "import matplotlib.pyplot as plt\n",
        "import seaborn as sns\n",
        "import warnings\n",
        "warnings.filterwarnings('ignore')\n",
        "\n",
        "import tensorflow as tf\n",
        "from tensorflow import keras\n",
        "import os\n",
        "import tempfile\n",
        "import matplotlib as mpl\n",
        "import sklearn\n",
        "from sklearn.metrics import confusion_matrix\n",
        "from sklearn.model_selection import train_test_split\n",
        "from sklearn.preprocessing import StandardScaler\n",
        "from sklearn.metrics import confusion_matrix , classification_report\n",
        "from sklearn.neighbors import KNeighborsClassifier\n",
        "from imblearn.over_sampling import SMOTE\n",
        "import logging\n",
        "logging.getLogger(\"tensorflow\").setLevel(logging.ERROR)\n",
        "\n",
        "from sklearn.datasets import make_classification\n",
        "from collections import Counter\n",
        "from matplotlib import pyplot\n",
        "from sklearn.metrics import roc_auc_score\n",
        "from numpy import mean\n",
        "import matplotlib.pyplot as plt\n",
        "from sklearn.datasets import make_classification\n",
        "from sklearn.model_selection import cross_val_score\n",
        "from sklearn.model_selection import RepeatedStratifiedKFold\n",
        "from xgboost import XGBClassifier\n",
        "from sklearn.model_selection import GridSearchCV\n",
        "\n",
        "from sklearn.ensemble import RandomForestClassifier\n",
        "\n",
        "print(\"Setup Completed...!\")"
      ]
    },
    {
      "cell_type": "markdown",
      "source": [
        "# **2.0 Data Sourcing**\n",
        "\n",
        "In this project, we were able to get the dataset from Kaggle and Pandas library was used to load the dataset as a comma separated values(csv) file format."
      ],
      "metadata": {
        "id": "yHMRgxnwEkPt"
      }
    },
    {
      "cell_type": "code",
      "source": [
        "df_day = pd.read_csv('/content/day_approach_maskedID_timeseries.csv')"
      ],
      "metadata": {
        "id": "1vQqC8ioC-_d"
      },
      "execution_count": 2,
      "outputs": []
    },
    {
      "cell_type": "markdown",
      "source": [
        "# **3.0 Data Wrangling**"
      ],
      "metadata": {
        "id": "07upzaHJFH4c"
      }
    },
    {
      "cell_type": "code",
      "source": [
        "df_day.head()"
      ],
      "metadata": {
        "colab": {
          "base_uri": "https://localhost:8080/",
          "height": 352
        },
        "id": "dGRtUwKWC-8-",
        "outputId": "3fa10490-c32d-41ec-ef41-2a48a8abfd5e"
      },
      "execution_count": 3,
      "outputs": [
        {
          "output_type": "execute_result",
          "data": {
            "text/plain": [
              "   nr. sessions  total km  km Z3-4  km Z5-T1-T2  km sprinting  \\\n",
              "0           1.0       5.8      0.0          0.6           1.2   \n",
              "1           0.0       0.0      0.0          0.0           0.0   \n",
              "2           1.0       0.0      0.0          0.0           0.0   \n",
              "3           0.0       0.0      0.0          0.0           0.0   \n",
              "4           1.0       0.0      0.0          0.0           0.0   \n",
              "\n",
              "   strength training  hours alternative  perceived exertion  \\\n",
              "0                0.0               0.00                0.11   \n",
              "1                0.0               0.00               -0.01   \n",
              "2                1.0               0.00                0.10   \n",
              "3                0.0               0.00               -0.01   \n",
              "4                0.0               1.08                0.08   \n",
              "\n",
              "   perceived trainingSuccess  perceived recovery  ...  km Z5-T1-T2.6  \\\n",
              "0                       0.00                0.18  ...            0.0   \n",
              "1                      -0.01               -0.01  ...            0.5   \n",
              "2                       0.00                0.17  ...            0.0   \n",
              "3                      -0.01               -0.01  ...            0.0   \n",
              "4                       0.00                0.18  ...            0.0   \n",
              "\n",
              "   km sprinting.6  strength training.6  hours alternative.6  \\\n",
              "0             0.0                  0.0                  1.0   \n",
              "1             1.2                  0.0                  0.0   \n",
              "2             0.0                  0.0                  0.0   \n",
              "3             0.0                  1.0                  0.0   \n",
              "4             0.0                  0.0                  0.0   \n",
              "\n",
              "   perceived exertion.6  perceived trainingSuccess.6  perceived recovery.6  \\\n",
              "0                  0.10                         0.00                  0.15   \n",
              "1                  0.10                         0.00                  0.17   \n",
              "2                 -0.01                        -0.01                 -0.01   \n",
              "3                  0.10                         0.00                  0.17   \n",
              "4                  0.11                         0.00                  0.17   \n",
              "\n",
              "   Athlete ID  injury  Date  \n",
              "0           0       0     0  \n",
              "1           0       0     1  \n",
              "2           0       0     2  \n",
              "3           0       0     3  \n",
              "4           0       0     4  \n",
              "\n",
              "[5 rows x 73 columns]"
            ],
            "text/html": [
              "\n",
              "  <div id=\"df-1dce2087-629a-4b43-b567-963141963dd5\">\n",
              "    <div class=\"colab-df-container\">\n",
              "      <div>\n",
              "<style scoped>\n",
              "    .dataframe tbody tr th:only-of-type {\n",
              "        vertical-align: middle;\n",
              "    }\n",
              "\n",
              "    .dataframe tbody tr th {\n",
              "        vertical-align: top;\n",
              "    }\n",
              "\n",
              "    .dataframe thead th {\n",
              "        text-align: right;\n",
              "    }\n",
              "</style>\n",
              "<table border=\"1\" class=\"dataframe\">\n",
              "  <thead>\n",
              "    <tr style=\"text-align: right;\">\n",
              "      <th></th>\n",
              "      <th>nr. sessions</th>\n",
              "      <th>total km</th>\n",
              "      <th>km Z3-4</th>\n",
              "      <th>km Z5-T1-T2</th>\n",
              "      <th>km sprinting</th>\n",
              "      <th>strength training</th>\n",
              "      <th>hours alternative</th>\n",
              "      <th>perceived exertion</th>\n",
              "      <th>perceived trainingSuccess</th>\n",
              "      <th>perceived recovery</th>\n",
              "      <th>...</th>\n",
              "      <th>km Z5-T1-T2.6</th>\n",
              "      <th>km sprinting.6</th>\n",
              "      <th>strength training.6</th>\n",
              "      <th>hours alternative.6</th>\n",
              "      <th>perceived exertion.6</th>\n",
              "      <th>perceived trainingSuccess.6</th>\n",
              "      <th>perceived recovery.6</th>\n",
              "      <th>Athlete ID</th>\n",
              "      <th>injury</th>\n",
              "      <th>Date</th>\n",
              "    </tr>\n",
              "  </thead>\n",
              "  <tbody>\n",
              "    <tr>\n",
              "      <th>0</th>\n",
              "      <td>1.0</td>\n",
              "      <td>5.8</td>\n",
              "      <td>0.0</td>\n",
              "      <td>0.6</td>\n",
              "      <td>1.2</td>\n",
              "      <td>0.0</td>\n",
              "      <td>0.00</td>\n",
              "      <td>0.11</td>\n",
              "      <td>0.00</td>\n",
              "      <td>0.18</td>\n",
              "      <td>...</td>\n",
              "      <td>0.0</td>\n",
              "      <td>0.0</td>\n",
              "      <td>0.0</td>\n",
              "      <td>1.0</td>\n",
              "      <td>0.10</td>\n",
              "      <td>0.00</td>\n",
              "      <td>0.15</td>\n",
              "      <td>0</td>\n",
              "      <td>0</td>\n",
              "      <td>0</td>\n",
              "    </tr>\n",
              "    <tr>\n",
              "      <th>1</th>\n",
              "      <td>0.0</td>\n",
              "      <td>0.0</td>\n",
              "      <td>0.0</td>\n",
              "      <td>0.0</td>\n",
              "      <td>0.0</td>\n",
              "      <td>0.0</td>\n",
              "      <td>0.00</td>\n",
              "      <td>-0.01</td>\n",
              "      <td>-0.01</td>\n",
              "      <td>-0.01</td>\n",
              "      <td>...</td>\n",
              "      <td>0.5</td>\n",
              "      <td>1.2</td>\n",
              "      <td>0.0</td>\n",
              "      <td>0.0</td>\n",
              "      <td>0.10</td>\n",
              "      <td>0.00</td>\n",
              "      <td>0.17</td>\n",
              "      <td>0</td>\n",
              "      <td>0</td>\n",
              "      <td>1</td>\n",
              "    </tr>\n",
              "    <tr>\n",
              "      <th>2</th>\n",
              "      <td>1.0</td>\n",
              "      <td>0.0</td>\n",
              "      <td>0.0</td>\n",
              "      <td>0.0</td>\n",
              "      <td>0.0</td>\n",
              "      <td>1.0</td>\n",
              "      <td>0.00</td>\n",
              "      <td>0.10</td>\n",
              "      <td>0.00</td>\n",
              "      <td>0.17</td>\n",
              "      <td>...</td>\n",
              "      <td>0.0</td>\n",
              "      <td>0.0</td>\n",
              "      <td>0.0</td>\n",
              "      <td>0.0</td>\n",
              "      <td>-0.01</td>\n",
              "      <td>-0.01</td>\n",
              "      <td>-0.01</td>\n",
              "      <td>0</td>\n",
              "      <td>0</td>\n",
              "      <td>2</td>\n",
              "    </tr>\n",
              "    <tr>\n",
              "      <th>3</th>\n",
              "      <td>0.0</td>\n",
              "      <td>0.0</td>\n",
              "      <td>0.0</td>\n",
              "      <td>0.0</td>\n",
              "      <td>0.0</td>\n",
              "      <td>0.0</td>\n",
              "      <td>0.00</td>\n",
              "      <td>-0.01</td>\n",
              "      <td>-0.01</td>\n",
              "      <td>-0.01</td>\n",
              "      <td>...</td>\n",
              "      <td>0.0</td>\n",
              "      <td>0.0</td>\n",
              "      <td>1.0</td>\n",
              "      <td>0.0</td>\n",
              "      <td>0.10</td>\n",
              "      <td>0.00</td>\n",
              "      <td>0.17</td>\n",
              "      <td>0</td>\n",
              "      <td>0</td>\n",
              "      <td>3</td>\n",
              "    </tr>\n",
              "    <tr>\n",
              "      <th>4</th>\n",
              "      <td>1.0</td>\n",
              "      <td>0.0</td>\n",
              "      <td>0.0</td>\n",
              "      <td>0.0</td>\n",
              "      <td>0.0</td>\n",
              "      <td>0.0</td>\n",
              "      <td>1.08</td>\n",
              "      <td>0.08</td>\n",
              "      <td>0.00</td>\n",
              "      <td>0.18</td>\n",
              "      <td>...</td>\n",
              "      <td>0.0</td>\n",
              "      <td>0.0</td>\n",
              "      <td>0.0</td>\n",
              "      <td>0.0</td>\n",
              "      <td>0.11</td>\n",
              "      <td>0.00</td>\n",
              "      <td>0.17</td>\n",
              "      <td>0</td>\n",
              "      <td>0</td>\n",
              "      <td>4</td>\n",
              "    </tr>\n",
              "  </tbody>\n",
              "</table>\n",
              "<p>5 rows × 73 columns</p>\n",
              "</div>\n",
              "      <button class=\"colab-df-convert\" onclick=\"convertToInteractive('df-1dce2087-629a-4b43-b567-963141963dd5')\"\n",
              "              title=\"Convert this dataframe to an interactive table.\"\n",
              "              style=\"display:none;\">\n",
              "        \n",
              "  <svg xmlns=\"http://www.w3.org/2000/svg\" height=\"24px\"viewBox=\"0 0 24 24\"\n",
              "       width=\"24px\">\n",
              "    <path d=\"M0 0h24v24H0V0z\" fill=\"none\"/>\n",
              "    <path d=\"M18.56 5.44l.94 2.06.94-2.06 2.06-.94-2.06-.94-.94-2.06-.94 2.06-2.06.94zm-11 1L8.5 8.5l.94-2.06 2.06-.94-2.06-.94L8.5 2.5l-.94 2.06-2.06.94zm10 10l.94 2.06.94-2.06 2.06-.94-2.06-.94-.94-2.06-.94 2.06-2.06.94z\"/><path d=\"M17.41 7.96l-1.37-1.37c-.4-.4-.92-.59-1.43-.59-.52 0-1.04.2-1.43.59L10.3 9.45l-7.72 7.72c-.78.78-.78 2.05 0 2.83L4 21.41c.39.39.9.59 1.41.59.51 0 1.02-.2 1.41-.59l7.78-7.78 2.81-2.81c.8-.78.8-2.07 0-2.86zM5.41 20L4 18.59l7.72-7.72 1.47 1.35L5.41 20z\"/>\n",
              "  </svg>\n",
              "      </button>\n",
              "      \n",
              "  <style>\n",
              "    .colab-df-container {\n",
              "      display:flex;\n",
              "      flex-wrap:wrap;\n",
              "      gap: 12px;\n",
              "    }\n",
              "\n",
              "    .colab-df-convert {\n",
              "      background-color: #E8F0FE;\n",
              "      border: none;\n",
              "      border-radius: 50%;\n",
              "      cursor: pointer;\n",
              "      display: none;\n",
              "      fill: #1967D2;\n",
              "      height: 32px;\n",
              "      padding: 0 0 0 0;\n",
              "      width: 32px;\n",
              "    }\n",
              "\n",
              "    .colab-df-convert:hover {\n",
              "      background-color: #E2EBFA;\n",
              "      box-shadow: 0px 1px 2px rgba(60, 64, 67, 0.3), 0px 1px 3px 1px rgba(60, 64, 67, 0.15);\n",
              "      fill: #174EA6;\n",
              "    }\n",
              "\n",
              "    [theme=dark] .colab-df-convert {\n",
              "      background-color: #3B4455;\n",
              "      fill: #D2E3FC;\n",
              "    }\n",
              "\n",
              "    [theme=dark] .colab-df-convert:hover {\n",
              "      background-color: #434B5C;\n",
              "      box-shadow: 0px 1px 3px 1px rgba(0, 0, 0, 0.15);\n",
              "      filter: drop-shadow(0px 1px 2px rgba(0, 0, 0, 0.3));\n",
              "      fill: #FFFFFF;\n",
              "    }\n",
              "  </style>\n",
              "\n",
              "      <script>\n",
              "        const buttonEl =\n",
              "          document.querySelector('#df-1dce2087-629a-4b43-b567-963141963dd5 button.colab-df-convert');\n",
              "        buttonEl.style.display =\n",
              "          google.colab.kernel.accessAllowed ? 'block' : 'none';\n",
              "\n",
              "        async function convertToInteractive(key) {\n",
              "          const element = document.querySelector('#df-1dce2087-629a-4b43-b567-963141963dd5');\n",
              "          const dataTable =\n",
              "            await google.colab.kernel.invokeFunction('convertToInteractive',\n",
              "                                                     [key], {});\n",
              "          if (!dataTable) return;\n",
              "\n",
              "          const docLinkHtml = 'Like what you see? Visit the ' +\n",
              "            '<a target=\"_blank\" href=https://colab.research.google.com/notebooks/data_table.ipynb>data table notebook</a>'\n",
              "            + ' to learn more about interactive tables.';\n",
              "          element.innerHTML = '';\n",
              "          dataTable['output_type'] = 'display_data';\n",
              "          await google.colab.output.renderOutput(dataTable, element);\n",
              "          const docLink = document.createElement('div');\n",
              "          docLink.innerHTML = docLinkHtml;\n",
              "          element.appendChild(docLink);\n",
              "        }\n",
              "      </script>\n",
              "    </div>\n",
              "  </div>\n",
              "  "
            ]
          },
          "metadata": {},
          "execution_count": 3
        }
      ]
    },
    {
      "cell_type": "code",
      "source": [
        "df_day.tail()"
      ],
      "metadata": {
        "colab": {
          "base_uri": "https://localhost:8080/",
          "height": 352
        },
        "id": "l5M4UX6NC-5t",
        "outputId": "0219062c-e04a-44a7-970f-4f61bfe091e1"
      },
      "execution_count": 4,
      "outputs": [
        {
          "output_type": "execute_result",
          "data": {
            "text/plain": [
              "       nr. sessions  total km  km Z3-4  km Z5-T1-T2  km sprinting  \\\n",
              "42761           1.0      16.0      0.0          0.0           0.0   \n",
              "42762           0.0       0.0      0.0          0.0           0.0   \n",
              "42763           1.0      10.0      0.0          0.0           0.0   \n",
              "42764           1.0      15.1      0.0          0.0           0.0   \n",
              "42765           1.0      12.2      0.0          0.0           0.0   \n",
              "\n",
              "       strength training  hours alternative  perceived exertion  \\\n",
              "42761                0.0                0.0                0.54   \n",
              "42762                0.0                0.0               -0.01   \n",
              "42763                0.0                0.0                0.94   \n",
              "42764                0.0                0.0                0.87   \n",
              "42765                0.0                0.0                0.96   \n",
              "\n",
              "       perceived trainingSuccess  perceived recovery  ...  km Z5-T1-T2.6  \\\n",
              "42761                       0.22                0.30  ...            0.0   \n",
              "42762                      -0.01               -0.01  ...            0.0   \n",
              "42763                       0.88                0.11  ...            0.0   \n",
              "42764                       0.86                0.20  ...            0.0   \n",
              "42765                       0.95                0.20  ...            0.0   \n",
              "\n",
              "       km sprinting.6  strength training.6  hours alternative.6  \\\n",
              "42761             0.0                  0.0                  0.0   \n",
              "42762             0.0                  0.0                  0.0   \n",
              "42763             0.0                  0.0                  0.0   \n",
              "42764             0.0                  0.0                  0.0   \n",
              "42765             0.0                  0.0                  0.0   \n",
              "\n",
              "       perceived exertion.6  perceived trainingSuccess.6  \\\n",
              "42761                 -0.01                        -0.01   \n",
              "42762                 -0.01                        -0.01   \n",
              "42763                 -0.01                        -0.01   \n",
              "42764                  0.79                         0.80   \n",
              "42765                  0.51                         0.83   \n",
              "\n",
              "       perceived recovery.6  Athlete ID  injury  Date  \n",
              "42761                 -0.01          71       1  2143  \n",
              "42762                 -0.01          71       1  2286  \n",
              "42763                 -0.01          71       1  2483  \n",
              "42764                  0.11          71       1  2647  \n",
              "42765                  0.15          71       1  2673  \n",
              "\n",
              "[5 rows x 73 columns]"
            ],
            "text/html": [
              "\n",
              "  <div id=\"df-922a8730-7dd1-4373-87fc-5b571b039523\">\n",
              "    <div class=\"colab-df-container\">\n",
              "      <div>\n",
              "<style scoped>\n",
              "    .dataframe tbody tr th:only-of-type {\n",
              "        vertical-align: middle;\n",
              "    }\n",
              "\n",
              "    .dataframe tbody tr th {\n",
              "        vertical-align: top;\n",
              "    }\n",
              "\n",
              "    .dataframe thead th {\n",
              "        text-align: right;\n",
              "    }\n",
              "</style>\n",
              "<table border=\"1\" class=\"dataframe\">\n",
              "  <thead>\n",
              "    <tr style=\"text-align: right;\">\n",
              "      <th></th>\n",
              "      <th>nr. sessions</th>\n",
              "      <th>total km</th>\n",
              "      <th>km Z3-4</th>\n",
              "      <th>km Z5-T1-T2</th>\n",
              "      <th>km sprinting</th>\n",
              "      <th>strength training</th>\n",
              "      <th>hours alternative</th>\n",
              "      <th>perceived exertion</th>\n",
              "      <th>perceived trainingSuccess</th>\n",
              "      <th>perceived recovery</th>\n",
              "      <th>...</th>\n",
              "      <th>km Z5-T1-T2.6</th>\n",
              "      <th>km sprinting.6</th>\n",
              "      <th>strength training.6</th>\n",
              "      <th>hours alternative.6</th>\n",
              "      <th>perceived exertion.6</th>\n",
              "      <th>perceived trainingSuccess.6</th>\n",
              "      <th>perceived recovery.6</th>\n",
              "      <th>Athlete ID</th>\n",
              "      <th>injury</th>\n",
              "      <th>Date</th>\n",
              "    </tr>\n",
              "  </thead>\n",
              "  <tbody>\n",
              "    <tr>\n",
              "      <th>42761</th>\n",
              "      <td>1.0</td>\n",
              "      <td>16.0</td>\n",
              "      <td>0.0</td>\n",
              "      <td>0.0</td>\n",
              "      <td>0.0</td>\n",
              "      <td>0.0</td>\n",
              "      <td>0.0</td>\n",
              "      <td>0.54</td>\n",
              "      <td>0.22</td>\n",
              "      <td>0.30</td>\n",
              "      <td>...</td>\n",
              "      <td>0.0</td>\n",
              "      <td>0.0</td>\n",
              "      <td>0.0</td>\n",
              "      <td>0.0</td>\n",
              "      <td>-0.01</td>\n",
              "      <td>-0.01</td>\n",
              "      <td>-0.01</td>\n",
              "      <td>71</td>\n",
              "      <td>1</td>\n",
              "      <td>2143</td>\n",
              "    </tr>\n",
              "    <tr>\n",
              "      <th>42762</th>\n",
              "      <td>0.0</td>\n",
              "      <td>0.0</td>\n",
              "      <td>0.0</td>\n",
              "      <td>0.0</td>\n",
              "      <td>0.0</td>\n",
              "      <td>0.0</td>\n",
              "      <td>0.0</td>\n",
              "      <td>-0.01</td>\n",
              "      <td>-0.01</td>\n",
              "      <td>-0.01</td>\n",
              "      <td>...</td>\n",
              "      <td>0.0</td>\n",
              "      <td>0.0</td>\n",
              "      <td>0.0</td>\n",
              "      <td>0.0</td>\n",
              "      <td>-0.01</td>\n",
              "      <td>-0.01</td>\n",
              "      <td>-0.01</td>\n",
              "      <td>71</td>\n",
              "      <td>1</td>\n",
              "      <td>2286</td>\n",
              "    </tr>\n",
              "    <tr>\n",
              "      <th>42763</th>\n",
              "      <td>1.0</td>\n",
              "      <td>10.0</td>\n",
              "      <td>0.0</td>\n",
              "      <td>0.0</td>\n",
              "      <td>0.0</td>\n",
              "      <td>0.0</td>\n",
              "      <td>0.0</td>\n",
              "      <td>0.94</td>\n",
              "      <td>0.88</td>\n",
              "      <td>0.11</td>\n",
              "      <td>...</td>\n",
              "      <td>0.0</td>\n",
              "      <td>0.0</td>\n",
              "      <td>0.0</td>\n",
              "      <td>0.0</td>\n",
              "      <td>-0.01</td>\n",
              "      <td>-0.01</td>\n",
              "      <td>-0.01</td>\n",
              "      <td>71</td>\n",
              "      <td>1</td>\n",
              "      <td>2483</td>\n",
              "    </tr>\n",
              "    <tr>\n",
              "      <th>42764</th>\n",
              "      <td>1.0</td>\n",
              "      <td>15.1</td>\n",
              "      <td>0.0</td>\n",
              "      <td>0.0</td>\n",
              "      <td>0.0</td>\n",
              "      <td>0.0</td>\n",
              "      <td>0.0</td>\n",
              "      <td>0.87</td>\n",
              "      <td>0.86</td>\n",
              "      <td>0.20</td>\n",
              "      <td>...</td>\n",
              "      <td>0.0</td>\n",
              "      <td>0.0</td>\n",
              "      <td>0.0</td>\n",
              "      <td>0.0</td>\n",
              "      <td>0.79</td>\n",
              "      <td>0.80</td>\n",
              "      <td>0.11</td>\n",
              "      <td>71</td>\n",
              "      <td>1</td>\n",
              "      <td>2647</td>\n",
              "    </tr>\n",
              "    <tr>\n",
              "      <th>42765</th>\n",
              "      <td>1.0</td>\n",
              "      <td>12.2</td>\n",
              "      <td>0.0</td>\n",
              "      <td>0.0</td>\n",
              "      <td>0.0</td>\n",
              "      <td>0.0</td>\n",
              "      <td>0.0</td>\n",
              "      <td>0.96</td>\n",
              "      <td>0.95</td>\n",
              "      <td>0.20</td>\n",
              "      <td>...</td>\n",
              "      <td>0.0</td>\n",
              "      <td>0.0</td>\n",
              "      <td>0.0</td>\n",
              "      <td>0.0</td>\n",
              "      <td>0.51</td>\n",
              "      <td>0.83</td>\n",
              "      <td>0.15</td>\n",
              "      <td>71</td>\n",
              "      <td>1</td>\n",
              "      <td>2673</td>\n",
              "    </tr>\n",
              "  </tbody>\n",
              "</table>\n",
              "<p>5 rows × 73 columns</p>\n",
              "</div>\n",
              "      <button class=\"colab-df-convert\" onclick=\"convertToInteractive('df-922a8730-7dd1-4373-87fc-5b571b039523')\"\n",
              "              title=\"Convert this dataframe to an interactive table.\"\n",
              "              style=\"display:none;\">\n",
              "        \n",
              "  <svg xmlns=\"http://www.w3.org/2000/svg\" height=\"24px\"viewBox=\"0 0 24 24\"\n",
              "       width=\"24px\">\n",
              "    <path d=\"M0 0h24v24H0V0z\" fill=\"none\"/>\n",
              "    <path d=\"M18.56 5.44l.94 2.06.94-2.06 2.06-.94-2.06-.94-.94-2.06-.94 2.06-2.06.94zm-11 1L8.5 8.5l.94-2.06 2.06-.94-2.06-.94L8.5 2.5l-.94 2.06-2.06.94zm10 10l.94 2.06.94-2.06 2.06-.94-2.06-.94-.94-2.06-.94 2.06-2.06.94z\"/><path d=\"M17.41 7.96l-1.37-1.37c-.4-.4-.92-.59-1.43-.59-.52 0-1.04.2-1.43.59L10.3 9.45l-7.72 7.72c-.78.78-.78 2.05 0 2.83L4 21.41c.39.39.9.59 1.41.59.51 0 1.02-.2 1.41-.59l7.78-7.78 2.81-2.81c.8-.78.8-2.07 0-2.86zM5.41 20L4 18.59l7.72-7.72 1.47 1.35L5.41 20z\"/>\n",
              "  </svg>\n",
              "      </button>\n",
              "      \n",
              "  <style>\n",
              "    .colab-df-container {\n",
              "      display:flex;\n",
              "      flex-wrap:wrap;\n",
              "      gap: 12px;\n",
              "    }\n",
              "\n",
              "    .colab-df-convert {\n",
              "      background-color: #E8F0FE;\n",
              "      border: none;\n",
              "      border-radius: 50%;\n",
              "      cursor: pointer;\n",
              "      display: none;\n",
              "      fill: #1967D2;\n",
              "      height: 32px;\n",
              "      padding: 0 0 0 0;\n",
              "      width: 32px;\n",
              "    }\n",
              "\n",
              "    .colab-df-convert:hover {\n",
              "      background-color: #E2EBFA;\n",
              "      box-shadow: 0px 1px 2px rgba(60, 64, 67, 0.3), 0px 1px 3px 1px rgba(60, 64, 67, 0.15);\n",
              "      fill: #174EA6;\n",
              "    }\n",
              "\n",
              "    [theme=dark] .colab-df-convert {\n",
              "      background-color: #3B4455;\n",
              "      fill: #D2E3FC;\n",
              "    }\n",
              "\n",
              "    [theme=dark] .colab-df-convert:hover {\n",
              "      background-color: #434B5C;\n",
              "      box-shadow: 0px 1px 3px 1px rgba(0, 0, 0, 0.15);\n",
              "      filter: drop-shadow(0px 1px 2px rgba(0, 0, 0, 0.3));\n",
              "      fill: #FFFFFF;\n",
              "    }\n",
              "  </style>\n",
              "\n",
              "      <script>\n",
              "        const buttonEl =\n",
              "          document.querySelector('#df-922a8730-7dd1-4373-87fc-5b571b039523 button.colab-df-convert');\n",
              "        buttonEl.style.display =\n",
              "          google.colab.kernel.accessAllowed ? 'block' : 'none';\n",
              "\n",
              "        async function convertToInteractive(key) {\n",
              "          const element = document.querySelector('#df-922a8730-7dd1-4373-87fc-5b571b039523');\n",
              "          const dataTable =\n",
              "            await google.colab.kernel.invokeFunction('convertToInteractive',\n",
              "                                                     [key], {});\n",
              "          if (!dataTable) return;\n",
              "\n",
              "          const docLinkHtml = 'Like what you see? Visit the ' +\n",
              "            '<a target=\"_blank\" href=https://colab.research.google.com/notebooks/data_table.ipynb>data table notebook</a>'\n",
              "            + ' to learn more about interactive tables.';\n",
              "          element.innerHTML = '';\n",
              "          dataTable['output_type'] = 'display_data';\n",
              "          await google.colab.output.renderOutput(dataTable, element);\n",
              "          const docLink = document.createElement('div');\n",
              "          docLink.innerHTML = docLinkHtml;\n",
              "          element.appendChild(docLink);\n",
              "        }\n",
              "      </script>\n",
              "    </div>\n",
              "  </div>\n",
              "  "
            ]
          },
          "metadata": {},
          "execution_count": 4
        }
      ]
    },
    {
      "cell_type": "code",
      "source": [
        "print(\"There are {} rows and {} columns in the dataset.\".format(df_day.shape[0], df_day.shape[1]))"
      ],
      "metadata": {
        "colab": {
          "base_uri": "https://localhost:8080/"
        },
        "id": "PklzpjsBC-2t",
        "outputId": "02abe6f5-8a0d-4aec-81e5-b927842e04ac"
      },
      "execution_count": 5,
      "outputs": [
        {
          "output_type": "stream",
          "name": "stdout",
          "text": [
            "There are 42766 rows and 73 columns in the dataset.\n"
          ]
        }
      ]
    },
    {
      "cell_type": "code",
      "source": [
        "df_day.info()"
      ],
      "metadata": {
        "colab": {
          "base_uri": "https://localhost:8080/"
        },
        "id": "InGOTwjZC-z2",
        "outputId": "ce55b851-e96b-4b33-dea5-a4ea23cd6686"
      },
      "execution_count": 6,
      "outputs": [
        {
          "output_type": "stream",
          "name": "stdout",
          "text": [
            "<class 'pandas.core.frame.DataFrame'>\n",
            "RangeIndex: 42766 entries, 0 to 42765\n",
            "Data columns (total 73 columns):\n",
            " #   Column                       Non-Null Count  Dtype  \n",
            "---  ------                       --------------  -----  \n",
            " 0   nr. sessions                 42766 non-null  float64\n",
            " 1   total km                     42766 non-null  float64\n",
            " 2   km Z3-4                      42766 non-null  float64\n",
            " 3   km Z5-T1-T2                  42766 non-null  float64\n",
            " 4   km sprinting                 42766 non-null  float64\n",
            " 5   strength training            42766 non-null  float64\n",
            " 6   hours alternative            42766 non-null  float64\n",
            " 7   perceived exertion           42766 non-null  float64\n",
            " 8   perceived trainingSuccess    42766 non-null  float64\n",
            " 9   perceived recovery           42766 non-null  float64\n",
            " 10  nr. sessions.1               42766 non-null  float64\n",
            " 11  total km.1                   42766 non-null  float64\n",
            " 12  km Z3-4.1                    42766 non-null  float64\n",
            " 13  km Z5-T1-T2.1                42766 non-null  float64\n",
            " 14  km sprinting.1               42766 non-null  float64\n",
            " 15  strength training.1          42766 non-null  float64\n",
            " 16  hours alternative.1          42766 non-null  float64\n",
            " 17  perceived exertion.1         42766 non-null  float64\n",
            " 18  perceived trainingSuccess.1  42766 non-null  float64\n",
            " 19  perceived recovery.1         42766 non-null  float64\n",
            " 20  nr. sessions.2               42766 non-null  float64\n",
            " 21  total km.2                   42766 non-null  float64\n",
            " 22  km Z3-4.2                    42766 non-null  float64\n",
            " 23  km Z5-T1-T2.2                42766 non-null  float64\n",
            " 24  km sprinting.2               42766 non-null  float64\n",
            " 25  strength training.2          42766 non-null  float64\n",
            " 26  hours alternative.2          42766 non-null  float64\n",
            " 27  perceived exertion.2         42766 non-null  float64\n",
            " 28  perceived trainingSuccess.2  42766 non-null  float64\n",
            " 29  perceived recovery.2         42766 non-null  float64\n",
            " 30  nr. sessions.3               42766 non-null  float64\n",
            " 31  total km.3                   42766 non-null  float64\n",
            " 32  km Z3-4.3                    42766 non-null  float64\n",
            " 33  km Z5-T1-T2.3                42766 non-null  float64\n",
            " 34  km sprinting.3               42766 non-null  float64\n",
            " 35  strength training.3          42766 non-null  float64\n",
            " 36  hours alternative.3          42766 non-null  float64\n",
            " 37  perceived exertion.3         42766 non-null  float64\n",
            " 38  perceived trainingSuccess.3  42766 non-null  float64\n",
            " 39  perceived recovery.3         42766 non-null  float64\n",
            " 40  nr. sessions.4               42766 non-null  float64\n",
            " 41  total km.4                   42766 non-null  float64\n",
            " 42  km Z3-4.4                    42766 non-null  float64\n",
            " 43  km Z5-T1-T2.4                42766 non-null  float64\n",
            " 44  km sprinting.4               42766 non-null  float64\n",
            " 45  strength training.4          42766 non-null  float64\n",
            " 46  hours alternative.4          42766 non-null  float64\n",
            " 47  perceived exertion.4         42766 non-null  float64\n",
            " 48  perceived trainingSuccess.4  42766 non-null  float64\n",
            " 49  perceived recovery.4         42766 non-null  float64\n",
            " 50  nr. sessions.5               42766 non-null  float64\n",
            " 51  total km.5                   42766 non-null  float64\n",
            " 52  km Z3-4.5                    42766 non-null  float64\n",
            " 53  km Z5-T1-T2.5                42766 non-null  float64\n",
            " 54  km sprinting.5               42766 non-null  float64\n",
            " 55  strength training.5          42766 non-null  float64\n",
            " 56  hours alternative.5          42766 non-null  float64\n",
            " 57  perceived exertion.5         42766 non-null  float64\n",
            " 58  perceived trainingSuccess.5  42766 non-null  float64\n",
            " 59  perceived recovery.5         42766 non-null  float64\n",
            " 60  nr. sessions.6               42766 non-null  float64\n",
            " 61  total km.6                   42766 non-null  float64\n",
            " 62  km Z3-4.6                    42766 non-null  float64\n",
            " 63  km Z5-T1-T2.6                42766 non-null  float64\n",
            " 64  km sprinting.6               42766 non-null  float64\n",
            " 65  strength training.6          42766 non-null  float64\n",
            " 66  hours alternative.6          42766 non-null  float64\n",
            " 67  perceived exertion.6         42766 non-null  float64\n",
            " 68  perceived trainingSuccess.6  42766 non-null  float64\n",
            " 69  perceived recovery.6         42766 non-null  float64\n",
            " 70  Athlete ID                   42766 non-null  int64  \n",
            " 71  injury                       42766 non-null  int64  \n",
            " 72  Date                         42766 non-null  int64  \n",
            "dtypes: float64(70), int64(3)\n",
            "memory usage: 23.8 MB\n"
          ]
        }
      ]
    },
    {
      "cell_type": "code",
      "source": [
        "df_day.describe()"
      ],
      "metadata": {
        "colab": {
          "base_uri": "https://localhost:8080/",
          "height": 411
        },
        "id": "TmqT5n8fC-w1",
        "outputId": "7651c870-1efc-484a-c077-b06ceb66ef2e"
      },
      "execution_count": 7,
      "outputs": [
        {
          "output_type": "execute_result",
          "data": {
            "text/plain": [
              "       nr. sessions      total km       km Z3-4   km Z5-T1-T2  km sprinting  \\\n",
              "count  42766.000000  42766.000000  42766.000000  42766.000000  42766.000000   \n",
              "mean       0.829561      7.038187      0.691381      0.579930      0.073016   \n",
              "std        0.580696      7.473216      2.317657      1.811938      0.483480   \n",
              "min        0.000000      0.000000      0.000000      0.000000      0.000000   \n",
              "25%        0.000000      0.000000      0.000000      0.000000      0.000000   \n",
              "50%        1.000000      6.000000      0.000000      0.000000      0.000000   \n",
              "75%        1.000000     12.000000      0.000000      0.000000      0.000000   \n",
              "max        2.000000     55.900000     42.200000     48.000000     40.000000   \n",
              "\n",
              "       strength training  hours alternative  perceived exertion  \\\n",
              "count       42766.000000       42766.000000        42766.000000   \n",
              "mean            0.116237           0.163492            0.247788   \n",
              "std             0.326010           0.549664            0.257262   \n",
              "min             0.000000           0.000000           -0.010000   \n",
              "25%             0.000000           0.000000           -0.010000   \n",
              "50%             0.000000           0.000000            0.160000   \n",
              "75%             0.000000           0.000000            0.440000   \n",
              "max             2.000000          10.220000            1.000000   \n",
              "\n",
              "       perceived trainingSuccess  perceived recovery  ...  km Z5-T1-T2.6  \\\n",
              "count               42766.000000        42766.000000  ...   42766.000000   \n",
              "mean                    0.349802            0.195898  ...       0.580347   \n",
              "std                     0.368300            0.190321  ...       1.814538   \n",
              "min                    -0.010000           -0.010000  ...       0.000000   \n",
              "25%                    -0.010000           -0.010000  ...       0.000000   \n",
              "50%                     0.260000            0.160000  ...       0.000000   \n",
              "75%                     0.720000            0.300000  ...       0.000000   \n",
              "max                     1.000000            1.000000  ...      48.000000   \n",
              "\n",
              "       km sprinting.6  strength training.6  hours alternative.6  \\\n",
              "count    42766.000000         42766.000000         42766.000000   \n",
              "mean         0.072595             0.116120             0.162308   \n",
              "std          0.483691             0.326016             0.554031   \n",
              "min          0.000000             0.000000             0.000000   \n",
              "25%          0.000000             0.000000             0.000000   \n",
              "50%          0.000000             0.000000             0.000000   \n",
              "75%          0.000000             0.000000             0.000000   \n",
              "max         40.000000             2.000000            20.000000   \n",
              "\n",
              "       perceived exertion.6  perceived trainingSuccess.6  \\\n",
              "count          42766.000000                 42766.000000   \n",
              "mean               0.247550                     0.349503   \n",
              "std                0.256718                     0.368042   \n",
              "min               -0.010000                    -0.010000   \n",
              "25%               -0.010000                    -0.010000   \n",
              "50%                0.160000                     0.260000   \n",
              "75%                0.440000                     0.720000   \n",
              "max                1.000000                     1.000000   \n",
              "\n",
              "       perceived recovery.6    Athlete ID        injury          Date  \n",
              "count          42766.000000  42766.000000  42766.000000  42766.000000  \n",
              "mean               0.196224     34.550858      0.013632   1228.039892  \n",
              "std                0.190568     19.050033      0.115960    807.021168  \n",
              "min               -0.010000      0.000000      0.000000      0.000000  \n",
              "25%               -0.010000     20.000000      0.000000    436.000000  \n",
              "50%                0.170000     34.000000      0.000000   1256.000000  \n",
              "75%                0.300000     50.000000      0.000000   1913.000000  \n",
              "max                1.000000     73.000000      1.000000   2673.000000  \n",
              "\n",
              "[8 rows x 73 columns]"
            ],
            "text/html": [
              "\n",
              "  <div id=\"df-e71253f1-9990-468d-ae3d-d9c11ed4305d\">\n",
              "    <div class=\"colab-df-container\">\n",
              "      <div>\n",
              "<style scoped>\n",
              "    .dataframe tbody tr th:only-of-type {\n",
              "        vertical-align: middle;\n",
              "    }\n",
              "\n",
              "    .dataframe tbody tr th {\n",
              "        vertical-align: top;\n",
              "    }\n",
              "\n",
              "    .dataframe thead th {\n",
              "        text-align: right;\n",
              "    }\n",
              "</style>\n",
              "<table border=\"1\" class=\"dataframe\">\n",
              "  <thead>\n",
              "    <tr style=\"text-align: right;\">\n",
              "      <th></th>\n",
              "      <th>nr. sessions</th>\n",
              "      <th>total km</th>\n",
              "      <th>km Z3-4</th>\n",
              "      <th>km Z5-T1-T2</th>\n",
              "      <th>km sprinting</th>\n",
              "      <th>strength training</th>\n",
              "      <th>hours alternative</th>\n",
              "      <th>perceived exertion</th>\n",
              "      <th>perceived trainingSuccess</th>\n",
              "      <th>perceived recovery</th>\n",
              "      <th>...</th>\n",
              "      <th>km Z5-T1-T2.6</th>\n",
              "      <th>km sprinting.6</th>\n",
              "      <th>strength training.6</th>\n",
              "      <th>hours alternative.6</th>\n",
              "      <th>perceived exertion.6</th>\n",
              "      <th>perceived trainingSuccess.6</th>\n",
              "      <th>perceived recovery.6</th>\n",
              "      <th>Athlete ID</th>\n",
              "      <th>injury</th>\n",
              "      <th>Date</th>\n",
              "    </tr>\n",
              "  </thead>\n",
              "  <tbody>\n",
              "    <tr>\n",
              "      <th>count</th>\n",
              "      <td>42766.000000</td>\n",
              "      <td>42766.000000</td>\n",
              "      <td>42766.000000</td>\n",
              "      <td>42766.000000</td>\n",
              "      <td>42766.000000</td>\n",
              "      <td>42766.000000</td>\n",
              "      <td>42766.000000</td>\n",
              "      <td>42766.000000</td>\n",
              "      <td>42766.000000</td>\n",
              "      <td>42766.000000</td>\n",
              "      <td>...</td>\n",
              "      <td>42766.000000</td>\n",
              "      <td>42766.000000</td>\n",
              "      <td>42766.000000</td>\n",
              "      <td>42766.000000</td>\n",
              "      <td>42766.000000</td>\n",
              "      <td>42766.000000</td>\n",
              "      <td>42766.000000</td>\n",
              "      <td>42766.000000</td>\n",
              "      <td>42766.000000</td>\n",
              "      <td>42766.000000</td>\n",
              "    </tr>\n",
              "    <tr>\n",
              "      <th>mean</th>\n",
              "      <td>0.829561</td>\n",
              "      <td>7.038187</td>\n",
              "      <td>0.691381</td>\n",
              "      <td>0.579930</td>\n",
              "      <td>0.073016</td>\n",
              "      <td>0.116237</td>\n",
              "      <td>0.163492</td>\n",
              "      <td>0.247788</td>\n",
              "      <td>0.349802</td>\n",
              "      <td>0.195898</td>\n",
              "      <td>...</td>\n",
              "      <td>0.580347</td>\n",
              "      <td>0.072595</td>\n",
              "      <td>0.116120</td>\n",
              "      <td>0.162308</td>\n",
              "      <td>0.247550</td>\n",
              "      <td>0.349503</td>\n",
              "      <td>0.196224</td>\n",
              "      <td>34.550858</td>\n",
              "      <td>0.013632</td>\n",
              "      <td>1228.039892</td>\n",
              "    </tr>\n",
              "    <tr>\n",
              "      <th>std</th>\n",
              "      <td>0.580696</td>\n",
              "      <td>7.473216</td>\n",
              "      <td>2.317657</td>\n",
              "      <td>1.811938</td>\n",
              "      <td>0.483480</td>\n",
              "      <td>0.326010</td>\n",
              "      <td>0.549664</td>\n",
              "      <td>0.257262</td>\n",
              "      <td>0.368300</td>\n",
              "      <td>0.190321</td>\n",
              "      <td>...</td>\n",
              "      <td>1.814538</td>\n",
              "      <td>0.483691</td>\n",
              "      <td>0.326016</td>\n",
              "      <td>0.554031</td>\n",
              "      <td>0.256718</td>\n",
              "      <td>0.368042</td>\n",
              "      <td>0.190568</td>\n",
              "      <td>19.050033</td>\n",
              "      <td>0.115960</td>\n",
              "      <td>807.021168</td>\n",
              "    </tr>\n",
              "    <tr>\n",
              "      <th>min</th>\n",
              "      <td>0.000000</td>\n",
              "      <td>0.000000</td>\n",
              "      <td>0.000000</td>\n",
              "      <td>0.000000</td>\n",
              "      <td>0.000000</td>\n",
              "      <td>0.000000</td>\n",
              "      <td>0.000000</td>\n",
              "      <td>-0.010000</td>\n",
              "      <td>-0.010000</td>\n",
              "      <td>-0.010000</td>\n",
              "      <td>...</td>\n",
              "      <td>0.000000</td>\n",
              "      <td>0.000000</td>\n",
              "      <td>0.000000</td>\n",
              "      <td>0.000000</td>\n",
              "      <td>-0.010000</td>\n",
              "      <td>-0.010000</td>\n",
              "      <td>-0.010000</td>\n",
              "      <td>0.000000</td>\n",
              "      <td>0.000000</td>\n",
              "      <td>0.000000</td>\n",
              "    </tr>\n",
              "    <tr>\n",
              "      <th>25%</th>\n",
              "      <td>0.000000</td>\n",
              "      <td>0.000000</td>\n",
              "      <td>0.000000</td>\n",
              "      <td>0.000000</td>\n",
              "      <td>0.000000</td>\n",
              "      <td>0.000000</td>\n",
              "      <td>0.000000</td>\n",
              "      <td>-0.010000</td>\n",
              "      <td>-0.010000</td>\n",
              "      <td>-0.010000</td>\n",
              "      <td>...</td>\n",
              "      <td>0.000000</td>\n",
              "      <td>0.000000</td>\n",
              "      <td>0.000000</td>\n",
              "      <td>0.000000</td>\n",
              "      <td>-0.010000</td>\n",
              "      <td>-0.010000</td>\n",
              "      <td>-0.010000</td>\n",
              "      <td>20.000000</td>\n",
              "      <td>0.000000</td>\n",
              "      <td>436.000000</td>\n",
              "    </tr>\n",
              "    <tr>\n",
              "      <th>50%</th>\n",
              "      <td>1.000000</td>\n",
              "      <td>6.000000</td>\n",
              "      <td>0.000000</td>\n",
              "      <td>0.000000</td>\n",
              "      <td>0.000000</td>\n",
              "      <td>0.000000</td>\n",
              "      <td>0.000000</td>\n",
              "      <td>0.160000</td>\n",
              "      <td>0.260000</td>\n",
              "      <td>0.160000</td>\n",
              "      <td>...</td>\n",
              "      <td>0.000000</td>\n",
              "      <td>0.000000</td>\n",
              "      <td>0.000000</td>\n",
              "      <td>0.000000</td>\n",
              "      <td>0.160000</td>\n",
              "      <td>0.260000</td>\n",
              "      <td>0.170000</td>\n",
              "      <td>34.000000</td>\n",
              "      <td>0.000000</td>\n",
              "      <td>1256.000000</td>\n",
              "    </tr>\n",
              "    <tr>\n",
              "      <th>75%</th>\n",
              "      <td>1.000000</td>\n",
              "      <td>12.000000</td>\n",
              "      <td>0.000000</td>\n",
              "      <td>0.000000</td>\n",
              "      <td>0.000000</td>\n",
              "      <td>0.000000</td>\n",
              "      <td>0.000000</td>\n",
              "      <td>0.440000</td>\n",
              "      <td>0.720000</td>\n",
              "      <td>0.300000</td>\n",
              "      <td>...</td>\n",
              "      <td>0.000000</td>\n",
              "      <td>0.000000</td>\n",
              "      <td>0.000000</td>\n",
              "      <td>0.000000</td>\n",
              "      <td>0.440000</td>\n",
              "      <td>0.720000</td>\n",
              "      <td>0.300000</td>\n",
              "      <td>50.000000</td>\n",
              "      <td>0.000000</td>\n",
              "      <td>1913.000000</td>\n",
              "    </tr>\n",
              "    <tr>\n",
              "      <th>max</th>\n",
              "      <td>2.000000</td>\n",
              "      <td>55.900000</td>\n",
              "      <td>42.200000</td>\n",
              "      <td>48.000000</td>\n",
              "      <td>40.000000</td>\n",
              "      <td>2.000000</td>\n",
              "      <td>10.220000</td>\n",
              "      <td>1.000000</td>\n",
              "      <td>1.000000</td>\n",
              "      <td>1.000000</td>\n",
              "      <td>...</td>\n",
              "      <td>48.000000</td>\n",
              "      <td>40.000000</td>\n",
              "      <td>2.000000</td>\n",
              "      <td>20.000000</td>\n",
              "      <td>1.000000</td>\n",
              "      <td>1.000000</td>\n",
              "      <td>1.000000</td>\n",
              "      <td>73.000000</td>\n",
              "      <td>1.000000</td>\n",
              "      <td>2673.000000</td>\n",
              "    </tr>\n",
              "  </tbody>\n",
              "</table>\n",
              "<p>8 rows × 73 columns</p>\n",
              "</div>\n",
              "      <button class=\"colab-df-convert\" onclick=\"convertToInteractive('df-e71253f1-9990-468d-ae3d-d9c11ed4305d')\"\n",
              "              title=\"Convert this dataframe to an interactive table.\"\n",
              "              style=\"display:none;\">\n",
              "        \n",
              "  <svg xmlns=\"http://www.w3.org/2000/svg\" height=\"24px\"viewBox=\"0 0 24 24\"\n",
              "       width=\"24px\">\n",
              "    <path d=\"M0 0h24v24H0V0z\" fill=\"none\"/>\n",
              "    <path d=\"M18.56 5.44l.94 2.06.94-2.06 2.06-.94-2.06-.94-.94-2.06-.94 2.06-2.06.94zm-11 1L8.5 8.5l.94-2.06 2.06-.94-2.06-.94L8.5 2.5l-.94 2.06-2.06.94zm10 10l.94 2.06.94-2.06 2.06-.94-2.06-.94-.94-2.06-.94 2.06-2.06.94z\"/><path d=\"M17.41 7.96l-1.37-1.37c-.4-.4-.92-.59-1.43-.59-.52 0-1.04.2-1.43.59L10.3 9.45l-7.72 7.72c-.78.78-.78 2.05 0 2.83L4 21.41c.39.39.9.59 1.41.59.51 0 1.02-.2 1.41-.59l7.78-7.78 2.81-2.81c.8-.78.8-2.07 0-2.86zM5.41 20L4 18.59l7.72-7.72 1.47 1.35L5.41 20z\"/>\n",
              "  </svg>\n",
              "      </button>\n",
              "      \n",
              "  <style>\n",
              "    .colab-df-container {\n",
              "      display:flex;\n",
              "      flex-wrap:wrap;\n",
              "      gap: 12px;\n",
              "    }\n",
              "\n",
              "    .colab-df-convert {\n",
              "      background-color: #E8F0FE;\n",
              "      border: none;\n",
              "      border-radius: 50%;\n",
              "      cursor: pointer;\n",
              "      display: none;\n",
              "      fill: #1967D2;\n",
              "      height: 32px;\n",
              "      padding: 0 0 0 0;\n",
              "      width: 32px;\n",
              "    }\n",
              "\n",
              "    .colab-df-convert:hover {\n",
              "      background-color: #E2EBFA;\n",
              "      box-shadow: 0px 1px 2px rgba(60, 64, 67, 0.3), 0px 1px 3px 1px rgba(60, 64, 67, 0.15);\n",
              "      fill: #174EA6;\n",
              "    }\n",
              "\n",
              "    [theme=dark] .colab-df-convert {\n",
              "      background-color: #3B4455;\n",
              "      fill: #D2E3FC;\n",
              "    }\n",
              "\n",
              "    [theme=dark] .colab-df-convert:hover {\n",
              "      background-color: #434B5C;\n",
              "      box-shadow: 0px 1px 3px 1px rgba(0, 0, 0, 0.15);\n",
              "      filter: drop-shadow(0px 1px 2px rgba(0, 0, 0, 0.3));\n",
              "      fill: #FFFFFF;\n",
              "    }\n",
              "  </style>\n",
              "\n",
              "      <script>\n",
              "        const buttonEl =\n",
              "          document.querySelector('#df-e71253f1-9990-468d-ae3d-d9c11ed4305d button.colab-df-convert');\n",
              "        buttonEl.style.display =\n",
              "          google.colab.kernel.accessAllowed ? 'block' : 'none';\n",
              "\n",
              "        async function convertToInteractive(key) {\n",
              "          const element = document.querySelector('#df-e71253f1-9990-468d-ae3d-d9c11ed4305d');\n",
              "          const dataTable =\n",
              "            await google.colab.kernel.invokeFunction('convertToInteractive',\n",
              "                                                     [key], {});\n",
              "          if (!dataTable) return;\n",
              "\n",
              "          const docLinkHtml = 'Like what you see? Visit the ' +\n",
              "            '<a target=\"_blank\" href=https://colab.research.google.com/notebooks/data_table.ipynb>data table notebook</a>'\n",
              "            + ' to learn more about interactive tables.';\n",
              "          element.innerHTML = '';\n",
              "          dataTable['output_type'] = 'display_data';\n",
              "          await google.colab.output.renderOutput(dataTable, element);\n",
              "          const docLink = document.createElement('div');\n",
              "          docLink.innerHTML = docLinkHtml;\n",
              "          element.appendChild(docLink);\n",
              "        }\n",
              "      </script>\n",
              "    </div>\n",
              "  </div>\n",
              "  "
            ]
          },
          "metadata": {},
          "execution_count": 7
        }
      ]
    },
    {
      "cell_type": "code",
      "source": [
        "df_day.dtypes"
      ],
      "metadata": {
        "colab": {
          "base_uri": "https://localhost:8080/"
        },
        "id": "xNX-_Tg6C-t-",
        "outputId": "ebc168c3-76c1-4299-a2df-32831e72d3f0"
      },
      "execution_count": 8,
      "outputs": [
        {
          "output_type": "execute_result",
          "data": {
            "text/plain": [
              "nr. sessions                   float64\n",
              "total km                       float64\n",
              "km Z3-4                        float64\n",
              "km Z5-T1-T2                    float64\n",
              "km sprinting                   float64\n",
              "                                ...   \n",
              "perceived trainingSuccess.6    float64\n",
              "perceived recovery.6           float64\n",
              "Athlete ID                       int64\n",
              "injury                           int64\n",
              "Date                             int64\n",
              "Length: 73, dtype: object"
            ]
          },
          "metadata": {},
          "execution_count": 8
        }
      ]
    },
    {
      "cell_type": "code",
      "source": [
        "df_day.nunique()"
      ],
      "metadata": {
        "colab": {
          "base_uri": "https://localhost:8080/"
        },
        "id": "clNXiHJFC-rQ",
        "outputId": "0b8394ba-c424-442c-dcb5-80b70cceaaf1"
      },
      "execution_count": 9,
      "outputs": [
        {
          "output_type": "execute_result",
          "data": {
            "text/plain": [
              "nr. sessions                      3\n",
              "total km                        384\n",
              "km Z3-4                         174\n",
              "km Z5-T1-T2                     134\n",
              "km sprinting                     78\n",
              "                               ... \n",
              "perceived trainingSuccess.6     102\n",
              "perceived recovery.6            100\n",
              "Athlete ID                       74\n",
              "injury                            2\n",
              "Date                           2614\n",
              "Length: 73, dtype: int64"
            ]
          },
          "metadata": {},
          "execution_count": 9
        }
      ]
    },
    {
      "cell_type": "code",
      "source": [
        "df_day.columns"
      ],
      "metadata": {
        "colab": {
          "base_uri": "https://localhost:8080/"
        },
        "id": "nl9EA2H3C-oZ",
        "outputId": "b50e2085-83dd-4c90-d391-53b8ae8d7fb5"
      },
      "execution_count": 10,
      "outputs": [
        {
          "output_type": "execute_result",
          "data": {
            "text/plain": [
              "Index(['nr. sessions', 'total km', 'km Z3-4', 'km Z5-T1-T2', 'km sprinting',\n",
              "       'strength training', 'hours alternative', 'perceived exertion',\n",
              "       'perceived trainingSuccess', 'perceived recovery', 'nr. sessions.1',\n",
              "       'total km.1', 'km Z3-4.1', 'km Z5-T1-T2.1', 'km sprinting.1',\n",
              "       'strength training.1', 'hours alternative.1', 'perceived exertion.1',\n",
              "       'perceived trainingSuccess.1', 'perceived recovery.1', 'nr. sessions.2',\n",
              "       'total km.2', 'km Z3-4.2', 'km Z5-T1-T2.2', 'km sprinting.2',\n",
              "       'strength training.2', 'hours alternative.2', 'perceived exertion.2',\n",
              "       'perceived trainingSuccess.2', 'perceived recovery.2', 'nr. sessions.3',\n",
              "       'total km.3', 'km Z3-4.3', 'km Z5-T1-T2.3', 'km sprinting.3',\n",
              "       'strength training.3', 'hours alternative.3', 'perceived exertion.3',\n",
              "       'perceived trainingSuccess.3', 'perceived recovery.3', 'nr. sessions.4',\n",
              "       'total km.4', 'km Z3-4.4', 'km Z5-T1-T2.4', 'km sprinting.4',\n",
              "       'strength training.4', 'hours alternative.4', 'perceived exertion.4',\n",
              "       'perceived trainingSuccess.4', 'perceived recovery.4', 'nr. sessions.5',\n",
              "       'total km.5', 'km Z3-4.5', 'km Z5-T1-T2.5', 'km sprinting.5',\n",
              "       'strength training.5', 'hours alternative.5', 'perceived exertion.5',\n",
              "       'perceived trainingSuccess.5', 'perceived recovery.5', 'nr. sessions.6',\n",
              "       'total km.6', 'km Z3-4.6', 'km Z5-T1-T2.6', 'km sprinting.6',\n",
              "       'strength training.6', 'hours alternative.6', 'perceived exertion.6',\n",
              "       'perceived trainingSuccess.6', 'perceived recovery.6', 'Athlete ID',\n",
              "       'injury', 'Date'],\n",
              "      dtype='object')"
            ]
          },
          "metadata": {},
          "execution_count": 10
        }
      ]
    },
    {
      "cell_type": "markdown",
      "source": [
        "# **4.0 Exploratory data analysis (EDA)**"
      ],
      "metadata": {
        "id": "26BG6Do6Hi0K"
      }
    },
    {
      "cell_type": "markdown",
      "source": [
        "**4.1 Missing values**"
      ],
      "metadata": {
        "id": "qeVrpbd-IKxB"
      }
    },
    {
      "cell_type": "code",
      "source": [
        "df_day.isnull().sum().any()"
      ],
      "metadata": {
        "id": "bqA8t5Qv_-qw",
        "colab": {
          "base_uri": "https://localhost:8080/"
        },
        "outputId": "4e455015-7b3b-4128-c4a3-7c3c0b4d6a17"
      },
      "execution_count": 11,
      "outputs": [
        {
          "output_type": "execute_result",
          "data": {
            "text/plain": [
              "False"
            ]
          },
          "metadata": {},
          "execution_count": 11
        }
      ]
    },
    {
      "cell_type": "markdown",
      "source": [
        "There doesn't seem to be any null values in any of our records."
      ],
      "metadata": {
        "id": "ZimdujGk1stM"
      }
    },
    {
      "cell_type": "code",
      "source": [
        "print(df_day['injury'].value_counts())\n",
        "sns.countplot(df_day['injury'])"
      ],
      "metadata": {
        "id": "LZOlpbuD_-oB",
        "colab": {
          "base_uri": "https://localhost:8080/",
          "height": 348
        },
        "outputId": "3d82f4cc-cce9-4a15-d486-0605fab25e5d"
      },
      "execution_count": 12,
      "outputs": [
        {
          "output_type": "stream",
          "name": "stdout",
          "text": [
            "0    42183\n",
            "1      583\n",
            "Name: injury, dtype: int64\n"
          ]
        },
        {
          "output_type": "execute_result",
          "data": {
            "text/plain": [
              "<matplotlib.axes._subplots.AxesSubplot at 0x7fdff08d6650>"
            ]
          },
          "metadata": {},
          "execution_count": 12
        },
        {
          "output_type": "display_data",
          "data": {
            "text/plain": [
              "<Figure size 432x288 with 1 Axes>"
            ],
            "image/png": "[encoded data removed]"
          },
          "metadata": {
            "needs_background": "light"
          }
        }
      ]
    },
    {
      "cell_type": "markdown",
      "source": [
        "In our entire dataset, there are a total of 42183 times when an athlete didn't got injured, and 583 times when an athlete got injured."
      ],
      "metadata": {
        "id": "UqKwY1Sb1w_b"
      }
    },
    {
      "cell_type": "code",
      "source": [
        "print(df_day['nr. sessions'].sum())\n",
        "print(df_day['nr. sessions.1'].sum())\n",
        "print(df_day['nr. sessions.2'].sum())\n",
        "print(df_day['nr. sessions.3'].sum())\n",
        "print(df_day['nr. sessions.4'].sum())\n",
        "print(df_day['nr. sessions.5'].sum())\n",
        "print(df_day['nr. sessions.6'].sum())"
      ],
      "metadata": {
        "id": "gk3wgWj5_-lb",
        "colab": {
          "base_uri": "https://localhost:8080/"
        },
        "outputId": "d4a93d42-ecc9-4b3f-864e-3246d5ff699d"
      },
      "execution_count": 13,
      "outputs": [
        {
          "output_type": "stream",
          "name": "stdout",
          "text": [
            "35477.0\n",
            "35453.0\n",
            "35477.0\n",
            "35465.0\n",
            "35490.0\n",
            "35443.0\n",
            "35445.0\n"
          ]
        }
      ]
    },
    {
      "cell_type": "markdown",
      "source": [
        "We can see that on an average, the sum of total number of session for all the athletes collectively for all weeks is same."
      ],
      "metadata": {
        "id": "_-qI5Zz013ED"
      }
    },
    {
      "cell_type": "code",
      "source": [
        "df_ath_ses = pd.DataFrame()\n",
        "df_ath_ses['Day0'] = df_day.groupby('Athlete ID')['nr. sessions'].sum()\n",
        "df_ath_ses['Day1'] = df_day.groupby('Athlete ID')['nr. sessions.1'].sum()\n",
        "df_ath_ses['Day2'] = df_day.groupby('Athlete ID')['nr. sessions.2'].sum()\n",
        "df_ath_ses['Day3'] = df_day.groupby('Athlete ID')['nr. sessions.3'].sum()\n",
        "df_ath_ses['Day4'] = df_day.groupby('Athlete ID')['nr. sessions.4'].sum()\n",
        "df_ath_ses['Day5'] = df_day.groupby('Athlete ID')['nr. sessions.5'].sum()\n",
        "df_ath_ses['Day6'] = df_day.groupby('Athlete ID')['nr. sessions.6'].sum()"
      ],
      "metadata": {
        "id": "UX0k4gfv_-iZ"
      },
      "execution_count": 14,
      "outputs": []
    },
    {
      "cell_type": "code",
      "source": [
        "df_ath_ses.reset_index(inplace=True)"
      ],
      "metadata": {
        "id": "vRp2cP6L1y0M"
      },
      "execution_count": 15,
      "outputs": []
    },
    {
      "cell_type": "code",
      "source": [
        "df_ath_ses.head()"
      ],
      "metadata": {
        "colab": {
          "base_uri": "https://localhost:8080/",
          "height": 206
        },
        "id": "-Wevlhq91yxd",
        "outputId": "ca7d3902-6b7d-47d1-e9c9-1dfbd493881e"
      },
      "execution_count": 16,
      "outputs": [
        {
          "output_type": "execute_result",
          "data": {
            "text/plain": [
              "   Athlete ID    Day0    Day1    Day2    Day3    Day4    Day5    Day6\n",
              "0           0   181.0   181.0   182.0   180.0   181.0   180.0   179.0\n",
              "1           1   399.0   398.0   397.0   396.0   396.0   394.0   394.0\n",
              "2           2  1024.0  1028.0  1025.0  1025.0  1026.0  1023.0  1024.0\n",
              "3           3   282.0   282.0   281.0   280.0   279.0   277.0   275.0\n",
              "4           4   621.0   623.0   624.0   627.0   627.0   627.0   623.0"
            ],
            "text/html": [
              "\n",
              "  <div id=\"df-6ce0fde4-c4b1-438a-a06f-0f3c1fe1c090\">\n",
              "    <div class=\"colab-df-container\">\n",
              "      <div>\n",
              "<style scoped>\n",
              "    .dataframe tbody tr th:only-of-type {\n",
              "        vertical-align: middle;\n",
              "    }\n",
              "\n",
              "    .dataframe tbody tr th {\n",
              "        vertical-align: top;\n",
              "    }\n",
              "\n",
              "    .dataframe thead th {\n",
              "        text-align: right;\n",
              "    }\n",
              "</style>\n",
              "<table border=\"1\" class=\"dataframe\">\n",
              "  <thead>\n",
              "    <tr style=\"text-align: right;\">\n",
              "      <th></th>\n",
              "      <th>Athlete ID</th>\n",
              "      <th>Day0</th>\n",
              "      <th>Day1</th>\n",
              "      <th>Day2</th>\n",
              "      <th>Day3</th>\n",
              "      <th>Day4</th>\n",
              "      <th>Day5</th>\n",
              "      <th>Day6</th>\n",
              "    </tr>\n",
              "  </thead>\n",
              "  <tbody>\n",
              "    <tr>\n",
              "      <th>0</th>\n",
              "      <td>0</td>\n",
              "      <td>181.0</td>\n",
              "      <td>181.0</td>\n",
              "      <td>182.0</td>\n",
              "      <td>180.0</td>\n",
              "      <td>181.0</td>\n",
              "      <td>180.0</td>\n",
              "      <td>179.0</td>\n",
              "    </tr>\n",
              "    <tr>\n",
              "      <th>1</th>\n",
              "      <td>1</td>\n",
              "      <td>399.0</td>\n",
              "      <td>398.0</td>\n",
              "      <td>397.0</td>\n",
              "      <td>396.0</td>\n",
              "      <td>396.0</td>\n",
              "      <td>394.0</td>\n",
              "      <td>394.0</td>\n",
              "    </tr>\n",
              "    <tr>\n",
              "      <th>2</th>\n",
              "      <td>2</td>\n",
              "      <td>1024.0</td>\n",
              "      <td>1028.0</td>\n",
              "      <td>1025.0</td>\n",
              "      <td>1025.0</td>\n",
              "      <td>1026.0</td>\n",
              "      <td>1023.0</td>\n",
              "      <td>1024.0</td>\n",
              "    </tr>\n",
              "    <tr>\n",
              "      <th>3</th>\n",
              "      <td>3</td>\n",
              "      <td>282.0</td>\n",
              "      <td>282.0</td>\n",
              "      <td>281.0</td>\n",
              "      <td>280.0</td>\n",
              "      <td>279.0</td>\n",
              "      <td>277.0</td>\n",
              "      <td>275.0</td>\n",
              "    </tr>\n",
              "    <tr>\n",
              "      <th>4</th>\n",
              "      <td>4</td>\n",
              "      <td>621.0</td>\n",
              "      <td>623.0</td>\n",
              "      <td>624.0</td>\n",
              "      <td>627.0</td>\n",
              "      <td>627.0</td>\n",
              "      <td>627.0</td>\n",
              "      <td>623.0</td>\n",
              "    </tr>\n",
              "  </tbody>\n",
              "</table>\n",
              "</div>\n",
              "      <button class=\"colab-df-convert\" onclick=\"convertToInteractive('df-6ce0fde4-c4b1-438a-a06f-0f3c1fe1c090')\"\n",
              "              title=\"Convert this dataframe to an interactive table.\"\n",
              "              style=\"display:none;\">\n",
              "        \n",
              "  <svg xmlns=\"http://www.w3.org/2000/svg\" height=\"24px\"viewBox=\"0 0 24 24\"\n",
              "       width=\"24px\">\n",
              "    <path d=\"M0 0h24v24H0V0z\" fill=\"none\"/>\n",
              "    <path d=\"M18.56 5.44l.94 2.06.94-2.06 2.06-.94-2.06-.94-.94-2.06-.94 2.06-2.06.94zm-11 1L8.5 8.5l.94-2.06 2.06-.94-2.06-.94L8.5 2.5l-.94 2.06-2.06.94zm10 10l.94 2.06.94-2.06 2.06-.94-2.06-.94-.94-2.06-.94 2.06-2.06.94z\"/><path d=\"M17.41 7.96l-1.37-1.37c-.4-.4-.92-.59-1.43-.59-.52 0-1.04.2-1.43.59L10.3 9.45l-7.72 7.72c-.78.78-.78 2.05 0 2.83L4 21.41c.39.39.9.59 1.41.59.51 0 1.02-.2 1.41-.59l7.78-7.78 2.81-2.81c.8-.78.8-2.07 0-2.86zM5.41 20L4 18.59l7.72-7.72 1.47 1.35L5.41 20z\"/>\n",
              "  </svg>\n",
              "      </button>\n",
              "      \n",
              "  <style>\n",
              "    .colab-df-container {\n",
              "      display:flex;\n",
              "      flex-wrap:wrap;\n",
              "      gap: 12px;\n",
              "    }\n",
              "\n",
              "    .colab-df-convert {\n",
              "      background-color: #E8F0FE;\n",
              "      border: none;\n",
              "      border-radius: 50%;\n",
              "      cursor: pointer;\n",
              "      display: none;\n",
              "      fill: #1967D2;\n",
              "      height: 32px;\n",
              "      padding: 0 0 0 0;\n",
              "      width: 32px;\n",
              "    }\n",
              "\n",
              "    .colab-df-convert:hover {\n",
              "      background-color: #E2EBFA;\n",
              "      box-shadow: 0px 1px 2px rgba(60, 64, 67, 0.3), 0px 1px 3px 1px rgba(60, 64, 67, 0.15);\n",
              "      fill: #174EA6;\n",
              "    }\n",
              "\n",
              "    [theme=dark] .colab-df-convert {\n",
              "      background-color: #3B4455;\n",
              "      fill: #D2E3FC;\n",
              "    }\n",
              "\n",
              "    [theme=dark] .colab-df-convert:hover {\n",
              "      background-color: #434B5C;\n",
              "      box-shadow: 0px 1px 3px 1px rgba(0, 0, 0, 0.15);\n",
              "      filter: drop-shadow(0px 1px 2px rgba(0, 0, 0, 0.3));\n",
              "      fill: #FFFFFF;\n",
              "    }\n",
              "  </style>\n",
              "\n",
              "      <script>\n",
              "        const buttonEl =\n",
              "          document.querySelector('#df-6ce0fde4-c4b1-438a-a06f-0f3c1fe1c090 button.colab-df-convert');\n",
              "        buttonEl.style.display =\n",
              "          google.colab.kernel.accessAllowed ? 'block' : 'none';\n",
              "\n",
              "        async function convertToInteractive(key) {\n",
              "          const element = document.querySelector('#df-6ce0fde4-c4b1-438a-a06f-0f3c1fe1c090');\n",
              "          const dataTable =\n",
              "            await google.colab.kernel.invokeFunction('convertToInteractive',\n",
              "                                                     [key], {});\n",
              "          if (!dataTable) return;\n",
              "\n",
              "          const docLinkHtml = 'Like what you see? Visit the ' +\n",
              "            '<a target=\"_blank\" href=https://colab.research.google.com/notebooks/data_table.ipynb>data table notebook</a>'\n",
              "            + ' to learn more about interactive tables.';\n",
              "          element.innerHTML = '';\n",
              "          dataTable['output_type'] = 'display_data';\n",
              "          await google.colab.output.renderOutput(dataTable, element);\n",
              "          const docLink = document.createElement('div');\n",
              "          docLink.innerHTML = docLinkHtml;\n",
              "          element.appendChild(docLink);\n",
              "        }\n",
              "      </script>\n",
              "    </div>\n",
              "  </div>\n",
              "  "
            ]
          },
          "metadata": {},
          "execution_count": 16
        }
      ]
    },
    {
      "cell_type": "markdown",
      "source": [
        "The above dataframe shows total number of sessions each Athlete had for all the weeks of their training."
      ],
      "metadata": {
        "id": "if4wtW4c2BxD"
      }
    },
    {
      "cell_type": "code",
      "source": [
        "df_ath_ses['sum'] = df_ath_ses.loc[0:,['Day0','Day1','Day2','Day3','Day4','Day5','Day6']].sum(axis=1)"
      ],
      "metadata": {
        "id": "ZBxZlYsU1yvN"
      },
      "execution_count": 17,
      "outputs": []
    },
    {
      "cell_type": "code",
      "source": [
        "df_ath_ses[['Athlete ID','sum']].sort_values('sum').plot(kind='bar', figsize=(18,4))"
      ],
      "metadata": {
        "colab": {
          "base_uri": "https://localhost:8080/",
          "height": 285
        },
        "id": "wqIjVrST1ysm",
        "outputId": "110736f0-4d35-424e-d9f9-b11049dc5daa"
      },
      "execution_count": 18,
      "outputs": [
        {
          "output_type": "execute_result",
          "data": {
            "text/plain": [
              "<matplotlib.axes._subplots.AxesSubplot at 0x7fdff03a3490>"
            ]
          },
          "metadata": {},
          "execution_count": 18
        },
        {
          "output_type": "display_data",
          "data": {
            "text/plain": [
              "<Figure size 1296x288 with 1 Axes>"
            ],
            "image/png": "[encoded data removed]"
          },
          "metadata": {
            "needs_background": "light"
          }
        }
      ]
    },
    {
      "cell_type": "markdown",
      "source": [
        "From the plot above, we can clearly see that Athleted ID 60 did least number of sessions over all weeks whereas Athlete ID 20 did maximum number of sessions."
      ],
      "metadata": {
        "id": "IUi01Kv82JIU"
      }
    },
    {
      "cell_type": "code",
      "source": [
        "df_ath_ses.loc[0:,['Day0','Day1','Day2','Day3','Day4','Day5','Day6']].mean(axis=1).mean()"
      ],
      "metadata": {
        "colab": {
          "base_uri": "https://localhost:8080/"
        },
        "id": "veyyvZk51ypz",
        "outputId": "7fdc52b0-ae8f-43d4-a0a4-ea14a0336f13"
      },
      "execution_count": 19,
      "outputs": [
        {
          "output_type": "execute_result",
          "data": {
            "text/plain": [
              "479.2471042471043"
            ]
          },
          "metadata": {},
          "execution_count": 19
        }
      ]
    },
    {
      "cell_type": "markdown",
      "source": [
        "On an average, each Athlete did 480 sessions/week."
      ],
      "metadata": {
        "id": "OUovB4B22Nvs"
      }
    },
    {
      "cell_type": "code",
      "source": [
        "df_date_km = pd.DataFrame()\n",
        "df_date_km['Day0'] = df_day.groupby('Athlete ID')['total km'].sum()\n",
        "df_date_km['Day1'] = df_day.groupby('Athlete ID')['total km.1'].sum()\n",
        "df_date_km['Day2'] = df_day.groupby('Athlete ID')['total km.2'].sum()\n",
        "df_date_km['Day3'] = df_day.groupby('Athlete ID')['total km.3'].sum()\n",
        "df_date_km['Day4'] = df_day.groupby('Athlete ID')['total km.4'].sum()\n",
        "df_date_km['Day5'] = df_day.groupby('Athlete ID')['total km.5'].sum()\n",
        "df_date_km['Day6'] = df_day.groupby('Athlete ID')['total km.6'].sum()"
      ],
      "metadata": {
        "id": "I79hZ6Qx1ynX"
      },
      "execution_count": 20,
      "outputs": []
    },
    {
      "cell_type": "code",
      "source": [
        "df_date_km.head()"
      ],
      "metadata": {
        "colab": {
          "base_uri": "https://localhost:8080/",
          "height": 237
        },
        "id": "FRgrWByr2RAp",
        "outputId": "3ca74e35-5337-4f05-c2e1-96e433d77ee2"
      },
      "execution_count": 21,
      "outputs": [
        {
          "output_type": "execute_result",
          "data": {
            "text/plain": [
              "               Day0     Day1     Day2     Day3     Day4     Day5     Day6\n",
              "Athlete ID                                                               \n",
              "0             987.0    992.6    996.7    987.7    994.6   1016.6    974.0\n",
              "1            7315.2   7279.5   7271.2   7233.2   7236.9   7197.9   7212.2\n",
              "2           13198.1  13221.6  13221.8  13172.2  13209.2  13164.4  13143.4\n",
              "3            2326.6   2325.5   2288.3   2287.5   2268.5   2239.7   2220.6\n",
              "4            5951.3   5982.0   5978.6   5981.9   5999.0   5997.6   5981.5"
            ],
            "text/html": [
              "\n",
              "  <div id=\"df-8b0eca03-d01e-4b32-be22-dbd4f816b401\">\n",
              "    <div class=\"colab-df-container\">\n",
              "      <div>\n",
              "<style scoped>\n",
              "    .dataframe tbody tr th:only-of-type {\n",
              "        vertical-align: middle;\n",
              "    }\n",
              "\n",
              "    .dataframe tbody tr th {\n",
              "        vertical-align: top;\n",
              "    }\n",
              "\n",
              "    .dataframe thead th {\n",
              "        text-align: right;\n",
              "    }\n",
              "</style>\n",
              "<table border=\"1\" class=\"dataframe\">\n",
              "  <thead>\n",
              "    <tr style=\"text-align: right;\">\n",
              "      <th></th>\n",
              "      <th>Day0</th>\n",
              "      <th>Day1</th>\n",
              "      <th>Day2</th>\n",
              "      <th>Day3</th>\n",
              "      <th>Day4</th>\n",
              "      <th>Day5</th>\n",
              "      <th>Day6</th>\n",
              "    </tr>\n",
              "    <tr>\n",
              "      <th>Athlete ID</th>\n",
              "      <th></th>\n",
              "      <th></th>\n",
              "      <th></th>\n",
              "      <th></th>\n",
              "      <th></th>\n",
              "      <th></th>\n",
              "      <th></th>\n",
              "    </tr>\n",
              "  </thead>\n",
              "  <tbody>\n",
              "    <tr>\n",
              "      <th>0</th>\n",
              "      <td>987.0</td>\n",
              "      <td>992.6</td>\n",
              "      <td>996.7</td>\n",
              "      <td>987.7</td>\n",
              "      <td>994.6</td>\n",
              "      <td>1016.6</td>\n",
              "      <td>974.0</td>\n",
              "    </tr>\n",
              "    <tr>\n",
              "      <th>1</th>\n",
              "      <td>7315.2</td>\n",
              "      <td>7279.5</td>\n",
              "      <td>7271.2</td>\n",
              "      <td>7233.2</td>\n",
              "      <td>7236.9</td>\n",
              "      <td>7197.9</td>\n",
              "      <td>7212.2</td>\n",
              "    </tr>\n",
              "    <tr>\n",
              "      <th>2</th>\n",
              "      <td>13198.1</td>\n",
              "      <td>13221.6</td>\n",
              "      <td>13221.8</td>\n",
              "      <td>13172.2</td>\n",
              "      <td>13209.2</td>\n",
              "      <td>13164.4</td>\n",
              "      <td>13143.4</td>\n",
              "    </tr>\n",
              "    <tr>\n",
              "      <th>3</th>\n",
              "      <td>2326.6</td>\n",
              "      <td>2325.5</td>\n",
              "      <td>2288.3</td>\n",
              "      <td>2287.5</td>\n",
              "      <td>2268.5</td>\n",
              "      <td>2239.7</td>\n",
              "      <td>2220.6</td>\n",
              "    </tr>\n",
              "    <tr>\n",
              "      <th>4</th>\n",
              "      <td>5951.3</td>\n",
              "      <td>5982.0</td>\n",
              "      <td>5978.6</td>\n",
              "      <td>5981.9</td>\n",
              "      <td>5999.0</td>\n",
              "      <td>5997.6</td>\n",
              "      <td>5981.5</td>\n",
              "    </tr>\n",
              "  </tbody>\n",
              "</table>\n",
              "</div>\n",
              "      <button class=\"colab-df-convert\" onclick=\"convertToInteractive('df-8b0eca03-d01e-4b32-be22-dbd4f816b401')\"\n",
              "              title=\"Convert this dataframe to an interactive table.\"\n",
              "              style=\"display:none;\">\n",
              "        \n",
              "  <svg xmlns=\"http://www.w3.org/2000/svg\" height=\"24px\"viewBox=\"0 0 24 24\"\n",
              "       width=\"24px\">\n",
              "    <path d=\"M0 0h24v24H0V0z\" fill=\"none\"/>\n",
              "    <path d=\"M18.56 5.44l.94 2.06.94-2.06 2.06-.94-2.06-.94-.94-2.06-.94 2.06-2.06.94zm-11 1L8.5 8.5l.94-2.06 2.06-.94-2.06-.94L8.5 2.5l-.94 2.06-2.06.94zm10 10l.94 2.06.94-2.06 2.06-.94-2.06-.94-.94-2.06-.94 2.06-2.06.94z\"/><path d=\"M17.41 7.96l-1.37-1.37c-.4-.4-.92-.59-1.43-.59-.52 0-1.04.2-1.43.59L10.3 9.45l-7.72 7.72c-.78.78-.78 2.05 0 2.83L4 21.41c.39.39.9.59 1.41.59.51 0 1.02-.2 1.41-.59l7.78-7.78 2.81-2.81c.8-.78.8-2.07 0-2.86zM5.41 20L4 18.59l7.72-7.72 1.47 1.35L5.41 20z\"/>\n",
              "  </svg>\n",
              "      </button>\n",
              "      \n",
              "  <style>\n",
              "    .colab-df-container {\n",
              "      display:flex;\n",
              "      flex-wrap:wrap;\n",
              "      gap: 12px;\n",
              "    }\n",
              "\n",
              "    .colab-df-convert {\n",
              "      background-color: #E8F0FE;\n",
              "      border: none;\n",
              "      border-radius: 50%;\n",
              "      cursor: pointer;\n",
              "      display: none;\n",
              "      fill: #1967D2;\n",
              "      height: 32px;\n",
              "      padding: 0 0 0 0;\n",
              "      width: 32px;\n",
              "    }\n",
              "\n",
              "    .colab-df-convert:hover {\n",
              "      background-color: #E2EBFA;\n",
              "      box-shadow: 0px 1px 2px rgba(60, 64, 67, 0.3), 0px 1px 3px 1px rgba(60, 64, 67, 0.15);\n",
              "      fill: #174EA6;\n",
              "    }\n",
              "\n",
              "    [theme=dark] .colab-df-convert {\n",
              "      background-color: #3B4455;\n",
              "      fill: #D2E3FC;\n",
              "    }\n",
              "\n",
              "    [theme=dark] .colab-df-convert:hover {\n",
              "      background-color: #434B5C;\n",
              "      box-shadow: 0px 1px 3px 1px rgba(0, 0, 0, 0.15);\n",
              "      filter: drop-shadow(0px 1px 2px rgba(0, 0, 0, 0.3));\n",
              "      fill: #FFFFFF;\n",
              "    }\n",
              "  </style>\n",
              "\n",
              "      <script>\n",
              "        const buttonEl =\n",
              "          document.querySelector('#df-8b0eca03-d01e-4b32-be22-dbd4f816b401 button.colab-df-convert');\n",
              "        buttonEl.style.display =\n",
              "          google.colab.kernel.accessAllowed ? 'block' : 'none';\n",
              "\n",
              "        async function convertToInteractive(key) {\n",
              "          const element = document.querySelector('#df-8b0eca03-d01e-4b32-be22-dbd4f816b401');\n",
              "          const dataTable =\n",
              "            await google.colab.kernel.invokeFunction('convertToInteractive',\n",
              "                                                     [key], {});\n",
              "          if (!dataTable) return;\n",
              "\n",
              "          const docLinkHtml = 'Like what you see? Visit the ' +\n",
              "            '<a target=\"_blank\" href=https://colab.research.google.com/notebooks/data_table.ipynb>data table notebook</a>'\n",
              "            + ' to learn more about interactive tables.';\n",
              "          element.innerHTML = '';\n",
              "          dataTable['output_type'] = 'display_data';\n",
              "          await google.colab.output.renderOutput(dataTable, element);\n",
              "          const docLink = document.createElement('div');\n",
              "          docLink.innerHTML = docLinkHtml;\n",
              "          element.appendChild(docLink);\n",
              "        }\n",
              "      </script>\n",
              "    </div>\n",
              "  </div>\n",
              "  "
            ]
          },
          "metadata": {},
          "execution_count": 21
        }
      ]
    },
    {
      "cell_type": "code",
      "source": [
        "df_date_km['sum'] = df_date_km.loc[0:,['Day0','Day1','Day2','Day3','Day4','Day5','Day6']].sum(axis=1)"
      ],
      "metadata": {
        "id": "6DPY_qGr2Q9q"
      },
      "execution_count": 22,
      "outputs": []
    },
    {
      "cell_type": "code",
      "source": [
        "df_date_km.reset_index(inplace=True)"
      ],
      "metadata": {
        "id": "SgLL6orW2Q7L"
      },
      "execution_count": 23,
      "outputs": []
    },
    {
      "cell_type": "code",
      "source": [
        "df_date_km[['Athlete ID','sum']].sort_values('sum').plot(kind='bar', figsize=(18,4))"
      ],
      "metadata": {
        "id": "CGBQ4ly4_-fJ",
        "colab": {
          "base_uri": "https://localhost:8080/",
          "height": 285
        },
        "outputId": "65155fbf-86a2-4120-a32d-6ab6a8caa054"
      },
      "execution_count": 24,
      "outputs": [
        {
          "output_type": "execute_result",
          "data": {
            "text/plain": [
              "<matplotlib.axes._subplots.AxesSubplot at 0x7fdff0898390>"
            ]
          },
          "metadata": {},
          "execution_count": 24
        },
        {
          "output_type": "display_data",
          "data": {
            "text/plain": [
              "<Figure size 1296x288 with 1 Axes>"
            ],
            "image/png": "[encoded data removed]"
          },
          "metadata": {
            "needs_background": "light"
          }
        }
      ]
    },
    {
      "cell_type": "markdown",
      "source": [
        "Athlete ID 44 ran the least number of kilometres whereas Athlete ID 32 ran the highest number of kilometres."
      ],
      "metadata": {
        "id": "t4LkKhhL2bcr"
      }
    },
    {
      "cell_type": "code",
      "source": [
        "df_date_ses = pd.DataFrame()\n",
        "\n",
        "df_date_ses['Day0'] = df_day.groupby('Date')['nr. sessions'].sum()\n",
        "df_date_ses['Day1'] = df_day.groupby('Date')['nr. sessions.1'].sum()\n",
        "df_date_ses['Day2'] = df_day.groupby('Date')['nr. sessions.2'].sum()\n",
        "df_date_ses['Day3'] = df_day.groupby('Date')['nr. sessions.3'].sum()\n",
        "df_date_ses['Day4'] = df_day.groupby('Date')['nr. sessions.4'].sum()\n",
        "df_date_ses['Day5'] = df_day.groupby('Date')['nr. sessions.5'].sum()\n",
        "df_date_ses['Day6'] = df_day.groupby('Date')['nr. sessions.6'].sum()"
      ],
      "metadata": {
        "id": "kHWER_2M2Xvm"
      },
      "execution_count": 25,
      "outputs": []
    },
    {
      "cell_type": "code",
      "source": [
        "df_date_ses.head()"
      ],
      "metadata": {
        "colab": {
          "base_uri": "https://localhost:8080/",
          "height": 237
        },
        "id": "0vUu5LQ42XtB",
        "outputId": "42fa256e-cc1e-45a4-8cef-249eda51e0ba"
      },
      "execution_count": 26,
      "outputs": [
        {
          "output_type": "execute_result",
          "data": {
            "text/plain": [
              "      Day0  Day1  Day2  Day3  Day4  Day5  Day6\n",
              "Date                                          \n",
              "0     27.0  34.0  38.0  31.0  28.0  30.0  23.0\n",
              "1     34.0  38.0  31.0  28.0  30.0  23.0  27.0\n",
              "2     38.0  31.0  28.0  30.0  23.0  27.0  31.0\n",
              "3     31.0  28.0  30.0  23.0  27.0  31.0  36.0\n",
              "4     28.0  30.0  24.0  27.0  32.0  37.0  33.0"
            ],
            "text/html": [
              "\n",
              "  <div id=\"df-229d9858-d24f-4d39-829e-b5759da94078\">\n",
              "    <div class=\"colab-df-container\">\n",
              "      <div>\n",
              "<style scoped>\n",
              "    .dataframe tbody tr th:only-of-type {\n",
              "        vertical-align: middle;\n",
              "    }\n",
              "\n",
              "    .dataframe tbody tr th {\n",
              "        vertical-align: top;\n",
              "    }\n",
              "\n",
              "    .dataframe thead th {\n",
              "        text-align: right;\n",
              "    }\n",
              "</style>\n",
              "<table border=\"1\" class=\"dataframe\">\n",
              "  <thead>\n",
              "    <tr style=\"text-align: right;\">\n",
              "      <th></th>\n",
              "      <th>Day0</th>\n",
              "      <th>Day1</th>\n",
              "      <th>Day2</th>\n",
              "      <th>Day3</th>\n",
              "      <th>Day4</th>\n",
              "      <th>Day5</th>\n",
              "      <th>Day6</th>\n",
              "    </tr>\n",
              "    <tr>\n",
              "      <th>Date</th>\n",
              "      <th></th>\n",
              "      <th></th>\n",
              "      <th></th>\n",
              "      <th></th>\n",
              "      <th></th>\n",
              "      <th></th>\n",
              "      <th></th>\n",
              "    </tr>\n",
              "  </thead>\n",
              "  <tbody>\n",
              "    <tr>\n",
              "      <th>0</th>\n",
              "      <td>27.0</td>\n",
              "      <td>34.0</td>\n",
              "      <td>38.0</td>\n",
              "      <td>31.0</td>\n",
              "      <td>28.0</td>\n",
              "      <td>30.0</td>\n",
              "      <td>23.0</td>\n",
              "    </tr>\n",
              "    <tr>\n",
              "      <th>1</th>\n",
              "      <td>34.0</td>\n",
              "      <td>38.0</td>\n",
              "      <td>31.0</td>\n",
              "      <td>28.0</td>\n",
              "      <td>30.0</td>\n",
              "      <td>23.0</td>\n",
              "      <td>27.0</td>\n",
              "    </tr>\n",
              "    <tr>\n",
              "      <th>2</th>\n",
              "      <td>38.0</td>\n",
              "      <td>31.0</td>\n",
              "      <td>28.0</td>\n",
              "      <td>30.0</td>\n",
              "      <td>23.0</td>\n",
              "      <td>27.0</td>\n",
              "      <td>31.0</td>\n",
              "    </tr>\n",
              "    <tr>\n",
              "      <th>3</th>\n",
              "      <td>31.0</td>\n",
              "      <td>28.0</td>\n",
              "      <td>30.0</td>\n",
              "      <td>23.0</td>\n",
              "      <td>27.0</td>\n",
              "      <td>31.0</td>\n",
              "      <td>36.0</td>\n",
              "    </tr>\n",
              "    <tr>\n",
              "      <th>4</th>\n",
              "      <td>28.0</td>\n",
              "      <td>30.0</td>\n",
              "      <td>24.0</td>\n",
              "      <td>27.0</td>\n",
              "      <td>32.0</td>\n",
              "      <td>37.0</td>\n",
              "      <td>33.0</td>\n",
              "    </tr>\n",
              "  </tbody>\n",
              "</table>\n",
              "</div>\n",
              "      <button class=\"colab-df-convert\" onclick=\"convertToInteractive('df-229d9858-d24f-4d39-829e-b5759da94078')\"\n",
              "              title=\"Convert this dataframe to an interactive table.\"\n",
              "              style=\"display:none;\">\n",
              "        \n",
              "  <svg xmlns=\"http://www.w3.org/2000/svg\" height=\"24px\"viewBox=\"0 0 24 24\"\n",
              "       width=\"24px\">\n",
              "    <path d=\"M0 0h24v24H0V0z\" fill=\"none\"/>\n",
              "    <path d=\"M18.56 5.44l.94 2.06.94-2.06 2.06-.94-2.06-.94-.94-2.06-.94 2.06-2.06.94zm-11 1L8.5 8.5l.94-2.06 2.06-.94-2.06-.94L8.5 2.5l-.94 2.06-2.06.94zm10 10l.94 2.06.94-2.06 2.06-.94-2.06-.94-.94-2.06-.94 2.06-2.06.94z\"/><path d=\"M17.41 7.96l-1.37-1.37c-.4-.4-.92-.59-1.43-.59-.52 0-1.04.2-1.43.59L10.3 9.45l-7.72 7.72c-.78.78-.78 2.05 0 2.83L4 21.41c.39.39.9.59 1.41.59.51 0 1.02-.2 1.41-.59l7.78-7.78 2.81-2.81c.8-.78.8-2.07 0-2.86zM5.41 20L4 18.59l7.72-7.72 1.47 1.35L5.41 20z\"/>\n",
              "  </svg>\n",
              "      </button>\n",
              "      \n",
              "  <style>\n",
              "    .colab-df-container {\n",
              "      display:flex;\n",
              "      flex-wrap:wrap;\n",
              "      gap: 12px;\n",
              "    }\n",
              "\n",
              "    .colab-df-convert {\n",
              "      background-color: #E8F0FE;\n",
              "      border: none;\n",
              "      border-radius: 50%;\n",
              "      cursor: pointer;\n",
              "      display: none;\n",
              "      fill: #1967D2;\n",
              "      height: 32px;\n",
              "      padding: 0 0 0 0;\n",
              "      width: 32px;\n",
              "    }\n",
              "\n",
              "    .colab-df-convert:hover {\n",
              "      background-color: #E2EBFA;\n",
              "      box-shadow: 0px 1px 2px rgba(60, 64, 67, 0.3), 0px 1px 3px 1px rgba(60, 64, 67, 0.15);\n",
              "      fill: #174EA6;\n",
              "    }\n",
              "\n",
              "    [theme=dark] .colab-df-convert {\n",
              "      background-color: #3B4455;\n",
              "      fill: #D2E3FC;\n",
              "    }\n",
              "\n",
              "    [theme=dark] .colab-df-convert:hover {\n",
              "      background-color: #434B5C;\n",
              "      box-shadow: 0px 1px 3px 1px rgba(0, 0, 0, 0.15);\n",
              "      filter: drop-shadow(0px 1px 2px rgba(0, 0, 0, 0.3));\n",
              "      fill: #FFFFFF;\n",
              "    }\n",
              "  </style>\n",
              "\n",
              "      <script>\n",
              "        const buttonEl =\n",
              "          document.querySelector('#df-229d9858-d24f-4d39-829e-b5759da94078 button.colab-df-convert');\n",
              "        buttonEl.style.display =\n",
              "          google.colab.kernel.accessAllowed ? 'block' : 'none';\n",
              "\n",
              "        async function convertToInteractive(key) {\n",
              "          const element = document.querySelector('#df-229d9858-d24f-4d39-829e-b5759da94078');\n",
              "          const dataTable =\n",
              "            await google.colab.kernel.invokeFunction('convertToInteractive',\n",
              "                                                     [key], {});\n",
              "          if (!dataTable) return;\n",
              "\n",
              "          const docLinkHtml = 'Like what you see? Visit the ' +\n",
              "            '<a target=\"_blank\" href=https://colab.research.google.com/notebooks/data_table.ipynb>data table notebook</a>'\n",
              "            + ' to learn more about interactive tables.';\n",
              "          element.innerHTML = '';\n",
              "          dataTable['output_type'] = 'display_data';\n",
              "          await google.colab.output.renderOutput(dataTable, element);\n",
              "          const docLink = document.createElement('div');\n",
              "          docLink.innerHTML = docLinkHtml;\n",
              "          element.appendChild(docLink);\n",
              "        }\n",
              "      </script>\n",
              "    </div>\n",
              "  </div>\n",
              "  "
            ]
          },
          "metadata": {},
          "execution_count": 26
        }
      ]
    },
    {
      "cell_type": "markdown",
      "source": [
        "The above dataframe shows us the total number of sessions for each week for all the athletes."
      ],
      "metadata": {
        "id": "_db6InLN2mGz"
      }
    },
    {
      "cell_type": "code",
      "source": [
        "df_date_ses['sum'] = df_date_ses.loc[0:,['Day0','Day1','Day2','Day3','Day4','Day5','Day6']].sum(axis=1)"
      ],
      "metadata": {
        "id": "8z3CjB_Z2XqL"
      },
      "execution_count": 27,
      "outputs": []
    },
    {
      "cell_type": "code",
      "source": [
        "df_date_ses.reset_index(inplace=True)"
      ],
      "metadata": {
        "id": "WhX6w6xB2Xnj"
      },
      "execution_count": 28,
      "outputs": []
    },
    {
      "cell_type": "code",
      "source": [
        "df_date_ses.sort_values('sum')"
      ],
      "metadata": {
        "colab": {
          "base_uri": "https://localhost:8080/",
          "height": 424
        },
        "id": "qcgxYQSJ2p0b",
        "outputId": "086abce7-c4b6-4049-d67f-dc2fd645292b"
      },
      "execution_count": 29,
      "outputs": [
        {
          "output_type": "execute_result",
          "data": {
            "text/plain": [
              "      Date  Day0  Day1  Day2  Day3  Day4  Day5  Day6    sum\n",
              "600    640   2.0   0.0   0.0   0.0   0.0   1.0   0.0    3.0\n",
              "2613  2673   1.0   0.0   1.0   0.0   1.0   0.0   1.0    4.0\n",
              "595    598   0.0   0.0   1.0   0.0   1.0   1.0   1.0    4.0\n",
              "598    606   1.0   0.0   1.0   0.0   1.0   1.0   0.0    4.0\n",
              "2612  2665   0.0   1.0   1.0   1.0   1.0   1.0   0.0    5.0\n",
              "...    ...   ...   ...   ...   ...   ...   ...   ...    ...\n",
              "93      93  37.0  28.0  13.0  49.0  52.0  44.0  47.0  270.0\n",
              "97      97  52.0  44.0  47.0  45.0  46.0   7.0  35.0  276.0\n",
              "94      94  28.0  13.0  49.0  52.0  44.0  47.0  45.0  278.0\n",
              "96      96  49.0  52.0  44.0  47.0  45.0  46.0   7.0  290.0\n",
              "95      95  13.0  49.0  52.0  44.0  47.0  45.0  46.0  296.0\n",
              "\n",
              "[2614 rows x 9 columns]"
            ],
            "text/html": [
              "\n",
              "  <div id=\"df-36f7e67f-62fb-4701-9000-b894883f360b\">\n",
              "    <div class=\"colab-df-container\">\n",
              "      <div>\n",
              "<style scoped>\n",
              "    .dataframe tbody tr th:only-of-type {\n",
              "        vertical-align: middle;\n",
              "    }\n",
              "\n",
              "    .dataframe tbody tr th {\n",
              "        vertical-align: top;\n",
              "    }\n",
              "\n",
              "    .dataframe thead th {\n",
              "        text-align: right;\n",
              "    }\n",
              "</style>\n",
              "<table border=\"1\" class=\"dataframe\">\n",
              "  <thead>\n",
              "    <tr style=\"text-align: right;\">\n",
              "      <th></th>\n",
              "      <th>Date</th>\n",
              "      <th>Day0</th>\n",
              "      <th>Day1</th>\n",
              "      <th>Day2</th>\n",
              "      <th>Day3</th>\n",
              "      <th>Day4</th>\n",
              "      <th>Day5</th>\n",
              "      <th>Day6</th>\n",
              "      <th>sum</th>\n",
              "    </tr>\n",
              "  </thead>\n",
              "  <tbody>\n",
              "    <tr>\n",
              "      <th>600</th>\n",
              "      <td>640</td>\n",
              "      <td>2.0</td>\n",
              "      <td>0.0</td>\n",
              "      <td>0.0</td>\n",
              "      <td>0.0</td>\n",
              "      <td>0.0</td>\n",
              "      <td>1.0</td>\n",
              "      <td>0.0</td>\n",
              "      <td>3.0</td>\n",
              "    </tr>\n",
              "    <tr>\n",
              "      <th>2613</th>\n",
              "      <td>2673</td>\n",
              "      <td>1.0</td>\n",
              "      <td>0.0</td>\n",
              "      <td>1.0</td>\n",
              "      <td>0.0</td>\n",
              "      <td>1.0</td>\n",
              "      <td>0.0</td>\n",
              "      <td>1.0</td>\n",
              "      <td>4.0</td>\n",
              "    </tr>\n",
              "    <tr>\n",
              "      <th>595</th>\n",
              "      <td>598</td>\n",
              "      <td>0.0</td>\n",
              "      <td>0.0</td>\n",
              "      <td>1.0</td>\n",
              "      <td>0.0</td>\n",
              "      <td>1.0</td>\n",
              "      <td>1.0</td>\n",
              "      <td>1.0</td>\n",
              "      <td>4.0</td>\n",
              "    </tr>\n",
              "    <tr>\n",
              "      <th>598</th>\n",
              "      <td>606</td>\n",
              "      <td>1.0</td>\n",
              "      <td>0.0</td>\n",
              "      <td>1.0</td>\n",
              "      <td>0.0</td>\n",
              "      <td>1.0</td>\n",
              "      <td>1.0</td>\n",
              "      <td>0.0</td>\n",
              "      <td>4.0</td>\n",
              "    </tr>\n",
              "    <tr>\n",
              "      <th>2612</th>\n",
              "      <td>2665</td>\n",
              "      <td>0.0</td>\n",
              "      <td>1.0</td>\n",
              "      <td>1.0</td>\n",
              "      <td>1.0</td>\n",
              "      <td>1.0</td>\n",
              "      <td>1.0</td>\n",
              "      <td>0.0</td>\n",
              "      <td>5.0</td>\n",
              "    </tr>\n",
              "    <tr>\n",
              "      <th>...</th>\n",
              "      <td>...</td>\n",
              "      <td>...</td>\n",
              "      <td>...</td>\n",
              "      <td>...</td>\n",
              "      <td>...</td>\n",
              "      <td>...</td>\n",
              "      <td>...</td>\n",
              "      <td>...</td>\n",
              "      <td>...</td>\n",
              "    </tr>\n",
              "    <tr>\n",
              "      <th>93</th>\n",
              "      <td>93</td>\n",
              "      <td>37.0</td>\n",
              "      <td>28.0</td>\n",
              "      <td>13.0</td>\n",
              "      <td>49.0</td>\n",
              "      <td>52.0</td>\n",
              "      <td>44.0</td>\n",
              "      <td>47.0</td>\n",
              "      <td>270.0</td>\n",
              "    </tr>\n",
              "    <tr>\n",
              "      <th>97</th>\n",
              "      <td>97</td>\n",
              "      <td>52.0</td>\n",
              "      <td>44.0</td>\n",
              "      <td>47.0</td>\n",
              "      <td>45.0</td>\n",
              "      <td>46.0</td>\n",
              "      <td>7.0</td>\n",
              "      <td>35.0</td>\n",
              "      <td>276.0</td>\n",
              "    </tr>\n",
              "    <tr>\n",
              "      <th>94</th>\n",
              "      <td>94</td>\n",
              "      <td>28.0</td>\n",
              "      <td>13.0</td>\n",
              "      <td>49.0</td>\n",
              "      <td>52.0</td>\n",
              "      <td>44.0</td>\n",
              "      <td>47.0</td>\n",
              "      <td>45.0</td>\n",
              "      <td>278.0</td>\n",
              "    </tr>\n",
              "    <tr>\n",
              "      <th>96</th>\n",
              "      <td>96</td>\n",
              "      <td>49.0</td>\n",
              "      <td>52.0</td>\n",
              "      <td>44.0</td>\n",
              "      <td>47.0</td>\n",
              "      <td>45.0</td>\n",
              "      <td>46.0</td>\n",
              "      <td>7.0</td>\n",
              "      <td>290.0</td>\n",
              "    </tr>\n",
              "    <tr>\n",
              "      <th>95</th>\n",
              "      <td>95</td>\n",
              "      <td>13.0</td>\n",
              "      <td>49.0</td>\n",
              "      <td>52.0</td>\n",
              "      <td>44.0</td>\n",
              "      <td>47.0</td>\n",
              "      <td>45.0</td>\n",
              "      <td>46.0</td>\n",
              "      <td>296.0</td>\n",
              "    </tr>\n",
              "  </tbody>\n",
              "</table>\n",
              "<p>2614 rows × 9 columns</p>\n",
              "</div>\n",
              "      <button class=\"colab-df-convert\" onclick=\"convertToInteractive('df-36f7e67f-62fb-4701-9000-b894883f360b')\"\n",
              "              title=\"Convert this dataframe to an interactive table.\"\n",
              "              style=\"display:none;\">\n",
              "        \n",
              "  <svg xmlns=\"http://www.w3.org/2000/svg\" height=\"24px\"viewBox=\"0 0 24 24\"\n",
              "       width=\"24px\">\n",
              "    <path d=\"M0 0h24v24H0V0z\" fill=\"none\"/>\n",
              "    <path d=\"M18.56 5.44l.94 2.06.94-2.06 2.06-.94-2.06-.94-.94-2.06-.94 2.06-2.06.94zm-11 1L8.5 8.5l.94-2.06 2.06-.94-2.06-.94L8.5 2.5l-.94 2.06-2.06.94zm10 10l.94 2.06.94-2.06 2.06-.94-2.06-.94-.94-2.06-.94 2.06-2.06.94z\"/><path d=\"M17.41 7.96l-1.37-1.37c-.4-.4-.92-.59-1.43-.59-.52 0-1.04.2-1.43.59L10.3 9.45l-7.72 7.72c-.78.78-.78 2.05 0 2.83L4 21.41c.39.39.9.59 1.41.59.51 0 1.02-.2 1.41-.59l7.78-7.78 2.81-2.81c.8-.78.8-2.07 0-2.86zM5.41 20L4 18.59l7.72-7.72 1.47 1.35L5.41 20z\"/>\n",
              "  </svg>\n",
              "      </button>\n",
              "      \n",
              "  <style>\n",
              "    .colab-df-container {\n",
              "      display:flex;\n",
              "      flex-wrap:wrap;\n",
              "      gap: 12px;\n",
              "    }\n",
              "\n",
              "    .colab-df-convert {\n",
              "      background-color: #E8F0FE;\n",
              "      border: none;\n",
              "      border-radius: 50%;\n",
              "      cursor: pointer;\n",
              "      display: none;\n",
              "      fill: #1967D2;\n",
              "      height: 32px;\n",
              "      padding: 0 0 0 0;\n",
              "      width: 32px;\n",
              "    }\n",
              "\n",
              "    .colab-df-convert:hover {\n",
              "      background-color: #E2EBFA;\n",
              "      box-shadow: 0px 1px 2px rgba(60, 64, 67, 0.3), 0px 1px 3px 1px rgba(60, 64, 67, 0.15);\n",
              "      fill: #174EA6;\n",
              "    }\n",
              "\n",
              "    [theme=dark] .colab-df-convert {\n",
              "      background-color: #3B4455;\n",
              "      fill: #D2E3FC;\n",
              "    }\n",
              "\n",
              "    [theme=dark] .colab-df-convert:hover {\n",
              "      background-color: #434B5C;\n",
              "      box-shadow: 0px 1px 3px 1px rgba(0, 0, 0, 0.15);\n",
              "      filter: drop-shadow(0px 1px 2px rgba(0, 0, 0, 0.3));\n",
              "      fill: #FFFFFF;\n",
              "    }\n",
              "  </style>\n",
              "\n",
              "      <script>\n",
              "        const buttonEl =\n",
              "          document.querySelector('#df-36f7e67f-62fb-4701-9000-b894883f360b button.colab-df-convert');\n",
              "        buttonEl.style.display =\n",
              "          google.colab.kernel.accessAllowed ? 'block' : 'none';\n",
              "\n",
              "        async function convertToInteractive(key) {\n",
              "          const element = document.querySelector('#df-36f7e67f-62fb-4701-9000-b894883f360b');\n",
              "          const dataTable =\n",
              "            await google.colab.kernel.invokeFunction('convertToInteractive',\n",
              "                                                     [key], {});\n",
              "          if (!dataTable) return;\n",
              "\n",
              "          const docLinkHtml = 'Like what you see? Visit the ' +\n",
              "            '<a target=\"_blank\" href=https://colab.research.google.com/notebooks/data_table.ipynb>data table notebook</a>'\n",
              "            + ' to learn more about interactive tables.';\n",
              "          element.innerHTML = '';\n",
              "          dataTable['output_type'] = 'display_data';\n",
              "          await google.colab.output.renderOutput(dataTable, element);\n",
              "          const docLink = document.createElement('div');\n",
              "          docLink.innerHTML = docLinkHtml;\n",
              "          element.appendChild(docLink);\n",
              "        }\n",
              "      </script>\n",
              "    </div>\n",
              "  </div>\n",
              "  "
            ]
          },
          "metadata": {},
          "execution_count": 29
        }
      ]
    },
    {
      "cell_type": "markdown",
      "source": [
        "From the above table, we can clearly see that Week 600 had the lowest number of sessions (3) whereas Week 95 had the highest number of sessions (296) for all the athletes."
      ],
      "metadata": {
        "id": "iCSSVZGE2wMz"
      }
    },
    {
      "cell_type": "markdown",
      "source": [
        "# **5.0 Model Training**"
      ],
      "metadata": {
        "id": "NTAUbO-fPGdr"
      }
    },
    {
      "cell_type": "markdown",
      "source": [
        "In this section, we will build 4 models, namely Deep Neural Network Model (DNN), k-Nearest Neighbors (k-NN), Random Forest, and Xgboost Model."
      ],
      "metadata": {
        "id": "RXfm9TyMPSfL"
      }
    },
    {
      "cell_type": "markdown",
      "source": [
        "## **Deep Neural Network Model (DNN)**"
      ],
      "metadata": {
        "id": "BefXISXu3HTy"
      }
    },
    {
      "cell_type": "code",
      "source": [
        "#Setting the dimensions of any figure that is going to be displayed in the notebook\n",
        "mpl.rcParams['figure.figsize'] = (15, 18)\n",
        "colors = plt.rcParams['axes.prop_cycle'].by_key()['color']"
      ],
      "metadata": {
        "id": "UkPAky_z_kI0"
      },
      "execution_count": 30,
      "outputs": []
    },
    {
      "cell_type": "code",
      "source": [
        "#Read data\n",
        "file = tf.keras.utils\n",
        "raw_df = pd.read_csv('day_approach_maskedID_timeseries.csv')\n",
        "convert_dict = {'nr. sessions': int } #convert nr.sessions to int \n",
        "raw_df = raw_df.astype(convert_dict)"
      ],
      "metadata": {
        "id": "90WAtZvg_kFy"
      },
      "execution_count": 31,
      "outputs": []
    },
    {
      "cell_type": "code",
      "source": [
        "# This section displays the percentage of the majority class\n",
        "neg, pos = np.bincount(raw_df['injury'])\n",
        "total = neg + pos\n",
        "print('Examples:\\n    Total: {}\\n    Positive: {} ({:.2f}% of total)\\n'.format(\n",
        "    total, pos, 100 * pos / total))"
      ],
      "metadata": {
        "id": "N3qBf9iA_kDA",
        "colab": {
          "base_uri": "https://localhost:8080/"
        },
        "outputId": "8b9e8025-b0d6-4223-a3ca-406a77915873"
      },
      "execution_count": 32,
      "outputs": [
        {
          "output_type": "stream",
          "name": "stdout",
          "text": [
            "Examples:\n",
            "    Total: 42766\n",
            "    Positive: 583 (1.36% of total)\n",
            "\n"
          ]
        }
      ]
    },
    {
      "cell_type": "code",
      "source": [
        "#Dropping the unnecessary columns/features\n",
        "cleaned_df = raw_df.copy()\n",
        "cleaned_df.pop('Date')\n",
        "cleaned_df.pop('Athlete ID')"
      ],
      "metadata": {
        "id": "Jqm9iQLF_kAH",
        "colab": {
          "base_uri": "https://localhost:8080/"
        },
        "outputId": "f68493e9-5e66-44f0-dacd-95a3c5e56298"
      },
      "execution_count": 33,
      "outputs": [
        {
          "output_type": "execute_result",
          "data": {
            "text/plain": [
              "0         0\n",
              "1         0\n",
              "2         0\n",
              "3         0\n",
              "4         0\n",
              "         ..\n",
              "42761    71\n",
              "42762    71\n",
              "42763    71\n",
              "42764    71\n",
              "42765    71\n",
              "Name: Athlete ID, Length: 42766, dtype: int64"
            ]
          },
          "metadata": {},
          "execution_count": 33
        }
      ]
    },
    {
      "cell_type": "code",
      "source": [
        "X = cleaned_df.drop('injury', axis = 1)\n",
        "y = cleaned_df['injury']"
      ],
      "metadata": {
        "id": "HjFCiapq_j9b"
      },
      "execution_count": 34,
      "outputs": []
    },
    {
      "cell_type": "code",
      "source": [
        "X.shape"
      ],
      "metadata": {
        "id": "LpusgzAs_j6i",
        "colab": {
          "base_uri": "https://localhost:8080/"
        },
        "outputId": "87820295-4db7-4f69-fad5-0771212f6272"
      },
      "execution_count": 35,
      "outputs": [
        {
          "output_type": "execute_result",
          "data": {
            "text/plain": [
              "(42766, 70)"
            ]
          },
          "metadata": {},
          "execution_count": 35
        }
      ]
    },
    {
      "cell_type": "markdown",
      "source": [
        "**Applying Synthetic Minority Oversampling Technique (SMOTE)**"
      ],
      "metadata": {
        "id": "bvm4ippl3aGZ"
      }
    },
    {
      "cell_type": "code",
      "source": [
        "#This is because the data is so imbalanced. The minority class is oversampled with new similar data is generated to compensate its minimal numbers\n",
        "smote_technique = SMOTE(sampling_strategy='minority')\n",
        "X_smt, y_smt = smote_technique.fit_resample(X, y)"
      ],
      "metadata": {
        "id": "tHqufbYj_j3u"
      },
      "execution_count": 36,
      "outputs": []
    },
    {
      "cell_type": "code",
      "source": [
        "y_smt.value_counts() #class counts now match"
      ],
      "metadata": {
        "id": "6mJfiVEF_j03",
        "colab": {
          "base_uri": "https://localhost:8080/"
        },
        "outputId": "777e8a24-cc6f-49da-ced5-139b6d70d5d4"
      },
      "execution_count": 37,
      "outputs": [
        {
          "output_type": "execute_result",
          "data": {
            "text/plain": [
              "0    42183\n",
              "1    42183\n",
              "Name: injury, dtype: int64"
            ]
          },
          "metadata": {},
          "execution_count": 37
        }
      ]
    },
    {
      "cell_type": "code",
      "source": [
        "#Data is split to Train and test \n",
        "X_train_smt, X_test_smt, y_train_smt, y_test_smt = train_test_split(X_smt, y_smt, test_size=0.3, random_state=15, stratify=y_smt)"
      ],
      "metadata": {
        "id": "YVGKHgcL_jx4"
      },
      "execution_count": 38,
      "outputs": []
    },
    {
      "cell_type": "markdown",
      "source": [
        "**Defining the Deep Nearal Network Model**"
      ],
      "metadata": {
        "id": "EABDloDH3naz"
      }
    },
    {
      "cell_type": "code",
      "source": [
        "#Initializing DNN Model\n",
        "dnn_model = keras.Sequential([\n",
        "    keras.layers.Dense(16, input_shape=(70,), activation='relu'),\n",
        "    keras.layers.Dropout(0.5),\n",
        "    keras.layers.Dense(8, activation='relu'),\n",
        "    keras.layers.Dense(1, activation='sigmoid')\n",
        "])\n",
        "\n",
        "#Set up early stopping metrics to avoid overfitting\n",
        "\n",
        "early_stopping = tf.keras.callbacks.EarlyStopping(\n",
        "    monitor='loss', \n",
        "    verbose=1,\n",
        "    patience=10,\n",
        "    mode='min',\n",
        "    restore_best_weights=True)"
      ],
      "metadata": {
        "id": "AaMMdxoK_jvH"
      },
      "execution_count": 39,
      "outputs": []
    },
    {
      "cell_type": "code",
      "source": [
        "METRICS = [\n",
        "      keras.metrics.TruePositives(name='tp'),\n",
        "      keras.metrics.FalsePositives(name='fp'),\n",
        "      keras.metrics.TrueNegatives(name='tn'),\n",
        "      keras.metrics.FalseNegatives(name='fn'), \n",
        "      keras.metrics.BinaryAccuracy(name='accuracy'),\n",
        "      keras.metrics.Precision(name='precision'),\n",
        "      keras.metrics.Recall(name='recall'),\n",
        "      keras.metrics.AUC(name='auc'),\n",
        "      keras.metrics.AUC(name='prc', curve='PR'), # precision-recall curve\n",
        "]"
      ],
      "metadata": {
        "id": "z1Ej4cMW_jse"
      },
      "execution_count": 40,
      "outputs": []
    },
    {
      "cell_type": "code",
      "source": [
        "#Model compliation\n",
        "dnn_model.compile(optimizer=keras.optimizers.Adam(learning_rate=1e-3),\n",
        "              loss='binary_crossentropy',\n",
        "              metrics=METRICS)"
      ],
      "metadata": {
        "id": "R656wxwu_jpf"
      },
      "execution_count": 41,
      "outputs": []
    },
    {
      "cell_type": "code",
      "source": [
        "#fit the model with epochs 300 and using early stopping callbacks method.\n",
        "\n",
        "dnn_model.fit(X_train_smt, y_train_smt, callbacks = [early_stopping], epochs=300)"
      ],
      "metadata": {
        "id": "G6Mu17PQ_jmp",
        "colab": {
          "base_uri": "https://localhost:8080/"
        },
        "outputId": "07ac1689-ae1b-487b-8c61-9085eb979ba2"
      },
      "execution_count": 42,
      "outputs": [
        {
          "output_type": "stream",
          "name": "stdout",
          "text": [
            "Epoch 1/300\n",
            "1846/1846 [==============================] - 9s 3ms/step - loss: 0.6734 - tp: 20985.0000 - fp: 16309.0000 - tn: 13219.0000 - fn: 8543.0000 - accuracy: 0.5792 - precision: 0.5627 - recall: 0.7107 - auc: 0.6120 - prc: 0.5728\n",
            "Epoch 2/300\n",
            "1846/1846 [==============================] - 4s 2ms/step - loss: 0.6017 - tp: 24600.0000 - fp: 14565.0000 - tn: 14963.0000 - fn: 4928.0000 - accuracy: 0.6699 - precision: 0.6281 - recall: 0.8331 - auc: 0.7182 - prc: 0.6623\n",
            "Epoch 3/300\n",
            "1846/1846 [==============================] - 4s 2ms/step - loss: 0.5648 - tp: 25334.0000 - fp: 13150.0000 - tn: 16378.0000 - fn: 4194.0000 - accuracy: 0.7063 - precision: 0.6583 - recall: 0.8580 - auc: 0.7554 - prc: 0.6930\n",
            "Epoch 4/300\n",
            "1846/1846 [==============================] - 4s 2ms/step - loss: 0.5408 - tp: 25680.0000 - fp: 12225.0000 - tn: 17303.0000 - fn: 3848.0000 - accuracy: 0.7278 - precision: 0.6775 - recall: 0.8697 - auc: 0.7771 - prc: 0.7158\n",
            "Epoch 5/300\n",
            "1846/1846 [==============================] - 4s 2ms/step - loss: 0.5236 - tp: 25801.0000 - fp: 11574.0000 - tn: 17954.0000 - fn: 3727.0000 - accuracy: 0.7409 - precision: 0.6903 - recall: 0.8738 - auc: 0.7918 - prc: 0.7323\n",
            "Epoch 6/300\n",
            "1846/1846 [==============================] - 4s 2ms/step - loss: 0.5090 - tp: 26099.0000 - fp: 11149.0000 - tn: 18379.0000 - fn: 3429.0000 - accuracy: 0.7531 - precision: 0.7007 - recall: 0.8839 - auc: 0.8021 - prc: 0.7431\n",
            "Epoch 7/300\n",
            "1846/1846 [==============================] - 4s 2ms/step - loss: 0.4983 - tp: 26246.0000 - fp: 10889.0000 - tn: 18639.0000 - fn: 3282.0000 - accuracy: 0.7600 - precision: 0.7068 - recall: 0.8889 - auc: 0.8124 - prc: 0.7560\n",
            "Epoch 8/300\n",
            "1846/1846 [==============================] - 4s 2ms/step - loss: 0.4917 - tp: 26400.0000 - fp: 10747.0000 - tn: 18781.0000 - fn: 3128.0000 - accuracy: 0.7651 - precision: 0.7107 - recall: 0.8941 - auc: 0.8151 - prc: 0.7592\n",
            "Epoch 9/300\n",
            "1846/1846 [==============================] - 4s 2ms/step - loss: 0.4850 - tp: 26473.0000 - fp: 10641.0000 - tn: 18887.0000 - fn: 3055.0000 - accuracy: 0.7681 - precision: 0.7133 - recall: 0.8965 - auc: 0.8229 - prc: 0.7704\n",
            "Epoch 10/300\n",
            "1846/1846 [==============================] - 4s 2ms/step - loss: 0.4768 - tp: 26511.0000 - fp: 10440.0000 - tn: 19088.0000 - fn: 3017.0000 - accuracy: 0.7721 - precision: 0.7175 - recall: 0.8978 - auc: 0.8267 - prc: 0.7754\n",
            "Epoch 11/300\n",
            "1846/1846 [==============================] - 4s 2ms/step - loss: 0.4718 - tp: 26657.0000 - fp: 10411.0000 - tn: 19117.0000 - fn: 2871.0000 - accuracy: 0.7751 - precision: 0.7191 - recall: 0.9028 - auc: 0.8299 - prc: 0.7800\n",
            "Epoch 12/300\n",
            "1846/1846 [==============================] - 4s 2ms/step - loss: 0.4649 - tp: 26782.0000 - fp: 10117.0000 - tn: 19411.0000 - fn: 2746.0000 - accuracy: 0.7822 - precision: 0.7258 - recall: 0.9070 - auc: 0.8340 - prc: 0.7853\n",
            "Epoch 13/300\n",
            "1846/1846 [==============================] - 4s 2ms/step - loss: 0.4626 - tp: 26796.0000 - fp: 10066.0000 - tn: 19462.0000 - fn: 2732.0000 - accuracy: 0.7833 - precision: 0.7269 - recall: 0.9075 - auc: 0.8370 - prc: 0.7893\n",
            "Epoch 14/300\n",
            "1846/1846 [==============================] - 4s 2ms/step - loss: 0.4585 - tp: 26898.0000 - fp: 9951.0000 - tn: 19577.0000 - fn: 2630.0000 - accuracy: 0.7870 - precision: 0.7300 - recall: 0.9109 - auc: 0.8375 - prc: 0.7878\n",
            "Epoch 15/300\n",
            "1846/1846 [==============================] - 4s 2ms/step - loss: 0.4563 - tp: 26873.0000 - fp: 9892.0000 - tn: 19636.0000 - fn: 2655.0000 - accuracy: 0.7875 - precision: 0.7309 - recall: 0.9101 - auc: 0.8409 - prc: 0.7948\n",
            "Epoch 16/300\n",
            "1846/1846 [==============================] - 4s 2ms/step - loss: 0.4498 - tp: 26925.0000 - fp: 9715.0000 - tn: 19813.0000 - fn: 2603.0000 - accuracy: 0.7914 - precision: 0.7349 - recall: 0.9118 - auc: 0.8446 - prc: 0.7987\n",
            "Epoch 17/300\n",
            "1846/1846 [==============================] - 4s 2ms/step - loss: 0.4494 - tp: 27008.0000 - fp: 9888.0000 - tn: 19640.0000 - fn: 2520.0000 - accuracy: 0.7899 - precision: 0.7320 - recall: 0.9147 - auc: 0.8446 - prc: 0.7999\n",
            "Epoch 18/300\n",
            "1846/1846 [==============================] - 4s 2ms/step - loss: 0.4462 - tp: 27126.0000 - fp: 9755.0000 - tn: 19773.0000 - fn: 2402.0000 - accuracy: 0.7941 - precision: 0.7355 - recall: 0.9187 - auc: 0.8450 - prc: 0.7978\n",
            "Epoch 19/300\n",
            "1846/1846 [==============================] - 4s 2ms/step - loss: 0.4429 - tp: 27079.0000 - fp: 9624.0000 - tn: 19904.0000 - fn: 2449.0000 - accuracy: 0.7956 - precision: 0.7378 - recall: 0.9171 - auc: 0.8481 - prc: 0.8013\n",
            "Epoch 20/300\n",
            "1846/1846 [==============================] - 4s 2ms/step - loss: 0.4401 - tp: 27147.0000 - fp: 9528.0000 - tn: 20000.0000 - fn: 2381.0000 - accuracy: 0.7983 - precision: 0.7402 - recall: 0.9194 - auc: 0.8501 - prc: 0.8048\n",
            "Epoch 21/300\n",
            "1846/1846 [==============================] - 4s 2ms/step - loss: 0.4399 - tp: 27217.0000 - fp: 9598.0000 - tn: 19930.0000 - fn: 2311.0000 - accuracy: 0.7983 - precision: 0.7393 - recall: 0.9217 - auc: 0.8486 - prc: 0.8013\n",
            "Epoch 22/300\n",
            "1846/1846 [==============================] - 4s 2ms/step - loss: 0.4374 - tp: 27251.0000 - fp: 9478.0000 - tn: 20050.0000 - fn: 2277.0000 - accuracy: 0.8010 - precision: 0.7419 - recall: 0.9229 - auc: 0.8516 - prc: 0.8047\n",
            "Epoch 23/300\n",
            "1846/1846 [==============================] - 4s 2ms/step - loss: 0.4352 - tp: 27299.0000 - fp: 9556.0000 - tn: 19972.0000 - fn: 2229.0000 - accuracy: 0.8004 - precision: 0.7407 - recall: 0.9245 - auc: 0.8511 - prc: 0.8045\n",
            "Epoch 24/300\n",
            "1846/1846 [==============================] - 4s 2ms/step - loss: 0.4343 - tp: 27223.0000 - fp: 9552.0000 - tn: 19976.0000 - fn: 2305.0000 - accuracy: 0.7992 - precision: 0.7403 - recall: 0.9219 - auc: 0.8532 - prc: 0.8100\n",
            "Epoch 25/300\n",
            "1846/1846 [==============================] - 4s 2ms/step - loss: 0.4319 - tp: 27295.0000 - fp: 9365.0000 - tn: 20163.0000 - fn: 2233.0000 - accuracy: 0.8036 - precision: 0.7445 - recall: 0.9244 - auc: 0.8535 - prc: 0.8063\n",
            "Epoch 26/300\n",
            "1846/1846 [==============================] - 4s 2ms/step - loss: 0.4284 - tp: 27292.0000 - fp: 9287.0000 - tn: 20241.0000 - fn: 2236.0000 - accuracy: 0.8049 - precision: 0.7461 - recall: 0.9243 - auc: 0.8564 - prc: 0.8109\n",
            "Epoch 27/300\n",
            "1846/1846 [==============================] - 4s 2ms/step - loss: 0.4282 - tp: 27308.0000 - fp: 9181.0000 - tn: 20347.0000 - fn: 2220.0000 - accuracy: 0.8069 - precision: 0.7484 - recall: 0.9248 - auc: 0.8558 - prc: 0.8089\n",
            "Epoch 28/300\n",
            "1846/1846 [==============================] - 4s 2ms/step - loss: 0.4282 - tp: 27293.0000 - fp: 9242.0000 - tn: 20286.0000 - fn: 2235.0000 - accuracy: 0.8057 - precision: 0.7470 - recall: 0.9243 - auc: 0.8557 - prc: 0.8117\n",
            "Epoch 29/300\n",
            "1846/1846 [==============================] - 4s 2ms/step - loss: 0.4248 - tp: 27306.0000 - fp: 9135.0000 - tn: 20393.0000 - fn: 2222.0000 - accuracy: 0.8077 - precision: 0.7493 - recall: 0.9247 - auc: 0.8585 - prc: 0.8133\n",
            "Epoch 30/300\n",
            "1846/1846 [==============================] - 4s 2ms/step - loss: 0.4232 - tp: 27452.0000 - fp: 9216.0000 - tn: 20312.0000 - fn: 2076.0000 - accuracy: 0.8088 - precision: 0.7487 - recall: 0.9297 - auc: 0.8590 - prc: 0.8152\n",
            "Epoch 31/300\n",
            "1846/1846 [==============================] - 4s 2ms/step - loss: 0.4264 - tp: 27293.0000 - fp: 9176.0000 - tn: 20352.0000 - fn: 2235.0000 - accuracy: 0.8068 - precision: 0.7484 - recall: 0.9243 - auc: 0.8579 - prc: 0.8127\n",
            "Epoch 32/300\n",
            "1846/1846 [==============================] - 4s 2ms/step - loss: 0.4226 - tp: 27348.0000 - fp: 9047.0000 - tn: 20481.0000 - fn: 2180.0000 - accuracy: 0.8099 - precision: 0.7514 - recall: 0.9262 - auc: 0.8593 - prc: 0.8142\n",
            "Epoch 33/300\n",
            "1846/1846 [==============================] - 4s 2ms/step - loss: 0.4204 - tp: 27434.0000 - fp: 9074.0000 - tn: 20454.0000 - fn: 2094.0000 - accuracy: 0.8109 - precision: 0.7515 - recall: 0.9291 - auc: 0.8600 - prc: 0.8154\n",
            "Epoch 34/300\n",
            "1846/1846 [==============================] - 4s 2ms/step - loss: 0.4192 - tp: 27475.0000 - fp: 9052.0000 - tn: 20476.0000 - fn: 2053.0000 - accuracy: 0.8120 - precision: 0.7522 - recall: 0.9305 - auc: 0.8610 - prc: 0.8162\n",
            "Epoch 35/300\n",
            "1846/1846 [==============================] - 4s 2ms/step - loss: 0.4191 - tp: 27454.0000 - fp: 9042.0000 - tn: 20486.0000 - fn: 2074.0000 - accuracy: 0.8118 - precision: 0.7522 - recall: 0.9298 - auc: 0.8598 - prc: 0.8141\n",
            "Epoch 36/300\n",
            "1846/1846 [==============================] - 4s 2ms/step - loss: 0.4177 - tp: 27524.0000 - fp: 9046.0000 - tn: 20482.0000 - fn: 2004.0000 - accuracy: 0.8129 - precision: 0.7526 - recall: 0.9321 - auc: 0.8609 - prc: 0.8179\n",
            "Epoch 37/300\n",
            "1846/1846 [==============================] - 4s 2ms/step - loss: 0.4158 - tp: 27479.0000 - fp: 8982.0000 - tn: 20546.0000 - fn: 2049.0000 - accuracy: 0.8132 - precision: 0.7537 - recall: 0.9306 - auc: 0.8620 - prc: 0.8168\n",
            "Epoch 38/300\n",
            "1846/1846 [==============================] - 4s 2ms/step - loss: 0.4175 - tp: 27451.0000 - fp: 8967.0000 - tn: 20561.0000 - fn: 2077.0000 - accuracy: 0.8130 - precision: 0.7538 - recall: 0.9297 - auc: 0.8620 - prc: 0.8181\n",
            "Epoch 39/300\n",
            "1846/1846 [==============================] - 4s 2ms/step - loss: 0.4119 - tp: 27548.0000 - fp: 8798.0000 - tn: 20730.0000 - fn: 1980.0000 - accuracy: 0.8175 - precision: 0.7579 - recall: 0.9329 - auc: 0.8657 - prc: 0.8218\n",
            "Epoch 40/300\n",
            "1846/1846 [==============================] - 4s 2ms/step - loss: 0.4110 - tp: 27501.0000 - fp: 8751.0000 - tn: 20777.0000 - fn: 2027.0000 - accuracy: 0.8175 - precision: 0.7586 - recall: 0.9314 - auc: 0.8657 - prc: 0.8210\n",
            "Epoch 41/300\n",
            "1846/1846 [==============================] - 4s 2ms/step - loss: 0.4118 - tp: 27535.0000 - fp: 8827.0000 - tn: 20701.0000 - fn: 1993.0000 - accuracy: 0.8168 - precision: 0.7572 - recall: 0.9325 - auc: 0.8648 - prc: 0.8213\n",
            "Epoch 42/300\n",
            "1846/1846 [==============================] - 4s 2ms/step - loss: 0.4142 - tp: 27489.0000 - fp: 8930.0000 - tn: 20598.0000 - fn: 2039.0000 - accuracy: 0.8143 - precision: 0.7548 - recall: 0.9309 - auc: 0.8634 - prc: 0.8203\n",
            "Epoch 43/300\n",
            "1846/1846 [==============================] - 4s 2ms/step - loss: 0.4114 - tp: 27463.0000 - fp: 8757.0000 - tn: 20771.0000 - fn: 2065.0000 - accuracy: 0.8168 - precision: 0.7582 - recall: 0.9301 - auc: 0.8652 - prc: 0.8203\n",
            "Epoch 44/300\n",
            "1846/1846 [==============================] - 4s 2ms/step - loss: 0.4108 - tp: 27523.0000 - fp: 8749.0000 - tn: 20779.0000 - fn: 2005.0000 - accuracy: 0.8179 - precision: 0.7588 - recall: 0.9321 - auc: 0.8652 - prc: 0.8205\n",
            "Epoch 45/300\n",
            "1846/1846 [==============================] - 4s 2ms/step - loss: 0.4048 - tp: 27556.0000 - fp: 8582.0000 - tn: 20946.0000 - fn: 1972.0000 - accuracy: 0.8213 - precision: 0.7625 - recall: 0.9332 - auc: 0.8676 - prc: 0.8231\n",
            "Epoch 46/300\n",
            "1846/1846 [==============================] - 4s 2ms/step - loss: 0.4061 - tp: 27596.0000 - fp: 8613.0000 - tn: 20915.0000 - fn: 1932.0000 - accuracy: 0.8214 - precision: 0.7621 - recall: 0.9346 - auc: 0.8682 - prc: 0.8235\n",
            "Epoch 47/300\n",
            "1846/1846 [==============================] - 4s 2ms/step - loss: 0.4065 - tp: 27569.0000 - fp: 8615.0000 - tn: 20913.0000 - fn: 1959.0000 - accuracy: 0.8209 - precision: 0.7619 - recall: 0.9337 - auc: 0.8672 - prc: 0.8222\n",
            "Epoch 48/300\n",
            "1846/1846 [==============================] - 4s 2ms/step - loss: 0.4056 - tp: 27510.0000 - fp: 8588.0000 - tn: 20940.0000 - fn: 2018.0000 - accuracy: 0.8204 - precision: 0.7621 - recall: 0.9317 - auc: 0.8676 - prc: 0.8238\n",
            "Epoch 49/300\n",
            "1846/1846 [==============================] - 4s 2ms/step - loss: 0.4036 - tp: 27608.0000 - fp: 8583.0000 - tn: 20945.0000 - fn: 1920.0000 - accuracy: 0.8222 - precision: 0.7628 - recall: 0.9350 - auc: 0.8686 - prc: 0.8238\n",
            "Epoch 50/300\n",
            "1846/1846 [==============================] - 4s 2ms/step - loss: 0.4036 - tp: 27650.0000 - fp: 8620.0000 - tn: 20908.0000 - fn: 1878.0000 - accuracy: 0.8222 - precision: 0.7623 - recall: 0.9364 - auc: 0.8670 - prc: 0.8228\n",
            "Epoch 51/300\n",
            "1846/1846 [==============================] - 4s 2ms/step - loss: 0.4059 - tp: 27595.0000 - fp: 8622.0000 - tn: 20906.0000 - fn: 1933.0000 - accuracy: 0.8213 - precision: 0.7619 - recall: 0.9345 - auc: 0.8671 - prc: 0.8189\n",
            "Epoch 52/300\n",
            "1846/1846 [==============================] - 4s 2ms/step - loss: 0.4028 - tp: 27684.0000 - fp: 8645.0000 - tn: 20883.0000 - fn: 1844.0000 - accuracy: 0.8224 - precision: 0.7620 - recall: 0.9376 - auc: 0.8691 - prc: 0.8248\n",
            "Epoch 53/300\n",
            "1846/1846 [==============================] - 4s 2ms/step - loss: 0.3993 - tp: 27670.0000 - fp: 8487.0000 - tn: 21041.0000 - fn: 1858.0000 - accuracy: 0.8248 - precision: 0.7653 - recall: 0.9371 - auc: 0.8702 - prc: 0.8256\n",
            "Epoch 54/300\n",
            "1846/1846 [==============================] - 4s 2ms/step - loss: 0.4015 - tp: 27637.0000 - fp: 8527.0000 - tn: 21001.0000 - fn: 1891.0000 - accuracy: 0.8236 - precision: 0.7642 - recall: 0.9360 - auc: 0.8697 - prc: 0.8231\n",
            "Epoch 55/300\n",
            "1846/1846 [==============================] - 4s 2ms/step - loss: 0.4028 - tp: 27688.0000 - fp: 8584.0000 - tn: 20944.0000 - fn: 1840.0000 - accuracy: 0.8235 - precision: 0.7633 - recall: 0.9377 - auc: 0.8682 - prc: 0.8220\n",
            "Epoch 56/300\n",
            "1846/1846 [==============================] - 4s 2ms/step - loss: 0.3983 - tp: 27710.0000 - fp: 8488.0000 - tn: 21040.0000 - fn: 1818.0000 - accuracy: 0.8255 - precision: 0.7655 - recall: 0.9384 - auc: 0.8725 - prc: 0.8292\n",
            "Epoch 57/300\n",
            "1846/1846 [==============================] - 4s 2ms/step - loss: 0.4040 - tp: 27688.0000 - fp: 8703.0000 - tn: 20825.0000 - fn: 1840.0000 - accuracy: 0.8215 - precision: 0.7608 - recall: 0.9377 - auc: 0.8666 - prc: 0.8217\n",
            "Epoch 58/300\n",
            "1846/1846 [==============================] - 4s 2ms/step - loss: 0.3993 - tp: 27733.0000 - fp: 8553.0000 - tn: 20975.0000 - fn: 1795.0000 - accuracy: 0.8248 - precision: 0.7643 - recall: 0.9392 - auc: 0.8701 - prc: 0.8250\n",
            "Epoch 59/300\n",
            "1846/1846 [==============================] - 4s 2ms/step - loss: 0.3987 - tp: 27760.0000 - fp: 8549.0000 - tn: 20979.0000 - fn: 1768.0000 - accuracy: 0.8253 - precision: 0.7645 - recall: 0.9401 - auc: 0.8689 - prc: 0.8233\n",
            "Epoch 60/300\n",
            "1846/1846 [==============================] - 4s 2ms/step - loss: 0.4012 - tp: 27686.0000 - fp: 8556.0000 - tn: 20972.0000 - fn: 1842.0000 - accuracy: 0.8239 - precision: 0.7639 - recall: 0.9376 - auc: 0.8685 - prc: 0.8213\n",
            "Epoch 61/300\n",
            "1846/1846 [==============================] - 4s 2ms/step - loss: 0.3955 - tp: 27805.0000 - fp: 8483.0000 - tn: 21045.0000 - fn: 1723.0000 - accuracy: 0.8272 - precision: 0.7662 - recall: 0.9416 - auc: 0.8712 - prc: 0.8271\n",
            "Epoch 62/300\n",
            "1846/1846 [==============================] - 4s 2ms/step - loss: 0.3975 - tp: 27803.0000 - fp: 8511.0000 - tn: 21017.0000 - fn: 1725.0000 - accuracy: 0.8267 - precision: 0.7656 - recall: 0.9416 - auc: 0.8711 - prc: 0.8249\n",
            "Epoch 63/300\n",
            "1846/1846 [==============================] - 4s 2ms/step - loss: 0.3969 - tp: 27723.0000 - fp: 8449.0000 - tn: 21079.0000 - fn: 1805.0000 - accuracy: 0.8264 - precision: 0.7664 - recall: 0.9389 - auc: 0.8714 - prc: 0.8276\n",
            "Epoch 64/300\n",
            "1846/1846 [==============================] - 4s 2ms/step - loss: 0.3967 - tp: 27762.0000 - fp: 8521.0000 - tn: 21007.0000 - fn: 1766.0000 - accuracy: 0.8258 - precision: 0.7652 - recall: 0.9402 - auc: 0.8705 - prc: 0.8257\n",
            "Epoch 65/300\n",
            "1846/1846 [==============================] - 4s 2ms/step - loss: 0.3983 - tp: 27686.0000 - fp: 8485.0000 - tn: 21043.0000 - fn: 1842.0000 - accuracy: 0.8251 - precision: 0.7654 - recall: 0.9376 - auc: 0.8699 - prc: 0.8253\n",
            "Epoch 66/300\n",
            "1846/1846 [==============================] - 4s 2ms/step - loss: 0.3963 - tp: 27788.0000 - fp: 8493.0000 - tn: 21035.0000 - fn: 1740.0000 - accuracy: 0.8267 - precision: 0.7659 - recall: 0.9411 - auc: 0.8711 - prc: 0.8242\n",
            "Epoch 67/300\n",
            "1846/1846 [==============================] - 4s 2ms/step - loss: 0.3951 - tp: 27828.0000 - fp: 8473.0000 - tn: 21055.0000 - fn: 1700.0000 - accuracy: 0.8277 - precision: 0.7666 - recall: 0.9424 - auc: 0.8712 - prc: 0.8262\n",
            "Epoch 68/300\n",
            "1846/1846 [==============================] - 4s 2ms/step - loss: 0.3959 - tp: 27852.0000 - fp: 8485.0000 - tn: 21043.0000 - fn: 1676.0000 - accuracy: 0.8279 - precision: 0.7665 - recall: 0.9432 - auc: 0.8701 - prc: 0.8227\n",
            "Epoch 69/300\n",
            "1846/1846 [==============================] - 4s 2ms/step - loss: 0.3939 - tp: 27760.0000 - fp: 8451.0000 - tn: 21077.0000 - fn: 1768.0000 - accuracy: 0.8270 - precision: 0.7666 - recall: 0.9401 - auc: 0.8718 - prc: 0.8273\n",
            "Epoch 70/300\n",
            "1846/1846 [==============================] - 5s 3ms/step - loss: 0.3947 - tp: 27876.0000 - fp: 8546.0000 - tn: 20982.0000 - fn: 1652.0000 - accuracy: 0.8273 - precision: 0.7654 - recall: 0.9441 - auc: 0.8699 - prc: 0.8248\n",
            "Epoch 71/300\n",
            "1846/1846 [==============================] - 5s 2ms/step - loss: 0.3916 - tp: 27833.0000 - fp: 8370.0000 - tn: 21158.0000 - fn: 1695.0000 - accuracy: 0.8296 - precision: 0.7688 - recall: 0.9426 - auc: 0.8722 - prc: 0.8257\n",
            "Epoch 72/300\n",
            "1846/1846 [==============================] - 4s 2ms/step - loss: 0.3934 - tp: 27751.0000 - fp: 8385.0000 - tn: 21143.0000 - fn: 1777.0000 - accuracy: 0.8279 - precision: 0.7680 - recall: 0.9398 - auc: 0.8731 - prc: 0.8279\n",
            "Epoch 73/300\n",
            "1846/1846 [==============================] - 4s 2ms/step - loss: 0.3931 - tp: 27744.0000 - fp: 8345.0000 - tn: 21183.0000 - fn: 1784.0000 - accuracy: 0.8285 - precision: 0.7688 - recall: 0.9396 - auc: 0.8732 - prc: 0.8299\n",
            "Epoch 74/300\n",
            "1846/1846 [==============================] - 4s 2ms/step - loss: 0.3904 - tp: 27869.0000 - fp: 8267.0000 - tn: 21261.0000 - fn: 1659.0000 - accuracy: 0.8319 - precision: 0.7712 - recall: 0.9438 - auc: 0.8739 - prc: 0.8280\n",
            "Epoch 75/300\n",
            "1846/1846 [==============================] - 4s 2ms/step - loss: 0.3913 - tp: 27774.0000 - fp: 8303.0000 - tn: 21225.0000 - fn: 1754.0000 - accuracy: 0.8297 - precision: 0.7699 - recall: 0.9406 - auc: 0.8749 - prc: 0.8316\n",
            "Epoch 76/300\n",
            "1846/1846 [==============================] - 4s 2ms/step - loss: 0.3928 - tp: 27787.0000 - fp: 8374.0000 - tn: 21154.0000 - fn: 1741.0000 - accuracy: 0.8287 - precision: 0.7684 - recall: 0.9410 - auc: 0.8724 - prc: 0.8285\n",
            "Epoch 77/300\n",
            "1846/1846 [==============================] - 4s 2ms/step - loss: 0.3902 - tp: 27789.0000 - fp: 8265.0000 - tn: 21263.0000 - fn: 1739.0000 - accuracy: 0.8306 - precision: 0.7708 - recall: 0.9411 - auc: 0.8756 - prc: 0.8321\n",
            "Epoch 78/300\n",
            "1846/1846 [==============================] - 4s 2ms/step - loss: 0.3918 - tp: 27731.0000 - fp: 8263.0000 - tn: 21265.0000 - fn: 1797.0000 - accuracy: 0.8297 - precision: 0.7704 - recall: 0.9391 - auc: 0.8738 - prc: 0.8294\n",
            "Epoch 79/300\n",
            "1846/1846 [==============================] - 4s 2ms/step - loss: 0.3864 - tp: 27899.0000 - fp: 8191.0000 - tn: 21337.0000 - fn: 1629.0000 - accuracy: 0.8337 - precision: 0.7730 - recall: 0.9448 - auc: 0.8763 - prc: 0.8324\n",
            "Epoch 80/300\n",
            "1846/1846 [==============================] - 4s 2ms/step - loss: 0.3874 - tp: 27873.0000 - fp: 8224.0000 - tn: 21304.0000 - fn: 1655.0000 - accuracy: 0.8327 - precision: 0.7722 - recall: 0.9440 - auc: 0.8759 - prc: 0.8308\n",
            "Epoch 81/300\n",
            "1846/1846 [==============================] - 4s 2ms/step - loss: 0.3894 - tp: 27854.0000 - fp: 8297.0000 - tn: 21231.0000 - fn: 1674.0000 - accuracy: 0.8312 - precision: 0.7705 - recall: 0.9433 - auc: 0.8743 - prc: 0.8285\n",
            "Epoch 82/300\n",
            "1846/1846 [==============================] - 4s 2ms/step - loss: 0.3881 - tp: 27838.0000 - fp: 8218.0000 - tn: 21310.0000 - fn: 1690.0000 - accuracy: 0.8322 - precision: 0.7721 - recall: 0.9428 - auc: 0.8772 - prc: 0.8338\n",
            "Epoch 83/300\n",
            "1846/1846 [==============================] - 4s 2ms/step - loss: 0.3889 - tp: 27869.0000 - fp: 8316.0000 - tn: 21212.0000 - fn: 1659.0000 - accuracy: 0.8311 - precision: 0.7702 - recall: 0.9438 - auc: 0.8748 - prc: 0.8290\n",
            "Epoch 84/300\n",
            "1846/1846 [==============================] - 4s 2ms/step - loss: 0.3862 - tp: 27948.0000 - fp: 8321.0000 - tn: 21207.0000 - fn: 1580.0000 - accuracy: 0.8323 - precision: 0.7706 - recall: 0.9465 - auc: 0.8756 - prc: 0.8322\n",
            "Epoch 85/300\n",
            "1846/1846 [==============================] - 4s 2ms/step - loss: 0.3849 - tp: 27906.0000 - fp: 8226.0000 - tn: 21302.0000 - fn: 1622.0000 - accuracy: 0.8332 - precision: 0.7723 - recall: 0.9451 - auc: 0.8778 - prc: 0.8350\n",
            "Epoch 86/300\n",
            "1846/1846 [==============================] - 4s 2ms/step - loss: 0.3873 - tp: 27956.0000 - fp: 8302.0000 - tn: 21226.0000 - fn: 1572.0000 - accuracy: 0.8328 - precision: 0.7710 - recall: 0.9468 - auc: 0.8744 - prc: 0.8297\n",
            "Epoch 87/300\n",
            "1846/1846 [==============================] - 4s 2ms/step - loss: 0.3882 - tp: 27872.0000 - fp: 8314.0000 - tn: 21214.0000 - fn: 1656.0000 - accuracy: 0.8312 - precision: 0.7702 - recall: 0.9439 - auc: 0.8759 - prc: 0.8319\n",
            "Epoch 88/300\n",
            "1846/1846 [==============================] - 4s 2ms/step - loss: 0.3884 - tp: 27961.0000 - fp: 8381.0000 - tn: 21147.0000 - fn: 1567.0000 - accuracy: 0.8315 - precision: 0.7694 - recall: 0.9469 - auc: 0.8740 - prc: 0.8302\n",
            "Epoch 89/300\n",
            "1846/1846 [==============================] - 4s 2ms/step - loss: 0.3880 - tp: 27827.0000 - fp: 8235.0000 - tn: 21293.0000 - fn: 1701.0000 - accuracy: 0.8318 - precision: 0.7716 - recall: 0.9424 - auc: 0.8755 - prc: 0.8307\n",
            "Epoch 90/300\n",
            "1846/1846 [==============================] - 4s 2ms/step - loss: 0.3861 - tp: 27944.0000 - fp: 8278.0000 - tn: 21250.0000 - fn: 1584.0000 - accuracy: 0.8330 - precision: 0.7715 - recall: 0.9464 - auc: 0.8757 - prc: 0.8309\n",
            "Epoch 91/300\n",
            "1846/1846 [==============================] - 4s 2ms/step - loss: 0.3837 - tp: 27917.0000 - fp: 8199.0000 - tn: 21329.0000 - fn: 1611.0000 - accuracy: 0.8339 - precision: 0.7730 - recall: 0.9454 - auc: 0.8784 - prc: 0.8342\n",
            "Epoch 92/300\n",
            "1846/1846 [==============================] - 4s 2ms/step - loss: 0.3890 - tp: 27922.0000 - fp: 8399.0000 - tn: 21129.0000 - fn: 1606.0000 - accuracy: 0.8306 - precision: 0.7688 - recall: 0.9456 - auc: 0.8737 - prc: 0.8284\n",
            "Epoch 93/300\n",
            "1846/1846 [==============================] - 4s 2ms/step - loss: 0.3860 - tp: 27878.0000 - fp: 8188.0000 - tn: 21340.0000 - fn: 1650.0000 - accuracy: 0.8334 - precision: 0.7730 - recall: 0.9441 - auc: 0.8759 - prc: 0.8309\n",
            "Epoch 94/300\n",
            "1846/1846 [==============================] - 4s 2ms/step - loss: 0.3832 - tp: 27934.0000 - fp: 8196.0000 - tn: 21332.0000 - fn: 1594.0000 - accuracy: 0.8342 - precision: 0.7732 - recall: 0.9460 - auc: 0.8777 - prc: 0.8347\n",
            "Epoch 95/300\n",
            "1846/1846 [==============================] - 4s 2ms/step - loss: 0.3844 - tp: 27871.0000 - fp: 8162.0000 - tn: 21366.0000 - fn: 1657.0000 - accuracy: 0.8337 - precision: 0.7735 - recall: 0.9439 - auc: 0.8773 - prc: 0.8329\n",
            "Epoch 96/300\n",
            "1846/1846 [==============================] - 4s 2ms/step - loss: 0.3843 - tp: 27930.0000 - fp: 8183.0000 - tn: 21345.0000 - fn: 1598.0000 - accuracy: 0.8344 - precision: 0.7734 - recall: 0.9459 - auc: 0.8772 - prc: 0.8329\n",
            "Epoch 97/300\n",
            "1846/1846 [==============================] - 4s 2ms/step - loss: 0.3824 - tp: 27967.0000 - fp: 8179.0000 - tn: 21349.0000 - fn: 1561.0000 - accuracy: 0.8351 - precision: 0.7737 - recall: 0.9471 - auc: 0.8790 - prc: 0.8363\n",
            "Epoch 98/300\n",
            "1846/1846 [==============================] - 4s 2ms/step - loss: 0.3831 - tp: 27952.0000 - fp: 8183.0000 - tn: 21345.0000 - fn: 1576.0000 - accuracy: 0.8348 - precision: 0.7735 - recall: 0.9466 - auc: 0.8778 - prc: 0.8349\n",
            "Epoch 99/300\n",
            "1846/1846 [==============================] - 4s 2ms/step - loss: 0.3787 - tp: 27955.0000 - fp: 8079.0000 - tn: 21449.0000 - fn: 1573.0000 - accuracy: 0.8366 - precision: 0.7758 - recall: 0.9467 - auc: 0.8812 - prc: 0.8386\n",
            "Epoch 100/300\n",
            "1846/1846 [==============================] - 4s 2ms/step - loss: 0.3795 - tp: 27993.0000 - fp: 8130.0000 - tn: 21398.0000 - fn: 1535.0000 - accuracy: 0.8363 - precision: 0.7749 - recall: 0.9480 - auc: 0.8797 - prc: 0.8372\n",
            "Epoch 101/300\n",
            "1846/1846 [==============================] - 4s 2ms/step - loss: 0.3814 - tp: 27908.0000 - fp: 8127.0000 - tn: 21401.0000 - fn: 1620.0000 - accuracy: 0.8350 - precision: 0.7745 - recall: 0.9451 - auc: 0.8791 - prc: 0.8362\n",
            "Epoch 102/300\n",
            "1846/1846 [==============================] - 4s 2ms/step - loss: 0.3800 - tp: 27906.0000 - fp: 8053.0000 - tn: 21475.0000 - fn: 1622.0000 - accuracy: 0.8362 - precision: 0.7761 - recall: 0.9451 - auc: 0.8792 - prc: 0.8366\n",
            "Epoch 103/300\n",
            "1846/1846 [==============================] - 4s 2ms/step - loss: 0.3820 - tp: 27977.0000 - fp: 8186.0000 - tn: 21342.0000 - fn: 1551.0000 - accuracy: 0.8351 - precision: 0.7736 - recall: 0.9475 - auc: 0.8778 - prc: 0.8341\n",
            "Epoch 104/300\n",
            "1846/1846 [==============================] - 4s 2ms/step - loss: 0.3808 - tp: 27998.0000 - fp: 8205.0000 - tn: 21323.0000 - fn: 1530.0000 - accuracy: 0.8352 - precision: 0.7734 - recall: 0.9482 - auc: 0.8788 - prc: 0.8360\n",
            "Epoch 105/300\n",
            "1846/1846 [==============================] - 4s 2ms/step - loss: 0.3801 - tp: 27969.0000 - fp: 8097.0000 - tn: 21431.0000 - fn: 1559.0000 - accuracy: 0.8365 - precision: 0.7755 - recall: 0.9472 - auc: 0.8793 - prc: 0.8362\n",
            "Epoch 106/300\n",
            "1846/1846 [==============================] - 4s 2ms/step - loss: 0.3771 - tp: 27978.0000 - fp: 8014.0000 - tn: 21514.0000 - fn: 1550.0000 - accuracy: 0.8381 - precision: 0.7773 - recall: 0.9475 - auc: 0.8807 - prc: 0.8379\n",
            "Epoch 107/300\n",
            "1846/1846 [==============================] - 4s 2ms/step - loss: 0.3787 - tp: 27960.0000 - fp: 8038.0000 - tn: 21490.0000 - fn: 1568.0000 - accuracy: 0.8373 - precision: 0.7767 - recall: 0.9469 - auc: 0.8793 - prc: 0.8366\n",
            "Epoch 108/300\n",
            "1846/1846 [==============================] - 4s 2ms/step - loss: 0.3809 - tp: 27901.0000 - fp: 8096.0000 - tn: 21432.0000 - fn: 1627.0000 - accuracy: 0.8354 - precision: 0.7751 - recall: 0.9449 - auc: 0.8795 - prc: 0.8360\n",
            "Epoch 109/300\n",
            "1846/1846 [==============================] - 4s 2ms/step - loss: 0.3785 - tp: 27926.0000 - fp: 7993.0000 - tn: 21535.0000 - fn: 1602.0000 - accuracy: 0.8375 - precision: 0.7775 - recall: 0.9457 - auc: 0.8804 - prc: 0.8369\n",
            "Epoch 110/300\n",
            "1846/1846 [==============================] - 4s 2ms/step - loss: 0.3763 - tp: 27982.0000 - fp: 8007.0000 - tn: 21521.0000 - fn: 1546.0000 - accuracy: 0.8382 - precision: 0.7775 - recall: 0.9476 - auc: 0.8813 - prc: 0.8390\n",
            "Epoch 111/300\n",
            "1846/1846 [==============================] - 4s 2ms/step - loss: 0.3805 - tp: 27993.0000 - fp: 8127.0000 - tn: 21401.0000 - fn: 1535.0000 - accuracy: 0.8364 - precision: 0.7750 - recall: 0.9480 - auc: 0.8791 - prc: 0.8337\n",
            "Epoch 112/300\n",
            "1846/1846 [==============================] - 4s 2ms/step - loss: 0.3790 - tp: 27973.0000 - fp: 8031.0000 - tn: 21497.0000 - fn: 1555.0000 - accuracy: 0.8377 - precision: 0.7769 - recall: 0.9473 - auc: 0.8796 - prc: 0.8363\n",
            "Epoch 113/300\n",
            "1846/1846 [==============================] - 4s 2ms/step - loss: 0.3794 - tp: 27996.0000 - fp: 8124.0000 - tn: 21404.0000 - fn: 1532.0000 - accuracy: 0.8365 - precision: 0.7751 - recall: 0.9481 - auc: 0.8785 - prc: 0.8354\n",
            "Epoch 114/300\n",
            "1846/1846 [==============================] - 4s 2ms/step - loss: 0.3807 - tp: 27996.0000 - fp: 8126.0000 - tn: 21402.0000 - fn: 1532.0000 - accuracy: 0.8365 - precision: 0.7750 - recall: 0.9481 - auc: 0.8791 - prc: 0.8371\n",
            "Epoch 115/300\n",
            "1846/1846 [==============================] - 4s 2ms/step - loss: 0.3800 - tp: 27971.0000 - fp: 8121.0000 - tn: 21407.0000 - fn: 1557.0000 - accuracy: 0.8361 - precision: 0.7750 - recall: 0.9473 - auc: 0.8789 - prc: 0.8365\n",
            "Epoch 116/300\n",
            "1846/1846 [==============================] - 4s 2ms/step - loss: 0.3762 - tp: 27972.0000 - fp: 7975.0000 - tn: 21553.0000 - fn: 1556.0000 - accuracy: 0.8386 - precision: 0.7781 - recall: 0.9473 - auc: 0.8810 - prc: 0.8383\n",
            "Epoch 117/300\n",
            "1846/1846 [==============================] - 4s 2ms/step - loss: 0.3771 - tp: 27960.0000 - fp: 8020.0000 - tn: 21508.0000 - fn: 1568.0000 - accuracy: 0.8376 - precision: 0.7771 - recall: 0.9469 - auc: 0.8814 - prc: 0.8387\n",
            "Epoch 118/300\n",
            "1846/1846 [==============================] - 4s 2ms/step - loss: 0.3770 - tp: 27995.0000 - fp: 8021.0000 - tn: 21507.0000 - fn: 1533.0000 - accuracy: 0.8382 - precision: 0.7773 - recall: 0.9481 - auc: 0.8808 - prc: 0.8374\n",
            "Epoch 119/300\n",
            "1846/1846 [==============================] - 4s 2ms/step - loss: 0.3772 - tp: 27950.0000 - fp: 7980.0000 - tn: 21548.0000 - fn: 1578.0000 - accuracy: 0.8382 - precision: 0.7779 - recall: 0.9466 - auc: 0.8809 - prc: 0.8376\n",
            "Epoch 120/300\n",
            "1846/1846 [==============================] - 4s 2ms/step - loss: 0.3795 - tp: 27905.0000 - fp: 7956.0000 - tn: 21572.0000 - fn: 1623.0000 - accuracy: 0.8378 - precision: 0.7781 - recall: 0.9450 - auc: 0.8795 - prc: 0.8360\n",
            "Epoch 121/300\n",
            "1846/1846 [==============================] - 4s 2ms/step - loss: 0.3757 - tp: 27983.0000 - fp: 7942.0000 - tn: 21586.0000 - fn: 1545.0000 - accuracy: 0.8394 - precision: 0.7789 - recall: 0.9477 - auc: 0.8807 - prc: 0.8376\n",
            "Epoch 122/300\n",
            "1846/1846 [==============================] - 5s 3ms/step - loss: 0.3756 - tp: 27972.0000 - fp: 7915.0000 - tn: 21613.0000 - fn: 1556.0000 - accuracy: 0.8396 - precision: 0.7794 - recall: 0.9473 - auc: 0.8817 - prc: 0.8383\n",
            "Epoch 123/300\n",
            "1846/1846 [==============================] - 4s 2ms/step - loss: 0.3765 - tp: 27934.0000 - fp: 7926.0000 - tn: 21602.0000 - fn: 1594.0000 - accuracy: 0.8388 - precision: 0.7790 - recall: 0.9460 - auc: 0.8813 - prc: 0.8376\n",
            "Epoch 124/300\n",
            "1846/1846 [==============================] - 4s 2ms/step - loss: 0.3750 - tp: 27995.0000 - fp: 7957.0000 - tn: 21571.0000 - fn: 1533.0000 - accuracy: 0.8393 - precision: 0.7787 - recall: 0.9481 - auc: 0.8815 - prc: 0.8388\n",
            "Epoch 125/300\n",
            "1846/1846 [==============================] - 4s 2ms/step - loss: 0.3766 - tp: 28052.0000 - fp: 8048.0000 - tn: 21480.0000 - fn: 1476.0000 - accuracy: 0.8387 - precision: 0.7771 - recall: 0.9500 - auc: 0.8800 - prc: 0.8356\n",
            "Epoch 126/300\n",
            "1846/1846 [==============================] - 4s 2ms/step - loss: 0.3733 - tp: 28031.0000 - fp: 7902.0000 - tn: 21626.0000 - fn: 1497.0000 - accuracy: 0.8408 - precision: 0.7801 - recall: 0.9493 - auc: 0.8824 - prc: 0.8407\n",
            "Epoch 127/300\n",
            "1846/1846 [==============================] - 4s 2ms/step - loss: 0.3779 - tp: 27919.0000 - fp: 7971.0000 - tn: 21557.0000 - fn: 1609.0000 - accuracy: 0.8378 - precision: 0.7779 - recall: 0.9455 - auc: 0.8818 - prc: 0.8397\n",
            "Epoch 128/300\n",
            "1846/1846 [==============================] - 4s 2ms/step - loss: 0.3770 - tp: 27917.0000 - fp: 7934.0000 - tn: 21594.0000 - fn: 1611.0000 - accuracy: 0.8384 - precision: 0.7787 - recall: 0.9454 - auc: 0.8805 - prc: 0.8371\n",
            "Epoch 129/300\n",
            "1846/1846 [==============================] - 4s 2ms/step - loss: 0.3739 - tp: 28013.0000 - fp: 7926.0000 - tn: 21602.0000 - fn: 1515.0000 - accuracy: 0.8401 - precision: 0.7795 - recall: 0.9487 - auc: 0.8823 - prc: 0.8391\n",
            "Epoch 130/300\n",
            "1846/1846 [==============================] - 4s 2ms/step - loss: 0.3774 - tp: 28073.0000 - fp: 8099.0000 - tn: 21429.0000 - fn: 1455.0000 - accuracy: 0.8382 - precision: 0.7761 - recall: 0.9507 - auc: 0.8805 - prc: 0.8383\n",
            "Epoch 131/300\n",
            "1846/1846 [==============================] - 4s 2ms/step - loss: 0.3777 - tp: 27963.0000 - fp: 8040.0000 - tn: 21488.0000 - fn: 1565.0000 - accuracy: 0.8374 - precision: 0.7767 - recall: 0.9470 - auc: 0.8806 - prc: 0.8378\n",
            "Epoch 132/300\n",
            "1846/1846 [==============================] - 4s 2ms/step - loss: 0.3741 - tp: 28002.0000 - fp: 7922.0000 - tn: 21606.0000 - fn: 1526.0000 - accuracy: 0.8400 - precision: 0.7795 - recall: 0.9483 - auc: 0.8826 - prc: 0.8398\n",
            "Epoch 133/300\n",
            "1846/1846 [==============================] - 4s 2ms/step - loss: 0.3727 - tp: 28075.0000 - fp: 7918.0000 - tn: 21610.0000 - fn: 1453.0000 - accuracy: 0.8413 - precision: 0.7800 - recall: 0.9508 - auc: 0.8822 - prc: 0.8394\n",
            "Epoch 134/300\n",
            "1846/1846 [==============================] - 4s 2ms/step - loss: 0.3757 - tp: 27947.0000 - fp: 7917.0000 - tn: 21611.0000 - fn: 1581.0000 - accuracy: 0.8392 - precision: 0.7792 - recall: 0.9465 - auc: 0.8830 - prc: 0.8399\n",
            "Epoch 135/300\n",
            "1846/1846 [==============================] - 4s 2ms/step - loss: 0.3758 - tp: 27989.0000 - fp: 8012.0000 - tn: 21516.0000 - fn: 1539.0000 - accuracy: 0.8383 - precision: 0.7775 - recall: 0.9479 - auc: 0.8812 - prc: 0.8395\n",
            "Epoch 136/300\n",
            "1846/1846 [==============================] - 4s 2ms/step - loss: 0.3735 - tp: 27941.0000 - fp: 7872.0000 - tn: 21656.0000 - fn: 1587.0000 - accuracy: 0.8398 - precision: 0.7802 - recall: 0.9463 - auc: 0.8832 - prc: 0.8417\n",
            "Epoch 137/300\n",
            "1846/1846 [==============================] - 4s 2ms/step - loss: 0.3753 - tp: 28040.0000 - fp: 7967.0000 - tn: 21561.0000 - fn: 1488.0000 - accuracy: 0.8399 - precision: 0.7787 - recall: 0.9496 - auc: 0.8811 - prc: 0.8387\n",
            "Epoch 138/300\n",
            "1846/1846 [==============================] - 4s 2ms/step - loss: 0.3741 - tp: 28028.0000 - fp: 7931.0000 - tn: 21597.0000 - fn: 1500.0000 - accuracy: 0.8403 - precision: 0.7794 - recall: 0.9492 - auc: 0.8824 - prc: 0.8393\n",
            "Epoch 139/300\n",
            "1846/1846 [==============================] - 4s 2ms/step - loss: 0.3749 - tp: 28062.0000 - fp: 8034.0000 - tn: 21494.0000 - fn: 1466.0000 - accuracy: 0.8391 - precision: 0.7774 - recall: 0.9504 - auc: 0.8817 - prc: 0.8397\n",
            "Epoch 140/300\n",
            "1846/1846 [==============================] - 4s 2ms/step - loss: 0.3746 - tp: 28127.0000 - fp: 8096.0000 - tn: 21432.0000 - fn: 1401.0000 - accuracy: 0.8392 - precision: 0.7765 - recall: 0.9526 - auc: 0.8807 - prc: 0.8388\n",
            "Epoch 141/300\n",
            "1846/1846 [==============================] - 4s 2ms/step - loss: 0.3730 - tp: 28086.0000 - fp: 7998.0000 - tn: 21530.0000 - fn: 1442.0000 - accuracy: 0.8402 - precision: 0.7784 - recall: 0.9512 - auc: 0.8838 - prc: 0.8421\n",
            "Epoch 142/300\n",
            "1846/1846 [==============================] - 4s 2ms/step - loss: 0.3738 - tp: 28066.0000 - fp: 8017.0000 - tn: 21511.0000 - fn: 1462.0000 - accuracy: 0.8395 - precision: 0.7778 - recall: 0.9505 - auc: 0.8822 - prc: 0.8403\n",
            "Epoch 143/300\n",
            "1839/1846 [============================>.] - ETA: 0s - loss: 0.3736 - tp: 27933.0000 - fp: 7896.0000 - tn: 21534.0000 - fn: 1485.0000 - accuracy: 0.8406 - precision: 0.7796 - recall: 0.9495 - auc: 0.8820 - prc: 0.8386Restoring model weights from the end of the best epoch: 133.\n",
            "1846/1846 [==============================] - 4s 2ms/step - loss: 0.3735 - tp: 28037.0000 - fp: 7918.0000 - tn: 21610.0000 - fn: 1491.0000 - accuracy: 0.8407 - precision: 0.7798 - recall: 0.9495 - auc: 0.8820 - prc: 0.8387\n",
            "Epoch 143: early stopping\n"
          ]
        },
        {
          "output_type": "execute_result",
          "data": {
            "text/plain": [
              "<keras.callbacks.History at 0x7fdfe9156f10>"
            ]
          },
          "metadata": {},
          "execution_count": 42
        }
      ]
    },
    {
      "cell_type": "code",
      "source": [
        "#Using the trained model, the prediction is done on the test set\n",
        "dnn_preds_smt = dnn_model.predict(X_test_smt)\n",
        "dnn_preds_smt = np.round(dnn_preds_smt)"
      ],
      "metadata": {
        "colab": {
          "base_uri": "https://localhost:8080/"
        },
        "id": "xoDrjlhF3lSm",
        "outputId": "478061a4-2d55-4b32-a49f-e30340063825"
      },
      "execution_count": 43,
      "outputs": [
        {
          "output_type": "stream",
          "name": "stdout",
          "text": [
            "791/791 [==============================] - 1s 1ms/step\n"
          ]
        }
      ]
    },
    {
      "cell_type": "markdown",
      "source": [
        "**DNN Model Evaluation**"
      ],
      "metadata": {
        "id": "PcuVkehZ35NZ"
      }
    },
    {
      "cell_type": "code",
      "source": [
        "#Display the classification report of the model out of prediction using the test data\n",
        "print(classification_report(y_test_smt,dnn_preds_smt))"
      ],
      "metadata": {
        "colab": {
          "base_uri": "https://localhost:8080/"
        },
        "id": "DLZa7ree3lO8",
        "outputId": "fde5045d-4dd4-47a2-f308-00ace7ca078d"
      },
      "execution_count": 44,
      "outputs": [
        {
          "output_type": "stream",
          "name": "stdout",
          "text": [
            "              precision    recall  f1-score   support\n",
            "\n",
            "           0       0.97      0.86      0.91     12655\n",
            "           1       0.88      0.97      0.92     12655\n",
            "\n",
            "    accuracy                           0.92     25310\n",
            "   macro avg       0.92      0.92      0.92     25310\n",
            "weighted avg       0.92      0.92      0.92     25310\n",
            "\n"
          ]
        }
      ]
    },
    {
      "cell_type": "code",
      "source": [
        "#function to display the confusion matrix\n",
        "def plot_cm(labels, predictions, p=0.5):\n",
        "    cm = confusion_matrix(labels, predictions > p)\n",
        "    plt.figure(figsize=(5,5))\n",
        "    sns.heatmap(cm, annot=True, fmt=\"d\")\n",
        "    plt.title('Confusion matrix @{:.2f}'.format(p))\n",
        "    plt.ylabel('Actual label')\n",
        "    plt.xlabel('Predicted label')\n",
        "\n",
        "    print('Legitimate Transactions Detected (True Negatives): ', cm[0][0])\n",
        "    print('Legitimate Transactions Incorrectly Detected (False Positives): ', cm[0][1])\n",
        "    print('Fraudulent Transactions Missed (False Negatives): ', cm[1][0])\n",
        "    print('Fraudulent Transactions Detected (True Positives): ', cm[1][1])\n",
        "    print('Total Fraudulent Transactions: ', np.sum(cm[1]))"
      ],
      "metadata": {
        "id": "yGzE3jTu3lMJ"
      },
      "execution_count": 45,
      "outputs": []
    },
    {
      "cell_type": "code",
      "source": [
        "plot_cm(y_test_smt, dnn_preds_smt)"
      ],
      "metadata": {
        "colab": {
          "base_uri": "https://localhost:8080/",
          "height": 437
        },
        "id": "d0FTaJ1l3lJc",
        "outputId": "1f6dc4f5-48da-4813-e111-82bc191f661c"
      },
      "execution_count": 46,
      "outputs": [
        {
          "output_type": "stream",
          "name": "stdout",
          "text": [
            "Legitimate Transactions Detected (True Negatives):  10908\n",
            "Legitimate Transactions Incorrectly Detected (False Positives):  1747\n",
            "Fraudulent Transactions Missed (False Negatives):  381\n",
            "Fraudulent Transactions Detected (True Positives):  12274\n",
            "Total Fraudulent Transactions:  12655\n"
          ]
        },
        {
          "output_type": "display_data",
          "data": {
            "text/plain": [
              "<Figure size 360x360 with 2 Axes>"
            ],
            "image/png": "[encoded data removed]"
          },
          "metadata": {
            "needs_background": "light"
          }
        }
      ]
    },
    {
      "cell_type": "markdown",
      "source": [
        "**Saving the trained Model**"
      ],
      "metadata": {
        "id": "Tcbnam1F4AnG"
      }
    },
    {
      "cell_type": "code",
      "source": [
        "# Calling `save('my_model')` creates a SavedModel folder `dnn_model`.\n",
        "dnn_model.save(\"dnn_model\")"
      ],
      "metadata": {
        "id": "jdDDAV1H3lGZ"
      },
      "execution_count": 47,
      "outputs": []
    },
    {
      "cell_type": "markdown",
      "source": [
        "**Sample prediction**"
      ],
      "metadata": {
        "id": "xSETErJT4Ff3"
      }
    },
    {
      "cell_type": "code",
      "source": [
        "def predict(model, record):\n",
        "    k = np.array(record).reshape(1,70)\n",
        "    prediction = int(np.round(dnn_model.predict(k))[0][0])\n",
        "    return prediction"
      ],
      "metadata": {
        "id": "8wfu0Oe93lDs"
      },
      "execution_count": 48,
      "outputs": []
    },
    {
      "cell_type": "code",
      "source": [
        "#Sample record to predict\n",
        "k = np.array(X_test_smt.iloc[1]).reshape(1,70)"
      ],
      "metadata": {
        "id": "nmuzVddp3lAq"
      },
      "execution_count": 49,
      "outputs": []
    },
    {
      "cell_type": "code",
      "source": [
        "#Predict using the loaded saved model\n",
        "reconstructed_model = keras.models.load_model(\"dnn_model\")"
      ],
      "metadata": {
        "id": "OI8aqqO83k7F"
      },
      "execution_count": 50,
      "outputs": []
    },
    {
      "cell_type": "code",
      "source": [
        "predict(reconstructed_model,k)"
      ],
      "metadata": {
        "colab": {
          "base_uri": "https://localhost:8080/"
        },
        "id": "dEefKbxc3k4S",
        "outputId": "ab5a4c08-94a3-4d68-f8b0-3b6c86927813"
      },
      "execution_count": 51,
      "outputs": [
        {
          "output_type": "stream",
          "name": "stdout",
          "text": [
            "1/1 [==============================] - 0s 44ms/step\n"
          ]
        },
        {
          "output_type": "execute_result",
          "data": {
            "text/plain": [
              "1"
            ]
          },
          "metadata": {},
          "execution_count": 51
        }
      ]
    },
    {
      "cell_type": "markdown",
      "source": [
        "## **k-Nearest Neighbors Model (KNN)**"
      ],
      "metadata": {
        "id": "W6VAjUEE4qAh"
      }
    },
    {
      "cell_type": "code",
      "source": [
        "# check shape of training and test data\n",
        "print(\"Training data size: \", X_train_smt.shape)\n",
        "print(\"Test data size: \", X_test_smt.shape)"
      ],
      "metadata": {
        "colab": {
          "base_uri": "https://localhost:8080/"
        },
        "id": "bWLYb2Jf3k1z",
        "outputId": "26d06f2f-c748-4ecb-9ed1-9c7ad223a6cf"
      },
      "execution_count": 52,
      "outputs": [
        {
          "output_type": "stream",
          "name": "stdout",
          "text": [
            "Training data size:  (59056, 70)\n",
            "Test data size:  (25310, 70)\n"
          ]
        }
      ]
    },
    {
      "cell_type": "markdown",
      "source": [
        "**Defining KNN Model**"
      ],
      "metadata": {
        "id": "q3q-T_Yw480p"
      }
    },
    {
      "cell_type": "code",
      "source": [
        "#Define model\n",
        "knn_model = KNeighborsClassifier()\n",
        "\n",
        "#fit model\n",
        "knn_model.fit(X_train_smt, y_train_smt)"
      ],
      "metadata": {
        "colab": {
          "base_uri": "https://localhost:8080/"
        },
        "id": "DOQnqmDu3kyu",
        "outputId": "c2be7638-fe65-42bd-d199-29246e5ea200"
      },
      "execution_count": 53,
      "outputs": [
        {
          "output_type": "execute_result",
          "data": {
            "text/plain": [
              "KNeighborsClassifier()"
            ]
          },
          "metadata": {},
          "execution_count": 53
        }
      ]
    },
    {
      "cell_type": "markdown",
      "source": [
        "Note: In a Jupyter environment, please rerun this cell to show the HTML representation or trust the notebook.\n",
        "On GitHub, the HTML representation is unable to render, please try loading this page with nbviewer.org."
      ],
      "metadata": {
        "id": "wAsMC4l75Ido"
      }
    },
    {
      "cell_type": "code",
      "source": [
        "#Using the trained model, the prediction is done on the test set\n",
        "knn_preds_smt = knn_model.predict(X_test_smt)\n",
        "knn_preds_smt = np.round(knn_preds_smt)"
      ],
      "metadata": {
        "id": "l2S10aK03kwK"
      },
      "execution_count": 54,
      "outputs": []
    },
    {
      "cell_type": "markdown",
      "source": [
        "**k-NN model evaluation**"
      ],
      "metadata": {
        "id": "eRIAHjzG5RZo"
      }
    },
    {
      "cell_type": "code",
      "source": [
        "#Display the classification report of the model out of prediction using the test data\n",
        "print(classification_report(y_test_smt, knn_preds_smt))"
      ],
      "metadata": {
        "colab": {
          "base_uri": "https://localhost:8080/"
        },
        "id": "tAjgcrsC3kta",
        "outputId": "ca990ba9-100b-423b-eb91-9ae625c3730b"
      },
      "execution_count": 55,
      "outputs": [
        {
          "output_type": "stream",
          "name": "stdout",
          "text": [
            "              precision    recall  f1-score   support\n",
            "\n",
            "           0       0.99      0.85      0.92     12655\n",
            "           1       0.87      0.99      0.93     12655\n",
            "\n",
            "    accuracy                           0.92     25310\n",
            "   macro avg       0.93      0.92      0.92     25310\n",
            "weighted avg       0.93      0.92      0.92     25310\n",
            "\n"
          ]
        }
      ]
    },
    {
      "cell_type": "code",
      "source": [
        "#function to display the confusion matrix\n",
        "def plot_cm(labels, predictions, p=0.5):\n",
        "    cm = confusion_matrix(labels, predictions > p)\n",
        "    plt.figure(figsize=(5,5))\n",
        "    sns.heatmap(cm, annot=True, fmt=\"d\")\n",
        "    plt.title('Confusion matrix @{:.2f}'.format(p))\n",
        "    plt.ylabel('Actual label')\n",
        "    plt.xlabel('Predicted label')\n",
        "\n",
        "    print('Correct Non-injury predictions (True Negatives): ', cm[0][0])\n",
        "    print('Incorrect Non-injury predictions (False Positives): ', cm[0][1])\n",
        "    print('Correct injury predictions (False Negatives): ', cm[1][0])\n",
        "    print('Incorrect injury predictions (True Positives): ', cm[1][1])\n",
        "    print('Total injury predictions: ', np.sum(cm[1]))"
      ],
      "metadata": {
        "id": "IK-s0iDz3kqi"
      },
      "execution_count": 56,
      "outputs": []
    },
    {
      "cell_type": "code",
      "source": [
        "plot_cm(y_test_smt, knn_preds_smt)"
      ],
      "metadata": {
        "colab": {
          "base_uri": "https://localhost:8080/",
          "height": 437
        },
        "id": "uprM4MZs3knq",
        "outputId": "91f683fa-6b7b-4690-d569-d9168f3ef2be"
      },
      "execution_count": 57,
      "outputs": [
        {
          "output_type": "stream",
          "name": "stdout",
          "text": [
            "Correct Non-injury predictions (True Negatives):  10797\n",
            "Incorrect Non-injury predictions (False Positives):  1858\n",
            "Correct injury predictions (False Negatives):  93\n",
            "Incorrect injury predictions (True Positives):  12562\n",
            "Total injury predictions:  12655\n"
          ]
        },
        {
          "output_type": "display_data",
          "data": {
            "text/plain": [
              "<Figure size 360x360 with 2 Axes>"
            ],
            "image/png": "[encoded data removed]"
          },
          "metadata": {
            "needs_background": "light"
          }
        }
      ]
    },
    {
      "cell_type": "markdown",
      "source": [
        "**Optimize KNN Model**"
      ],
      "metadata": {
        "id": "gHEQh96-5bWo"
      }
    },
    {
      "cell_type": "code",
      "source": [
        "# set range of n values\n",
        "neighbor = range(1, 21)\n",
        "train_acc = []\n",
        "test_acc = []\n",
        "\n",
        "# Loop through different values of n\n",
        "for i, n in enumerate(neighbor):\n",
        "    # n from 1 to 20\n",
        "    knn_model = KNeighborsClassifier(n_neighbors=n)\n",
        "    \n",
        "    # Fit with knn\n",
        "    knn_model.fit(X_train_smt,y_train_smt)\n",
        "    \n",
        "    # train accuracy\n",
        "    train_acc.append(knn_model.score(X_train_smt, y_train_smt))\n",
        "    \n",
        "    # test accuracy\n",
        "    test_acc.append(knn_model.score(X_test_smt, y_test_smt))\n",
        "\n",
        "# line plot\n",
        "plt.figure(figsize=[12, 8])\n",
        "plt.plot(neighbor, test_acc, label = 'Test Accuracy')\n",
        "plt.plot(neighbor, train_acc, label = 'Training Accuracy')\n",
        "plt.legend()\n",
        "plt.title('Value VS Accuracy')\n",
        "plt.xlabel('Number of Neighbors')\n",
        "plt.ylabel('Accuracy')\n",
        "#plt.xticks(neig)\n",
        "#plt.savefig('graph.png')\n",
        "plt.show()\n",
        "\n",
        "# print best score\n",
        "print(\"Best accuracy is {} with n = {}\".format(np.max(test_acc), 1+test_acc.index(np.max(test_acc))))"
      ],
      "metadata": {
        "colab": {
          "base_uri": "https://localhost:8080/",
          "height": 530
        },
        "id": "fNi9Y4B35Xg6",
        "outputId": "83ea8e07-a25a-480c-bde7-c9bf13ac3e38"
      },
      "execution_count": 58,
      "outputs": [
        {
          "output_type": "display_data",
          "data": {
            "text/plain": [
              "<Figure size 864x576 with 1 Axes>"
            ],
            "image/png": "[encoded data removed]"
          },
          "metadata": {
            "needs_background": "light"
          }
        },
        {
          "output_type": "stream",
          "name": "stdout",
          "text": [
            "Best accuracy is 0.9659818253654682 with n = 2\n"
          ]
        }
      ]
    },
    {
      "cell_type": "code",
      "source": [
        "knn_model_imp = KNeighborsClassifier(n_neighbors=2)\n",
        "knn_model_imp.fit(X_train_smt, y_train_smt)\n",
        "\n",
        "knn_preds_smt_imp = knn_model_imp.predict(X_test_smt)\n",
        "knn_preds_smt_imp = np.round(knn_preds_smt_imp)\n",
        "\n",
        "#Display the classification report of the model out of prediction using the test data\n",
        "print(classification_report(y_test_smt, knn_preds_smt_imp))"
      ],
      "metadata": {
        "colab": {
          "base_uri": "https://localhost:8080/"
        },
        "id": "9EZeH82f3kk6",
        "outputId": "e4ebf150-6d46-485b-fcc4-12f8b35468ce"
      },
      "execution_count": 59,
      "outputs": [
        {
          "output_type": "stream",
          "name": "stdout",
          "text": [
            "              precision    recall  f1-score   support\n",
            "\n",
            "           0       0.99      0.94      0.97     12655\n",
            "           1       0.94      0.99      0.97     12655\n",
            "\n",
            "    accuracy                           0.97     25310\n",
            "   macro avg       0.97      0.97      0.97     25310\n",
            "weighted avg       0.97      0.97      0.97     25310\n",
            "\n"
          ]
        }
      ]
    },
    {
      "cell_type": "code",
      "source": [
        "plot_cm(y_test_smt, knn_preds_smt_imp)"
      ],
      "metadata": {
        "colab": {
          "base_uri": "https://localhost:8080/",
          "height": 437
        },
        "id": "1k6s2gML3kiK",
        "outputId": "4de18473-44d2-4629-bf33-a2b906f6951a"
      },
      "execution_count": 60,
      "outputs": [
        {
          "output_type": "stream",
          "name": "stdout",
          "text": [
            "Correct Non-injury predictions (True Negatives):  11886\n",
            "Incorrect Non-injury predictions (False Positives):  769\n",
            "Correct injury predictions (False Negatives):  92\n",
            "Incorrect injury predictions (True Positives):  12563\n",
            "Total injury predictions:  12655\n"
          ]
        },
        {
          "output_type": "display_data",
          "data": {
            "text/plain": [
              "<Figure size 360x360 with 2 Axes>"
            ],
            "image/png": "[encoded data removed]"
          },
          "metadata": {
            "needs_background": "light"
          }
        }
      ]
    },
    {
      "cell_type": "markdown",
      "source": [
        "**Saving Model**"
      ],
      "metadata": {
        "id": "emVGIWSY5mro"
      }
    },
    {
      "cell_type": "code",
      "source": [
        "import pickle\n",
        "file_name = \"knn_model_day.pkl\"\n",
        "\n",
        "# save\n",
        "pickle.dump(knn_model_imp, open(file_name, \"wb\"))"
      ],
      "metadata": {
        "id": "WOUSOpmD3kfi"
      },
      "execution_count": 61,
      "outputs": []
    },
    {
      "cell_type": "markdown",
      "source": [
        "## **Random Forest Classifier Model**"
      ],
      "metadata": {
        "id": "EctQbBYB543Q"
      }
    },
    {
      "cell_type": "code",
      "source": [
        "#define model\n",
        "rfc = RandomForestClassifier()\n",
        "\n",
        "#fit model\n",
        "rfc.fit(X_train_smt, y_train_smt)"
      ],
      "metadata": {
        "colab": {
          "base_uri": "https://localhost:8080/"
        },
        "id": "DmDZ3AUk3kc6",
        "outputId": "24633294-ea8d-4ba9-f756-4be00d821436"
      },
      "execution_count": 62,
      "outputs": [
        {
          "output_type": "execute_result",
          "data": {
            "text/plain": [
              "RandomForestClassifier()"
            ]
          },
          "metadata": {},
          "execution_count": 62
        }
      ]
    },
    {
      "cell_type": "code",
      "source": [
        "#Using the trained model, the prediction is done on the test set\n",
        "rfc_preds_smt = rfc.predict(X_test_smt)\n",
        "rfc_preds_smt = np.round(rfc_preds_smt)"
      ],
      "metadata": {
        "id": "TfD2gP4q6Dwg"
      },
      "execution_count": 63,
      "outputs": []
    },
    {
      "cell_type": "markdown",
      "source": [
        "**Model evaluation**"
      ],
      "metadata": {
        "id": "qlC_Kne36nuX"
      }
    },
    {
      "cell_type": "code",
      "source": [
        "#Display the classification report of the model out of prediction using the test data\n",
        "print(classification_report(y_test_smt, rfc_preds_smt))"
      ],
      "metadata": {
        "colab": {
          "base_uri": "https://localhost:8080/"
        },
        "id": "PSpuJl6l6Dt3",
        "outputId": "0996fe34-5291-474f-d79e-1b25a47751c8"
      },
      "execution_count": 64,
      "outputs": [
        {
          "output_type": "stream",
          "name": "stdout",
          "text": [
            "              precision    recall  f1-score   support\n",
            "\n",
            "           0       0.98      1.00      0.99     12655\n",
            "           1       1.00      0.98      0.99     12655\n",
            "\n",
            "    accuracy                           0.99     25310\n",
            "   macro avg       0.99      0.99      0.99     25310\n",
            "weighted avg       0.99      0.99      0.99     25310\n",
            "\n"
          ]
        }
      ]
    },
    {
      "cell_type": "code",
      "source": [
        "#function to display the confusion matrix\n",
        "def plot_cm(labels, predictions, p=0.5):\n",
        "    cm = confusion_matrix(labels, predictions > p)\n",
        "    plt.figure(figsize=(5,5))\n",
        "    sns.heatmap(cm, annot=True, fmt=\"d\")\n",
        "    plt.title('Confusion matrix @{:.2f}'.format(p))\n",
        "    plt.ylabel('Actual label')\n",
        "    plt.xlabel('Predicted label')\n",
        "\n",
        "    print('Correct Non-injury predictions (True Negatives): ', cm[0][0])\n",
        "    print('Incorrect Non-injury predictions (False Positives): ', cm[0][1])\n",
        "    print('Correct injury predictions (False Negatives): ', cm[1][0])\n",
        "    print('Incorrect injury predictions (True Positives): ', cm[1][1])\n",
        "    print('Total injury predictions: ', np.sum(cm[1]))"
      ],
      "metadata": {
        "id": "U7SgneHM6Dq4"
      },
      "execution_count": 65,
      "outputs": []
    },
    {
      "cell_type": "code",
      "source": [
        "plot_cm(y_test_smt, rfc_preds_smt)"
      ],
      "metadata": {
        "colab": {
          "base_uri": "https://localhost:8080/",
          "height": 437
        },
        "id": "UJNgArd_6Do8",
        "outputId": "56987b3f-2436-4e8b-a248-27b52d70dd69"
      },
      "execution_count": 66,
      "outputs": [
        {
          "output_type": "stream",
          "name": "stdout",
          "text": [
            "Correct Non-injury predictions (True Negatives):  12648\n",
            "Incorrect Non-injury predictions (False Positives):  7\n",
            "Correct injury predictions (False Negatives):  225\n",
            "Incorrect injury predictions (True Positives):  12430\n",
            "Total injury predictions:  12655\n"
          ]
        },
        {
          "output_type": "display_data",
          "data": {
            "text/plain": [
              "<Figure size 360x360 with 2 Axes>"
            ],
            "image/png": "[encoded data removed]"
          },
          "metadata": {
            "needs_background": "light"
          }
        }
      ]
    },
    {
      "cell_type": "markdown",
      "source": [
        "## **Xgboost Model**"
      ],
      "metadata": {
        "id": "WBcidxtq7Dl-"
      }
    },
    {
      "cell_type": "code",
      "source": [
        "# summarize class distribution\n",
        "counter = Counter(y)\n",
        "print(counter)"
      ],
      "metadata": {
        "colab": {
          "base_uri": "https://localhost:8080/"
        },
        "id": "UpqoUksx6Dl4",
        "outputId": "21dcf155-b60f-4660-fa5a-daf9d2eff04f"
      },
      "execution_count": 67,
      "outputs": [
        {
          "output_type": "stream",
          "name": "stdout",
          "text": [
            "Counter({0: 42183, 1: 583})\n"
          ]
        }
      ]
    },
    {
      "cell_type": "code",
      "source": [
        "#split train and test\n",
        "X_train_smt, X_test_smt, y_train_smt, y_test_smt = train_test_split(X, y, test_size=0.3, random_state=15, stratify=y)"
      ],
      "metadata": {
        "id": "CJWpfj096Dg1"
      },
      "execution_count": 68,
      "outputs": []
    },
    {
      "cell_type": "code",
      "source": [
        "#model definition\n",
        "xgb_classifier = XGBClassifier(\n",
        "    learning_rate =0.0009, \n",
        "    n_estimators=1000,\n",
        "\n",
        ")"
      ],
      "metadata": {
        "id": "5TA-s_D66DeI"
      },
      "execution_count": 69,
      "outputs": []
    },
    {
      "cell_type": "code",
      "source": [
        "#generate weights to use on the XGBOOT, this is because the data is so imbalanced\n",
        "from sklearn.utils.class_weight import compute_sample_weight\n",
        "sample_weights = compute_sample_weight(\n",
        "    class_weight='balanced',\n",
        "    y=y_train_smt #provide your own target name\n",
        ")\n",
        "\n",
        "#fit the model\n",
        "xgb_classifier.fit(X_train_smt, y_train_smt, sample_weight=sample_weights)"
      ],
      "metadata": {
        "colab": {
          "base_uri": "https://localhost:8080/"
        },
        "id": "uY6csE1V6Db5",
        "outputId": "924361d9-bbbe-4d76-a770-7e8a2ef9f5af"
      },
      "execution_count": 70,
      "outputs": [
        {
          "output_type": "execute_result",
          "data": {
            "text/plain": [
              "XGBClassifier(learning_rate=0.0009, n_estimators=1000)"
            ]
          },
          "metadata": {},
          "execution_count": 70
        }
      ]
    },
    {
      "cell_type": "code",
      "source": [
        "# Performance on the train\n",
        "auc = roc_auc_score(y_train_smt, xgb_classifier.predict(X_train_smt))\n",
        "print(\"Performance sur le train : \", auc)\n",
        "\n",
        "# Performance on the test\n",
        "auc = roc_auc_score(y_test_smt, xgb_classifier.predict(X_test_smt))\n",
        "print(\"Performance sur le test : \", auc)"
      ],
      "metadata": {
        "colab": {
          "base_uri": "https://localhost:8080/"
        },
        "id": "zbWeT5I76DY4",
        "outputId": "3e6dc0e8-32db-497a-936c-e34aba44649b"
      },
      "execution_count": 71,
      "outputs": [
        {
          "output_type": "stream",
          "name": "stdout",
          "text": [
            "Performance sur le train :  0.6601587194075679\n",
            "Performance sur le test :  0.5754382796184455\n"
          ]
        }
      ]
    },
    {
      "cell_type": "code",
      "source": [
        "from sklearn.metrics import confusion_matrix\n",
        "tn, fp, fn, tp = confusion_matrix(y_test_smt, xgb_classifier.predict(X_test_smt)).ravel()\n",
        "# Error rate : \n",
        "err_rate = (fp + fn) / (tp + tn + fn + fp)\n",
        "print(\"Error rate  : \", err_rate)\n",
        "# Accuracy : \n",
        "acc_ = (tp + tn) / (tp + tn + fn + fp)\n",
        "print(\"Accuracy  : \", acc_)\n",
        "# Sensitivity : \n",
        "sens_ = tp / (tp + fn)\n",
        "print(\"Sensitivity  : \", sens_)\n",
        "# Specificity \n",
        "sp_ = tn / (tn + fp)\n",
        "print(\"Specificity  : \", sens_)\n",
        "# False positive rate (FPR)\n",
        "FPR = fp / (tn + fp)\n",
        "print(\"False positive rate  : \", FPR)"
      ],
      "metadata": {
        "colab": {
          "base_uri": "https://localhost:8080/"
        },
        "id": "wKPxrQyh6DWA",
        "outputId": "9281f8a4-1e6c-49c0-c2f8-80f55fcff7aa"
      },
      "execution_count": 72,
      "outputs": [
        {
          "output_type": "stream",
          "name": "stdout",
          "text": [
            "Error rate  :  0.34840218238503506\n",
            "Accuracy  :  0.6515978176149649\n",
            "Sensitivity  :  0.49714285714285716\n",
            "Specificity  :  0.49714285714285716\n",
            "False positive rate  :  0.346266297905966\n"
          ]
        }
      ]
    },
    {
      "cell_type": "code",
      "source": [
        "tn, fp, fn, tp = confusion_matrix(y_train_smt, xgb_classifier.predict(X_train_smt)).ravel()\n",
        "# Error rate : \n",
        "err_rate = (fp + fn) / (tp + tn + fn + fp)\n",
        "print(\"Error rate  on train set : \", err_rate)\n",
        "# Accuracy : \n",
        "acc_ = (tp + tn) / (tp + tn + fn + fp)\n",
        "print(\"Accuracy  on train set  : \", acc_)\n",
        "\n",
        "tn, fp, fn, tp = confusion_matrix(y_test_smt, xgb_classifier.predict(X_test_smt)).ravel()\n",
        "# Error rate : \n",
        "err_rate = (fp + fn) / (tp + tn + fn + fp)\n",
        "print(\"Error rate  on test set : \", err_rate)\n",
        "# Accuracy : \n",
        "acc_ = (tp + tn) / (tp + tn + fn + fp)\n",
        "print(\"Accuracy  on test set  : \", acc_)"
      ],
      "metadata": {
        "colab": {
          "base_uri": "https://localhost:8080/"
        },
        "id": "h2qwH2a03kaS",
        "outputId": "a94631c9-a221-4b38-eeca-284ea335beb0"
      },
      "execution_count": 73,
      "outputs": [
        {
          "output_type": "stream",
          "name": "stdout",
          "text": [
            "Error rate  on train set :  0.34617183324425443\n",
            "Accuracy  on train set  :  0.6538281667557456\n",
            "Error rate  on test set :  0.34840218238503506\n",
            "Accuracy  on test set  :  0.6515978176149649\n"
          ]
        }
      ]
    },
    {
      "cell_type": "code",
      "source": [
        "k1 = np.array(X_test_smt.iloc[700]).reshape(1,70)"
      ],
      "metadata": {
        "id": "tia2X1Vf3kVS"
      },
      "execution_count": 74,
      "outputs": []
    },
    {
      "cell_type": "code",
      "source": [
        "#xgb_classifier.predict(k1)"
      ],
      "metadata": {
        "id": "VYInrleC7y_q"
      },
      "execution_count": 75,
      "outputs": []
    },
    {
      "cell_type": "code",
      "source": [
        "print(classification_report(y_test_smt,xgb_classifier.predict(X_test_smt)))"
      ],
      "metadata": {
        "id": "NZNYOYQI7y8O",
        "colab": {
          "base_uri": "https://localhost:8080/"
        },
        "outputId": "85f5c172-6cc0-4137-867e-8f4e01bd0483"
      },
      "execution_count": 76,
      "outputs": [
        {
          "output_type": "stream",
          "name": "stdout",
          "text": [
            "              precision    recall  f1-score   support\n",
            "\n",
            "           0       0.99      0.65      0.79     12655\n",
            "           1       0.02      0.50      0.04       175\n",
            "\n",
            "    accuracy                           0.65     12830\n",
            "   macro avg       0.50      0.58      0.41     12830\n",
            "weighted avg       0.98      0.65      0.78     12830\n",
            "\n"
          ]
        }
      ]
    },
    {
      "cell_type": "code",
      "source": [
        "def plot_cm(labels, predictions, p=0.5):\n",
        "    cm = confusion_matrix(labels, predictions > p)\n",
        "    plt.figure(figsize=(5,5))\n",
        "    sns.heatmap(cm, annot=True, fmt=\"d\")\n",
        "    plt.title('Confusion matrix @{:.2f}'.format(p))\n",
        "    plt.ylabel('Actual label')\n",
        "    plt.xlabel('Predicted label')\n",
        "\n",
        "    print('Legitimate Transactions Detected (True Negatives): ', cm[0][0])\n",
        "    print('Legitimate Transactions Incorrectly Detected (False Positives): ', cm[0][1])\n",
        "    print('Fraudulent Transactions Missed (False Negatives): ', cm[1][0])\n",
        "    print('Fraudulent Transactions Detected (True Positives): ', cm[1][1])\n",
        "    print('Total Fraudulent Transactions: ', np.sum(cm[1]))"
      ],
      "metadata": {
        "id": "2ElFTiZR7y5g"
      },
      "execution_count": 77,
      "outputs": []
    },
    {
      "cell_type": "code",
      "source": [
        "plot_cm(y_test_smt, xgb_classifier.predict(X_test_smt))"
      ],
      "metadata": {
        "id": "d5dU6WqF7y22",
        "colab": {
          "base_uri": "https://localhost:8080/",
          "height": 437
        },
        "outputId": "63a35173-d886-420e-f434-985336cb6787"
      },
      "execution_count": 78,
      "outputs": [
        {
          "output_type": "stream",
          "name": "stdout",
          "text": [
            "Legitimate Transactions Detected (True Negatives):  8273\n",
            "Legitimate Transactions Incorrectly Detected (False Positives):  4382\n",
            "Fraudulent Transactions Missed (False Negatives):  88\n",
            "Fraudulent Transactions Detected (True Positives):  87\n",
            "Total Fraudulent Transactions:  175\n"
          ]
        },
        {
          "output_type": "display_data",
          "data": {
            "text/plain": [
              "<Figure size 360x360 with 2 Axes>"
            ],
            "image/png": "[encoded data removed]"
          },
          "metadata": {
            "needs_background": "light"
          }
        }
      ]
    },
    {
      "cell_type": "markdown",
      "source": [
        "**Save the model**"
      ],
      "metadata": {
        "id": "cLapixPV8A22"
      }
    },
    {
      "cell_type": "code",
      "source": [
        "'''import pickle\n",
        "file_name = \"xgb_model.pkl\"\n",
        "\n",
        "# save\n",
        "pickle.dump(xgb, open(file_name, \"wb\"))\n",
        "\n",
        "# load\n",
        "xgb_model_loaded = pickle.load(open(file_name, \"rb\"))\n",
        "\n",
        "# test\n",
        "k = np.array(X_test_smt.iloc[700]).reshape(1,70)\n",
        "xgb_model_loaded.predict(k)[0]'''"
      ],
      "metadata": {
        "id": "KWLo0TGx7y0Y",
        "colab": {
          "base_uri": "https://localhost:8080/",
          "height": 53
        },
        "outputId": "b6fec6c5-0655-4f0d-cffa-c05d58d971df"
      },
      "execution_count": 80,
      "outputs": [
        {
          "output_type": "execute_result",
          "data": {
            "text/plain": [
              "'import pickle\\nfile_name = \"xgb_model.pkl\"\\n\\n# save\\npickle.dump(xgb, open(file_name, \"wb\"))\\n\\n# load\\nxgb_model_loaded = pickle.load(open(file_name, \"rb\"))\\n\\n# test\\nk = np.array(X_test_smt.iloc[700]).reshape(1,70)\\nxgb_model_loaded.predict(k)[0]'"
            ],
            "application/vnd.google.colaboratory.intrinsic+json": {
              "type": "string"
            }
          },
          "metadata": {},
          "execution_count": 80
        }
      ]
    },
    {
      "cell_type": "code",
      "source": [],
      "metadata": {
        "id": "yLV7Nk8H8Dw_"
      },
      "execution_count": 80,
      "outputs": []
    },
    {
      "cell_type": "markdown",
      "source": [
        "# **THANK YOU FOR TAKING TIME TO STUDY OUR NOTEBOOK. WE HOPE YOU GOT SOME INSIGHTS.**"
      ],
      "metadata": {
        "id": "Y_1D2r35lGVJ"
      }
    }
  ]
}